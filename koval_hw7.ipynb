{
  "nbformat": 4,
  "nbformat_minor": 0,
  "metadata": {
    "colab": {
      "provenance": [],
      "authorship_tag": "ABX9TyOEw/qf4Z1bWKY5W9kFa666",
      "include_colab_link": true
    },
    "kernelspec": {
      "name": "python3",
      "display_name": "Python 3"
    },
    "language_info": {
      "name": "python"
    }
  },
  "cells": [
    {
      "cell_type": "markdown",
      "metadata": {
        "id": "view-in-github",
        "colab_type": "text"
      },
      "source": [
        "<a href=\"https://colab.research.google.com/github/NastiiaKoval/Koval_CDVS/blob/main/koval_hw7.ipynb\" target=\"_parent\"><img src=\"https://colab.research.google.com/assets/colab-badge.svg\" alt=\"Open In Colab\"/></a>"
      ]
    },
    {
      "cell_type": "code",
      "source": [
        "!pip install pyspark==3.0.1 py4j==0.10.9"
      ],
      "metadata": {
        "id": "JLfq-HlgqvIN"
      },
      "execution_count": null,
      "outputs": []
    },
    {
      "cell_type": "code",
      "execution_count": 3,
      "metadata": {
        "id": "fK_J7gNQqbaH"
      },
      "outputs": [],
      "source": []
    },
    {
      "cell_type": "code",
      "source": [
        "from pyspark.sql import SparkSession\n",
        "\n",
        "spark = SparkSession.builder\\\n",
        "        .master(\"local[*]\")\\\n",
        "        .appName('PySpark_Tutorial')\\\n",
        "        .getOrCreate()"
      ],
      "metadata": {
        "id": "w70GiodnrDMa"
      },
      "execution_count": 7,
      "outputs": []
    },
    {
      "cell_type": "markdown",
      "source": [
        "1. Прочитайте CSV файл"
      ],
      "metadata": {
        "id": "G2b1-Otjt0Wd"
      }
    },
    {
      "cell_type": "code",
      "source": [
        "path = \"/content/bestsellers with categories.csv\"\n",
        "data = spark.read.csv(path, header=True, inferSchema=True)"
      ],
      "metadata": {
        "id": "5SksO8PdrDPJ"
      },
      "execution_count": 24,
      "outputs": []
    },
    {
      "cell_type": "markdown",
      "source": [
        "2.  Вивести схему даних за допомогою PrintSchema."
      ],
      "metadata": {
        "id": "ZQcM4KGxtu3H"
      }
    },
    {
      "cell_type": "code",
      "source": [
        "data.printSchema()"
      ],
      "metadata": {
        "colab": {
          "base_uri": "https://localhost:8080/"
        },
        "id": "1AWJsWzdtM4F",
        "outputId": "b28a32ec-6e7b-4d9e-fc9d-d1822ac6140c"
      },
      "execution_count": 25,
      "outputs": [
        {
          "output_type": "stream",
          "name": "stdout",
          "text": [
            "root\n",
            " |-- Name: string (nullable = true)\n",
            " |-- Author: string (nullable = true)\n",
            " |-- User Rating: double (nullable = true)\n",
            " |-- Reviews: integer (nullable = true)\n",
            " |-- Price: integer (nullable = true)\n",
            " |-- Year: integer (nullable = true)\n",
            " |-- Genre: string (nullable = true)\n",
            "\n"
          ]
        }
      ]
    },
    {
      "cell_type": "code",
      "source": [
        " from pyspark.sql.types import *"
      ],
      "metadata": {
        "id": "WGu8kuAtwmjn"
      },
      "execution_count": 26,
      "outputs": []
    },
    {
      "cell_type": "code",
      "source": [
        "data_schema = [\n",
        " StructField('Name', StringType(), True),\n",
        " StructField('Author', StringType(), True),\n",
        " StructField('User Rating', DoubleType(), True),\n",
        " StructField('Reviews', IntegerType(), True),\n",
        " StructField('Price', IntegerType(), True),\n",
        " StructField('Year', IntegerType(), True),\n",
        " StructField('Genre', StringType(), True)\n",
        " ]\n",
        "\n",
        "final_struc = StructType(fields = data_schema)\n",
        "\n",
        "data = spark.read.csv(\n",
        " path,\n",
        " sep=',',\n",
        " header=True,\n",
        " schema=final_struc\n",
        ")\n",
        "\n",
        "data.printSchema()"
      ],
      "metadata": {
        "colab": {
          "base_uri": "https://localhost:8080/"
        },
        "id": "QKiWnNucv45W",
        "outputId": "b69c8bd2-15a2-4a5e-cc32-ac9c99d1810f"
      },
      "execution_count": 43,
      "outputs": [
        {
          "output_type": "stream",
          "name": "stdout",
          "text": [
            "root\n",
            " |-- Name: string (nullable = true)\n",
            " |-- Author: string (nullable = true)\n",
            " |-- User Rating: double (nullable = true)\n",
            " |-- Reviews: integer (nullable = true)\n",
            " |-- Price: integer (nullable = true)\n",
            " |-- Year: integer (nullable = true)\n",
            " |-- Genre: string (nullable = true)\n",
            "\n"
          ]
        }
      ]
    },
    {
      "cell_type": "markdown",
      "source": [
        "3. Вивести назви стовпців і типи даних за допомогою dtypes"
      ],
      "metadata": {
        "id": "LfjV5OaZt4V6"
      }
    },
    {
      "cell_type": "code",
      "source": [
        "data.dtypes"
      ],
      "metadata": {
        "colab": {
          "base_uri": "https://localhost:8080/"
        },
        "id": "IgKQTMZ4rDTw",
        "outputId": "9a32549e-7826-4058-be9c-77b901ec7ac6"
      },
      "execution_count": 44,
      "outputs": [
        {
          "output_type": "execute_result",
          "data": {
            "text/plain": [
              "[('Name', 'string'),\n",
              " ('Author', 'string'),\n",
              " ('User Rating', 'double'),\n",
              " ('Reviews', 'int'),\n",
              " ('Price', 'int'),\n",
              " ('Year', 'int'),\n",
              " ('Genre', 'string')]"
            ]
          },
          "metadata": {},
          "execution_count": 44
        }
      ]
    },
    {
      "cell_type": "markdown",
      "source": [
        "4. Виведіть перші п'ять рядків (використовується метод head)"
      ],
      "metadata": {
        "id": "Hn0o8F2Ruh1G"
      }
    },
    {
      "cell_type": "code",
      "source": [
        "data.head(5)"
      ],
      "metadata": {
        "colab": {
          "base_uri": "https://localhost:8080/"
        },
        "id": "6SwsvhZfrDV9",
        "outputId": "0955ff55-e0f2-4d96-8979-79264bc7675b"
      },
      "execution_count": 45,
      "outputs": [
        {
          "output_type": "execute_result",
          "data": {
            "text/plain": [
              "[Row(Name='10-Day Green Smoothie Cleanse', Author='JJ Smith', User Rating=4.7, Reviews=17350, Price=8, Year=2016, Genre='Non Fiction'),\n",
              " Row(Name='11/22/63: A Novel', Author='Stephen King', User Rating=4.6, Reviews=2052, Price=22, Year=2011, Genre='Fiction'),\n",
              " Row(Name='12 Rules for Life: An Antidote to Chaos', Author='Jordan B. Peterson', User Rating=4.7, Reviews=18979, Price=15, Year=2018, Genre='Non Fiction'),\n",
              " Row(Name='1984 (Signet Classics)', Author='George Orwell', User Rating=4.7, Reviews=21424, Price=6, Year=2017, Genre='Fiction'),\n",
              " Row(Name='5,000 Awesome Facts (About Everything!) (National Geographic Kids)', Author='National Geographic Kids', User Rating=4.8, Reviews=7665, Price=12, Year=2019, Genre='Non Fiction')]"
            ]
          },
          "metadata": {},
          "execution_count": 45
        }
      ]
    },
    {
      "cell_type": "markdown",
      "source": [
        "5. Вивести перший рядок за допомогою first()"
      ],
      "metadata": {
        "id": "UHNXRDn8u3hg"
      }
    },
    {
      "cell_type": "code",
      "source": [
        "data.first()"
      ],
      "metadata": {
        "colab": {
          "base_uri": "https://localhost:8080/"
        },
        "id": "ci_aziIprDYR",
        "outputId": "088b522a-7ff5-40e1-9e2a-df1087c96f55"
      },
      "execution_count": 46,
      "outputs": [
        {
          "output_type": "execute_result",
          "data": {
            "text/plain": [
              "Row(Name='10-Day Green Smoothie Cleanse', Author='JJ Smith', User Rating=4.7, Reviews=17350, Price=8, Year=2016, Genre='Non Fiction')"
            ]
          },
          "metadata": {},
          "execution_count": 46
        }
      ]
    },
    {
      "cell_type": "markdown",
      "source": [
        "6. Зробіть опис датасету за допомогою describe()"
      ],
      "metadata": {
        "id": "RXVKs25iu85A"
      }
    },
    {
      "cell_type": "code",
      "source": [
        "data.describe()"
      ],
      "metadata": {
        "colab": {
          "base_uri": "https://localhost:8080/"
        },
        "id": "rt-2zkEDrDae",
        "outputId": "824046bf-2954-4fe0-f30e-eeb3464f7b75"
      },
      "execution_count": 47,
      "outputs": [
        {
          "output_type": "execute_result",
          "data": {
            "text/plain": [
              "DataFrame[summary: string, Name: string, Author: string, User Rating: string, Reviews: string, Price: string, Year: string, Genre: string]"
            ]
          },
          "metadata": {},
          "execution_count": 47
        }
      ]
    },
    {
      "cell_type": "code",
      "source": [
        "# Опис для всіх стовпців\n",
        "df.summary().show()"
      ],
      "metadata": {
        "colab": {
          "base_uri": "https://localhost:8080/"
        },
        "id": "azg07rnrrDco",
        "outputId": "73b78ccd-adfd-49e3-e2ad-307c54797b93"
      },
      "execution_count": 48,
      "outputs": [
        {
          "output_type": "stream",
          "name": "stdout",
          "text": [
            "+-------+--------------------+----------------+-------------------+------------------+------------------+------------------+-----------+\n",
            "|summary|                Name|          Author|        User Rating|           Reviews|             Price|              Year|      Genre|\n",
            "+-------+--------------------+----------------+-------------------+------------------+------------------+------------------+-----------+\n",
            "|  count|                 550|             550|                550|               550|               550|               550|        550|\n",
            "|   mean|                null|            null|  4.618363636363641|11953.281818181818|              13.1|            2014.0|       null|\n",
            "| stddev|                null|            null|0.22698036502519656|11731.132017431892|10.842261978422364|3.1651563841692782|       null|\n",
            "|    min|\"The Plant Parado...|Abraham Verghese|                3.3|                37|                 0|              2009|    Fiction|\n",
            "|    25%|                null|            null|                4.5|              4028|                 7|              2011|       null|\n",
            "|    50%|                null|            null|                4.7|              8580|                11|              2014|       null|\n",
            "|    75%|                null|            null|                4.8|             17323|                16|              2017|       null|\n",
            "|    max|You Are a Badass:...|    Zhi Gang Sha|                4.9|             87841|               105|              2019|Non Fiction|\n",
            "+-------+--------------------+----------------+-------------------+------------------+------------------+------------------+-----------+\n",
            "\n"
          ]
        }
      ]
    },
    {
      "cell_type": "markdown",
      "source": [
        "7.Виведіть список стовпців за допомогою columns()"
      ],
      "metadata": {
        "id": "h06XLC34xpOh"
      }
    },
    {
      "cell_type": "code",
      "source": [
        "data.columns"
      ],
      "metadata": {
        "colab": {
          "base_uri": "https://localhost:8080/"
        },
        "id": "rdJMaucTrDf7",
        "outputId": "35da4fc8-91ca-4318-b7c2-4a6ce7187a7e"
      },
      "execution_count": 49,
      "outputs": [
        {
          "output_type": "execute_result",
          "data": {
            "text/plain": [
              "['Name', 'Author', 'User Rating', 'Reviews', 'Price', 'Year', 'Genre']"
            ]
          },
          "metadata": {},
          "execution_count": 49
        }
      ]
    },
    {
      "cell_type": "markdown",
      "source": [
        "8.  Виведіть загальну кількість рядків даних за допомогою count()"
      ],
      "metadata": {
        "id": "ar84WWLMyCv8"
      }
    },
    {
      "cell_type": "code",
      "source": [
        "data.count()"
      ],
      "metadata": {
        "colab": {
          "base_uri": "https://localhost:8080/"
        },
        "id": "jt38FKLryAhe",
        "outputId": "781ad9fe-1aaf-4a18-85cc-4d075034cc87"
      },
      "execution_count": 50,
      "outputs": [
        {
          "output_type": "execute_result",
          "data": {
            "text/plain": [
              "550"
            ]
          },
          "metadata": {},
          "execution_count": 50
        }
      ]
    },
    {
      "cell_type": "markdown",
      "source": [
        "9. Перевірте, чи у всіх рядків вистачає даних. Якщо є пропуски, замінить\n",
        "їх на NaN, потім тип даних на числовий.\n"
      ],
      "metadata": {
        "id": "KMpOz-4TyJTF"
      }
    },
    {
      "cell_type": "code",
      "source": [
        "from pyspark.sql.functions import isnan, when, count, col"
      ],
      "metadata": {
        "id": "uLdJs6zw1LT-"
      },
      "execution_count": 53,
      "outputs": []
    },
    {
      "cell_type": "code",
      "source": [
        "# Отримати кількість пропущених значень для кожного стовпця\n",
        "missing_counts = data.select([count(when(isnan(c) | col(c).isNull(), c)).alias(c) for c in data.columns])\n",
        "\n",
        "# Вивести кількість пропущених значень для кожного стовпця\n",
        "missing_counts.show()"
      ],
      "metadata": {
        "colab": {
          "base_uri": "https://localhost:8080/"
        },
        "id": "hnR6l6oxyAjr",
        "outputId": "fade2abf-0ec2-4489-cf16-02bd8d51f73e"
      },
      "execution_count": 54,
      "outputs": [
        {
          "output_type": "stream",
          "name": "stdout",
          "text": [
            "+----+------+-----------+-------+-----+----+-----+\n",
            "|Name|Author|User Rating|Reviews|Price|Year|Genre|\n",
            "+----+------+-----------+-------+-----+----+-----+\n",
            "|   0|     0|          0|      0|    0|   0|    0|\n",
            "+----+------+-----------+-------+-----+----+-----+\n",
            "\n"
          ]
        }
      ]
    },
    {
      "cell_type": "markdown",
      "source": [
        "Пропусків немає, тому непотрібно заміняти"
      ],
      "metadata": {
        "id": "XLPf0em70iSL"
      }
    },
    {
      "cell_type": "markdown",
      "source": [
        "10. Замініть комірки з пропущеними значенями на середні за стовпцем. І\n",
        "тип даних на float."
      ],
      "metadata": {
        "id": "PcEMGsGOyMW1"
      }
    },
    {
      "cell_type": "markdown",
      "source": [
        "Про скільки книг зберігає дані датасет?"
      ],
      "metadata": {
        "id": "Cd0-RvHa0po4"
      }
    },
    {
      "cell_type": "code",
      "source": [
        "num_row = data.count()\n",
        "\n",
        "print(f\"Кількість рядків в датасеті: {num_row}\")"
      ],
      "metadata": {
        "colab": {
          "base_uri": "https://localhost:8080/"
        },
        "id": "g0Ql_CCoyAoN",
        "outputId": "531b0fcd-7536-4ef5-b563-bec3953c379f"
      },
      "execution_count": 60,
      "outputs": [
        {
          "output_type": "stream",
          "name": "stdout",
          "text": [
            "Кількість рядків в датасеті: 550\n"
          ]
        }
      ]
    },
    {
      "cell_type": "code",
      "source": [
        "# Отримати кількість унікальних книг\n",
        "nunique_books = data.select(\"Name\").distinct().count()\n",
        "\n",
        "# Вивести інформацію про унікальні книги\n",
        "print(f\"У датасеті інформація про {nunique_books} унікальну книгу\")"
      ],
      "metadata": {
        "colab": {
          "base_uri": "https://localhost:8080/"
        },
        "id": "X1Bo7nfMyAqw",
        "outputId": "190736db-06d7-4041-ddde-da2ceace459a"
      },
      "execution_count": 59,
      "outputs": [
        {
          "output_type": "stream",
          "name": "stdout",
          "text": [
            "У датасеті інформація про 351 унікальну книгу\n"
          ]
        }
      ]
    },
    {
      "cell_type": "markdown",
      "source": [
        "11. Змініть назви всіх колонок: назва з маленької букви, без пробілів через\n",
        "підкреслення.\n"
      ],
      "metadata": {
        "id": "W744UHET1pkK"
      }
    },
    {
      "cell_type": "code",
      "source": [
        "for column in data.columns:\n",
        "    new_column_name = column.lower().replace(' ', '_')\n",
        "    data = data.withColumnRenamed(column, new_column_name)\n",
        "\n",
        "# Перевіряємо нові назви\n",
        "data.columns"
      ],
      "metadata": {
        "colab": {
          "base_uri": "https://localhost:8080/"
        },
        "id": "IukKxJeOyAtC",
        "outputId": "1c72c3f7-e498-4eea-d19c-4f710f548719"
      },
      "execution_count": 67,
      "outputs": [
        {
          "output_type": "execute_result",
          "data": {
            "text/plain": [
              "['name', 'author', 'user_rating', 'reviews', 'price', 'year', 'genre']"
            ]
          },
          "metadata": {},
          "execution_count": 67
        }
      ]
    },
    {
      "cell_type": "markdown",
      "source": [
        "12. Знайдіть автора з найвищим рейтингом"
      ],
      "metadata": {
        "id": "WEqnuf41253B"
      }
    },
    {
      "cell_type": "code",
      "source": [
        "from pyspark.sql.functions import desc\n",
        "\n",
        "author_with_highest_rating = data.orderBy(desc(\"user_rating\")).select(\"author\").first()\n",
        "\n",
        "print(f\"Автор з найвищим рейтингом: {author_with_highest_rating['author']}\")"
      ],
      "metadata": {
        "colab": {
          "base_uri": "https://localhost:8080/"
        },
        "id": "Uf1rvU10yAvh",
        "outputId": "21ea90f4-7ed9-40ec-c580-a031aaaeb3d3"
      },
      "execution_count": 69,
      "outputs": [
        {
          "output_type": "stream",
          "name": "stdout",
          "text": [
            "Автор з найвищим рейтингом: Bill Martin Jr.\n"
          ]
        }
      ]
    },
    {
      "cell_type": "markdown",
      "source": [
        "13. Знайдіть автора з найнижчим рейтингом"
      ],
      "metadata": {
        "id": "JjDJsZr73Vy7"
      }
    },
    {
      "cell_type": "code",
      "source": [
        "from pyspark.sql.functions import asc\n",
        "\n",
        "author_with_lowest_rating = data.orderBy(asc(\"user_rating\")).select(\"author\").first()\n",
        "\n",
        "print(f\"Автор з найнижчим рейтингом: {author_with_lowest_rating['author']}\")"
      ],
      "metadata": {
        "colab": {
          "base_uri": "https://localhost:8080/"
        },
        "id": "wnFfcedEyAyD",
        "outputId": "682bd562-791e-4174-eed2-ef5d45de4de4"
      },
      "execution_count": 73,
      "outputs": [
        {
          "output_type": "stream",
          "name": "stdout",
          "text": [
            "Автор з найнижчим рейтингом: J.K. Rowling\n"
          ]
        }
      ]
    },
    {
      "cell_type": "markdown",
      "source": [
        "14. Знайдіть автора, що має найбільшу кількіть рецензій."
      ],
      "metadata": {
        "id": "2kqHj2W63j0O"
      }
    },
    {
      "cell_type": "code",
      "source": [
        "author_with_most_reviews = data.orderBy(desc(\"reviews\")).select(\"author\").first()\n",
        "\n",
        "print(f\"Автор з найбільшою кількістю рецензій: {author_with_most_reviews['author']}\")"
      ],
      "metadata": {
        "colab": {
          "base_uri": "https://localhost:8080/"
        },
        "id": "lgYjPKNgyA1X",
        "outputId": "f208cf59-cd0f-4945-d399-bb3d01e49320"
      },
      "execution_count": 74,
      "outputs": [
        {
          "output_type": "stream",
          "name": "stdout",
          "text": [
            "Автор з найбільшою кількістю рецензій: Delia Owens\n"
          ]
        }
      ]
    },
    {
      "cell_type": "markdown",
      "source": [
        "15. Побудуйте гістограму рейтингу 10 найкращих книг (відібрати книги з\n",
        "найбільшим рейтингом)."
      ],
      "metadata": {
        "id": "Cbj2eUiN3ua2"
      }
    },
    {
      "cell_type": "code",
      "source": [
        "import matplotlib.pyplot as plt\n",
        "import seaborn as sns\n",
        "import pandas as pd"
      ],
      "metadata": {
        "id": "8CCBIGZG3usH"
      },
      "execution_count": 80,
      "outputs": []
    },
    {
      "cell_type": "code",
      "source": [
        "# Відбираємо книги з найвищим рейтингом\n",
        "top_books = data.orderBy(desc(\"user_rating\")).limit(10)\n",
        "top_books.show()\n",
        "\n",
        "# Побудувати гістограму\n",
        "sns.set(style=\"whitegrid\")\n",
        "plt.figure(figsize=(10, 6))\n",
        "histogram = sns.histplot(data=top_books.toPandas(), x='user_rating', bins=10, kde=False)\n",
        "plt.title('Гістограма рейтингу 10 найкращих книг')\n",
        "plt.xlabel('Рейтинг')\n",
        "plt.ylabel('Кількість книг')\n",
        "plt.show()"
      ],
      "metadata": {
        "colab": {
          "base_uri": "https://localhost:8080/",
          "height": 833
        },
        "id": "1Yx7PMHY36Wu",
        "outputId": "c499c55d-6b6b-4e72-9c18-02a2633768f9"
      },
      "execution_count": 78,
      "outputs": [
        {
          "output_type": "stream",
          "name": "stdout",
          "text": [
            "+--------------------+--------------------+-----------+-------+-----+----+-----------+\n",
            "|                name|              author|user_rating|reviews|price|year|      genre|\n",
            "+--------------------+--------------------+-----------+-------+-----+----+-----------+\n",
            "|Dog Man and Cat K...|          Dav Pilkey|        4.9|   5062|    6|2018|    Fiction|\n",
            "|Hamilton: The Rev...|  Lin-Manuel Miranda|        4.9|   5867|   54|2016|Non Fiction|\n",
            "|Dog Man: A Tale o...|          Dav Pilkey|        4.9|   4786|    8|2017|    Fiction|\n",
            "|Brown Bear, Brown...|     Bill Martin Jr.|        4.9|  14344|    5|2017|    Fiction|\n",
            "|Dog Man: Brawl of...|          Dav Pilkey|        4.9|   7235|    4|2018|    Fiction|\n",
            "|Dog Man: For Whom...|          Dav Pilkey|        4.9|   9089|    8|2019|    Fiction|\n",
            "|Dog Man: Lord of ...|          Dav Pilkey|        4.9|   5470|    6|2018|    Fiction|\n",
            "|Brown Bear, Brown...|     Bill Martin Jr.|        4.9|  14344|    5|2019|    Fiction|\n",
            "|Goodnight, Goodni...|Sherri Duskey Rinker|        4.9|   7038|    7|2012|    Fiction|\n",
            "|Dog Man: Fetch-22...|          Dav Pilkey|        4.9|  12619|    8|2019|    Fiction|\n",
            "+--------------------+--------------------+-----------+-------+-----+----+-----------+\n",
            "\n"
          ]
        },
        {
          "output_type": "display_data",
          "data": {
            "text/plain": [
              "<Figure size 1000x600 with 1 Axes>"
            ],
            "image/png": "[encoded data removed]"
          },
          "metadata": {}
        }
      ]
    },
    {
      "cell_type": "markdown",
      "source": [
        "16. Побудуйте матрицю кореляції для стовпчиків 'user_rating', 'reviews',\n",
        "'price'.**Текст, выделенный полужирным шрифтом**"
      ],
      "metadata": {
        "id": "fbh-UdeH4Ynv"
      }
    },
    {
      "cell_type": "code",
      "source": [
        "# Відібрати необхідні стовпці\n",
        "selected_columns = ['user_rating', 'reviews', 'price']\n",
        "selected_df = data.select(selected_columns)\n",
        "\n",
        "# Переводимо дані на Pandas\n",
        "pandas_df = selected_df.toPandas()\n",
        "\n",
        "# Будуємо матрицю кореляції\n",
        "correlation_matrix = pandas_df.corr(method='pearson')\n",
        "\n",
        "# Вивести результат\n",
        "print(\"Матриця кореляції:\")\n",
        "print(correlation_matrix)"
      ],
      "metadata": {
        "colab": {
          "base_uri": "https://localhost:8080/"
        },
        "id": "lwlwwPoh4WJU",
        "outputId": "c9b46248-4495-4ef6-868b-3835f4057864"
      },
      "execution_count": 82,
      "outputs": [
        {
          "output_type": "stream",
          "name": "stdout",
          "text": [
            "Матриця кореляції:\n",
            "             user_rating   reviews     price\n",
            "user_rating     1.000000 -0.001729 -0.133086\n",
            "reviews        -0.001729  1.000000 -0.109182\n",
            "price          -0.133086 -0.109182  1.000000\n"
          ]
        }
      ]
    },
    {
      "cell_type": "code",
      "source": [
        "sns.heatmap(pandas_df.corr(), cmap='BuGn')\n",
        "plt.title(\"Візуалізація кореляції\");"
      ],
      "metadata": {
        "colab": {
          "base_uri": "https://localhost:8080/",
          "height": 458
        },
        "id": "4X82au0q4XHc",
        "outputId": "b1158415-6beb-4edf-d75d-b21541ad3b17"
      },
      "execution_count": 86,
      "outputs": [
        {
          "output_type": "display_data",
          "data": {
            "text/plain": [
              "<Figure size 640x480 with 2 Axes>"
            ],
            "image/png": "[encoded data removed]"
          },
          "metadata": {}
        }
      ]
    }
  ]
}