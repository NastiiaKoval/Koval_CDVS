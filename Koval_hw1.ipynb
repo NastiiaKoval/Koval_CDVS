{
 "cells": [
  {
   "cell_type": "markdown",
   "id": "0b71545e",
   "metadata": {},
   "source": [
    "## Завдання 1. Робота з бібліотекою Numpy "
   ]
  },
  {
   "cell_type": "code",
   "execution_count": 155,
   "id": "5125d577",
   "metadata": {},
   "outputs": [],
   "source": [
    "import numpy as np\n",
    "import random\n",
    "import pandas as pd\n",
    "import matplotlib.pyplot as plt\n"
   ]
  },
  {
   "cell_type": "code",
   "execution_count": 2,
   "id": "d49b9c5e",
   "metadata": {},
   "outputs": [
    {
     "data": {
      "text/plain": [
       "array([ 1,  2,  3,  4,  5,  6,  7,  8,  9, 10, 11, 12, 13, 14, 15, 16, 17,\n",
       "       18, 19, 20])"
      ]
     },
     "execution_count": 2,
     "metadata": {},
     "output_type": "execute_result"
    }
   ],
   "source": [
    "#1.Створіть одновимірний масив (вектор) з першими 20-ма натуральними числами та виведіть його значення. \n",
    "\n",
    "nat_numbers = np.arange(1, 21)\n",
    "nat_numbers"
   ]
  },
  {
   "cell_type": "code",
   "execution_count": 11,
   "id": "41b88273",
   "metadata": {},
   "outputs": [
    {
     "data": {
      "text/plain": [
       "matrix([[1, 1, 1, 1],\n",
       "        [1, 1, 1, 1],\n",
       "        [1, 1, 1, 1],\n",
       "        [1, 1, 1, 1]])"
      ]
     },
     "metadata": {},
     "output_type": "display_data"
    },
    {
     "data": {
      "text/plain": [
       "array([[1, 1, 1, 1],\n",
       "       [1, 1, 1, 1],\n",
       "       [1, 1, 1, 1],\n",
       "       [1, 1, 1, 1]])"
      ]
     },
     "metadata": {},
     "output_type": "display_data"
    }
   ],
   "source": [
    "#2. Створіть двовимірний масив (матрицю) розміром 4x4, заповніть його одиницями та виведіть його значення. \n",
    "\n",
    "matrix_1 = np.matrix('1 1 1 1; 1 1 1 1;1 1 1 1; 1 1 1 1')\n",
    "\n",
    "matrix_2 = np.ones((4, 4), dtype=int)\n",
    "\n",
    "display(matrix_1, matrix_2)"
   ]
  },
  {
   "cell_type": "code",
   "execution_count": 20,
   "id": "fec499e6",
   "metadata": {},
   "outputs": [
    {
     "data": {
      "text/plain": [
       "array([[-0.20123002, -0.26625748,  0.45790789,  0.47618241,  0.34653486],\n",
       "       [-0.36080298, -0.46587848,  0.52742624,  0.73007948, -0.75558642],\n",
       "       [-0.17431479, -0.8412492 ,  0.59118519, -0.75409783,  0.48103771],\n",
       "       [-0.32039988, -0.59427383,  0.55169366,  0.96587712,  0.26963883],\n",
       "       [-0.84383158, -0.73890707,  0.97875834, -0.893361  , -0.52866   ]])"
      ]
     },
     "execution_count": 20,
     "metadata": {},
     "output_type": "execute_result"
    }
   ],
   "source": [
    "#3. Створіть масив розміром 5x5, заповніть його випадковими дійсними числами в діапазоні від -1 до 1 та виведіть його значення. \n",
    "\n",
    "matrix = np.random.uniform(-1, 1, (5, 5))\n",
    "matrix"
   ]
  },
  {
   "cell_type": "code",
   "execution_count": 21,
   "id": "058666df",
   "metadata": {},
   "outputs": [
    {
     "data": {
      "text/plain": [
       "array([[0.36079254, 0.87800438, 0.44241155],\n",
       "       [0.85364532, 0.44044201, 0.15333547],\n",
       "       [0.96502589, 0.22850364, 0.19674305]])"
      ]
     },
     "execution_count": 21,
     "metadata": {},
     "output_type": "execute_result"
    }
   ],
   "source": [
    "#4.Створіть масив розміром 3x3, заповніть його випадковими дійсними числами в діапазоні від 0 до 1 та виведіть його значення.\n",
    "\n",
    "matrix = np.random.uniform(0, 1, (3,3))\n",
    "matrix"
   ]
  },
  {
   "cell_type": "code",
   "execution_count": 29,
   "id": "396d0929",
   "metadata": {},
   "outputs": [
    {
     "data": {
      "text/plain": [
       "array([ 3,  5,  3, 15, 11,  4])"
      ]
     },
     "metadata": {},
     "output_type": "display_data"
    },
    {
     "data": {
      "text/plain": [
       "array([ 1,  5, 15,  4, 19,  7])"
      ]
     },
     "metadata": {},
     "output_type": "display_data"
    },
    {
     "name": "stdout",
     "output_type": "stream",
     "text": [
      "Додавання: [ 4 10 18 19 30 11]\n",
      "Віднімання: [  2   0 -12  11  -8  -3]\n",
      "Множення: [  3  25  45  60 209  28]\n"
     ]
    }
   ],
   "source": [
    "#5. Створіть два одновимірних масиви розміром 6, заповніть їх випадковими цілими числами в діапазоні від 1 до 20 \n",
    "#   та виконайте на них поелементні операції додавання, віднімання та множення. \n",
    "\n",
    "ar_1 = np.random.randint(1, 21, 6)\n",
    "ar_2 = np.random.randint(1, 21, 6)\n",
    "\n",
    "display(ar_1,ar_2)\n",
    "\n",
    "addition = ar_1 + ar_2\n",
    "subtraction = ar_1 - ar_2\n",
    "multiplication = ar_1 * ar_2\n",
    "\n",
    "print(\"Додавання:\", addition)\n",
    "print(\"Віднімання:\", subtraction)\n",
    "print(\"Множення:\", multiplication)"
   ]
  },
  {
   "cell_type": "code",
   "execution_count": 30,
   "id": "67767047",
   "metadata": {},
   "outputs": [
    {
     "name": "stdout",
     "output_type": "stream",
     "text": [
      "Матриця 1:\n",
      "[[4 3]\n",
      " [3 5]\n",
      " [2 5]]\n",
      "Матриця 2:\n",
      "[[5 5 1 4]\n",
      " [1 3 4 1]]\n",
      "Результат перемноження:\n",
      "[[23 29 16 19]\n",
      " [20 30 23 17]\n",
      " [15 25 22 13]]\n"
     ]
    }
   ],
   "source": [
    "#6. Створіть дві матриці розміром 3x2 та 2x4, заповніть їх випадковими цілими числами в діапазоні від 1 до 5 та перемножте їх між собою. \n",
    "matrix_1 = np.random.randint(1, 6, (3, 2))\n",
    "matrix_2 = np.random.randint(1, 6, (2, 4))\n",
    "\n",
    "print(\"Матриця 1:\")\n",
    "print(matrix_1)\n",
    "\n",
    "print(\"Матриця 2:\")\n",
    "print(matrix_2)\n",
    "\n",
    "# Перемножуємо матриці між собою\n",
    "result_matrix = np.dot(matrix_1, matrix_2)\n",
    "\n",
    "# Виводимо результат перемноження\n",
    "print(\"Результат перемноження:\")\n",
    "print(result_matrix)"
   ]
  },
  {
   "cell_type": "code",
   "execution_count": 31,
   "id": "be38e01b",
   "metadata": {},
   "outputs": [
    {
     "name": "stdout",
     "output_type": "stream",
     "text": [
      "Транспонована матриця:\n",
      "[[0.58806887 0.31251789 0.15649202]\n",
      " [0.70205649 0.35095986 0.84760852]\n",
      " [0.63559412 0.82751357 0.46126309]]\n"
     ]
    }
   ],
   "source": [
    "#7. Створіть матрицю розміром 3x3, заповніть її випадковими дійсними числами в діапазоні від 0 до 1 та транспонуйте її. \n",
    "matrix = np.random.uniform(0, 1, (3, 3))\n",
    "\n",
    "transposed_matrix = np.transpose(matrix)\n",
    "\n",
    "print(\"Транспонована матриця:\")\n",
    "print(transposed_matrix)"
   ]
  },
  {
   "cell_type": "code",
   "execution_count": 32,
   "id": "7c74bab9",
   "metadata": {},
   "outputs": [
    {
     "name": "stdout",
     "output_type": "stream",
     "text": [
      "Початкова матриця 1:\n",
      "[[ 7  7  4]\n",
      " [ 4 10  6]\n",
      " [10  9  9]]\n",
      "Початкова матриця 2:\n",
      "[[ 3  5  6]\n",
      " [ 8  5 10]\n",
      " [ 1  4 10]]\n",
      "Різниця матриць:\n",
      "[[ 4  2 -2]\n",
      " [-4  5 -4]\n",
      " [ 9  5 -1]]\n"
     ]
    }
   ],
   "source": [
    "#8. Створіть дві матриці розміром 3x3, заповніть їх випадковими цілими числами в діапазоні від 1 до 10 та знайдіть їхню різницю. \n",
    "matrix1 = np.random.randint(1, 11, (3, 3))\n",
    "matrix2 = np.random.randint(1, 11, (3, 3))\n",
    "\n",
    "print(\"Початкова матриця 1:\")\n",
    "print(matrix1)\n",
    "\n",
    "print(\"Початкова матриця 2:\")\n",
    "print(matrix2)\n",
    "\n",
    "difference_matrix = matrix1 - matrix2\n",
    "\n",
    "print(\"Різниця матриць:\")\n",
    "print(difference_matrix)"
   ]
  },
  {
   "cell_type": "code",
   "execution_count": 46,
   "id": "ecdd8ac9",
   "metadata": {},
   "outputs": [
    {
     "name": "stdout",
     "output_type": "stream",
     "text": [
      "Початкова матриця 1:\n",
      "[[ 3 -4  4]\n",
      " [ 0 -5  3]\n",
      " [ 3 -3  5]]\n",
      "Початкова матриця 2:\n",
      "[[-4  4 -3]\n",
      " [-5 -1  2]\n",
      " [-2  0 -3]]\n",
      "Добуток матриць:\n",
      "[[  0  16 -29]\n",
      " [ 19   5 -19]\n",
      " [ -7  15 -30]]\n"
     ]
    }
   ],
   "source": [
    "#9. Створіть дві матриці розміром 3x3, заповніть їх випадковими цілими числами в діапазоні від -5 до 5 та знайдіть їх добуток.\n",
    "\n",
    "matrix1 = np.random.randint(-5, 6, (3, 3))\n",
    "matrix2 = np.random.randint(-5, 6, (3, 3))\n",
    "\n",
    "print(\"Початкова матриця 1:\")\n",
    "print(matrix1)\n",
    "\n",
    "print(\"Початкова матриця 2:\")\n",
    "print(matrix2)\n",
    "\n",
    "product_matrix = np.dot(matrix1, matrix2)\n",
    "\n",
    "print(\"Добуток матриць:\")\n",
    "print(product_matrix)"
   ]
  },
  {
   "cell_type": "code",
   "execution_count": 54,
   "id": "134e7892",
   "metadata": {},
   "outputs": [
    {
     "name": "stdout",
     "output_type": "stream",
     "text": [
      "Початкова матриця:\n",
      " [[-0.1120218   0.45304242 -0.65339451]\n",
      " [-0.54668905 -0.20839917  0.25928287]\n",
      " [-0.30067645 -0.11581416  0.98264608]]\n",
      "Вектор-стовпчик сум рядків:\n",
      " [[-0.31237389]\n",
      " [-0.49580535]\n",
      " [ 0.56615547]]\n"
     ]
    }
   ],
   "source": [
    "#10. Створіть матрицю розміром 3x3, заповніть її випадковими дійсними числами в діапазоні від -1 до 1 та знайдіть вектор-стовпчик, що містить суму елементів кожного рядка матриці. \n",
    "\n",
    "matrix = np.random.uniform(-1, 1, (3, 3))\n",
    "\n",
    "print(\"Початкова матриця:\\n\", matrix)\n",
    "\n",
    "row_sums = np.sum(matrix, axis=1)\n",
    "\n",
    "# Перетворюємо отриманий вектор в стовпчик\n",
    "column_vector = row_sums.reshape(-1, 1)\n",
    "\n",
    "print(\"Вектор-стовпчик сум рядків:\\n\", column_vector)"
   ]
  },
  {
   "cell_type": "markdown",
   "id": "e41d56f2",
   "metadata": {},
   "source": [
    "## Завдання 2. Робота з бібліотекою Pandas "
   ]
  },
  {
   "cell_type": "code",
   "execution_count": 111,
   "id": "c5d7b76b",
   "metadata": {},
   "outputs": [],
   "source": [
    "#Загружаємо тадлицяю з сайту\n",
    "\n",
    "url = \"https://uk.wikipedia.org/wiki/%D0%9D%D0%B0%D1%80%D0%BE%D0%B4%D0%B6%D1%83%D0%B2%D0%B0%D0%BD%D1%96%D1%81%D1%82%D1%8C_%D0%B2_%D0%A3%D0%BA%D1%80%D0%B0%D1%97%D0%BD%D1%96\"\n",
    "tables = pd.read_html(url, header=0)\n",
    "\n",
    "#наша таблиця під номером 20\n",
    "df = tables[20]"
   ]
  },
  {
   "cell_type": "code",
   "execution_count": 112,
   "id": "b36c2cab",
   "metadata": {},
   "outputs": [
    {
     "data": {
      "text/html": [
       "<div>\n",
       "<style scoped>\n",
       "    .dataframe tbody tr th:only-of-type {\n",
       "        vertical-align: middle;\n",
       "    }\n",
       "\n",
       "    .dataframe tbody tr th {\n",
       "        vertical-align: top;\n",
       "    }\n",
       "\n",
       "    .dataframe thead th {\n",
       "        text-align: right;\n",
       "    }\n",
       "</style>\n",
       "<table border=\"1\" class=\"dataframe\">\n",
       "  <thead>\n",
       "    <tr style=\"text-align: right;\">\n",
       "      <th></th>\n",
       "      <th>регіон</th>\n",
       "      <th>1950</th>\n",
       "      <th>1960</th>\n",
       "      <th>1970</th>\n",
       "      <th>1990</th>\n",
       "      <th>1992</th>\n",
       "      <th>1994</th>\n",
       "      <th>1996</th>\n",
       "      <th>2000</th>\n",
       "      <th>2004</th>\n",
       "      <th>2008</th>\n",
       "      <th>2012</th>\n",
       "      <th>2014</th>\n",
       "    </tr>\n",
       "  </thead>\n",
       "  <tbody>\n",
       "    <tr>\n",
       "      <th>0</th>\n",
       "      <td>Автономна Республіка Крим</td>\n",
       "      <td>230.0</td>\n",
       "      <td>206.0</td>\n",
       "      <td>160.0</td>\n",
       "      <td>130</td>\n",
       "      <td>109</td>\n",
       "      <td>93</td>\n",
       "      <td>80</td>\n",
       "      <td>73</td>\n",
       "      <td>90</td>\n",
       "      <td>119</td>\n",
       "      <td>126</td>\n",
       "      <td>NaN</td>\n",
       "    </tr>\n",
       "    <tr>\n",
       "      <th>1</th>\n",
       "      <td>Вінницька область</td>\n",
       "      <td>224.0</td>\n",
       "      <td>192.0</td>\n",
       "      <td>142.0</td>\n",
       "      <td>124</td>\n",
       "      <td>119</td>\n",
       "      <td>107</td>\n",
       "      <td>103</td>\n",
       "      <td>84</td>\n",
       "      <td>90</td>\n",
       "      <td>108</td>\n",
       "      <td>112</td>\n",
       "      <td>109.0</td>\n",
       "    </tr>\n",
       "    <tr>\n",
       "      <th>2</th>\n",
       "      <td>Волинська область</td>\n",
       "      <td>247.0</td>\n",
       "      <td>250.0</td>\n",
       "      <td>179.0</td>\n",
       "      <td>153</td>\n",
       "      <td>150</td>\n",
       "      <td>137</td>\n",
       "      <td>125</td>\n",
       "      <td>112</td>\n",
       "      <td>119</td>\n",
       "      <td>148</td>\n",
       "      <td>148</td>\n",
       "      <td>141.0</td>\n",
       "    </tr>\n",
       "    <tr>\n",
       "      <th>3</th>\n",
       "      <td>Дніпропетровська область</td>\n",
       "      <td>204.0</td>\n",
       "      <td>204.0</td>\n",
       "      <td>151.0</td>\n",
       "      <td>123</td>\n",
       "      <td>106</td>\n",
       "      <td>92</td>\n",
       "      <td>80</td>\n",
       "      <td>71</td>\n",
       "      <td>89</td>\n",
       "      <td>110</td>\n",
       "      <td>112</td>\n",
       "      <td>111.0</td>\n",
       "    </tr>\n",
       "    <tr>\n",
       "      <th>4</th>\n",
       "      <td>Донецька область</td>\n",
       "      <td>271.0</td>\n",
       "      <td>214.0</td>\n",
       "      <td>140.0</td>\n",
       "      <td>109</td>\n",
       "      <td>94</td>\n",
       "      <td>82</td>\n",
       "      <td>70</td>\n",
       "      <td>61</td>\n",
       "      <td>76</td>\n",
       "      <td>98</td>\n",
       "      <td>98</td>\n",
       "      <td>82.0</td>\n",
       "    </tr>\n",
       "    <tr>\n",
       "      <th>5</th>\n",
       "      <td>Житомирська область</td>\n",
       "      <td>261.0</td>\n",
       "      <td>223.0</td>\n",
       "      <td>159.0</td>\n",
       "      <td>129</td>\n",
       "      <td>128</td>\n",
       "      <td>118</td>\n",
       "      <td>108</td>\n",
       "      <td>89</td>\n",
       "      <td>98</td>\n",
       "      <td>113</td>\n",
       "      <td>122</td>\n",
       "      <td>120.0</td>\n",
       "    </tr>\n",
       "    <tr>\n",
       "      <th>6</th>\n",
       "      <td>Закарпатська область</td>\n",
       "      <td>314.0</td>\n",
       "      <td>273.0</td>\n",
       "      <td>207.0</td>\n",
       "      <td>168</td>\n",
       "      <td>161</td>\n",
       "      <td>138</td>\n",
       "      <td>128</td>\n",
       "      <td>115</td>\n",
       "      <td>124</td>\n",
       "      <td>147</td>\n",
       "      <td>151</td>\n",
       "      <td>146.0</td>\n",
       "    </tr>\n",
       "    <tr>\n",
       "      <th>7</th>\n",
       "      <td>Запорізька область</td>\n",
       "      <td>219.0</td>\n",
       "      <td>197.0</td>\n",
       "      <td>150.0</td>\n",
       "      <td>124</td>\n",
       "      <td>107</td>\n",
       "      <td>92</td>\n",
       "      <td>81</td>\n",
       "      <td>71</td>\n",
       "      <td>85</td>\n",
       "      <td>103</td>\n",
       "      <td>106</td>\n",
       "      <td>106.0</td>\n",
       "    </tr>\n",
       "    <tr>\n",
       "      <th>8</th>\n",
       "      <td>Івано-Франківська область</td>\n",
       "      <td>243.0</td>\n",
       "      <td>248.0</td>\n",
       "      <td>182.0</td>\n",
       "      <td>155</td>\n",
       "      <td>144</td>\n",
       "      <td>131</td>\n",
       "      <td>122</td>\n",
       "      <td>103</td>\n",
       "      <td>107</td>\n",
       "      <td>123</td>\n",
       "      <td>124</td>\n",
       "      <td>122.0</td>\n",
       "    </tr>\n",
       "    <tr>\n",
       "      <th>9</th>\n",
       "      <td>Київська область</td>\n",
       "      <td>204.0</td>\n",
       "      <td>189.0</td>\n",
       "      <td>156.0</td>\n",
       "      <td>123</td>\n",
       "      <td>111</td>\n",
       "      <td>99</td>\n",
       "      <td>92</td>\n",
       "      <td>73</td>\n",
       "      <td>90</td>\n",
       "      <td>117</td>\n",
       "      <td>122</td>\n",
       "      <td>121.0</td>\n",
       "    </tr>\n",
       "  </tbody>\n",
       "</table>\n",
       "</div>"
      ],
      "text/plain": [
       "                      регіон   1950   1960   1970  1990  1992  1994  1996  \\\n",
       "0  Автономна Республіка Крим  230.0  206.0  160.0   130   109    93    80   \n",
       "1          Вінницька область  224.0  192.0  142.0   124   119   107   103   \n",
       "2          Волинська область  247.0  250.0  179.0   153   150   137   125   \n",
       "3   Дніпропетровська область  204.0  204.0  151.0   123   106    92    80   \n",
       "4           Донецька область  271.0  214.0  140.0   109    94    82    70   \n",
       "5        Житомирська область  261.0  223.0  159.0   129   128   118   108   \n",
       "6       Закарпатська область  314.0  273.0  207.0   168   161   138   128   \n",
       "7         Запорізька область  219.0  197.0  150.0   124   107    92    81   \n",
       "8  Івано-Франківська область  243.0  248.0  182.0   155   144   131   122   \n",
       "9           Київська область  204.0  189.0  156.0   123   111    99    92   \n",
       "\n",
       "   2000  2004  2008  2012   2014  \n",
       "0    73    90   119   126    NaN  \n",
       "1    84    90   108   112  109.0  \n",
       "2   112   119   148   148  141.0  \n",
       "3    71    89   110   112  111.0  \n",
       "4    61    76    98    98   82.0  \n",
       "5    89    98   113   122  120.0  \n",
       "6   115   124   147   151  146.0  \n",
       "7    71    85   103   106  106.0  \n",
       "8   103   107   123   124  122.0  \n",
       "9    73    90   117   122  121.0  "
      ]
     },
     "execution_count": 112,
     "metadata": {},
     "output_type": "execute_result"
    }
   ],
   "source": [
    "#1 Відобразити перші 10 рядків таблиці за допомогою методу head\n",
    "df.head(10)"
   ]
  },
  {
   "cell_type": "code",
   "execution_count": 113,
   "id": "45380149",
   "metadata": {},
   "outputs": [
    {
     "data": {
      "text/plain": [
       "(28, 13)"
      ]
     },
     "execution_count": 113,
     "metadata": {},
     "output_type": "execute_result"
    }
   ],
   "source": [
    "#2. Визначити кількість рядків і стовпців в датафрейме (метод shape) \n",
    "df.shape"
   ]
  },
  {
   "cell_type": "code",
   "execution_count": 114,
   "id": "76293a51",
   "metadata": {},
   "outputs": [
    {
     "data": {
      "text/plain": [
       "регіон    0\n",
       "1950      2\n",
       "1960      1\n",
       "1970      1\n",
       "1990      0\n",
       "1992      0\n",
       "1994      0\n",
       "1996      0\n",
       "2000      0\n",
       "2004      0\n",
       "2008      0\n",
       "2012      0\n",
       "2014      2\n",
       "dtype: int64"
      ]
     },
     "execution_count": 114,
     "metadata": {},
     "output_type": "execute_result"
    }
   ],
   "source": [
    "#3. Замініть значення \"—\" в таблиці значеннями NaN \n",
    "df.isna().sum()"
   ]
  },
  {
   "cell_type": "code",
   "execution_count": 115,
   "id": "65a5a451",
   "metadata": {},
   "outputs": [],
   "source": [
    "#3\n",
    "df.replace(\"—\", np.nan, inplace=True)"
   ]
  },
  {
   "cell_type": "code",
   "execution_count": 116,
   "id": "c2cf133a",
   "metadata": {},
   "outputs": [
    {
     "data": {
      "text/plain": [
       "регіон    0\n",
       "1950      2\n",
       "1960      1\n",
       "1970      1\n",
       "1990      0\n",
       "1992      0\n",
       "1994      0\n",
       "1996      0\n",
       "2000      0\n",
       "2004      0\n",
       "2008      0\n",
       "2012      0\n",
       "2014      2\n",
       "dtype: int64"
      ]
     },
     "execution_count": 116,
     "metadata": {},
     "output_type": "execute_result"
    }
   ],
   "source": [
    "#3\n",
    "df.isna().sum()"
   ]
  },
  {
   "cell_type": "markdown",
   "id": "382a0cbf",
   "metadata": {},
   "source": [
    "Кількість Nan в таблиці не змінилась, отже значень \"—\" не було в таблиці"
   ]
  },
  {
   "cell_type": "code",
   "execution_count": 117,
   "id": "4ff330ac",
   "metadata": {
    "scrolled": true
   },
   "outputs": [
    {
     "data": {
      "text/plain": [
       "регіон     object\n",
       "1950      float64\n",
       "1960      float64\n",
       "1970      float64\n",
       "1990        int64\n",
       "1992        int64\n",
       "1994        int64\n",
       "1996        int64\n",
       "2000        int64\n",
       "2004        int64\n",
       "2008        int64\n",
       "2012        int64\n",
       "2014      float64\n",
       "dtype: object"
      ]
     },
     "execution_count": 117,
     "metadata": {},
     "output_type": "execute_result"
    }
   ],
   "source": [
    "#4.Визначте типи всіх стовпців за допомогою dataframe.dtypes \n",
    "df.dtypes"
   ]
  },
  {
   "cell_type": "code",
   "execution_count": 118,
   "id": "07301b09",
   "metadata": {},
   "outputs": [
    {
     "name": "stderr",
     "output_type": "stream",
     "text": [
      "C:\\Users\\Asus\\AppData\\Local\\Temp\\ipykernel_23080\\1901349970.py:4: FutureWarning: The default value of numeric_only in DataFrame.mean is deprecated. In a future version, it will default to False. In addition, specifying 'numeric_only=None' is deprecated. Select only valid columns or specify the value of numeric_only to silence this warning.\n",
      "  df[['1950', '1960', '1970', '2014']] = df[['1950', '1960', '1970', '2014']].fillna(df.mean())\n"
     ]
    }
   ],
   "source": [
    "#5. Замініть типи нечислових стовпців числовими стовпцями. Це стовпці, у яких було розташовано символ \"—\" \n",
    "\n",
    "# Спершу замінюємо NaN на певне значення (наприклад, середнє значення по стовпцях в датафреймі)\n",
    "df[['1950', '1960', '1970', '2014']] = df[['1950', '1960', '1970', '2014']].fillna(df.mean())\n",
    "\n",
    "# Змінюємо тип нечислових товпців на int\n",
    "df[['1950', '1960', '1970', '2014']] = df[['1950', '1960', '1970', '2014']].astype('int')\n"
   ]
  },
  {
   "cell_type": "code",
   "execution_count": 119,
   "id": "1aa21480",
   "metadata": {},
   "outputs": [
    {
     "data": {
      "text/plain": [
       "регіон    object\n",
       "1950       int32\n",
       "1960       int32\n",
       "1970       int32\n",
       "1990       int64\n",
       "1992       int64\n",
       "1994       int64\n",
       "1996       int64\n",
       "2000       int64\n",
       "2004       int64\n",
       "2008       int64\n",
       "2012       int64\n",
       "2014       int32\n",
       "dtype: object"
      ]
     },
     "execution_count": 119,
     "metadata": {},
     "output_type": "execute_result"
    }
   ],
   "source": [
    "df.dtypes"
   ]
  },
  {
   "cell_type": "code",
   "execution_count": 120,
   "id": "1957db97",
   "metadata": {},
   "outputs": [
    {
     "name": "stdout",
     "output_type": "stream",
     "text": [
      "Стовпець 'регіон': 0 пропущених значень з 28 загальних\n",
      "Стовпець '1950': 0 пропущених значень з 28 загальних\n",
      "Стовпець '1960': 0 пропущених значень з 28 загальних\n",
      "Стовпець '1970': 0 пропущених значень з 28 загальних\n",
      "Стовпець '1990': 0 пропущених значень з 28 загальних\n",
      "Стовпець '1992': 0 пропущених значень з 28 загальних\n",
      "Стовпець '1994': 0 пропущених значень з 28 загальних\n",
      "Стовпець '1996': 0 пропущених значень з 28 загальних\n",
      "Стовпець '2000': 0 пропущених значень з 28 загальних\n",
      "Стовпець '2004': 0 пропущених значень з 28 загальних\n",
      "Стовпець '2008': 0 пропущених значень з 28 загальних\n",
      "Стовпець '2012': 0 пропущених значень з 28 загальних\n",
      "Стовпець '2014': 0 пропущених значень з 28 загальних\n"
     ]
    }
   ],
   "source": [
    "#6.Обчислити, скільки проміжків у кожному стовпці (використовуйте методи isnull, sum та len)\n",
    "\n",
    "import pandas as pd\n",
    "\n",
    "columns_list = list(df.columns)\n",
    "\n",
    "# Ітеруємося по списку стовпців і обчислюємо кількість пропущених значень у кожному стовпці\n",
    "for column in columns_list:\n",
    "    missing_count = df[column].isnull().sum()\n",
    "    total_count = len(df[column])\n",
    "    print(f\"Стовпець '{column}': {missing_count} пропущених значень з {total_count} загальних\")\n"
   ]
  },
  {
   "cell_type": "code",
   "execution_count": 121,
   "id": "0b82c1d3",
   "metadata": {},
   "outputs": [],
   "source": [
    "#7.Видалити дані для всієї країни з таблиці в останньому рядку таблиці \n",
    "\n",
    "df = df.drop(df.index[-1])"
   ]
  },
  {
   "cell_type": "code",
   "execution_count": null,
   "id": "6505eeff",
   "metadata": {},
   "outputs": [],
   "source": [
    "#8. Замінити пропущені дані у стовпцях середніми значеннями за стовпчиком  (метод fillna) \n",
    "\n",
    "#виконано в 5 завданні"
   ]
  },
  {
   "cell_type": "code",
   "execution_count": 134,
   "id": "22db51c5",
   "metadata": {},
   "outputs": [
    {
     "data": {
      "text/html": [
       "<div>\n",
       "<style scoped>\n",
       "    .dataframe tbody tr th:only-of-type {\n",
       "        vertical-align: middle;\n",
       "    }\n",
       "\n",
       "    .dataframe tbody tr th {\n",
       "        vertical-align: top;\n",
       "    }\n",
       "\n",
       "    .dataframe thead th {\n",
       "        text-align: right;\n",
       "    }\n",
       "</style>\n",
       "<table border=\"1\" class=\"dataframe\">\n",
       "  <thead>\n",
       "    <tr style=\"text-align: right;\">\n",
       "      <th></th>\n",
       "      <th>регіон</th>\n",
       "      <th>1950</th>\n",
       "      <th>1960</th>\n",
       "      <th>1970</th>\n",
       "      <th>1990</th>\n",
       "      <th>1992</th>\n",
       "      <th>1994</th>\n",
       "      <th>1996</th>\n",
       "      <th>2000</th>\n",
       "      <th>2004</th>\n",
       "      <th>2008</th>\n",
       "      <th>2012</th>\n",
       "      <th>2014</th>\n",
       "    </tr>\n",
       "  </thead>\n",
       "  <tbody>\n",
       "    <tr>\n",
       "      <th>2</th>\n",
       "      <td>Волинська область</td>\n",
       "      <td>247</td>\n",
       "      <td>250</td>\n",
       "      <td>179</td>\n",
       "      <td>153</td>\n",
       "      <td>150</td>\n",
       "      <td>137</td>\n",
       "      <td>125</td>\n",
       "      <td>112</td>\n",
       "      <td>119</td>\n",
       "      <td>148</td>\n",
       "      <td>148</td>\n",
       "      <td>141</td>\n",
       "    </tr>\n",
       "    <tr>\n",
       "      <th>5</th>\n",
       "      <td>Житомирська область</td>\n",
       "      <td>261</td>\n",
       "      <td>223</td>\n",
       "      <td>159</td>\n",
       "      <td>129</td>\n",
       "      <td>128</td>\n",
       "      <td>118</td>\n",
       "      <td>108</td>\n",
       "      <td>89</td>\n",
       "      <td>98</td>\n",
       "      <td>113</td>\n",
       "      <td>122</td>\n",
       "      <td>120</td>\n",
       "    </tr>\n",
       "    <tr>\n",
       "      <th>6</th>\n",
       "      <td>Закарпатська область</td>\n",
       "      <td>314</td>\n",
       "      <td>273</td>\n",
       "      <td>207</td>\n",
       "      <td>168</td>\n",
       "      <td>161</td>\n",
       "      <td>138</td>\n",
       "      <td>128</td>\n",
       "      <td>115</td>\n",
       "      <td>124</td>\n",
       "      <td>147</td>\n",
       "      <td>151</td>\n",
       "      <td>146</td>\n",
       "    </tr>\n",
       "    <tr>\n",
       "      <th>8</th>\n",
       "      <td>Івано-Франківська область</td>\n",
       "      <td>243</td>\n",
       "      <td>248</td>\n",
       "      <td>182</td>\n",
       "      <td>155</td>\n",
       "      <td>144</td>\n",
       "      <td>131</td>\n",
       "      <td>122</td>\n",
       "      <td>103</td>\n",
       "      <td>107</td>\n",
       "      <td>123</td>\n",
       "      <td>124</td>\n",
       "      <td>122</td>\n",
       "    </tr>\n",
       "    <tr>\n",
       "      <th>9</th>\n",
       "      <td>Київська область</td>\n",
       "      <td>204</td>\n",
       "      <td>189</td>\n",
       "      <td>156</td>\n",
       "      <td>123</td>\n",
       "      <td>111</td>\n",
       "      <td>99</td>\n",
       "      <td>92</td>\n",
       "      <td>73</td>\n",
       "      <td>90</td>\n",
       "      <td>117</td>\n",
       "      <td>122</td>\n",
       "      <td>121</td>\n",
       "    </tr>\n",
       "    <tr>\n",
       "      <th>12</th>\n",
       "      <td>Львівська область</td>\n",
       "      <td>234</td>\n",
       "      <td>240</td>\n",
       "      <td>171</td>\n",
       "      <td>140</td>\n",
       "      <td>132</td>\n",
       "      <td>117</td>\n",
       "      <td>111</td>\n",
       "      <td>91</td>\n",
       "      <td>101</td>\n",
       "      <td>113</td>\n",
       "      <td>119</td>\n",
       "      <td>119</td>\n",
       "    </tr>\n",
       "    <tr>\n",
       "      <th>13</th>\n",
       "      <td>Миколаївська область</td>\n",
       "      <td>211</td>\n",
       "      <td>194</td>\n",
       "      <td>155</td>\n",
       "      <td>137</td>\n",
       "      <td>123</td>\n",
       "      <td>107</td>\n",
       "      <td>96</td>\n",
       "      <td>80</td>\n",
       "      <td>90</td>\n",
       "      <td>112</td>\n",
       "      <td>115</td>\n",
       "      <td>112</td>\n",
       "    </tr>\n",
       "    <tr>\n",
       "      <th>14</th>\n",
       "      <td>Одеська область</td>\n",
       "      <td>241</td>\n",
       "      <td>192</td>\n",
       "      <td>148</td>\n",
       "      <td>126</td>\n",
       "      <td>114</td>\n",
       "      <td>100</td>\n",
       "      <td>92</td>\n",
       "      <td>80</td>\n",
       "      <td>96</td>\n",
       "      <td>120</td>\n",
       "      <td>127</td>\n",
       "      <td>123</td>\n",
       "    </tr>\n",
       "    <tr>\n",
       "      <th>16</th>\n",
       "      <td>Рівненська область</td>\n",
       "      <td>269</td>\n",
       "      <td>267</td>\n",
       "      <td>193</td>\n",
       "      <td>158</td>\n",
       "      <td>154</td>\n",
       "      <td>145</td>\n",
       "      <td>132</td>\n",
       "      <td>118</td>\n",
       "      <td>125</td>\n",
       "      <td>148</td>\n",
       "      <td>159</td>\n",
       "      <td>148</td>\n",
       "    </tr>\n",
       "    <tr>\n",
       "      <th>20</th>\n",
       "      <td>Херсонська область</td>\n",
       "      <td>208</td>\n",
       "      <td>214</td>\n",
       "      <td>166</td>\n",
       "      <td>143</td>\n",
       "      <td>130</td>\n",
       "      <td>111</td>\n",
       "      <td>98</td>\n",
       "      <td>85</td>\n",
       "      <td>91</td>\n",
       "      <td>113</td>\n",
       "      <td>117</td>\n",
       "      <td>115</td>\n",
       "    </tr>\n",
       "    <tr>\n",
       "      <th>21</th>\n",
       "      <td>Хмельницька область</td>\n",
       "      <td>234</td>\n",
       "      <td>198</td>\n",
       "      <td>148</td>\n",
       "      <td>129</td>\n",
       "      <td>124</td>\n",
       "      <td>111</td>\n",
       "      <td>106</td>\n",
       "      <td>85</td>\n",
       "      <td>91</td>\n",
       "      <td>110</td>\n",
       "      <td>113</td>\n",
       "      <td>112</td>\n",
       "    </tr>\n",
       "    <tr>\n",
       "      <th>23</th>\n",
       "      <td>Чернівецька область</td>\n",
       "      <td>247</td>\n",
       "      <td>218</td>\n",
       "      <td>170</td>\n",
       "      <td>148</td>\n",
       "      <td>140</td>\n",
       "      <td>128</td>\n",
       "      <td>121</td>\n",
       "      <td>101</td>\n",
       "      <td>106</td>\n",
       "      <td>122</td>\n",
       "      <td>128</td>\n",
       "      <td>129</td>\n",
       "    </tr>\n",
       "    <tr>\n",
       "      <th>25</th>\n",
       "      <td>Київ</td>\n",
       "      <td>230</td>\n",
       "      <td>174</td>\n",
       "      <td>159</td>\n",
       "      <td>120</td>\n",
       "      <td>97</td>\n",
       "      <td>81</td>\n",
       "      <td>76</td>\n",
       "      <td>73</td>\n",
       "      <td>98</td>\n",
       "      <td>116</td>\n",
       "      <td>120</td>\n",
       "      <td>121</td>\n",
       "    </tr>\n",
       "  </tbody>\n",
       "</table>\n",
       "</div>"
      ],
      "text/plain": [
       "                       регіон  1950  1960  1970  1990  1992  1994  1996  2000  \\\n",
       "2           Волинська область   247   250   179   153   150   137   125   112   \n",
       "5         Житомирська область   261   223   159   129   128   118   108    89   \n",
       "6        Закарпатська область   314   273   207   168   161   138   128   115   \n",
       "8   Івано-Франківська область   243   248   182   155   144   131   122   103   \n",
       "9            Київська область   204   189   156   123   111    99    92    73   \n",
       "12          Львівська область   234   240   171   140   132   117   111    91   \n",
       "13       Миколаївська область   211   194   155   137   123   107    96    80   \n",
       "14            Одеська область   241   192   148   126   114   100    92    80   \n",
       "16         Рівненська область   269   267   193   158   154   145   132   118   \n",
       "20         Херсонська область   208   214   166   143   130   111    98    85   \n",
       "21        Хмельницька область   234   198   148   129   124   111   106    85   \n",
       "23        Чернівецька область   247   218   170   148   140   128   121   101   \n",
       "25                       Київ   230   174   159   120    97    81    76    73   \n",
       "\n",
       "    2004  2008  2012  2014  \n",
       "2    119   148   148   141  \n",
       "5     98   113   122   120  \n",
       "6    124   147   151   146  \n",
       "8    107   123   124   122  \n",
       "9     90   117   122   121  \n",
       "12   101   113   119   119  \n",
       "13    90   112   115   112  \n",
       "14    96   120   127   123  \n",
       "16   125   148   159   148  \n",
       "20    91   113   117   115  \n",
       "21    91   110   113   112  \n",
       "23   106   122   128   129  \n",
       "25    98   116   120   121  "
      ]
     },
     "execution_count": 134,
     "metadata": {},
     "output_type": "execute_result"
    }
   ],
   "source": [
    "#9.Отримайте список регіонів, де народжуваність у 2014 році була вищою за середню по Україні \n",
    "\n",
    "mean_2014 = df['2014'].mean()\n",
    "df[df['2014'] > mean_2014]"
   ]
  },
  {
   "cell_type": "code",
   "execution_count": 141,
   "id": "86321326",
   "metadata": {},
   "outputs": [
    {
     "ename": "KeyError",
     "evalue": "\"['2010'] not in index\"",
     "output_type": "error",
     "traceback": [
      "\u001b[1;31m---------------------------------------------------------------------------\u001b[0m",
      "\u001b[1;31mKeyError\u001b[0m                                  Traceback (most recent call last)",
      "Cell \u001b[1;32mIn[141], line 3\u001b[0m\n\u001b[0;32m      1\u001b[0m \u001b[38;5;66;03m#10. В якому регіоні була найвища народжуваність у 2010 та 2012 роках (окремо). \u001b[39;00m\n\u001b[1;32m----> 3\u001b[0m data_2010 \u001b[38;5;241m=\u001b[39m df[[\u001b[38;5;124m'\u001b[39m\u001b[38;5;124mрегіон\u001b[39m\u001b[38;5;124m'\u001b[39m, \u001b[38;5;124m'\u001b[39m\u001b[38;5;124m2010\u001b[39m\u001b[38;5;124m'\u001b[39m]]\u001b[38;5;241m.\u001b[39mmax()\n",
      "File \u001b[1;32mD:\\Anaconda3\\Lib\\site-packages\\pandas\\core\\frame.py:3813\u001b[0m, in \u001b[0;36mDataFrame.__getitem__\u001b[1;34m(self, key)\u001b[0m\n\u001b[0;32m   3811\u001b[0m     \u001b[38;5;28;01mif\u001b[39;00m is_iterator(key):\n\u001b[0;32m   3812\u001b[0m         key \u001b[38;5;241m=\u001b[39m \u001b[38;5;28mlist\u001b[39m(key)\n\u001b[1;32m-> 3813\u001b[0m     indexer \u001b[38;5;241m=\u001b[39m \u001b[38;5;28mself\u001b[39m\u001b[38;5;241m.\u001b[39mcolumns\u001b[38;5;241m.\u001b[39m_get_indexer_strict(key, \u001b[38;5;124m\"\u001b[39m\u001b[38;5;124mcolumns\u001b[39m\u001b[38;5;124m\"\u001b[39m)[\u001b[38;5;241m1\u001b[39m]\n\u001b[0;32m   3815\u001b[0m \u001b[38;5;66;03m# take() does not accept boolean indexers\u001b[39;00m\n\u001b[0;32m   3816\u001b[0m \u001b[38;5;28;01mif\u001b[39;00m \u001b[38;5;28mgetattr\u001b[39m(indexer, \u001b[38;5;124m\"\u001b[39m\u001b[38;5;124mdtype\u001b[39m\u001b[38;5;124m\"\u001b[39m, \u001b[38;5;28;01mNone\u001b[39;00m) \u001b[38;5;241m==\u001b[39m \u001b[38;5;28mbool\u001b[39m:\n",
      "File \u001b[1;32mD:\\Anaconda3\\Lib\\site-packages\\pandas\\core\\indexes\\base.py:6070\u001b[0m, in \u001b[0;36mIndex._get_indexer_strict\u001b[1;34m(self, key, axis_name)\u001b[0m\n\u001b[0;32m   6067\u001b[0m \u001b[38;5;28;01melse\u001b[39;00m:\n\u001b[0;32m   6068\u001b[0m     keyarr, indexer, new_indexer \u001b[38;5;241m=\u001b[39m \u001b[38;5;28mself\u001b[39m\u001b[38;5;241m.\u001b[39m_reindex_non_unique(keyarr)\n\u001b[1;32m-> 6070\u001b[0m \u001b[38;5;28mself\u001b[39m\u001b[38;5;241m.\u001b[39m_raise_if_missing(keyarr, indexer, axis_name)\n\u001b[0;32m   6072\u001b[0m keyarr \u001b[38;5;241m=\u001b[39m \u001b[38;5;28mself\u001b[39m\u001b[38;5;241m.\u001b[39mtake(indexer)\n\u001b[0;32m   6073\u001b[0m \u001b[38;5;28;01mif\u001b[39;00m \u001b[38;5;28misinstance\u001b[39m(key, Index):\n\u001b[0;32m   6074\u001b[0m     \u001b[38;5;66;03m# GH 42790 - Preserve name from an Index\u001b[39;00m\n",
      "File \u001b[1;32mD:\\Anaconda3\\Lib\\site-packages\\pandas\\core\\indexes\\base.py:6133\u001b[0m, in \u001b[0;36mIndex._raise_if_missing\u001b[1;34m(self, key, indexer, axis_name)\u001b[0m\n\u001b[0;32m   6130\u001b[0m     \u001b[38;5;28;01mraise\u001b[39;00m \u001b[38;5;167;01mKeyError\u001b[39;00m(\u001b[38;5;124mf\u001b[39m\u001b[38;5;124m\"\u001b[39m\u001b[38;5;124mNone of [\u001b[39m\u001b[38;5;132;01m{\u001b[39;00mkey\u001b[38;5;132;01m}\u001b[39;00m\u001b[38;5;124m] are in the [\u001b[39m\u001b[38;5;132;01m{\u001b[39;00maxis_name\u001b[38;5;132;01m}\u001b[39;00m\u001b[38;5;124m]\u001b[39m\u001b[38;5;124m\"\u001b[39m)\n\u001b[0;32m   6132\u001b[0m not_found \u001b[38;5;241m=\u001b[39m \u001b[38;5;28mlist\u001b[39m(ensure_index(key)[missing_mask\u001b[38;5;241m.\u001b[39mnonzero()[\u001b[38;5;241m0\u001b[39m]]\u001b[38;5;241m.\u001b[39munique())\n\u001b[1;32m-> 6133\u001b[0m \u001b[38;5;28;01mraise\u001b[39;00m \u001b[38;5;167;01mKeyError\u001b[39;00m(\u001b[38;5;124mf\u001b[39m\u001b[38;5;124m\"\u001b[39m\u001b[38;5;132;01m{\u001b[39;00mnot_found\u001b[38;5;132;01m}\u001b[39;00m\u001b[38;5;124m not in index\u001b[39m\u001b[38;5;124m\"\u001b[39m)\n",
      "\u001b[1;31mKeyError\u001b[0m: \"['2010'] not in index\""
     ]
    }
   ],
   "source": [
    "#10. В якому регіоні була найвища народжуваність у 2010 та 2012 роках (окремо). \n",
    "\n",
    "data_2010 = df[['регіон', '2010']].max()"
   ]
  },
  {
   "cell_type": "markdown",
   "id": "536c7893",
   "metadata": {},
   "source": [
    "У таблиці немає даних по 2010 році. Нижче шукаємо по 2012 році"
   ]
  },
  {
   "cell_type": "code",
   "execution_count": 147,
   "id": "f2e84aff",
   "metadata": {},
   "outputs": [
    {
     "name": "stdout",
     "output_type": "stream",
     "text": [
      "Регіон з найвищою народжуваністю у 2012 році: Рівненська область\n"
     ]
    }
   ],
   "source": [
    "max_2012 =  df['2012'].idxmax()\n",
    "max_region_2012 = df.loc[max_2012]['регіон']\n",
    "\n",
    "print(\"Регіон з найвищою народжуваністю у 2012 році:\", max_region_2012)"
   ]
  },
  {
   "cell_type": "code",
   "execution_count": 153,
   "id": "a8479abf",
   "metadata": {},
   "outputs": [
    {
     "data": {
      "text/plain": [
       "<Axes: >"
      ]
     },
     "execution_count": 153,
     "metadata": {},
     "output_type": "execute_result"
    },
    {
     "data": {
      "image/png": "[encoded data removed]",
      "text/plain": [
       "<Figure size 640x480 with 1 Axes>"
      ]
     },
     "metadata": {},
     "output_type": "display_data"
    }
   ],
   "source": [
    "#11. Побудуйте стовпчасту народжуваності за регіонами у 2014 році \n",
    "\n",
    "df['2014'].plot(kind='bar', x=df['регіон'])"
   ]
  },
  {
   "cell_type": "code",
   "execution_count": 161,
   "id": "a9ae457d",
   "metadata": {},
   "outputs": [
    {
     "data": {
      "image/png": "[encoded data removed]",
      "text/plain": [
       "<Figure size 1000x600 with 1 Axes>"
      ]
     },
     "metadata": {},
     "output_type": "display_data"
    }
   ],
   "source": [
    "region = df['регіон']\n",
    "data_2014 = df['2014']\n",
    "\n",
    "\n",
    "plt.figure(figsize=(10, 6))\n",
    "plt.bar(region, data_2014, color='skyblue')\n",
    "plt.xlabel('Регіони')\n",
    "plt.ylabel('Народжуваність у 2014 році')\n",
    "plt.title('Народжуваність за регіонами у 2014 році')\n",
    "plt.xticks(rotation=45, ha='right')  # Обертання назв регіонів для зручності\n",
    "plt.tight_layout();"
   ]
  },
  {
   "cell_type": "code",
   "execution_count": null,
   "id": "9fca500a",
   "metadata": {},
   "outputs": [],
   "source": []
  }
 ],
 "metadata": {
  "kernelspec": {
   "display_name": "Python 3 (ipykernel)",
   "language": "python",
   "name": "python3"
  },
  "language_info": {
   "codemirror_mode": {
    "name": "ipython",
    "version": 3
   },
   "file_extension": ".py",
   "mimetype": "text/x-python",
   "name": "python",
   "nbconvert_exporter": "python",
   "pygments_lexer": "ipython3",
   "version": "3.11.3"
  }
 },
 "nbformat": 4,
 "nbformat_minor": 5
}
