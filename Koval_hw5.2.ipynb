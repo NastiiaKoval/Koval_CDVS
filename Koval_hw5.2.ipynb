{
 "cells": [
  {
   "cell_type": "markdown",
   "id": "97bba2e7",
   "metadata": {},
   "source": [
    "# Візуалізація з Plotly"
   ]
  },
  {
   "cell_type": "code",
   "execution_count": 44,
   "id": "1c6ca674",
   "metadata": {},
   "outputs": [],
   "source": [
    "import plotly.express as px\n",
    "import plotly.graph_objects as go\n",
    "import numpy as np\n",
    "import matplotlib.pyplot as plt"
   ]
  },
  {
   "cell_type": "markdown",
   "id": "e2e5b591",
   "metadata": {},
   "source": [
    "**Побудуова графіків для датесету px.data.iris()**"
   ]
  },
  {
   "cell_type": "markdown",
   "id": "f1ec5684",
   "metadata": {},
   "source": [
    "Завадння 1\n",
    "\n",
    "3D-графік розподілу даних для датасету Iris "
   ]
  },
  {
   "cell_type": "code",
   "execution_count": 17,
   "id": "a88acae7",
   "metadata": {},
   "outputs": [
    {
     "data": {
      "application/vnd.plotly.v1+json": {
       "config": {
        "plotlyServerURL": "https://plot.ly"
       },
       "data": [
        {
         "hovertemplate": "species=setosa<br>sepal_length=%{x}<br>sepal_width=%{y}<br>petal_length=%{z}<extra></extra>",
         "legendgroup": "setosa",
         "marker": {
          "color": "#636efa",
          "symbol": "circle"
         },
         "mode": "markers",
         "name": "setosa",
         "scene": "scene",
         "showlegend": true,
         "type": "scatter3d",
         "x": [
          5.1,
          4.9,
          4.7,
          4.6,
          5,
          5.4,
          4.6,
          5,
          4.4,
          4.9,
          5.4,
          4.8,
          4.8,
          4.3,
          5.8,
          5.7,
          5.4,
          5.1,
          5.7,
          5.1,
          5.4,
          5.1,
          4.6,
          5.1,
          4.8,
          5,
          5,
          5.2,
          5.2,
          4.7,
          4.8,
          5.4,
          5.2,
          5.5,
          4.9,
          5,
          5.5,
          4.9,
          4.4,
          5.1,
          5,
          4.5,
          4.4,
          5,
          5.1,
          4.8,
          5.1,
          4.6,
          5.3,
          5
         ],
         "y": [
          3.5,
          3,
          3.2,
          3.1,
          3.6,
          3.9,
          3.4,
          3.4,
          2.9,
          3.1,
          3.7,
          3.4,
          3,
          3,
          4,
          4.4,
          3.9,
          3.5,
          3.8,
          3.8,
          3.4,
          3.7,
          3.6,
          3.3,
          3.4,
          3,
          3.4,
          3.5,
          3.4,
          3.2,
          3.1,
          3.4,
          4.1,
          4.2,
          3.1,
          3.2,
          3.5,
          3.1,
          3,
          3.4,
          3.5,
          2.3,
          3.2,
          3.5,
          3.8,
          3,
          3.8,
          3.2,
          3.7,
          3.3
         ],
         "z": [
          1.4,
          1.4,
          1.3,
          1.5,
          1.4,
          1.7,
          1.4,
          1.5,
          1.4,
          1.5,
          1.5,
          1.6,
          1.4,
          1.1,
          1.2,
          1.5,
          1.3,
          1.4,
          1.7,
          1.5,
          1.7,
          1.5,
          1,
          1.7,
          1.9,
          1.6,
          1.6,
          1.5,
          1.4,
          1.6,
          1.6,
          1.5,
          1.5,
          1.4,
          1.5,
          1.2,
          1.3,
          1.5,
          1.3,
          1.5,
          1.3,
          1.3,
          1.3,
          1.6,
          1.9,
          1.4,
          1.6,
          1.4,
          1.5,
          1.4
         ]
        },
        {
         "hovertemplate": "species=versicolor<br>sepal_length=%{x}<br>sepal_width=%{y}<br>petal_length=%{z}<extra></extra>",
         "legendgroup": "versicolor",
         "marker": {
          "color": "#EF553B",
          "symbol": "circle"
         },
         "mode": "markers",
         "name": "versicolor",
         "scene": "scene",
         "showlegend": true,
         "type": "scatter3d",
         "x": [
          7,
          6.4,
          6.9,
          5.5,
          6.5,
          5.7,
          6.3,
          4.9,
          6.6,
          5.2,
          5,
          5.9,
          6,
          6.1,
          5.6,
          6.7,
          5.6,
          5.8,
          6.2,
          5.6,
          5.9,
          6.1,
          6.3,
          6.1,
          6.4,
          6.6,
          6.8,
          6.7,
          6,
          5.7,
          5.5,
          5.5,
          5.8,
          6,
          5.4,
          6,
          6.7,
          6.3,
          5.6,
          5.5,
          5.5,
          6.1,
          5.8,
          5,
          5.6,
          5.7,
          5.7,
          6.2,
          5.1,
          5.7
         ],
         "y": [
          3.2,
          3.2,
          3.1,
          2.3,
          2.8,
          2.8,
          3.3,
          2.4,
          2.9,
          2.7,
          2,
          3,
          2.2,
          2.9,
          2.9,
          3.1,
          3,
          2.7,
          2.2,
          2.5,
          3.2,
          2.8,
          2.5,
          2.8,
          2.9,
          3,
          2.8,
          3,
          2.9,
          2.6,
          2.4,
          2.4,
          2.7,
          2.7,
          3,
          3.4,
          3.1,
          2.3,
          3,
          2.5,
          2.6,
          3,
          2.6,
          2.3,
          2.7,
          3,
          2.9,
          2.9,
          2.5,
          2.8
         ],
         "z": [
          4.7,
          4.5,
          4.9,
          4,
          4.6,
          4.5,
          4.7,
          3.3,
          4.6,
          3.9,
          3.5,
          4.2,
          4,
          4.7,
          3.6,
          4.4,
          4.5,
          4.1,
          4.5,
          3.9,
          4.8,
          4,
          4.9,
          4.7,
          4.3,
          4.4,
          4.8,
          5,
          4.5,
          3.5,
          3.8,
          3.7,
          3.9,
          5.1,
          4.5,
          4.5,
          4.7,
          4.4,
          4.1,
          4,
          4.4,
          4.6,
          4,
          3.3,
          4.2,
          4.2,
          4.2,
          4.3,
          3,
          4.1
         ]
        },
        {
         "hovertemplate": "species=virginica<br>sepal_length=%{x}<br>sepal_width=%{y}<br>petal_length=%{z}<extra></extra>",
         "legendgroup": "virginica",
         "marker": {
          "color": "#00cc96",
          "symbol": "circle"
         },
         "mode": "markers",
         "name": "virginica",
         "scene": "scene",
         "showlegend": true,
         "type": "scatter3d",
         "x": [
          6.3,
          5.8,
          7.1,
          6.3,
          6.5,
          7.6,
          4.9,
          7.3,
          6.7,
          7.2,
          6.5,
          6.4,
          6.8,
          5.7,
          5.8,
          6.4,
          6.5,
          7.7,
          7.7,
          6,
          6.9,
          5.6,
          7.7,
          6.3,
          6.7,
          7.2,
          6.2,
          6.1,
          6.4,
          7.2,
          7.4,
          7.9,
          6.4,
          6.3,
          6.1,
          7.7,
          6.3,
          6.4,
          6,
          6.9,
          6.7,
          6.9,
          5.8,
          6.8,
          6.7,
          6.7,
          6.3,
          6.5,
          6.2,
          5.9
         ],
         "y": [
          3.3,
          2.7,
          3,
          2.9,
          3,
          3,
          2.5,
          2.9,
          2.5,
          3.6,
          3.2,
          2.7,
          3,
          2.5,
          2.8,
          3.2,
          3,
          3.8,
          2.6,
          2.2,
          3.2,
          2.8,
          2.8,
          2.7,
          3.3,
          3.2,
          2.8,
          3,
          2.8,
          3,
          2.8,
          3.8,
          2.8,
          2.8,
          2.6,
          3,
          3.4,
          3.1,
          3,
          3.1,
          3.1,
          3.1,
          2.7,
          3.2,
          3.3,
          3,
          2.5,
          3,
          3.4,
          3
         ],
         "z": [
          6,
          5.1,
          5.9,
          5.6,
          5.8,
          6.6,
          4.5,
          6.3,
          5.8,
          6.1,
          5.1,
          5.3,
          5.5,
          5,
          5.1,
          5.3,
          5.5,
          6.7,
          6.9,
          5,
          5.7,
          4.9,
          6.7,
          4.9,
          5.7,
          6,
          4.8,
          4.9,
          5.6,
          5.8,
          6.1,
          6.4,
          5.6,
          5.1,
          5.6,
          6.1,
          5.6,
          5.5,
          4.8,
          5.4,
          5.6,
          5.1,
          5.1,
          5.9,
          5.7,
          5.2,
          5,
          5.2,
          5.4,
          5.1
         ]
        }
       ],
       "layout": {
        "legend": {
         "title": {
          "text": "species"
         },
         "tracegroupgap": 0
        },
        "margin": {
         "t": 60
        },
        "scene": {
         "domain": {
          "x": [
           0,
           1
          ],
          "y": [
           0,
           1
          ]
         },
         "xaxis": {
          "title": {
           "text": "sepal_length"
          }
         },
         "yaxis": {
          "title": {
           "text": "sepal_width"
          }
         },
         "zaxis": {
          "title": {
           "text": "petal_length"
          }
         }
        },
        "template": {
         "data": {
          "bar": [
           {
            "error_x": {
             "color": "#2a3f5f"
            },
            "error_y": {
             "color": "#2a3f5f"
            },
            "marker": {
             "line": {
              "color": "#E5ECF6",
              "width": 0.5
             },
             "pattern": {
              "fillmode": "overlay",
              "size": 10,
              "solidity": 0.2
             }
            },
            "type": "bar"
           }
          ],
          "barpolar": [
           {
            "marker": {
             "line": {
              "color": "#E5ECF6",
              "width": 0.5
             },
             "pattern": {
              "fillmode": "overlay",
              "size": 10,
              "solidity": 0.2
             }
            },
            "type": "barpolar"
           }
          ],
          "carpet": [
           {
            "aaxis": {
             "endlinecolor": "#2a3f5f",
             "gridcolor": "white",
             "linecolor": "white",
             "minorgridcolor": "white",
             "startlinecolor": "#2a3f5f"
            },
            "baxis": {
             "endlinecolor": "#2a3f5f",
             "gridcolor": "white",
             "linecolor": "white",
             "minorgridcolor": "white",
             "startlinecolor": "#2a3f5f"
            },
            "type": "carpet"
           }
          ],
          "choropleth": [
           {
            "colorbar": {
             "outlinewidth": 0,
             "ticks": ""
            },
            "type": "choropleth"
           }
          ],
          "contour": [
           {
            "colorbar": {
             "outlinewidth": 0,
             "ticks": ""
            },
            "colorscale": [
             [
              0,
              "#0d0887"
             ],
             [
              0.1111111111111111,
              "#46039f"
             ],
             [
              0.2222222222222222,
              "#7201a8"
             ],
             [
              0.3333333333333333,
              "#9c179e"
             ],
             [
              0.4444444444444444,
              "#bd3786"
             ],
             [
              0.5555555555555556,
              "#d8576b"
             ],
             [
              0.6666666666666666,
              "#ed7953"
             ],
             [
              0.7777777777777778,
              "#fb9f3a"
             ],
             [
              0.8888888888888888,
              "#fdca26"
             ],
             [
              1,
              "#f0f921"
             ]
            ],
            "type": "contour"
           }
          ],
          "contourcarpet": [
           {
            "colorbar": {
             "outlinewidth": 0,
             "ticks": ""
            },
            "type": "contourcarpet"
           }
          ],
          "heatmap": [
           {
            "colorbar": {
             "outlinewidth": 0,
             "ticks": ""
            },
            "colorscale": [
             [
              0,
              "#0d0887"
             ],
             [
              0.1111111111111111,
              "#46039f"
             ],
             [
              0.2222222222222222,
              "#7201a8"
             ],
             [
              0.3333333333333333,
              "#9c179e"
             ],
             [
              0.4444444444444444,
              "#bd3786"
             ],
             [
              0.5555555555555556,
              "#d8576b"
             ],
             [
              0.6666666666666666,
              "#ed7953"
             ],
             [
              0.7777777777777778,
              "#fb9f3a"
             ],
             [
              0.8888888888888888,
              "#fdca26"
             ],
             [
              1,
              "#f0f921"
             ]
            ],
            "type": "heatmap"
           }
          ],
          "heatmapgl": [
           {
            "colorbar": {
             "outlinewidth": 0,
             "ticks": ""
            },
            "colorscale": [
             [
              0,
              "#0d0887"
             ],
             [
              0.1111111111111111,
              "#46039f"
             ],
             [
              0.2222222222222222,
              "#7201a8"
             ],
             [
              0.3333333333333333,
              "#9c179e"
             ],
             [
              0.4444444444444444,
              "#bd3786"
             ],
             [
              0.5555555555555556,
              "#d8576b"
             ],
             [
              0.6666666666666666,
              "#ed7953"
             ],
             [
              0.7777777777777778,
              "#fb9f3a"
             ],
             [
              0.8888888888888888,
              "#fdca26"
             ],
             [
              1,
              "#f0f921"
             ]
            ],
            "type": "heatmapgl"
           }
          ],
          "histogram": [
           {
            "marker": {
             "pattern": {
              "fillmode": "overlay",
              "size": 10,
              "solidity": 0.2
             }
            },
            "type": "histogram"
           }
          ],
          "histogram2d": [
           {
            "colorbar": {
             "outlinewidth": 0,
             "ticks": ""
            },
            "colorscale": [
             [
              0,
              "#0d0887"
             ],
             [
              0.1111111111111111,
              "#46039f"
             ],
             [
              0.2222222222222222,
              "#7201a8"
             ],
             [
              0.3333333333333333,
              "#9c179e"
             ],
             [
              0.4444444444444444,
              "#bd3786"
             ],
             [
              0.5555555555555556,
              "#d8576b"
             ],
             [
              0.6666666666666666,
              "#ed7953"
             ],
             [
              0.7777777777777778,
              "#fb9f3a"
             ],
             [
              0.8888888888888888,
              "#fdca26"
             ],
             [
              1,
              "#f0f921"
             ]
            ],
            "type": "histogram2d"
           }
          ],
          "histogram2dcontour": [
           {
            "colorbar": {
             "outlinewidth": 0,
             "ticks": ""
            },
            "colorscale": [
             [
              0,
              "#0d0887"
             ],
             [
              0.1111111111111111,
              "#46039f"
             ],
             [
              0.2222222222222222,
              "#7201a8"
             ],
             [
              0.3333333333333333,
              "#9c179e"
             ],
             [
              0.4444444444444444,
              "#bd3786"
             ],
             [
              0.5555555555555556,
              "#d8576b"
             ],
             [
              0.6666666666666666,
              "#ed7953"
             ],
             [
              0.7777777777777778,
              "#fb9f3a"
             ],
             [
              0.8888888888888888,
              "#fdca26"
             ],
             [
              1,
              "#f0f921"
             ]
            ],
            "type": "histogram2dcontour"
           }
          ],
          "mesh3d": [
           {
            "colorbar": {
             "outlinewidth": 0,
             "ticks": ""
            },
            "type": "mesh3d"
           }
          ],
          "parcoords": [
           {
            "line": {
             "colorbar": {
              "outlinewidth": 0,
              "ticks": ""
             }
            },
            "type": "parcoords"
           }
          ],
          "pie": [
           {
            "automargin": true,
            "type": "pie"
           }
          ],
          "scatter": [
           {
            "fillpattern": {
             "fillmode": "overlay",
             "size": 10,
             "solidity": 0.2
            },
            "type": "scatter"
           }
          ],
          "scatter3d": [
           {
            "line": {
             "colorbar": {
              "outlinewidth": 0,
              "ticks": ""
             }
            },
            "marker": {
             "colorbar": {
              "outlinewidth": 0,
              "ticks": ""
             }
            },
            "type": "scatter3d"
           }
          ],
          "scattercarpet": [
           {
            "marker": {
             "colorbar": {
              "outlinewidth": 0,
              "ticks": ""
             }
            },
            "type": "scattercarpet"
           }
          ],
          "scattergeo": [
           {
            "marker": {
             "colorbar": {
              "outlinewidth": 0,
              "ticks": ""
             }
            },
            "type": "scattergeo"
           }
          ],
          "scattergl": [
           {
            "marker": {
             "colorbar": {
              "outlinewidth": 0,
              "ticks": ""
             }
            },
            "type": "scattergl"
           }
          ],
          "scattermapbox": [
           {
            "marker": {
             "colorbar": {
              "outlinewidth": 0,
              "ticks": ""
             }
            },
            "type": "scattermapbox"
           }
          ],
          "scatterpolar": [
           {
            "marker": {
             "colorbar": {
              "outlinewidth": 0,
              "ticks": ""
             }
            },
            "type": "scatterpolar"
           }
          ],
          "scatterpolargl": [
           {
            "marker": {
             "colorbar": {
              "outlinewidth": 0,
              "ticks": ""
             }
            },
            "type": "scatterpolargl"
           }
          ],
          "scatterternary": [
           {
            "marker": {
             "colorbar": {
              "outlinewidth": 0,
              "ticks": ""
             }
            },
            "type": "scatterternary"
           }
          ],
          "surface": [
           {
            "colorbar": {
             "outlinewidth": 0,
             "ticks": ""
            },
            "colorscale": [
             [
              0,
              "#0d0887"
             ],
             [
              0.1111111111111111,
              "#46039f"
             ],
             [
              0.2222222222222222,
              "#7201a8"
             ],
             [
              0.3333333333333333,
              "#9c179e"
             ],
             [
              0.4444444444444444,
              "#bd3786"
             ],
             [
              0.5555555555555556,
              "#d8576b"
             ],
             [
              0.6666666666666666,
              "#ed7953"
             ],
             [
              0.7777777777777778,
              "#fb9f3a"
             ],
             [
              0.8888888888888888,
              "#fdca26"
             ],
             [
              1,
              "#f0f921"
             ]
            ],
            "type": "surface"
           }
          ],
          "table": [
           {
            "cells": {
             "fill": {
              "color": "#EBF0F8"
             },
             "line": {
              "color": "white"
             }
            },
            "header": {
             "fill": {
              "color": "#C8D4E3"
             },
             "line": {
              "color": "white"
             }
            },
            "type": "table"
           }
          ]
         },
         "layout": {
          "annotationdefaults": {
           "arrowcolor": "#2a3f5f",
           "arrowhead": 0,
           "arrowwidth": 1
          },
          "autotypenumbers": "strict",
          "coloraxis": {
           "colorbar": {
            "outlinewidth": 0,
            "ticks": ""
           }
          },
          "colorscale": {
           "diverging": [
            [
             0,
             "#8e0152"
            ],
            [
             0.1,
             "#c51b7d"
            ],
            [
             0.2,
             "#de77ae"
            ],
            [
             0.3,
             "#f1b6da"
            ],
            [
             0.4,
             "#fde0ef"
            ],
            [
             0.5,
             "#f7f7f7"
            ],
            [
             0.6,
             "#e6f5d0"
            ],
            [
             0.7,
             "#b8e186"
            ],
            [
             0.8,
             "#7fbc41"
            ],
            [
             0.9,
             "#4d9221"
            ],
            [
             1,
             "#276419"
            ]
           ],
           "sequential": [
            [
             0,
             "#0d0887"
            ],
            [
             0.1111111111111111,
             "#46039f"
            ],
            [
             0.2222222222222222,
             "#7201a8"
            ],
            [
             0.3333333333333333,
             "#9c179e"
            ],
            [
             0.4444444444444444,
             "#bd3786"
            ],
            [
             0.5555555555555556,
             "#d8576b"
            ],
            [
             0.6666666666666666,
             "#ed7953"
            ],
            [
             0.7777777777777778,
             "#fb9f3a"
            ],
            [
             0.8888888888888888,
             "#fdca26"
            ],
            [
             1,
             "#f0f921"
            ]
           ],
           "sequentialminus": [
            [
             0,
             "#0d0887"
            ],
            [
             0.1111111111111111,
             "#46039f"
            ],
            [
             0.2222222222222222,
             "#7201a8"
            ],
            [
             0.3333333333333333,
             "#9c179e"
            ],
            [
             0.4444444444444444,
             "#bd3786"
            ],
            [
             0.5555555555555556,
             "#d8576b"
            ],
            [
             0.6666666666666666,
             "#ed7953"
            ],
            [
             0.7777777777777778,
             "#fb9f3a"
            ],
            [
             0.8888888888888888,
             "#fdca26"
            ],
            [
             1,
             "#f0f921"
            ]
           ]
          },
          "colorway": [
           "#636efa",
           "#EF553B",
           "#00cc96",
           "#ab63fa",
           "#FFA15A",
           "#19d3f3",
           "#FF6692",
           "#B6E880",
           "#FF97FF",
           "#FECB52"
          ],
          "font": {
           "color": "#2a3f5f"
          },
          "geo": {
           "bgcolor": "white",
           "lakecolor": "white",
           "landcolor": "#E5ECF6",
           "showlakes": true,
           "showland": true,
           "subunitcolor": "white"
          },
          "hoverlabel": {
           "align": "left"
          },
          "hovermode": "closest",
          "mapbox": {
           "style": "light"
          },
          "paper_bgcolor": "white",
          "plot_bgcolor": "#E5ECF6",
          "polar": {
           "angularaxis": {
            "gridcolor": "white",
            "linecolor": "white",
            "ticks": ""
           },
           "bgcolor": "#E5ECF6",
           "radialaxis": {
            "gridcolor": "white",
            "linecolor": "white",
            "ticks": ""
           }
          },
          "scene": {
           "xaxis": {
            "backgroundcolor": "#E5ECF6",
            "gridcolor": "white",
            "gridwidth": 2,
            "linecolor": "white",
            "showbackground": true,
            "ticks": "",
            "zerolinecolor": "white"
           },
           "yaxis": {
            "backgroundcolor": "#E5ECF6",
            "gridcolor": "white",
            "gridwidth": 2,
            "linecolor": "white",
            "showbackground": true,
            "ticks": "",
            "zerolinecolor": "white"
           },
           "zaxis": {
            "backgroundcolor": "#E5ECF6",
            "gridcolor": "white",
            "gridwidth": 2,
            "linecolor": "white",
            "showbackground": true,
            "ticks": "",
            "zerolinecolor": "white"
           }
          },
          "shapedefaults": {
           "line": {
            "color": "#2a3f5f"
           }
          },
          "ternary": {
           "aaxis": {
            "gridcolor": "white",
            "linecolor": "white",
            "ticks": ""
           },
           "baxis": {
            "gridcolor": "white",
            "linecolor": "white",
            "ticks": ""
           },
           "bgcolor": "#E5ECF6",
           "caxis": {
            "gridcolor": "white",
            "linecolor": "white",
            "ticks": ""
           }
          },
          "title": {
           "x": 0.05
          },
          "xaxis": {
           "automargin": true,
           "gridcolor": "white",
           "linecolor": "white",
           "ticks": "",
           "title": {
            "standoff": 15
           },
           "zerolinecolor": "white",
           "zerolinewidth": 2
          },
          "yaxis": {
           "automargin": true,
           "gridcolor": "white",
           "linecolor": "white",
           "ticks": "",
           "title": {
            "standoff": 15
           },
           "zerolinecolor": "white",
           "zerolinewidth": 2
          }
         }
        },
        "title": {
         "text": "Розподіл даних Iris в 3D",
         "x": 0.5
        }
       }
      },
      "text/html": [
       "<div>                            <div id=\"0100de79-496b-49f6-8c6f-83186bfbd3ef\" class=\"plotly-graph-div\" style=\"height:525px; width:100%;\"></div>            <script type=\"text/javascript\">                require([\"plotly\"], function(Plotly) {                    window.PLOTLYENV=window.PLOTLYENV || {};                                    if (document.getElementById(\"0100de79-496b-49f6-8c6f-83186bfbd3ef\")) {                    Plotly.newPlot(                        \"0100de79-496b-49f6-8c6f-83186bfbd3ef\",                        [{\"hovertemplate\":\"species=setosa<br>sepal_length=%{x}<br>sepal_width=%{y}<br>petal_length=%{z}<extra></extra>\",\"legendgroup\":\"setosa\",\"marker\":{\"color\":\"#636efa\",\"symbol\":\"circle\"},\"mode\":\"markers\",\"name\":\"setosa\",\"scene\":\"scene\",\"showlegend\":true,\"x\":[5.1,4.9,4.7,4.6,5.0,5.4,4.6,5.0,4.4,4.9,5.4,4.8,4.8,4.3,5.8,5.7,5.4,5.1,5.7,5.1,5.4,5.1,4.6,5.1,4.8,5.0,5.0,5.2,5.2,4.7,4.8,5.4,5.2,5.5,4.9,5.0,5.5,4.9,4.4,5.1,5.0,4.5,4.4,5.0,5.1,4.8,5.1,4.6,5.3,5.0],\"y\":[3.5,3.0,3.2,3.1,3.6,3.9,3.4,3.4,2.9,3.1,3.7,3.4,3.0,3.0,4.0,4.4,3.9,3.5,3.8,3.8,3.4,3.7,3.6,3.3,3.4,3.0,3.4,3.5,3.4,3.2,3.1,3.4,4.1,4.2,3.1,3.2,3.5,3.1,3.0,3.4,3.5,2.3,3.2,3.5,3.8,3.0,3.8,3.2,3.7,3.3],\"z\":[1.4,1.4,1.3,1.5,1.4,1.7,1.4,1.5,1.4,1.5,1.5,1.6,1.4,1.1,1.2,1.5,1.3,1.4,1.7,1.5,1.7,1.5,1.0,1.7,1.9,1.6,1.6,1.5,1.4,1.6,1.6,1.5,1.5,1.4,1.5,1.2,1.3,1.5,1.3,1.5,1.3,1.3,1.3,1.6,1.9,1.4,1.6,1.4,1.5,1.4],\"type\":\"scatter3d\"},{\"hovertemplate\":\"species=versicolor<br>sepal_length=%{x}<br>sepal_width=%{y}<br>petal_length=%{z}<extra></extra>\",\"legendgroup\":\"versicolor\",\"marker\":{\"color\":\"#EF553B\",\"symbol\":\"circle\"},\"mode\":\"markers\",\"name\":\"versicolor\",\"scene\":\"scene\",\"showlegend\":true,\"x\":[7.0,6.4,6.9,5.5,6.5,5.7,6.3,4.9,6.6,5.2,5.0,5.9,6.0,6.1,5.6,6.7,5.6,5.8,6.2,5.6,5.9,6.1,6.3,6.1,6.4,6.6,6.8,6.7,6.0,5.7,5.5,5.5,5.8,6.0,5.4,6.0,6.7,6.3,5.6,5.5,5.5,6.1,5.8,5.0,5.6,5.7,5.7,6.2,5.1,5.7],\"y\":[3.2,3.2,3.1,2.3,2.8,2.8,3.3,2.4,2.9,2.7,2.0,3.0,2.2,2.9,2.9,3.1,3.0,2.7,2.2,2.5,3.2,2.8,2.5,2.8,2.9,3.0,2.8,3.0,2.9,2.6,2.4,2.4,2.7,2.7,3.0,3.4,3.1,2.3,3.0,2.5,2.6,3.0,2.6,2.3,2.7,3.0,2.9,2.9,2.5,2.8],\"z\":[4.7,4.5,4.9,4.0,4.6,4.5,4.7,3.3,4.6,3.9,3.5,4.2,4.0,4.7,3.6,4.4,4.5,4.1,4.5,3.9,4.8,4.0,4.9,4.7,4.3,4.4,4.8,5.0,4.5,3.5,3.8,3.7,3.9,5.1,4.5,4.5,4.7,4.4,4.1,4.0,4.4,4.6,4.0,3.3,4.2,4.2,4.2,4.3,3.0,4.1],\"type\":\"scatter3d\"},{\"hovertemplate\":\"species=virginica<br>sepal_length=%{x}<br>sepal_width=%{y}<br>petal_length=%{z}<extra></extra>\",\"legendgroup\":\"virginica\",\"marker\":{\"color\":\"#00cc96\",\"symbol\":\"circle\"},\"mode\":\"markers\",\"name\":\"virginica\",\"scene\":\"scene\",\"showlegend\":true,\"x\":[6.3,5.8,7.1,6.3,6.5,7.6,4.9,7.3,6.7,7.2,6.5,6.4,6.8,5.7,5.8,6.4,6.5,7.7,7.7,6.0,6.9,5.6,7.7,6.3,6.7,7.2,6.2,6.1,6.4,7.2,7.4,7.9,6.4,6.3,6.1,7.7,6.3,6.4,6.0,6.9,6.7,6.9,5.8,6.8,6.7,6.7,6.3,6.5,6.2,5.9],\"y\":[3.3,2.7,3.0,2.9,3.0,3.0,2.5,2.9,2.5,3.6,3.2,2.7,3.0,2.5,2.8,3.2,3.0,3.8,2.6,2.2,3.2,2.8,2.8,2.7,3.3,3.2,2.8,3.0,2.8,3.0,2.8,3.8,2.8,2.8,2.6,3.0,3.4,3.1,3.0,3.1,3.1,3.1,2.7,3.2,3.3,3.0,2.5,3.0,3.4,3.0],\"z\":[6.0,5.1,5.9,5.6,5.8,6.6,4.5,6.3,5.8,6.1,5.1,5.3,5.5,5.0,5.1,5.3,5.5,6.7,6.9,5.0,5.7,4.9,6.7,4.9,5.7,6.0,4.8,4.9,5.6,5.8,6.1,6.4,5.6,5.1,5.6,6.1,5.6,5.5,4.8,5.4,5.6,5.1,5.1,5.9,5.7,5.2,5.0,5.2,5.4,5.1],\"type\":\"scatter3d\"}],                        {\"template\":{\"data\":{\"histogram2dcontour\":[{\"type\":\"histogram2dcontour\",\"colorbar\":{\"outlinewidth\":0,\"ticks\":\"\"},\"colorscale\":[[0.0,\"#0d0887\"],[0.1111111111111111,\"#46039f\"],[0.2222222222222222,\"#7201a8\"],[0.3333333333333333,\"#9c179e\"],[0.4444444444444444,\"#bd3786\"],[0.5555555555555556,\"#d8576b\"],[0.6666666666666666,\"#ed7953\"],[0.7777777777777778,\"#fb9f3a\"],[0.8888888888888888,\"#fdca26\"],[1.0,\"#f0f921\"]]}],\"choropleth\":[{\"type\":\"choropleth\",\"colorbar\":{\"outlinewidth\":0,\"ticks\":\"\"}}],\"histogram2d\":[{\"type\":\"histogram2d\",\"colorbar\":{\"outlinewidth\":0,\"ticks\":\"\"},\"colorscale\":[[0.0,\"#0d0887\"],[0.1111111111111111,\"#46039f\"],[0.2222222222222222,\"#7201a8\"],[0.3333333333333333,\"#9c179e\"],[0.4444444444444444,\"#bd3786\"],[0.5555555555555556,\"#d8576b\"],[0.6666666666666666,\"#ed7953\"],[0.7777777777777778,\"#fb9f3a\"],[0.8888888888888888,\"#fdca26\"],[1.0,\"#f0f921\"]]}],\"heatmap\":[{\"type\":\"heatmap\",\"colorbar\":{\"outlinewidth\":0,\"ticks\":\"\"},\"colorscale\":[[0.0,\"#0d0887\"],[0.1111111111111111,\"#46039f\"],[0.2222222222222222,\"#7201a8\"],[0.3333333333333333,\"#9c179e\"],[0.4444444444444444,\"#bd3786\"],[0.5555555555555556,\"#d8576b\"],[0.6666666666666666,\"#ed7953\"],[0.7777777777777778,\"#fb9f3a\"],[0.8888888888888888,\"#fdca26\"],[1.0,\"#f0f921\"]]}],\"heatmapgl\":[{\"type\":\"heatmapgl\",\"colorbar\":{\"outlinewidth\":0,\"ticks\":\"\"},\"colorscale\":[[0.0,\"#0d0887\"],[0.1111111111111111,\"#46039f\"],[0.2222222222222222,\"#7201a8\"],[0.3333333333333333,\"#9c179e\"],[0.4444444444444444,\"#bd3786\"],[0.5555555555555556,\"#d8576b\"],[0.6666666666666666,\"#ed7953\"],[0.7777777777777778,\"#fb9f3a\"],[0.8888888888888888,\"#fdca26\"],[1.0,\"#f0f921\"]]}],\"contourcarpet\":[{\"type\":\"contourcarpet\",\"colorbar\":{\"outlinewidth\":0,\"ticks\":\"\"}}],\"contour\":[{\"type\":\"contour\",\"colorbar\":{\"outlinewidth\":0,\"ticks\":\"\"},\"colorscale\":[[0.0,\"#0d0887\"],[0.1111111111111111,\"#46039f\"],[0.2222222222222222,\"#7201a8\"],[0.3333333333333333,\"#9c179e\"],[0.4444444444444444,\"#bd3786\"],[0.5555555555555556,\"#d8576b\"],[0.6666666666666666,\"#ed7953\"],[0.7777777777777778,\"#fb9f3a\"],[0.8888888888888888,\"#fdca26\"],[1.0,\"#f0f921\"]]}],\"surface\":[{\"type\":\"surface\",\"colorbar\":{\"outlinewidth\":0,\"ticks\":\"\"},\"colorscale\":[[0.0,\"#0d0887\"],[0.1111111111111111,\"#46039f\"],[0.2222222222222222,\"#7201a8\"],[0.3333333333333333,\"#9c179e\"],[0.4444444444444444,\"#bd3786\"],[0.5555555555555556,\"#d8576b\"],[0.6666666666666666,\"#ed7953\"],[0.7777777777777778,\"#fb9f3a\"],[0.8888888888888888,\"#fdca26\"],[1.0,\"#f0f921\"]]}],\"mesh3d\":[{\"type\":\"mesh3d\",\"colorbar\":{\"outlinewidth\":0,\"ticks\":\"\"}}],\"scatter\":[{\"fillpattern\":{\"fillmode\":\"overlay\",\"size\":10,\"solidity\":0.2},\"type\":\"scatter\"}],\"parcoords\":[{\"type\":\"parcoords\",\"line\":{\"colorbar\":{\"outlinewidth\":0,\"ticks\":\"\"}}}],\"scatterpolargl\":[{\"type\":\"scatterpolargl\",\"marker\":{\"colorbar\":{\"outlinewidth\":0,\"ticks\":\"\"}}}],\"bar\":[{\"error_x\":{\"color\":\"#2a3f5f\"},\"error_y\":{\"color\":\"#2a3f5f\"},\"marker\":{\"line\":{\"color\":\"#E5ECF6\",\"width\":0.5},\"pattern\":{\"fillmode\":\"overlay\",\"size\":10,\"solidity\":0.2}},\"type\":\"bar\"}],\"scattergeo\":[{\"type\":\"scattergeo\",\"marker\":{\"colorbar\":{\"outlinewidth\":0,\"ticks\":\"\"}}}],\"scatterpolar\":[{\"type\":\"scatterpolar\",\"marker\":{\"colorbar\":{\"outlinewidth\":0,\"ticks\":\"\"}}}],\"histogram\":[{\"marker\":{\"pattern\":{\"fillmode\":\"overlay\",\"size\":10,\"solidity\":0.2}},\"type\":\"histogram\"}],\"scattergl\":[{\"type\":\"scattergl\",\"marker\":{\"colorbar\":{\"outlinewidth\":0,\"ticks\":\"\"}}}],\"scatter3d\":[{\"type\":\"scatter3d\",\"line\":{\"colorbar\":{\"outlinewidth\":0,\"ticks\":\"\"}},\"marker\":{\"colorbar\":{\"outlinewidth\":0,\"ticks\":\"\"}}}],\"scattermapbox\":[{\"type\":\"scattermapbox\",\"marker\":{\"colorbar\":{\"outlinewidth\":0,\"ticks\":\"\"}}}],\"scatterternary\":[{\"type\":\"scatterternary\",\"marker\":{\"colorbar\":{\"outlinewidth\":0,\"ticks\":\"\"}}}],\"scattercarpet\":[{\"type\":\"scattercarpet\",\"marker\":{\"colorbar\":{\"outlinewidth\":0,\"ticks\":\"\"}}}],\"carpet\":[{\"aaxis\":{\"endlinecolor\":\"#2a3f5f\",\"gridcolor\":\"white\",\"linecolor\":\"white\",\"minorgridcolor\":\"white\",\"startlinecolor\":\"#2a3f5f\"},\"baxis\":{\"endlinecolor\":\"#2a3f5f\",\"gridcolor\":\"white\",\"linecolor\":\"white\",\"minorgridcolor\":\"white\",\"startlinecolor\":\"#2a3f5f\"},\"type\":\"carpet\"}],\"table\":[{\"cells\":{\"fill\":{\"color\":\"#EBF0F8\"},\"line\":{\"color\":\"white\"}},\"header\":{\"fill\":{\"color\":\"#C8D4E3\"},\"line\":{\"color\":\"white\"}},\"type\":\"table\"}],\"barpolar\":[{\"marker\":{\"line\":{\"color\":\"#E5ECF6\",\"width\":0.5},\"pattern\":{\"fillmode\":\"overlay\",\"size\":10,\"solidity\":0.2}},\"type\":\"barpolar\"}],\"pie\":[{\"automargin\":true,\"type\":\"pie\"}]},\"layout\":{\"autotypenumbers\":\"strict\",\"colorway\":[\"#636efa\",\"#EF553B\",\"#00cc96\",\"#ab63fa\",\"#FFA15A\",\"#19d3f3\",\"#FF6692\",\"#B6E880\",\"#FF97FF\",\"#FECB52\"],\"font\":{\"color\":\"#2a3f5f\"},\"hovermode\":\"closest\",\"hoverlabel\":{\"align\":\"left\"},\"paper_bgcolor\":\"white\",\"plot_bgcolor\":\"#E5ECF6\",\"polar\":{\"bgcolor\":\"#E5ECF6\",\"angularaxis\":{\"gridcolor\":\"white\",\"linecolor\":\"white\",\"ticks\":\"\"},\"radialaxis\":{\"gridcolor\":\"white\",\"linecolor\":\"white\",\"ticks\":\"\"}},\"ternary\":{\"bgcolor\":\"#E5ECF6\",\"aaxis\":{\"gridcolor\":\"white\",\"linecolor\":\"white\",\"ticks\":\"\"},\"baxis\":{\"gridcolor\":\"white\",\"linecolor\":\"white\",\"ticks\":\"\"},\"caxis\":{\"gridcolor\":\"white\",\"linecolor\":\"white\",\"ticks\":\"\"}},\"coloraxis\":{\"colorbar\":{\"outlinewidth\":0,\"ticks\":\"\"}},\"colorscale\":{\"sequential\":[[0.0,\"#0d0887\"],[0.1111111111111111,\"#46039f\"],[0.2222222222222222,\"#7201a8\"],[0.3333333333333333,\"#9c179e\"],[0.4444444444444444,\"#bd3786\"],[0.5555555555555556,\"#d8576b\"],[0.6666666666666666,\"#ed7953\"],[0.7777777777777778,\"#fb9f3a\"],[0.8888888888888888,\"#fdca26\"],[1.0,\"#f0f921\"]],\"sequentialminus\":[[0.0,\"#0d0887\"],[0.1111111111111111,\"#46039f\"],[0.2222222222222222,\"#7201a8\"],[0.3333333333333333,\"#9c179e\"],[0.4444444444444444,\"#bd3786\"],[0.5555555555555556,\"#d8576b\"],[0.6666666666666666,\"#ed7953\"],[0.7777777777777778,\"#fb9f3a\"],[0.8888888888888888,\"#fdca26\"],[1.0,\"#f0f921\"]],\"diverging\":[[0,\"#8e0152\"],[0.1,\"#c51b7d\"],[0.2,\"#de77ae\"],[0.3,\"#f1b6da\"],[0.4,\"#fde0ef\"],[0.5,\"#f7f7f7\"],[0.6,\"#e6f5d0\"],[0.7,\"#b8e186\"],[0.8,\"#7fbc41\"],[0.9,\"#4d9221\"],[1,\"#276419\"]]},\"xaxis\":{\"gridcolor\":\"white\",\"linecolor\":\"white\",\"ticks\":\"\",\"title\":{\"standoff\":15},\"zerolinecolor\":\"white\",\"automargin\":true,\"zerolinewidth\":2},\"yaxis\":{\"gridcolor\":\"white\",\"linecolor\":\"white\",\"ticks\":\"\",\"title\":{\"standoff\":15},\"zerolinecolor\":\"white\",\"automargin\":true,\"zerolinewidth\":2},\"scene\":{\"xaxis\":{\"backgroundcolor\":\"#E5ECF6\",\"gridcolor\":\"white\",\"linecolor\":\"white\",\"showbackground\":true,\"ticks\":\"\",\"zerolinecolor\":\"white\",\"gridwidth\":2},\"yaxis\":{\"backgroundcolor\":\"#E5ECF6\",\"gridcolor\":\"white\",\"linecolor\":\"white\",\"showbackground\":true,\"ticks\":\"\",\"zerolinecolor\":\"white\",\"gridwidth\":2},\"zaxis\":{\"backgroundcolor\":\"#E5ECF6\",\"gridcolor\":\"white\",\"linecolor\":\"white\",\"showbackground\":true,\"ticks\":\"\",\"zerolinecolor\":\"white\",\"gridwidth\":2}},\"shapedefaults\":{\"line\":{\"color\":\"#2a3f5f\"}},\"annotationdefaults\":{\"arrowcolor\":\"#2a3f5f\",\"arrowhead\":0,\"arrowwidth\":1},\"geo\":{\"bgcolor\":\"white\",\"landcolor\":\"#E5ECF6\",\"subunitcolor\":\"white\",\"showland\":true,\"showlakes\":true,\"lakecolor\":\"white\"},\"title\":{\"x\":0.05},\"mapbox\":{\"style\":\"light\"}}},\"scene\":{\"domain\":{\"x\":[0.0,1.0],\"y\":[0.0,1.0]},\"xaxis\":{\"title\":{\"text\":\"sepal_length\"}},\"yaxis\":{\"title\":{\"text\":\"sepal_width\"}},\"zaxis\":{\"title\":{\"text\":\"petal_length\"}}},\"legend\":{\"title\":{\"text\":\"species\"},\"tracegroupgap\":0},\"margin\":{\"t\":60},\"title\":{\"text\":\"\\u0420\\u043e\\u0437\\u043f\\u043e\\u0434\\u0456\\u043b \\u0434\\u0430\\u043d\\u0438\\u0445 Iris \\u0432 3D\",\"x\":0.5}},                        {\"responsive\": true}                    ).then(function(){\n",
       "                            \n",
       "var gd = document.getElementById('0100de79-496b-49f6-8c6f-83186bfbd3ef');\n",
       "var x = new MutationObserver(function (mutations, observer) {{\n",
       "        var display = window.getComputedStyle(gd).display;\n",
       "        if (!display || display === 'none') {{\n",
       "            console.log([gd, 'removed!']);\n",
       "            Plotly.purge(gd);\n",
       "            observer.disconnect();\n",
       "        }}\n",
       "}});\n",
       "\n",
       "// Listen for the removal of the full notebook cells\n",
       "var notebookContainer = gd.closest('#notebook-container');\n",
       "if (notebookContainer) {{\n",
       "    x.observe(notebookContainer, {childList: true});\n",
       "}}\n",
       "\n",
       "// Listen for the clearing of the current output cell\n",
       "var outputEl = gd.closest('.output');\n",
       "if (outputEl) {{\n",
       "    x.observe(outputEl, {childList: true});\n",
       "}}\n",
       "\n",
       "                        })                };                });            </script>        </div>"
      ]
     },
     "metadata": {},
     "output_type": "display_data"
    }
   ],
   "source": [
    "# Завантаження даних Iris\n",
    "df = px.data.iris()\n",
    "\n",
    "# Побудова 3D-графіку\n",
    "fig = px.scatter_3d(df, x='sepal_length', y='sepal_width', z='petal_length', color='species')\n",
    "\n",
    "# Налаштування заголовка та інших параметрів\n",
    "fig.update_layout(\n",
    "    title='Розподіл даних Iris в 3D',\n",
    "    title_x=0.5,\n",
    "    scene=dict(\n",
    "        xaxis_title='sepal_length',\n",
    "        yaxis_title='sepal_width',\n",
    "        zaxis_title='petal_length'\n",
    "    )\n",
    ")\n",
    "\n",
    "# Відображення графіку\n",
    "fig.show()\n"
   ]
  },
  {
   "cell_type": "markdown",
   "id": "d0217791",
   "metadata": {},
   "source": [
    "Завдання 2 \n",
    "\n",
    "Горизонтальна гістограму для розподілу значень \"petal_width\""
   ]
  },
  {
   "cell_type": "code",
   "execution_count": 21,
   "id": "162f542c",
   "metadata": {},
   "outputs": [
    {
     "data": {
      "application/vnd.plotly.v1+json": {
       "config": {
        "plotlyServerURL": "https://plot.ly"
       },
       "data": [
        {
         "alignmentgroup": "True",
         "bingroup": "x",
         "hovertemplate": "species=setosa<br>petal_width=%{x}<br>count=%{y}<extra></extra>",
         "legendgroup": "setosa",
         "marker": {
          "color": "#636efa",
          "opacity": 0.5,
          "pattern": {
           "shape": ""
          }
         },
         "name": "setosa",
         "offsetgroup": "setosa",
         "orientation": "v",
         "showlegend": true,
         "type": "histogram",
         "x": [
          0.2,
          0.2,
          0.2,
          0.2,
          0.2,
          0.4,
          0.3,
          0.2,
          0.2,
          0.1,
          0.2,
          0.2,
          0.1,
          0.1,
          0.2,
          0.4,
          0.4,
          0.3,
          0.3,
          0.3,
          0.2,
          0.4,
          0.2,
          0.5,
          0.2,
          0.2,
          0.4,
          0.2,
          0.2,
          0.2,
          0.2,
          0.4,
          0.1,
          0.2,
          0.1,
          0.2,
          0.2,
          0.1,
          0.2,
          0.2,
          0.3,
          0.3,
          0.2,
          0.6,
          0.4,
          0.3,
          0.2,
          0.2,
          0.2,
          0.2
         ],
         "xaxis": "x",
         "yaxis": "y"
        },
        {
         "alignmentgroup": "True",
         "bingroup": "x",
         "hovertemplate": "species=versicolor<br>petal_width=%{x}<br>count=%{y}<extra></extra>",
         "legendgroup": "versicolor",
         "marker": {
          "color": "#EF553B",
          "opacity": 0.5,
          "pattern": {
           "shape": ""
          }
         },
         "name": "versicolor",
         "offsetgroup": "versicolor",
         "orientation": "v",
         "showlegend": true,
         "type": "histogram",
         "x": [
          1.4,
          1.5,
          1.5,
          1.3,
          1.5,
          1.3,
          1.6,
          1,
          1.3,
          1.4,
          1,
          1.5,
          1,
          1.4,
          1.3,
          1.4,
          1.5,
          1,
          1.5,
          1.1,
          1.8,
          1.3,
          1.5,
          1.2,
          1.3,
          1.4,
          1.4,
          1.7,
          1.5,
          1,
          1.1,
          1,
          1.2,
          1.6,
          1.5,
          1.6,
          1.5,
          1.3,
          1.3,
          1.3,
          1.2,
          1.4,
          1.2,
          1,
          1.3,
          1.2,
          1.3,
          1.3,
          1.1,
          1.3
         ],
         "xaxis": "x",
         "yaxis": "y"
        },
        {
         "alignmentgroup": "True",
         "bingroup": "x",
         "hovertemplate": "species=virginica<br>petal_width=%{x}<br>count=%{y}<extra></extra>",
         "legendgroup": "virginica",
         "marker": {
          "color": "#00cc96",
          "opacity": 0.5,
          "pattern": {
           "shape": ""
          }
         },
         "name": "virginica",
         "offsetgroup": "virginica",
         "orientation": "v",
         "showlegend": true,
         "type": "histogram",
         "x": [
          2.5,
          1.9,
          2.1,
          1.8,
          2.2,
          2.1,
          1.7,
          1.8,
          1.8,
          2.5,
          2,
          1.9,
          2.1,
          2,
          2.4,
          2.3,
          1.8,
          2.2,
          2.3,
          1.5,
          2.3,
          2,
          2,
          1.8,
          2.1,
          1.8,
          1.8,
          1.8,
          2.1,
          1.6,
          1.9,
          2,
          2.2,
          1.5,
          1.4,
          2.3,
          2.4,
          1.8,
          1.8,
          2.1,
          2.4,
          2.3,
          1.9,
          2.3,
          2.5,
          2.3,
          1.9,
          2,
          2.3,
          1.8
         ],
         "xaxis": "x",
         "yaxis": "y"
        }
       ],
       "layout": {
        "barmode": "overlay",
        "legend": {
         "title": {
          "text": "species"
         },
         "tracegroupgap": 0
        },
        "margin": {
         "t": 60
        },
        "template": {
         "data": {
          "bar": [
           {
            "error_x": {
             "color": "#2a3f5f"
            },
            "error_y": {
             "color": "#2a3f5f"
            },
            "marker": {
             "line": {
              "color": "#E5ECF6",
              "width": 0.5
             },
             "pattern": {
              "fillmode": "overlay",
              "size": 10,
              "solidity": 0.2
             }
            },
            "type": "bar"
           }
          ],
          "barpolar": [
           {
            "marker": {
             "line": {
              "color": "#E5ECF6",
              "width": 0.5
             },
             "pattern": {
              "fillmode": "overlay",
              "size": 10,
              "solidity": 0.2
             }
            },
            "type": "barpolar"
           }
          ],
          "carpet": [
           {
            "aaxis": {
             "endlinecolor": "#2a3f5f",
             "gridcolor": "white",
             "linecolor": "white",
             "minorgridcolor": "white",
             "startlinecolor": "#2a3f5f"
            },
            "baxis": {
             "endlinecolor": "#2a3f5f",
             "gridcolor": "white",
             "linecolor": "white",
             "minorgridcolor": "white",
             "startlinecolor": "#2a3f5f"
            },
            "type": "carpet"
           }
          ],
          "choropleth": [
           {
            "colorbar": {
             "outlinewidth": 0,
             "ticks": ""
            },
            "type": "choropleth"
           }
          ],
          "contour": [
           {
            "colorbar": {
             "outlinewidth": 0,
             "ticks": ""
            },
            "colorscale": [
             [
              0,
              "#0d0887"
             ],
             [
              0.1111111111111111,
              "#46039f"
             ],
             [
              0.2222222222222222,
              "#7201a8"
             ],
             [
              0.3333333333333333,
              "#9c179e"
             ],
             [
              0.4444444444444444,
              "#bd3786"
             ],
             [
              0.5555555555555556,
              "#d8576b"
             ],
             [
              0.6666666666666666,
              "#ed7953"
             ],
             [
              0.7777777777777778,
              "#fb9f3a"
             ],
             [
              0.8888888888888888,
              "#fdca26"
             ],
             [
              1,
              "#f0f921"
             ]
            ],
            "type": "contour"
           }
          ],
          "contourcarpet": [
           {
            "colorbar": {
             "outlinewidth": 0,
             "ticks": ""
            },
            "type": "contourcarpet"
           }
          ],
          "heatmap": [
           {
            "colorbar": {
             "outlinewidth": 0,
             "ticks": ""
            },
            "colorscale": [
             [
              0,
              "#0d0887"
             ],
             [
              0.1111111111111111,
              "#46039f"
             ],
             [
              0.2222222222222222,
              "#7201a8"
             ],
             [
              0.3333333333333333,
              "#9c179e"
             ],
             [
              0.4444444444444444,
              "#bd3786"
             ],
             [
              0.5555555555555556,
              "#d8576b"
             ],
             [
              0.6666666666666666,
              "#ed7953"
             ],
             [
              0.7777777777777778,
              "#fb9f3a"
             ],
             [
              0.8888888888888888,
              "#fdca26"
             ],
             [
              1,
              "#f0f921"
             ]
            ],
            "type": "heatmap"
           }
          ],
          "heatmapgl": [
           {
            "colorbar": {
             "outlinewidth": 0,
             "ticks": ""
            },
            "colorscale": [
             [
              0,
              "#0d0887"
             ],
             [
              0.1111111111111111,
              "#46039f"
             ],
             [
              0.2222222222222222,
              "#7201a8"
             ],
             [
              0.3333333333333333,
              "#9c179e"
             ],
             [
              0.4444444444444444,
              "#bd3786"
             ],
             [
              0.5555555555555556,
              "#d8576b"
             ],
             [
              0.6666666666666666,
              "#ed7953"
             ],
             [
              0.7777777777777778,
              "#fb9f3a"
             ],
             [
              0.8888888888888888,
              "#fdca26"
             ],
             [
              1,
              "#f0f921"
             ]
            ],
            "type": "heatmapgl"
           }
          ],
          "histogram": [
           {
            "marker": {
             "pattern": {
              "fillmode": "overlay",
              "size": 10,
              "solidity": 0.2
             }
            },
            "type": "histogram"
           }
          ],
          "histogram2d": [
           {
            "colorbar": {
             "outlinewidth": 0,
             "ticks": ""
            },
            "colorscale": [
             [
              0,
              "#0d0887"
             ],
             [
              0.1111111111111111,
              "#46039f"
             ],
             [
              0.2222222222222222,
              "#7201a8"
             ],
             [
              0.3333333333333333,
              "#9c179e"
             ],
             [
              0.4444444444444444,
              "#bd3786"
             ],
             [
              0.5555555555555556,
              "#d8576b"
             ],
             [
              0.6666666666666666,
              "#ed7953"
             ],
             [
              0.7777777777777778,
              "#fb9f3a"
             ],
             [
              0.8888888888888888,
              "#fdca26"
             ],
             [
              1,
              "#f0f921"
             ]
            ],
            "type": "histogram2d"
           }
          ],
          "histogram2dcontour": [
           {
            "colorbar": {
             "outlinewidth": 0,
             "ticks": ""
            },
            "colorscale": [
             [
              0,
              "#0d0887"
             ],
             [
              0.1111111111111111,
              "#46039f"
             ],
             [
              0.2222222222222222,
              "#7201a8"
             ],
             [
              0.3333333333333333,
              "#9c179e"
             ],
             [
              0.4444444444444444,
              "#bd3786"
             ],
             [
              0.5555555555555556,
              "#d8576b"
             ],
             [
              0.6666666666666666,
              "#ed7953"
             ],
             [
              0.7777777777777778,
              "#fb9f3a"
             ],
             [
              0.8888888888888888,
              "#fdca26"
             ],
             [
              1,
              "#f0f921"
             ]
            ],
            "type": "histogram2dcontour"
           }
          ],
          "mesh3d": [
           {
            "colorbar": {
             "outlinewidth": 0,
             "ticks": ""
            },
            "type": "mesh3d"
           }
          ],
          "parcoords": [
           {
            "line": {
             "colorbar": {
              "outlinewidth": 0,
              "ticks": ""
             }
            },
            "type": "parcoords"
           }
          ],
          "pie": [
           {
            "automargin": true,
            "type": "pie"
           }
          ],
          "scatter": [
           {
            "fillpattern": {
             "fillmode": "overlay",
             "size": 10,
             "solidity": 0.2
            },
            "type": "scatter"
           }
          ],
          "scatter3d": [
           {
            "line": {
             "colorbar": {
              "outlinewidth": 0,
              "ticks": ""
             }
            },
            "marker": {
             "colorbar": {
              "outlinewidth": 0,
              "ticks": ""
             }
            },
            "type": "scatter3d"
           }
          ],
          "scattercarpet": [
           {
            "marker": {
             "colorbar": {
              "outlinewidth": 0,
              "ticks": ""
             }
            },
            "type": "scattercarpet"
           }
          ],
          "scattergeo": [
           {
            "marker": {
             "colorbar": {
              "outlinewidth": 0,
              "ticks": ""
             }
            },
            "type": "scattergeo"
           }
          ],
          "scattergl": [
           {
            "marker": {
             "colorbar": {
              "outlinewidth": 0,
              "ticks": ""
             }
            },
            "type": "scattergl"
           }
          ],
          "scattermapbox": [
           {
            "marker": {
             "colorbar": {
              "outlinewidth": 0,
              "ticks": ""
             }
            },
            "type": "scattermapbox"
           }
          ],
          "scatterpolar": [
           {
            "marker": {
             "colorbar": {
              "outlinewidth": 0,
              "ticks": ""
             }
            },
            "type": "scatterpolar"
           }
          ],
          "scatterpolargl": [
           {
            "marker": {
             "colorbar": {
              "outlinewidth": 0,
              "ticks": ""
             }
            },
            "type": "scatterpolargl"
           }
          ],
          "scatterternary": [
           {
            "marker": {
             "colorbar": {
              "outlinewidth": 0,
              "ticks": ""
             }
            },
            "type": "scatterternary"
           }
          ],
          "surface": [
           {
            "colorbar": {
             "outlinewidth": 0,
             "ticks": ""
            },
            "colorscale": [
             [
              0,
              "#0d0887"
             ],
             [
              0.1111111111111111,
              "#46039f"
             ],
             [
              0.2222222222222222,
              "#7201a8"
             ],
             [
              0.3333333333333333,
              "#9c179e"
             ],
             [
              0.4444444444444444,
              "#bd3786"
             ],
             [
              0.5555555555555556,
              "#d8576b"
             ],
             [
              0.6666666666666666,
              "#ed7953"
             ],
             [
              0.7777777777777778,
              "#fb9f3a"
             ],
             [
              0.8888888888888888,
              "#fdca26"
             ],
             [
              1,
              "#f0f921"
             ]
            ],
            "type": "surface"
           }
          ],
          "table": [
           {
            "cells": {
             "fill": {
              "color": "#EBF0F8"
             },
             "line": {
              "color": "white"
             }
            },
            "header": {
             "fill": {
              "color": "#C8D4E3"
             },
             "line": {
              "color": "white"
             }
            },
            "type": "table"
           }
          ]
         },
         "layout": {
          "annotationdefaults": {
           "arrowcolor": "#2a3f5f",
           "arrowhead": 0,
           "arrowwidth": 1
          },
          "autotypenumbers": "strict",
          "coloraxis": {
           "colorbar": {
            "outlinewidth": 0,
            "ticks": ""
           }
          },
          "colorscale": {
           "diverging": [
            [
             0,
             "#8e0152"
            ],
            [
             0.1,
             "#c51b7d"
            ],
            [
             0.2,
             "#de77ae"
            ],
            [
             0.3,
             "#f1b6da"
            ],
            [
             0.4,
             "#fde0ef"
            ],
            [
             0.5,
             "#f7f7f7"
            ],
            [
             0.6,
             "#e6f5d0"
            ],
            [
             0.7,
             "#b8e186"
            ],
            [
             0.8,
             "#7fbc41"
            ],
            [
             0.9,
             "#4d9221"
            ],
            [
             1,
             "#276419"
            ]
           ],
           "sequential": [
            [
             0,
             "#0d0887"
            ],
            [
             0.1111111111111111,
             "#46039f"
            ],
            [
             0.2222222222222222,
             "#7201a8"
            ],
            [
             0.3333333333333333,
             "#9c179e"
            ],
            [
             0.4444444444444444,
             "#bd3786"
            ],
            [
             0.5555555555555556,
             "#d8576b"
            ],
            [
             0.6666666666666666,
             "#ed7953"
            ],
            [
             0.7777777777777778,
             "#fb9f3a"
            ],
            [
             0.8888888888888888,
             "#fdca26"
            ],
            [
             1,
             "#f0f921"
            ]
           ],
           "sequentialminus": [
            [
             0,
             "#0d0887"
            ],
            [
             0.1111111111111111,
             "#46039f"
            ],
            [
             0.2222222222222222,
             "#7201a8"
            ],
            [
             0.3333333333333333,
             "#9c179e"
            ],
            [
             0.4444444444444444,
             "#bd3786"
            ],
            [
             0.5555555555555556,
             "#d8576b"
            ],
            [
             0.6666666666666666,
             "#ed7953"
            ],
            [
             0.7777777777777778,
             "#fb9f3a"
            ],
            [
             0.8888888888888888,
             "#fdca26"
            ],
            [
             1,
             "#f0f921"
            ]
           ]
          },
          "colorway": [
           "#636efa",
           "#EF553B",
           "#00cc96",
           "#ab63fa",
           "#FFA15A",
           "#19d3f3",
           "#FF6692",
           "#B6E880",
           "#FF97FF",
           "#FECB52"
          ],
          "font": {
           "color": "#2a3f5f"
          },
          "geo": {
           "bgcolor": "white",
           "lakecolor": "white",
           "landcolor": "#E5ECF6",
           "showlakes": true,
           "showland": true,
           "subunitcolor": "white"
          },
          "hoverlabel": {
           "align": "left"
          },
          "hovermode": "closest",
          "mapbox": {
           "style": "light"
          },
          "paper_bgcolor": "white",
          "plot_bgcolor": "#E5ECF6",
          "polar": {
           "angularaxis": {
            "gridcolor": "white",
            "linecolor": "white",
            "ticks": ""
           },
           "bgcolor": "#E5ECF6",
           "radialaxis": {
            "gridcolor": "white",
            "linecolor": "white",
            "ticks": ""
           }
          },
          "scene": {
           "xaxis": {
            "backgroundcolor": "#E5ECF6",
            "gridcolor": "white",
            "gridwidth": 2,
            "linecolor": "white",
            "showbackground": true,
            "ticks": "",
            "zerolinecolor": "white"
           },
           "yaxis": {
            "backgroundcolor": "#E5ECF6",
            "gridcolor": "white",
            "gridwidth": 2,
            "linecolor": "white",
            "showbackground": true,
            "ticks": "",
            "zerolinecolor": "white"
           },
           "zaxis": {
            "backgroundcolor": "#E5ECF6",
            "gridcolor": "white",
            "gridwidth": 2,
            "linecolor": "white",
            "showbackground": true,
            "ticks": "",
            "zerolinecolor": "white"
           }
          },
          "shapedefaults": {
           "line": {
            "color": "#2a3f5f"
           }
          },
          "ternary": {
           "aaxis": {
            "gridcolor": "white",
            "linecolor": "white",
            "ticks": ""
           },
           "baxis": {
            "gridcolor": "white",
            "linecolor": "white",
            "ticks": ""
           },
           "bgcolor": "#E5ECF6",
           "caxis": {
            "gridcolor": "white",
            "linecolor": "white",
            "ticks": ""
           }
          },
          "title": {
           "x": 0.05
          },
          "xaxis": {
           "automargin": true,
           "gridcolor": "white",
           "linecolor": "white",
           "ticks": "",
           "title": {
            "standoff": 15
           },
           "zerolinecolor": "white",
           "zerolinewidth": 2
          },
          "yaxis": {
           "automargin": true,
           "gridcolor": "white",
           "linecolor": "white",
           "ticks": "",
           "title": {
            "standoff": 15
           },
           "zerolinecolor": "white",
           "zerolinewidth": 2
          }
         }
        },
        "title": {
         "text": "Розподіл значень \"petal_width\" за видами квіток"
        },
        "xaxis": {
         "anchor": "y",
         "domain": [
          0,
          1
         ],
         "title": {
          "text": "Кількість"
         }
        },
        "yaxis": {
         "anchor": "x",
         "domain": [
          0,
          1
         ],
         "title": {
          "text": "Ширина пелюстки (petal_width)"
         }
        }
       }
      },
      "text/html": [
       "<div>                            <div id=\"a9715f7f-24bc-4933-adbb-a43c7c5d0d27\" class=\"plotly-graph-div\" style=\"height:525px; width:100%;\"></div>            <script type=\"text/javascript\">                require([\"plotly\"], function(Plotly) {                    window.PLOTLYENV=window.PLOTLYENV || {};                                    if (document.getElementById(\"a9715f7f-24bc-4933-adbb-a43c7c5d0d27\")) {                    Plotly.newPlot(                        \"a9715f7f-24bc-4933-adbb-a43c7c5d0d27\",                        [{\"alignmentgroup\":\"True\",\"bingroup\":\"x\",\"hovertemplate\":\"species=setosa<br>petal_width=%{x}<br>count=%{y}<extra></extra>\",\"legendgroup\":\"setosa\",\"marker\":{\"color\":\"#636efa\",\"opacity\":0.5,\"pattern\":{\"shape\":\"\"}},\"name\":\"setosa\",\"offsetgroup\":\"setosa\",\"orientation\":\"v\",\"showlegend\":true,\"x\":[0.2,0.2,0.2,0.2,0.2,0.4,0.3,0.2,0.2,0.1,0.2,0.2,0.1,0.1,0.2,0.4,0.4,0.3,0.3,0.3,0.2,0.4,0.2,0.5,0.2,0.2,0.4,0.2,0.2,0.2,0.2,0.4,0.1,0.2,0.1,0.2,0.2,0.1,0.2,0.2,0.3,0.3,0.2,0.6,0.4,0.3,0.2,0.2,0.2,0.2],\"xaxis\":\"x\",\"yaxis\":\"y\",\"type\":\"histogram\"},{\"alignmentgroup\":\"True\",\"bingroup\":\"x\",\"hovertemplate\":\"species=versicolor<br>petal_width=%{x}<br>count=%{y}<extra></extra>\",\"legendgroup\":\"versicolor\",\"marker\":{\"color\":\"#EF553B\",\"opacity\":0.5,\"pattern\":{\"shape\":\"\"}},\"name\":\"versicolor\",\"offsetgroup\":\"versicolor\",\"orientation\":\"v\",\"showlegend\":true,\"x\":[1.4,1.5,1.5,1.3,1.5,1.3,1.6,1.0,1.3,1.4,1.0,1.5,1.0,1.4,1.3,1.4,1.5,1.0,1.5,1.1,1.8,1.3,1.5,1.2,1.3,1.4,1.4,1.7,1.5,1.0,1.1,1.0,1.2,1.6,1.5,1.6,1.5,1.3,1.3,1.3,1.2,1.4,1.2,1.0,1.3,1.2,1.3,1.3,1.1,1.3],\"xaxis\":\"x\",\"yaxis\":\"y\",\"type\":\"histogram\"},{\"alignmentgroup\":\"True\",\"bingroup\":\"x\",\"hovertemplate\":\"species=virginica<br>petal_width=%{x}<br>count=%{y}<extra></extra>\",\"legendgroup\":\"virginica\",\"marker\":{\"color\":\"#00cc96\",\"opacity\":0.5,\"pattern\":{\"shape\":\"\"}},\"name\":\"virginica\",\"offsetgroup\":\"virginica\",\"orientation\":\"v\",\"showlegend\":true,\"x\":[2.5,1.9,2.1,1.8,2.2,2.1,1.7,1.8,1.8,2.5,2.0,1.9,2.1,2.0,2.4,2.3,1.8,2.2,2.3,1.5,2.3,2.0,2.0,1.8,2.1,1.8,1.8,1.8,2.1,1.6,1.9,2.0,2.2,1.5,1.4,2.3,2.4,1.8,1.8,2.1,2.4,2.3,1.9,2.3,2.5,2.3,1.9,2.0,2.3,1.8],\"xaxis\":\"x\",\"yaxis\":\"y\",\"type\":\"histogram\"}],                        {\"template\":{\"data\":{\"histogram2dcontour\":[{\"type\":\"histogram2dcontour\",\"colorbar\":{\"outlinewidth\":0,\"ticks\":\"\"},\"colorscale\":[[0.0,\"#0d0887\"],[0.1111111111111111,\"#46039f\"],[0.2222222222222222,\"#7201a8\"],[0.3333333333333333,\"#9c179e\"],[0.4444444444444444,\"#bd3786\"],[0.5555555555555556,\"#d8576b\"],[0.6666666666666666,\"#ed7953\"],[0.7777777777777778,\"#fb9f3a\"],[0.8888888888888888,\"#fdca26\"],[1.0,\"#f0f921\"]]}],\"choropleth\":[{\"type\":\"choropleth\",\"colorbar\":{\"outlinewidth\":0,\"ticks\":\"\"}}],\"histogram2d\":[{\"type\":\"histogram2d\",\"colorbar\":{\"outlinewidth\":0,\"ticks\":\"\"},\"colorscale\":[[0.0,\"#0d0887\"],[0.1111111111111111,\"#46039f\"],[0.2222222222222222,\"#7201a8\"],[0.3333333333333333,\"#9c179e\"],[0.4444444444444444,\"#bd3786\"],[0.5555555555555556,\"#d8576b\"],[0.6666666666666666,\"#ed7953\"],[0.7777777777777778,\"#fb9f3a\"],[0.8888888888888888,\"#fdca26\"],[1.0,\"#f0f921\"]]}],\"heatmap\":[{\"type\":\"heatmap\",\"colorbar\":{\"outlinewidth\":0,\"ticks\":\"\"},\"colorscale\":[[0.0,\"#0d0887\"],[0.1111111111111111,\"#46039f\"],[0.2222222222222222,\"#7201a8\"],[0.3333333333333333,\"#9c179e\"],[0.4444444444444444,\"#bd3786\"],[0.5555555555555556,\"#d8576b\"],[0.6666666666666666,\"#ed7953\"],[0.7777777777777778,\"#fb9f3a\"],[0.8888888888888888,\"#fdca26\"],[1.0,\"#f0f921\"]]}],\"heatmapgl\":[{\"type\":\"heatmapgl\",\"colorbar\":{\"outlinewidth\":0,\"ticks\":\"\"},\"colorscale\":[[0.0,\"#0d0887\"],[0.1111111111111111,\"#46039f\"],[0.2222222222222222,\"#7201a8\"],[0.3333333333333333,\"#9c179e\"],[0.4444444444444444,\"#bd3786\"],[0.5555555555555556,\"#d8576b\"],[0.6666666666666666,\"#ed7953\"],[0.7777777777777778,\"#fb9f3a\"],[0.8888888888888888,\"#fdca26\"],[1.0,\"#f0f921\"]]}],\"contourcarpet\":[{\"type\":\"contourcarpet\",\"colorbar\":{\"outlinewidth\":0,\"ticks\":\"\"}}],\"contour\":[{\"type\":\"contour\",\"colorbar\":{\"outlinewidth\":0,\"ticks\":\"\"},\"colorscale\":[[0.0,\"#0d0887\"],[0.1111111111111111,\"#46039f\"],[0.2222222222222222,\"#7201a8\"],[0.3333333333333333,\"#9c179e\"],[0.4444444444444444,\"#bd3786\"],[0.5555555555555556,\"#d8576b\"],[0.6666666666666666,\"#ed7953\"],[0.7777777777777778,\"#fb9f3a\"],[0.8888888888888888,\"#fdca26\"],[1.0,\"#f0f921\"]]}],\"surface\":[{\"type\":\"surface\",\"colorbar\":{\"outlinewidth\":0,\"ticks\":\"\"},\"colorscale\":[[0.0,\"#0d0887\"],[0.1111111111111111,\"#46039f\"],[0.2222222222222222,\"#7201a8\"],[0.3333333333333333,\"#9c179e\"],[0.4444444444444444,\"#bd3786\"],[0.5555555555555556,\"#d8576b\"],[0.6666666666666666,\"#ed7953\"],[0.7777777777777778,\"#fb9f3a\"],[0.8888888888888888,\"#fdca26\"],[1.0,\"#f0f921\"]]}],\"mesh3d\":[{\"type\":\"mesh3d\",\"colorbar\":{\"outlinewidth\":0,\"ticks\":\"\"}}],\"scatter\":[{\"fillpattern\":{\"fillmode\":\"overlay\",\"size\":10,\"solidity\":0.2},\"type\":\"scatter\"}],\"parcoords\":[{\"type\":\"parcoords\",\"line\":{\"colorbar\":{\"outlinewidth\":0,\"ticks\":\"\"}}}],\"scatterpolargl\":[{\"type\":\"scatterpolargl\",\"marker\":{\"colorbar\":{\"outlinewidth\":0,\"ticks\":\"\"}}}],\"bar\":[{\"error_x\":{\"color\":\"#2a3f5f\"},\"error_y\":{\"color\":\"#2a3f5f\"},\"marker\":{\"line\":{\"color\":\"#E5ECF6\",\"width\":0.5},\"pattern\":{\"fillmode\":\"overlay\",\"size\":10,\"solidity\":0.2}},\"type\":\"bar\"}],\"scattergeo\":[{\"type\":\"scattergeo\",\"marker\":{\"colorbar\":{\"outlinewidth\":0,\"ticks\":\"\"}}}],\"scatterpolar\":[{\"type\":\"scatterpolar\",\"marker\":{\"colorbar\":{\"outlinewidth\":0,\"ticks\":\"\"}}}],\"histogram\":[{\"marker\":{\"pattern\":{\"fillmode\":\"overlay\",\"size\":10,\"solidity\":0.2}},\"type\":\"histogram\"}],\"scattergl\":[{\"type\":\"scattergl\",\"marker\":{\"colorbar\":{\"outlinewidth\":0,\"ticks\":\"\"}}}],\"scatter3d\":[{\"type\":\"scatter3d\",\"line\":{\"colorbar\":{\"outlinewidth\":0,\"ticks\":\"\"}},\"marker\":{\"colorbar\":{\"outlinewidth\":0,\"ticks\":\"\"}}}],\"scattermapbox\":[{\"type\":\"scattermapbox\",\"marker\":{\"colorbar\":{\"outlinewidth\":0,\"ticks\":\"\"}}}],\"scatterternary\":[{\"type\":\"scatterternary\",\"marker\":{\"colorbar\":{\"outlinewidth\":0,\"ticks\":\"\"}}}],\"scattercarpet\":[{\"type\":\"scattercarpet\",\"marker\":{\"colorbar\":{\"outlinewidth\":0,\"ticks\":\"\"}}}],\"carpet\":[{\"aaxis\":{\"endlinecolor\":\"#2a3f5f\",\"gridcolor\":\"white\",\"linecolor\":\"white\",\"minorgridcolor\":\"white\",\"startlinecolor\":\"#2a3f5f\"},\"baxis\":{\"endlinecolor\":\"#2a3f5f\",\"gridcolor\":\"white\",\"linecolor\":\"white\",\"minorgridcolor\":\"white\",\"startlinecolor\":\"#2a3f5f\"},\"type\":\"carpet\"}],\"table\":[{\"cells\":{\"fill\":{\"color\":\"#EBF0F8\"},\"line\":{\"color\":\"white\"}},\"header\":{\"fill\":{\"color\":\"#C8D4E3\"},\"line\":{\"color\":\"white\"}},\"type\":\"table\"}],\"barpolar\":[{\"marker\":{\"line\":{\"color\":\"#E5ECF6\",\"width\":0.5},\"pattern\":{\"fillmode\":\"overlay\",\"size\":10,\"solidity\":0.2}},\"type\":\"barpolar\"}],\"pie\":[{\"automargin\":true,\"type\":\"pie\"}]},\"layout\":{\"autotypenumbers\":\"strict\",\"colorway\":[\"#636efa\",\"#EF553B\",\"#00cc96\",\"#ab63fa\",\"#FFA15A\",\"#19d3f3\",\"#FF6692\",\"#B6E880\",\"#FF97FF\",\"#FECB52\"],\"font\":{\"color\":\"#2a3f5f\"},\"hovermode\":\"closest\",\"hoverlabel\":{\"align\":\"left\"},\"paper_bgcolor\":\"white\",\"plot_bgcolor\":\"#E5ECF6\",\"polar\":{\"bgcolor\":\"#E5ECF6\",\"angularaxis\":{\"gridcolor\":\"white\",\"linecolor\":\"white\",\"ticks\":\"\"},\"radialaxis\":{\"gridcolor\":\"white\",\"linecolor\":\"white\",\"ticks\":\"\"}},\"ternary\":{\"bgcolor\":\"#E5ECF6\",\"aaxis\":{\"gridcolor\":\"white\",\"linecolor\":\"white\",\"ticks\":\"\"},\"baxis\":{\"gridcolor\":\"white\",\"linecolor\":\"white\",\"ticks\":\"\"},\"caxis\":{\"gridcolor\":\"white\",\"linecolor\":\"white\",\"ticks\":\"\"}},\"coloraxis\":{\"colorbar\":{\"outlinewidth\":0,\"ticks\":\"\"}},\"colorscale\":{\"sequential\":[[0.0,\"#0d0887\"],[0.1111111111111111,\"#46039f\"],[0.2222222222222222,\"#7201a8\"],[0.3333333333333333,\"#9c179e\"],[0.4444444444444444,\"#bd3786\"],[0.5555555555555556,\"#d8576b\"],[0.6666666666666666,\"#ed7953\"],[0.7777777777777778,\"#fb9f3a\"],[0.8888888888888888,\"#fdca26\"],[1.0,\"#f0f921\"]],\"sequentialminus\":[[0.0,\"#0d0887\"],[0.1111111111111111,\"#46039f\"],[0.2222222222222222,\"#7201a8\"],[0.3333333333333333,\"#9c179e\"],[0.4444444444444444,\"#bd3786\"],[0.5555555555555556,\"#d8576b\"],[0.6666666666666666,\"#ed7953\"],[0.7777777777777778,\"#fb9f3a\"],[0.8888888888888888,\"#fdca26\"],[1.0,\"#f0f921\"]],\"diverging\":[[0,\"#8e0152\"],[0.1,\"#c51b7d\"],[0.2,\"#de77ae\"],[0.3,\"#f1b6da\"],[0.4,\"#fde0ef\"],[0.5,\"#f7f7f7\"],[0.6,\"#e6f5d0\"],[0.7,\"#b8e186\"],[0.8,\"#7fbc41\"],[0.9,\"#4d9221\"],[1,\"#276419\"]]},\"xaxis\":{\"gridcolor\":\"white\",\"linecolor\":\"white\",\"ticks\":\"\",\"title\":{\"standoff\":15},\"zerolinecolor\":\"white\",\"automargin\":true,\"zerolinewidth\":2},\"yaxis\":{\"gridcolor\":\"white\",\"linecolor\":\"white\",\"ticks\":\"\",\"title\":{\"standoff\":15},\"zerolinecolor\":\"white\",\"automargin\":true,\"zerolinewidth\":2},\"scene\":{\"xaxis\":{\"backgroundcolor\":\"#E5ECF6\",\"gridcolor\":\"white\",\"linecolor\":\"white\",\"showbackground\":true,\"ticks\":\"\",\"zerolinecolor\":\"white\",\"gridwidth\":2},\"yaxis\":{\"backgroundcolor\":\"#E5ECF6\",\"gridcolor\":\"white\",\"linecolor\":\"white\",\"showbackground\":true,\"ticks\":\"\",\"zerolinecolor\":\"white\",\"gridwidth\":2},\"zaxis\":{\"backgroundcolor\":\"#E5ECF6\",\"gridcolor\":\"white\",\"linecolor\":\"white\",\"showbackground\":true,\"ticks\":\"\",\"zerolinecolor\":\"white\",\"gridwidth\":2}},\"shapedefaults\":{\"line\":{\"color\":\"#2a3f5f\"}},\"annotationdefaults\":{\"arrowcolor\":\"#2a3f5f\",\"arrowhead\":0,\"arrowwidth\":1},\"geo\":{\"bgcolor\":\"white\",\"landcolor\":\"#E5ECF6\",\"subunitcolor\":\"white\",\"showland\":true,\"showlakes\":true,\"lakecolor\":\"white\"},\"title\":{\"x\":0.05},\"mapbox\":{\"style\":\"light\"}}},\"xaxis\":{\"anchor\":\"y\",\"domain\":[0.0,1.0],\"title\":{\"text\":\"\\u041a\\u0456\\u043b\\u044c\\u043a\\u0456\\u0441\\u0442\\u044c\"}},\"yaxis\":{\"anchor\":\"x\",\"domain\":[0.0,1.0],\"title\":{\"text\":\"\\u0428\\u0438\\u0440\\u0438\\u043d\\u0430 \\u043f\\u0435\\u043b\\u044e\\u0441\\u0442\\u043a\\u0438 (petal_width)\"}},\"legend\":{\"title\":{\"text\":\"species\"},\"tracegroupgap\":0},\"margin\":{\"t\":60},\"barmode\":\"overlay\",\"title\":{\"text\":\"\\u0420\\u043e\\u0437\\u043f\\u043e\\u0434\\u0456\\u043b \\u0437\\u043d\\u0430\\u0447\\u0435\\u043d\\u044c \\\"petal_width\\\" \\u0437\\u0430 \\u0432\\u0438\\u0434\\u0430\\u043c\\u0438 \\u043a\\u0432\\u0456\\u0442\\u043e\\u043a\"}},                        {\"responsive\": true}                    ).then(function(){\n",
       "                            \n",
       "var gd = document.getElementById('a9715f7f-24bc-4933-adbb-a43c7c5d0d27');\n",
       "var x = new MutationObserver(function (mutations, observer) {{\n",
       "        var display = window.getComputedStyle(gd).display;\n",
       "        if (!display || display === 'none') {{\n",
       "            console.log([gd, 'removed!']);\n",
       "            Plotly.purge(gd);\n",
       "            observer.disconnect();\n",
       "        }}\n",
       "}});\n",
       "\n",
       "// Listen for the removal of the full notebook cells\n",
       "var notebookContainer = gd.closest('#notebook-container');\n",
       "if (notebookContainer) {{\n",
       "    x.observe(notebookContainer, {childList: true});\n",
       "}}\n",
       "\n",
       "// Listen for the clearing of the current output cell\n",
       "var outputEl = gd.closest('.output');\n",
       "if (outputEl) {{\n",
       "    x.observe(outputEl, {childList: true});\n",
       "}}\n",
       "\n",
       "                        })                };                });            </script>        </div>"
      ]
     },
     "metadata": {},
     "output_type": "display_data"
    }
   ],
   "source": [
    "fig = px.histogram(df, x='petal_width', color='species', barmode='overlay')\n",
    "\n",
    "# Налаштування заголовка та інших параметрів\n",
    "fig.update_layout(\n",
    "    title='Розподіл значень \"petal_width\" за видами квіток',\n",
    "    xaxis_title='Кількість',\n",
    "    yaxis_title='Ширина пелюстки (petal_width)'\n",
    ")\n",
    "\n",
    "fig.show()"
   ]
  },
  {
   "cell_type": "markdown",
   "id": "41d2f0bb",
   "metadata": {},
   "source": [
    "Завдання 3 \n",
    "\n",
    "Лінійний графік, що відображає зміну середнього значення \"sepal_lengt\""
   ]
  },
  {
   "cell_type": "code",
   "execution_count": 22,
   "id": "046ff6fd",
   "metadata": {},
   "outputs": [
    {
     "data": {
      "application/vnd.plotly.v1+json": {
       "config": {
        "plotlyServerURL": "https://plot.ly"
       },
       "data": [
        {
         "hovertemplate": "species=setosa<br>sepal_width=%{x}<br>sepal_length=%{y}<extra></extra>",
         "legendgroup": "setosa",
         "line": {
          "color": "#636efa",
          "dash": "solid"
         },
         "marker": {
          "symbol": "circle"
         },
         "mode": "lines",
         "name": "setosa",
         "orientation": "v",
         "showlegend": true,
         "type": "scatter",
         "x": [
          2.3,
          2.9,
          3,
          3.1,
          3.2,
          3.3,
          3.4,
          3.5,
          3.6,
          3.7,
          3.8,
          3.9,
          4,
          4.1,
          4.2,
          4.4
         ],
         "xaxis": "x",
         "y": [
          4.5,
          4.4,
          4.7,
          4.82,
          4.68,
          5.05,
          5.033333333333333,
          5.1499999999999995,
          4.8,
          5.266666666666667,
          5.25,
          5.4,
          5.8,
          5.2,
          5.5,
          5.7
         ],
         "yaxis": "y"
        },
        {
         "hovertemplate": "species=versicolor<br>sepal_width=%{x}<br>sepal_length=%{y}<extra></extra>",
         "legendgroup": "versicolor",
         "line": {
          "color": "#EF553B",
          "dash": "solid"
         },
         "marker": {
          "symbol": "circle"
         },
         "mode": "lines",
         "name": "versicolor",
         "orientation": "v",
         "showlegend": true,
         "type": "scatter",
         "x": [
          2,
          2.2,
          2.3,
          2.4,
          2.5,
          2.6,
          2.7,
          2.8,
          2.9,
          3,
          3.1,
          3.2,
          3.3,
          3.4
         ],
         "xaxis": "x",
         "y": [
          5,
          6.1,
          5.6000000000000005,
          5.3,
          5.625,
          5.666666666666667,
          5.68,
          6.1499999999999995,
          6.085714285714286,
          5.95,
          6.766666666666667,
          6.433333333333334,
          6.3,
          6
         ],
         "yaxis": "y"
        },
        {
         "hovertemplate": "species=virginica<br>sepal_width=%{x}<br>sepal_length=%{y}<extra></extra>",
         "legendgroup": "virginica",
         "line": {
          "color": "#00cc96",
          "dash": "solid"
         },
         "marker": {
          "symbol": "circle"
         },
         "mode": "lines",
         "name": "virginica",
         "orientation": "v",
         "showlegend": true,
         "type": "scatter",
         "x": [
          2.2,
          2.5,
          2.6,
          2.7,
          2.8,
          2.9,
          3,
          3.1,
          3.2,
          3.3,
          3.4,
          3.6,
          3.8
         ],
         "xaxis": "x",
         "y": [
          6,
          5.9,
          6.9,
          6.075,
          6.475,
          6.8,
          6.716666666666666,
          6.7250000000000005,
          6.76,
          6.566666666666666,
          6.25,
          7.2,
          7.800000000000001
         ],
         "yaxis": "y"
        }
       ],
       "layout": {
        "legend": {
         "title": {
          "text": "species"
         },
         "tracegroupgap": 0
        },
        "margin": {
         "t": 60
        },
        "template": {
         "data": {
          "bar": [
           {
            "error_x": {
             "color": "#2a3f5f"
            },
            "error_y": {
             "color": "#2a3f5f"
            },
            "marker": {
             "line": {
              "color": "#E5ECF6",
              "width": 0.5
             },
             "pattern": {
              "fillmode": "overlay",
              "size": 10,
              "solidity": 0.2
             }
            },
            "type": "bar"
           }
          ],
          "barpolar": [
           {
            "marker": {
             "line": {
              "color": "#E5ECF6",
              "width": 0.5
             },
             "pattern": {
              "fillmode": "overlay",
              "size": 10,
              "solidity": 0.2
             }
            },
            "type": "barpolar"
           }
          ],
          "carpet": [
           {
            "aaxis": {
             "endlinecolor": "#2a3f5f",
             "gridcolor": "white",
             "linecolor": "white",
             "minorgridcolor": "white",
             "startlinecolor": "#2a3f5f"
            },
            "baxis": {
             "endlinecolor": "#2a3f5f",
             "gridcolor": "white",
             "linecolor": "white",
             "minorgridcolor": "white",
             "startlinecolor": "#2a3f5f"
            },
            "type": "carpet"
           }
          ],
          "choropleth": [
           {
            "colorbar": {
             "outlinewidth": 0,
             "ticks": ""
            },
            "type": "choropleth"
           }
          ],
          "contour": [
           {
            "colorbar": {
             "outlinewidth": 0,
             "ticks": ""
            },
            "colorscale": [
             [
              0,
              "#0d0887"
             ],
             [
              0.1111111111111111,
              "#46039f"
             ],
             [
              0.2222222222222222,
              "#7201a8"
             ],
             [
              0.3333333333333333,
              "#9c179e"
             ],
             [
              0.4444444444444444,
              "#bd3786"
             ],
             [
              0.5555555555555556,
              "#d8576b"
             ],
             [
              0.6666666666666666,
              "#ed7953"
             ],
             [
              0.7777777777777778,
              "#fb9f3a"
             ],
             [
              0.8888888888888888,
              "#fdca26"
             ],
             [
              1,
              "#f0f921"
             ]
            ],
            "type": "contour"
           }
          ],
          "contourcarpet": [
           {
            "colorbar": {
             "outlinewidth": 0,
             "ticks": ""
            },
            "type": "contourcarpet"
           }
          ],
          "heatmap": [
           {
            "colorbar": {
             "outlinewidth": 0,
             "ticks": ""
            },
            "colorscale": [
             [
              0,
              "#0d0887"
             ],
             [
              0.1111111111111111,
              "#46039f"
             ],
             [
              0.2222222222222222,
              "#7201a8"
             ],
             [
              0.3333333333333333,
              "#9c179e"
             ],
             [
              0.4444444444444444,
              "#bd3786"
             ],
             [
              0.5555555555555556,
              "#d8576b"
             ],
             [
              0.6666666666666666,
              "#ed7953"
             ],
             [
              0.7777777777777778,
              "#fb9f3a"
             ],
             [
              0.8888888888888888,
              "#fdca26"
             ],
             [
              1,
              "#f0f921"
             ]
            ],
            "type": "heatmap"
           }
          ],
          "heatmapgl": [
           {
            "colorbar": {
             "outlinewidth": 0,
             "ticks": ""
            },
            "colorscale": [
             [
              0,
              "#0d0887"
             ],
             [
              0.1111111111111111,
              "#46039f"
             ],
             [
              0.2222222222222222,
              "#7201a8"
             ],
             [
              0.3333333333333333,
              "#9c179e"
             ],
             [
              0.4444444444444444,
              "#bd3786"
             ],
             [
              0.5555555555555556,
              "#d8576b"
             ],
             [
              0.6666666666666666,
              "#ed7953"
             ],
             [
              0.7777777777777778,
              "#fb9f3a"
             ],
             [
              0.8888888888888888,
              "#fdca26"
             ],
             [
              1,
              "#f0f921"
             ]
            ],
            "type": "heatmapgl"
           }
          ],
          "histogram": [
           {
            "marker": {
             "pattern": {
              "fillmode": "overlay",
              "size": 10,
              "solidity": 0.2
             }
            },
            "type": "histogram"
           }
          ],
          "histogram2d": [
           {
            "colorbar": {
             "outlinewidth": 0,
             "ticks": ""
            },
            "colorscale": [
             [
              0,
              "#0d0887"
             ],
             [
              0.1111111111111111,
              "#46039f"
             ],
             [
              0.2222222222222222,
              "#7201a8"
             ],
             [
              0.3333333333333333,
              "#9c179e"
             ],
             [
              0.4444444444444444,
              "#bd3786"
             ],
             [
              0.5555555555555556,
              "#d8576b"
             ],
             [
              0.6666666666666666,
              "#ed7953"
             ],
             [
              0.7777777777777778,
              "#fb9f3a"
             ],
             [
              0.8888888888888888,
              "#fdca26"
             ],
             [
              1,
              "#f0f921"
             ]
            ],
            "type": "histogram2d"
           }
          ],
          "histogram2dcontour": [
           {
            "colorbar": {
             "outlinewidth": 0,
             "ticks": ""
            },
            "colorscale": [
             [
              0,
              "#0d0887"
             ],
             [
              0.1111111111111111,
              "#46039f"
             ],
             [
              0.2222222222222222,
              "#7201a8"
             ],
             [
              0.3333333333333333,
              "#9c179e"
             ],
             [
              0.4444444444444444,
              "#bd3786"
             ],
             [
              0.5555555555555556,
              "#d8576b"
             ],
             [
              0.6666666666666666,
              "#ed7953"
             ],
             [
              0.7777777777777778,
              "#fb9f3a"
             ],
             [
              0.8888888888888888,
              "#fdca26"
             ],
             [
              1,
              "#f0f921"
             ]
            ],
            "type": "histogram2dcontour"
           }
          ],
          "mesh3d": [
           {
            "colorbar": {
             "outlinewidth": 0,
             "ticks": ""
            },
            "type": "mesh3d"
           }
          ],
          "parcoords": [
           {
            "line": {
             "colorbar": {
              "outlinewidth": 0,
              "ticks": ""
             }
            },
            "type": "parcoords"
           }
          ],
          "pie": [
           {
            "automargin": true,
            "type": "pie"
           }
          ],
          "scatter": [
           {
            "fillpattern": {
             "fillmode": "overlay",
             "size": 10,
             "solidity": 0.2
            },
            "type": "scatter"
           }
          ],
          "scatter3d": [
           {
            "line": {
             "colorbar": {
              "outlinewidth": 0,
              "ticks": ""
             }
            },
            "marker": {
             "colorbar": {
              "outlinewidth": 0,
              "ticks": ""
             }
            },
            "type": "scatter3d"
           }
          ],
          "scattercarpet": [
           {
            "marker": {
             "colorbar": {
              "outlinewidth": 0,
              "ticks": ""
             }
            },
            "type": "scattercarpet"
           }
          ],
          "scattergeo": [
           {
            "marker": {
             "colorbar": {
              "outlinewidth": 0,
              "ticks": ""
             }
            },
            "type": "scattergeo"
           }
          ],
          "scattergl": [
           {
            "marker": {
             "colorbar": {
              "outlinewidth": 0,
              "ticks": ""
             }
            },
            "type": "scattergl"
           }
          ],
          "scattermapbox": [
           {
            "marker": {
             "colorbar": {
              "outlinewidth": 0,
              "ticks": ""
             }
            },
            "type": "scattermapbox"
           }
          ],
          "scatterpolar": [
           {
            "marker": {
             "colorbar": {
              "outlinewidth": 0,
              "ticks": ""
             }
            },
            "type": "scatterpolar"
           }
          ],
          "scatterpolargl": [
           {
            "marker": {
             "colorbar": {
              "outlinewidth": 0,
              "ticks": ""
             }
            },
            "type": "scatterpolargl"
           }
          ],
          "scatterternary": [
           {
            "marker": {
             "colorbar": {
              "outlinewidth": 0,
              "ticks": ""
             }
            },
            "type": "scatterternary"
           }
          ],
          "surface": [
           {
            "colorbar": {
             "outlinewidth": 0,
             "ticks": ""
            },
            "colorscale": [
             [
              0,
              "#0d0887"
             ],
             [
              0.1111111111111111,
              "#46039f"
             ],
             [
              0.2222222222222222,
              "#7201a8"
             ],
             [
              0.3333333333333333,
              "#9c179e"
             ],
             [
              0.4444444444444444,
              "#bd3786"
             ],
             [
              0.5555555555555556,
              "#d8576b"
             ],
             [
              0.6666666666666666,
              "#ed7953"
             ],
             [
              0.7777777777777778,
              "#fb9f3a"
             ],
             [
              0.8888888888888888,
              "#fdca26"
             ],
             [
              1,
              "#f0f921"
             ]
            ],
            "type": "surface"
           }
          ],
          "table": [
           {
            "cells": {
             "fill": {
              "color": "#EBF0F8"
             },
             "line": {
              "color": "white"
             }
            },
            "header": {
             "fill": {
              "color": "#C8D4E3"
             },
             "line": {
              "color": "white"
             }
            },
            "type": "table"
           }
          ]
         },
         "layout": {
          "annotationdefaults": {
           "arrowcolor": "#2a3f5f",
           "arrowhead": 0,
           "arrowwidth": 1
          },
          "autotypenumbers": "strict",
          "coloraxis": {
           "colorbar": {
            "outlinewidth": 0,
            "ticks": ""
           }
          },
          "colorscale": {
           "diverging": [
            [
             0,
             "#8e0152"
            ],
            [
             0.1,
             "#c51b7d"
            ],
            [
             0.2,
             "#de77ae"
            ],
            [
             0.3,
             "#f1b6da"
            ],
            [
             0.4,
             "#fde0ef"
            ],
            [
             0.5,
             "#f7f7f7"
            ],
            [
             0.6,
             "#e6f5d0"
            ],
            [
             0.7,
             "#b8e186"
            ],
            [
             0.8,
             "#7fbc41"
            ],
            [
             0.9,
             "#4d9221"
            ],
            [
             1,
             "#276419"
            ]
           ],
           "sequential": [
            [
             0,
             "#0d0887"
            ],
            [
             0.1111111111111111,
             "#46039f"
            ],
            [
             0.2222222222222222,
             "#7201a8"
            ],
            [
             0.3333333333333333,
             "#9c179e"
            ],
            [
             0.4444444444444444,
             "#bd3786"
            ],
            [
             0.5555555555555556,
             "#d8576b"
            ],
            [
             0.6666666666666666,
             "#ed7953"
            ],
            [
             0.7777777777777778,
             "#fb9f3a"
            ],
            [
             0.8888888888888888,
             "#fdca26"
            ],
            [
             1,
             "#f0f921"
            ]
           ],
           "sequentialminus": [
            [
             0,
             "#0d0887"
            ],
            [
             0.1111111111111111,
             "#46039f"
            ],
            [
             0.2222222222222222,
             "#7201a8"
            ],
            [
             0.3333333333333333,
             "#9c179e"
            ],
            [
             0.4444444444444444,
             "#bd3786"
            ],
            [
             0.5555555555555556,
             "#d8576b"
            ],
            [
             0.6666666666666666,
             "#ed7953"
            ],
            [
             0.7777777777777778,
             "#fb9f3a"
            ],
            [
             0.8888888888888888,
             "#fdca26"
            ],
            [
             1,
             "#f0f921"
            ]
           ]
          },
          "colorway": [
           "#636efa",
           "#EF553B",
           "#00cc96",
           "#ab63fa",
           "#FFA15A",
           "#19d3f3",
           "#FF6692",
           "#B6E880",
           "#FF97FF",
           "#FECB52"
          ],
          "font": {
           "color": "#2a3f5f"
          },
          "geo": {
           "bgcolor": "white",
           "lakecolor": "white",
           "landcolor": "#E5ECF6",
           "showlakes": true,
           "showland": true,
           "subunitcolor": "white"
          },
          "hoverlabel": {
           "align": "left"
          },
          "hovermode": "closest",
          "mapbox": {
           "style": "light"
          },
          "paper_bgcolor": "white",
          "plot_bgcolor": "#E5ECF6",
          "polar": {
           "angularaxis": {
            "gridcolor": "white",
            "linecolor": "white",
            "ticks": ""
           },
           "bgcolor": "#E5ECF6",
           "radialaxis": {
            "gridcolor": "white",
            "linecolor": "white",
            "ticks": ""
           }
          },
          "scene": {
           "xaxis": {
            "backgroundcolor": "#E5ECF6",
            "gridcolor": "white",
            "gridwidth": 2,
            "linecolor": "white",
            "showbackground": true,
            "ticks": "",
            "zerolinecolor": "white"
           },
           "yaxis": {
            "backgroundcolor": "#E5ECF6",
            "gridcolor": "white",
            "gridwidth": 2,
            "linecolor": "white",
            "showbackground": true,
            "ticks": "",
            "zerolinecolor": "white"
           },
           "zaxis": {
            "backgroundcolor": "#E5ECF6",
            "gridcolor": "white",
            "gridwidth": 2,
            "linecolor": "white",
            "showbackground": true,
            "ticks": "",
            "zerolinecolor": "white"
           }
          },
          "shapedefaults": {
           "line": {
            "color": "#2a3f5f"
           }
          },
          "ternary": {
           "aaxis": {
            "gridcolor": "white",
            "linecolor": "white",
            "ticks": ""
           },
           "baxis": {
            "gridcolor": "white",
            "linecolor": "white",
            "ticks": ""
           },
           "bgcolor": "#E5ECF6",
           "caxis": {
            "gridcolor": "white",
            "linecolor": "white",
            "ticks": ""
           }
          },
          "title": {
           "x": 0.05
          },
          "xaxis": {
           "automargin": true,
           "gridcolor": "white",
           "linecolor": "white",
           "ticks": "",
           "title": {
            "standoff": 15
           },
           "zerolinecolor": "white",
           "zerolinewidth": 2
          },
          "yaxis": {
           "automargin": true,
           "gridcolor": "white",
           "linecolor": "white",
           "ticks": "",
           "title": {
            "standoff": 15
           },
           "zerolinecolor": "white",
           "zerolinewidth": 2
          }
         }
        },
        "title": {
         "text": "Зміна середнього значення \"sepal_length\" в залежності від \"sepal_width\" за видами квіток"
        },
        "xaxis": {
         "anchor": "y",
         "domain": [
          0,
          1
         ],
         "title": {
          "text": "Ширина чашелистика (sepal_width)"
         }
        },
        "yaxis": {
         "anchor": "x",
         "domain": [
          0,
          1
         ],
         "title": {
          "text": "Середнє значення довжини чашелистика (sepal_length)"
         }
        }
       }
      },
      "text/html": [
       "<div>                            <div id=\"1f8c4e22-0d29-44a0-9697-e58357e963dc\" class=\"plotly-graph-div\" style=\"height:525px; width:100%;\"></div>            <script type=\"text/javascript\">                require([\"plotly\"], function(Plotly) {                    window.PLOTLYENV=window.PLOTLYENV || {};                                    if (document.getElementById(\"1f8c4e22-0d29-44a0-9697-e58357e963dc\")) {                    Plotly.newPlot(                        \"1f8c4e22-0d29-44a0-9697-e58357e963dc\",                        [{\"hovertemplate\":\"species=setosa<br>sepal_width=%{x}<br>sepal_length=%{y}<extra></extra>\",\"legendgroup\":\"setosa\",\"line\":{\"color\":\"#636efa\",\"dash\":\"solid\"},\"marker\":{\"symbol\":\"circle\"},\"mode\":\"lines\",\"name\":\"setosa\",\"orientation\":\"v\",\"showlegend\":true,\"x\":[2.3,2.9,3.0,3.1,3.2,3.3,3.4,3.5,3.6,3.7,3.8,3.9,4.0,4.1,4.2,4.4],\"xaxis\":\"x\",\"y\":[4.5,4.4,4.7,4.82,4.68,5.05,5.033333333333333,5.1499999999999995,4.8,5.266666666666667,5.25,5.4,5.8,5.2,5.5,5.7],\"yaxis\":\"y\",\"type\":\"scatter\"},{\"hovertemplate\":\"species=versicolor<br>sepal_width=%{x}<br>sepal_length=%{y}<extra></extra>\",\"legendgroup\":\"versicolor\",\"line\":{\"color\":\"#EF553B\",\"dash\":\"solid\"},\"marker\":{\"symbol\":\"circle\"},\"mode\":\"lines\",\"name\":\"versicolor\",\"orientation\":\"v\",\"showlegend\":true,\"x\":[2.0,2.2,2.3,2.4,2.5,2.6,2.7,2.8,2.9,3.0,3.1,3.2,3.3,3.4],\"xaxis\":\"x\",\"y\":[5.0,6.1,5.6000000000000005,5.3,5.625,5.666666666666667,5.68,6.1499999999999995,6.085714285714286,5.95,6.766666666666667,6.433333333333334,6.3,6.0],\"yaxis\":\"y\",\"type\":\"scatter\"},{\"hovertemplate\":\"species=virginica<br>sepal_width=%{x}<br>sepal_length=%{y}<extra></extra>\",\"legendgroup\":\"virginica\",\"line\":{\"color\":\"#00cc96\",\"dash\":\"solid\"},\"marker\":{\"symbol\":\"circle\"},\"mode\":\"lines\",\"name\":\"virginica\",\"orientation\":\"v\",\"showlegend\":true,\"x\":[2.2,2.5,2.6,2.7,2.8,2.9,3.0,3.1,3.2,3.3,3.4,3.6,3.8],\"xaxis\":\"x\",\"y\":[6.0,5.9,6.9,6.075,6.475,6.8,6.716666666666666,6.7250000000000005,6.76,6.566666666666666,6.25,7.2,7.800000000000001],\"yaxis\":\"y\",\"type\":\"scatter\"}],                        {\"template\":{\"data\":{\"histogram2dcontour\":[{\"type\":\"histogram2dcontour\",\"colorbar\":{\"outlinewidth\":0,\"ticks\":\"\"},\"colorscale\":[[0.0,\"#0d0887\"],[0.1111111111111111,\"#46039f\"],[0.2222222222222222,\"#7201a8\"],[0.3333333333333333,\"#9c179e\"],[0.4444444444444444,\"#bd3786\"],[0.5555555555555556,\"#d8576b\"],[0.6666666666666666,\"#ed7953\"],[0.7777777777777778,\"#fb9f3a\"],[0.8888888888888888,\"#fdca26\"],[1.0,\"#f0f921\"]]}],\"choropleth\":[{\"type\":\"choropleth\",\"colorbar\":{\"outlinewidth\":0,\"ticks\":\"\"}}],\"histogram2d\":[{\"type\":\"histogram2d\",\"colorbar\":{\"outlinewidth\":0,\"ticks\":\"\"},\"colorscale\":[[0.0,\"#0d0887\"],[0.1111111111111111,\"#46039f\"],[0.2222222222222222,\"#7201a8\"],[0.3333333333333333,\"#9c179e\"],[0.4444444444444444,\"#bd3786\"],[0.5555555555555556,\"#d8576b\"],[0.6666666666666666,\"#ed7953\"],[0.7777777777777778,\"#fb9f3a\"],[0.8888888888888888,\"#fdca26\"],[1.0,\"#f0f921\"]]}],\"heatmap\":[{\"type\":\"heatmap\",\"colorbar\":{\"outlinewidth\":0,\"ticks\":\"\"},\"colorscale\":[[0.0,\"#0d0887\"],[0.1111111111111111,\"#46039f\"],[0.2222222222222222,\"#7201a8\"],[0.3333333333333333,\"#9c179e\"],[0.4444444444444444,\"#bd3786\"],[0.5555555555555556,\"#d8576b\"],[0.6666666666666666,\"#ed7953\"],[0.7777777777777778,\"#fb9f3a\"],[0.8888888888888888,\"#fdca26\"],[1.0,\"#f0f921\"]]}],\"heatmapgl\":[{\"type\":\"heatmapgl\",\"colorbar\":{\"outlinewidth\":0,\"ticks\":\"\"},\"colorscale\":[[0.0,\"#0d0887\"],[0.1111111111111111,\"#46039f\"],[0.2222222222222222,\"#7201a8\"],[0.3333333333333333,\"#9c179e\"],[0.4444444444444444,\"#bd3786\"],[0.5555555555555556,\"#d8576b\"],[0.6666666666666666,\"#ed7953\"],[0.7777777777777778,\"#fb9f3a\"],[0.8888888888888888,\"#fdca26\"],[1.0,\"#f0f921\"]]}],\"contourcarpet\":[{\"type\":\"contourcarpet\",\"colorbar\":{\"outlinewidth\":0,\"ticks\":\"\"}}],\"contour\":[{\"type\":\"contour\",\"colorbar\":{\"outlinewidth\":0,\"ticks\":\"\"},\"colorscale\":[[0.0,\"#0d0887\"],[0.1111111111111111,\"#46039f\"],[0.2222222222222222,\"#7201a8\"],[0.3333333333333333,\"#9c179e\"],[0.4444444444444444,\"#bd3786\"],[0.5555555555555556,\"#d8576b\"],[0.6666666666666666,\"#ed7953\"],[0.7777777777777778,\"#fb9f3a\"],[0.8888888888888888,\"#fdca26\"],[1.0,\"#f0f921\"]]}],\"surface\":[{\"type\":\"surface\",\"colorbar\":{\"outlinewidth\":0,\"ticks\":\"\"},\"colorscale\":[[0.0,\"#0d0887\"],[0.1111111111111111,\"#46039f\"],[0.2222222222222222,\"#7201a8\"],[0.3333333333333333,\"#9c179e\"],[0.4444444444444444,\"#bd3786\"],[0.5555555555555556,\"#d8576b\"],[0.6666666666666666,\"#ed7953\"],[0.7777777777777778,\"#fb9f3a\"],[0.8888888888888888,\"#fdca26\"],[1.0,\"#f0f921\"]]}],\"mesh3d\":[{\"type\":\"mesh3d\",\"colorbar\":{\"outlinewidth\":0,\"ticks\":\"\"}}],\"scatter\":[{\"fillpattern\":{\"fillmode\":\"overlay\",\"size\":10,\"solidity\":0.2},\"type\":\"scatter\"}],\"parcoords\":[{\"type\":\"parcoords\",\"line\":{\"colorbar\":{\"outlinewidth\":0,\"ticks\":\"\"}}}],\"scatterpolargl\":[{\"type\":\"scatterpolargl\",\"marker\":{\"colorbar\":{\"outlinewidth\":0,\"ticks\":\"\"}}}],\"bar\":[{\"error_x\":{\"color\":\"#2a3f5f\"},\"error_y\":{\"color\":\"#2a3f5f\"},\"marker\":{\"line\":{\"color\":\"#E5ECF6\",\"width\":0.5},\"pattern\":{\"fillmode\":\"overlay\",\"size\":10,\"solidity\":0.2}},\"type\":\"bar\"}],\"scattergeo\":[{\"type\":\"scattergeo\",\"marker\":{\"colorbar\":{\"outlinewidth\":0,\"ticks\":\"\"}}}],\"scatterpolar\":[{\"type\":\"scatterpolar\",\"marker\":{\"colorbar\":{\"outlinewidth\":0,\"ticks\":\"\"}}}],\"histogram\":[{\"marker\":{\"pattern\":{\"fillmode\":\"overlay\",\"size\":10,\"solidity\":0.2}},\"type\":\"histogram\"}],\"scattergl\":[{\"type\":\"scattergl\",\"marker\":{\"colorbar\":{\"outlinewidth\":0,\"ticks\":\"\"}}}],\"scatter3d\":[{\"type\":\"scatter3d\",\"line\":{\"colorbar\":{\"outlinewidth\":0,\"ticks\":\"\"}},\"marker\":{\"colorbar\":{\"outlinewidth\":0,\"ticks\":\"\"}}}],\"scattermapbox\":[{\"type\":\"scattermapbox\",\"marker\":{\"colorbar\":{\"outlinewidth\":0,\"ticks\":\"\"}}}],\"scatterternary\":[{\"type\":\"scatterternary\",\"marker\":{\"colorbar\":{\"outlinewidth\":0,\"ticks\":\"\"}}}],\"scattercarpet\":[{\"type\":\"scattercarpet\",\"marker\":{\"colorbar\":{\"outlinewidth\":0,\"ticks\":\"\"}}}],\"carpet\":[{\"aaxis\":{\"endlinecolor\":\"#2a3f5f\",\"gridcolor\":\"white\",\"linecolor\":\"white\",\"minorgridcolor\":\"white\",\"startlinecolor\":\"#2a3f5f\"},\"baxis\":{\"endlinecolor\":\"#2a3f5f\",\"gridcolor\":\"white\",\"linecolor\":\"white\",\"minorgridcolor\":\"white\",\"startlinecolor\":\"#2a3f5f\"},\"type\":\"carpet\"}],\"table\":[{\"cells\":{\"fill\":{\"color\":\"#EBF0F8\"},\"line\":{\"color\":\"white\"}},\"header\":{\"fill\":{\"color\":\"#C8D4E3\"},\"line\":{\"color\":\"white\"}},\"type\":\"table\"}],\"barpolar\":[{\"marker\":{\"line\":{\"color\":\"#E5ECF6\",\"width\":0.5},\"pattern\":{\"fillmode\":\"overlay\",\"size\":10,\"solidity\":0.2}},\"type\":\"barpolar\"}],\"pie\":[{\"automargin\":true,\"type\":\"pie\"}]},\"layout\":{\"autotypenumbers\":\"strict\",\"colorway\":[\"#636efa\",\"#EF553B\",\"#00cc96\",\"#ab63fa\",\"#FFA15A\",\"#19d3f3\",\"#FF6692\",\"#B6E880\",\"#FF97FF\",\"#FECB52\"],\"font\":{\"color\":\"#2a3f5f\"},\"hovermode\":\"closest\",\"hoverlabel\":{\"align\":\"left\"},\"paper_bgcolor\":\"white\",\"plot_bgcolor\":\"#E5ECF6\",\"polar\":{\"bgcolor\":\"#E5ECF6\",\"angularaxis\":{\"gridcolor\":\"white\",\"linecolor\":\"white\",\"ticks\":\"\"},\"radialaxis\":{\"gridcolor\":\"white\",\"linecolor\":\"white\",\"ticks\":\"\"}},\"ternary\":{\"bgcolor\":\"#E5ECF6\",\"aaxis\":{\"gridcolor\":\"white\",\"linecolor\":\"white\",\"ticks\":\"\"},\"baxis\":{\"gridcolor\":\"white\",\"linecolor\":\"white\",\"ticks\":\"\"},\"caxis\":{\"gridcolor\":\"white\",\"linecolor\":\"white\",\"ticks\":\"\"}},\"coloraxis\":{\"colorbar\":{\"outlinewidth\":0,\"ticks\":\"\"}},\"colorscale\":{\"sequential\":[[0.0,\"#0d0887\"],[0.1111111111111111,\"#46039f\"],[0.2222222222222222,\"#7201a8\"],[0.3333333333333333,\"#9c179e\"],[0.4444444444444444,\"#bd3786\"],[0.5555555555555556,\"#d8576b\"],[0.6666666666666666,\"#ed7953\"],[0.7777777777777778,\"#fb9f3a\"],[0.8888888888888888,\"#fdca26\"],[1.0,\"#f0f921\"]],\"sequentialminus\":[[0.0,\"#0d0887\"],[0.1111111111111111,\"#46039f\"],[0.2222222222222222,\"#7201a8\"],[0.3333333333333333,\"#9c179e\"],[0.4444444444444444,\"#bd3786\"],[0.5555555555555556,\"#d8576b\"],[0.6666666666666666,\"#ed7953\"],[0.7777777777777778,\"#fb9f3a\"],[0.8888888888888888,\"#fdca26\"],[1.0,\"#f0f921\"]],\"diverging\":[[0,\"#8e0152\"],[0.1,\"#c51b7d\"],[0.2,\"#de77ae\"],[0.3,\"#f1b6da\"],[0.4,\"#fde0ef\"],[0.5,\"#f7f7f7\"],[0.6,\"#e6f5d0\"],[0.7,\"#b8e186\"],[0.8,\"#7fbc41\"],[0.9,\"#4d9221\"],[1,\"#276419\"]]},\"xaxis\":{\"gridcolor\":\"white\",\"linecolor\":\"white\",\"ticks\":\"\",\"title\":{\"standoff\":15},\"zerolinecolor\":\"white\",\"automargin\":true,\"zerolinewidth\":2},\"yaxis\":{\"gridcolor\":\"white\",\"linecolor\":\"white\",\"ticks\":\"\",\"title\":{\"standoff\":15},\"zerolinecolor\":\"white\",\"automargin\":true,\"zerolinewidth\":2},\"scene\":{\"xaxis\":{\"backgroundcolor\":\"#E5ECF6\",\"gridcolor\":\"white\",\"linecolor\":\"white\",\"showbackground\":true,\"ticks\":\"\",\"zerolinecolor\":\"white\",\"gridwidth\":2},\"yaxis\":{\"backgroundcolor\":\"#E5ECF6\",\"gridcolor\":\"white\",\"linecolor\":\"white\",\"showbackground\":true,\"ticks\":\"\",\"zerolinecolor\":\"white\",\"gridwidth\":2},\"zaxis\":{\"backgroundcolor\":\"#E5ECF6\",\"gridcolor\":\"white\",\"linecolor\":\"white\",\"showbackground\":true,\"ticks\":\"\",\"zerolinecolor\":\"white\",\"gridwidth\":2}},\"shapedefaults\":{\"line\":{\"color\":\"#2a3f5f\"}},\"annotationdefaults\":{\"arrowcolor\":\"#2a3f5f\",\"arrowhead\":0,\"arrowwidth\":1},\"geo\":{\"bgcolor\":\"white\",\"landcolor\":\"#E5ECF6\",\"subunitcolor\":\"white\",\"showland\":true,\"showlakes\":true,\"lakecolor\":\"white\"},\"title\":{\"x\":0.05},\"mapbox\":{\"style\":\"light\"}}},\"xaxis\":{\"anchor\":\"y\",\"domain\":[0.0,1.0],\"title\":{\"text\":\"\\u0428\\u0438\\u0440\\u0438\\u043d\\u0430 \\u0447\\u0430\\u0448\\u0435\\u043b\\u0438\\u0441\\u0442\\u0438\\u043a\\u0430 (sepal_width)\"}},\"yaxis\":{\"anchor\":\"x\",\"domain\":[0.0,1.0],\"title\":{\"text\":\"\\u0421\\u0435\\u0440\\u0435\\u0434\\u043d\\u0454 \\u0437\\u043d\\u0430\\u0447\\u0435\\u043d\\u043d\\u044f \\u0434\\u043e\\u0432\\u0436\\u0438\\u043d\\u0438 \\u0447\\u0430\\u0448\\u0435\\u043b\\u0438\\u0441\\u0442\\u0438\\u043a\\u0430 (sepal_length)\"}},\"legend\":{\"title\":{\"text\":\"species\"},\"tracegroupgap\":0},\"margin\":{\"t\":60},\"title\":{\"text\":\"\\u0417\\u043c\\u0456\\u043d\\u0430 \\u0441\\u0435\\u0440\\u0435\\u0434\\u043d\\u044c\\u043e\\u0433\\u043e \\u0437\\u043d\\u0430\\u0447\\u0435\\u043d\\u043d\\u044f \\\"sepal_length\\\" \\u0432 \\u0437\\u0430\\u043b\\u0435\\u0436\\u043d\\u043e\\u0441\\u0442\\u0456 \\u0432\\u0456\\u0434 \\\"sepal_width\\\" \\u0437\\u0430 \\u0432\\u0438\\u0434\\u0430\\u043c\\u0438 \\u043a\\u0432\\u0456\\u0442\\u043e\\u043a\"}},                        {\"responsive\": true}                    ).then(function(){\n",
       "                            \n",
       "var gd = document.getElementById('1f8c4e22-0d29-44a0-9697-e58357e963dc');\n",
       "var x = new MutationObserver(function (mutations, observer) {{\n",
       "        var display = window.getComputedStyle(gd).display;\n",
       "        if (!display || display === 'none') {{\n",
       "            console.log([gd, 'removed!']);\n",
       "            Plotly.purge(gd);\n",
       "            observer.disconnect();\n",
       "        }}\n",
       "}});\n",
       "\n",
       "// Listen for the removal of the full notebook cells\n",
       "var notebookContainer = gd.closest('#notebook-container');\n",
       "if (notebookContainer) {{\n",
       "    x.observe(notebookContainer, {childList: true});\n",
       "}}\n",
       "\n",
       "// Listen for the clearing of the current output cell\n",
       "var outputEl = gd.closest('.output');\n",
       "if (outputEl) {{\n",
       "    x.observe(outputEl, {childList: true});\n",
       "}}\n",
       "\n",
       "                        })                };                });            </script>        </div>"
      ]
     },
     "metadata": {},
     "output_type": "display_data"
    }
   ],
   "source": [
    "# Групування даних за видами квіток та обчислення середнього значення \"sepal_length\" та \"sepal_width\"\n",
    "avg_values = df.groupby(['species', 'sepal_width'])['sepal_length'].mean().reset_index()\n",
    "\n",
    "# Побудова лінійного графіка\n",
    "fig = px.line(avg_values, x='sepal_width', y='sepal_length', color='species')\n",
    "\n",
    "# Налаштування заголовка та інших параметрів\n",
    "fig.update_layout(\n",
    "    title='Зміна середнього значення \"sepal_length\" в залежності від \"sepal_width\" за видами квіток',\n",
    "    xaxis_title='Ширина чашелистика (sepal_width)',\n",
    "    yaxis_title='Середнє значення довжини чашелистика (sepal_length)'\n",
    ")\n",
    "\n",
    "fig.show()"
   ]
  },
  {
   "cell_type": "markdown",
   "id": "a542ca78",
   "metadata": {},
   "source": [
    "**Побудуова графіків для датесету px.data.gapminder()**"
   ]
  },
  {
   "cell_type": "markdown",
   "id": "03a0e26a",
   "metadata": {},
   "source": [
    "Завдання 1 \n",
    "\n",
    "Гістограма, яка відображає розподіл ВВП за країнами для року 2007."
   ]
  },
  {
   "cell_type": "code",
   "execution_count": 30,
   "id": "356d791d",
   "metadata": {},
   "outputs": [
    {
     "data": {
      "application/vnd.plotly.v1+json": {
       "config": {
        "plotlyServerURL": "https://plot.ly"
       },
       "data": [
        {
         "alignmentgroup": "True",
         "hovertemplate": "country=%{x}<br>gdpPercap=%{marker.color}<extra></extra>",
         "legendgroup": "",
         "marker": {
          "color": [
           49357.19017,
           47306.98978,
           47143.17964,
           42951.65309,
           40675.99635,
           39724.97867,
           37506.41907,
           36797.93332,
           36319.23501,
           36180.78919
          ],
          "coloraxis": "coloraxis",
          "pattern": {
           "shape": ""
          }
         },
         "name": "",
         "offsetgroup": "",
         "orientation": "v",
         "showlegend": false,
         "text": [
          49357.19017,
          47306.98978,
          47143.17964,
          42951.65309,
          40675.99635,
          39724.97867,
          37506.41907,
          36797.93332,
          36319.23501,
          36180.78919
         ],
         "textposition": "outside",
         "texttemplate": "%{text:.2s}",
         "type": "bar",
         "x": [
          "Norway",
          "Kuwait",
          "Singapore",
          "United States",
          "Ireland",
          "Hong Kong, China",
          "Switzerland",
          "Netherlands",
          "Canada",
          "Iceland"
         ],
         "xaxis": "x",
         "y": [
          49357.19017,
          47306.98978,
          47143.17964,
          42951.65309,
          40675.99635,
          39724.97867,
          37506.41907,
          36797.93332,
          36319.23501,
          36180.78919
         ],
         "yaxis": "y"
        }
       ],
       "layout": {
        "barmode": "relative",
        "coloraxis": {
         "colorbar": {
          "title": {
           "text": "gdpPercap"
          }
         },
         "colorscale": [
          [
           0,
           "#0d0887"
          ],
          [
           0.1111111111111111,
           "#46039f"
          ],
          [
           0.2222222222222222,
           "#7201a8"
          ],
          [
           0.3333333333333333,
           "#9c179e"
          ],
          [
           0.4444444444444444,
           "#bd3786"
          ],
          [
           0.5555555555555556,
           "#d8576b"
          ],
          [
           0.6666666666666666,
           "#ed7953"
          ],
          [
           0.7777777777777778,
           "#fb9f3a"
          ],
          [
           0.8888888888888888,
           "#fdca26"
          ],
          [
           1,
           "#f0f921"
          ]
         ]
        },
        "legend": {
         "tracegroupgap": 0
        },
        "template": {
         "data": {
          "bar": [
           {
            "error_x": {
             "color": "#2a3f5f"
            },
            "error_y": {
             "color": "#2a3f5f"
            },
            "marker": {
             "line": {
              "color": "#E5ECF6",
              "width": 0.5
             },
             "pattern": {
              "fillmode": "overlay",
              "size": 10,
              "solidity": 0.2
             }
            },
            "type": "bar"
           }
          ],
          "barpolar": [
           {
            "marker": {
             "line": {
              "color": "#E5ECF6",
              "width": 0.5
             },
             "pattern": {
              "fillmode": "overlay",
              "size": 10,
              "solidity": 0.2
             }
            },
            "type": "barpolar"
           }
          ],
          "carpet": [
           {
            "aaxis": {
             "endlinecolor": "#2a3f5f",
             "gridcolor": "white",
             "linecolor": "white",
             "minorgridcolor": "white",
             "startlinecolor": "#2a3f5f"
            },
            "baxis": {
             "endlinecolor": "#2a3f5f",
             "gridcolor": "white",
             "linecolor": "white",
             "minorgridcolor": "white",
             "startlinecolor": "#2a3f5f"
            },
            "type": "carpet"
           }
          ],
          "choropleth": [
           {
            "colorbar": {
             "outlinewidth": 0,
             "ticks": ""
            },
            "type": "choropleth"
           }
          ],
          "contour": [
           {
            "colorbar": {
             "outlinewidth": 0,
             "ticks": ""
            },
            "colorscale": [
             [
              0,
              "#0d0887"
             ],
             [
              0.1111111111111111,
              "#46039f"
             ],
             [
              0.2222222222222222,
              "#7201a8"
             ],
             [
              0.3333333333333333,
              "#9c179e"
             ],
             [
              0.4444444444444444,
              "#bd3786"
             ],
             [
              0.5555555555555556,
              "#d8576b"
             ],
             [
              0.6666666666666666,
              "#ed7953"
             ],
             [
              0.7777777777777778,
              "#fb9f3a"
             ],
             [
              0.8888888888888888,
              "#fdca26"
             ],
             [
              1,
              "#f0f921"
             ]
            ],
            "type": "contour"
           }
          ],
          "contourcarpet": [
           {
            "colorbar": {
             "outlinewidth": 0,
             "ticks": ""
            },
            "type": "contourcarpet"
           }
          ],
          "heatmap": [
           {
            "colorbar": {
             "outlinewidth": 0,
             "ticks": ""
            },
            "colorscale": [
             [
              0,
              "#0d0887"
             ],
             [
              0.1111111111111111,
              "#46039f"
             ],
             [
              0.2222222222222222,
              "#7201a8"
             ],
             [
              0.3333333333333333,
              "#9c179e"
             ],
             [
              0.4444444444444444,
              "#bd3786"
             ],
             [
              0.5555555555555556,
              "#d8576b"
             ],
             [
              0.6666666666666666,
              "#ed7953"
             ],
             [
              0.7777777777777778,
              "#fb9f3a"
             ],
             [
              0.8888888888888888,
              "#fdca26"
             ],
             [
              1,
              "#f0f921"
             ]
            ],
            "type": "heatmap"
           }
          ],
          "heatmapgl": [
           {
            "colorbar": {
             "outlinewidth": 0,
             "ticks": ""
            },
            "colorscale": [
             [
              0,
              "#0d0887"
             ],
             [
              0.1111111111111111,
              "#46039f"
             ],
             [
              0.2222222222222222,
              "#7201a8"
             ],
             [
              0.3333333333333333,
              "#9c179e"
             ],
             [
              0.4444444444444444,
              "#bd3786"
             ],
             [
              0.5555555555555556,
              "#d8576b"
             ],
             [
              0.6666666666666666,
              "#ed7953"
             ],
             [
              0.7777777777777778,
              "#fb9f3a"
             ],
             [
              0.8888888888888888,
              "#fdca26"
             ],
             [
              1,
              "#f0f921"
             ]
            ],
            "type": "heatmapgl"
           }
          ],
          "histogram": [
           {
            "marker": {
             "pattern": {
              "fillmode": "overlay",
              "size": 10,
              "solidity": 0.2
             }
            },
            "type": "histogram"
           }
          ],
          "histogram2d": [
           {
            "colorbar": {
             "outlinewidth": 0,
             "ticks": ""
            },
            "colorscale": [
             [
              0,
              "#0d0887"
             ],
             [
              0.1111111111111111,
              "#46039f"
             ],
             [
              0.2222222222222222,
              "#7201a8"
             ],
             [
              0.3333333333333333,
              "#9c179e"
             ],
             [
              0.4444444444444444,
              "#bd3786"
             ],
             [
              0.5555555555555556,
              "#d8576b"
             ],
             [
              0.6666666666666666,
              "#ed7953"
             ],
             [
              0.7777777777777778,
              "#fb9f3a"
             ],
             [
              0.8888888888888888,
              "#fdca26"
             ],
             [
              1,
              "#f0f921"
             ]
            ],
            "type": "histogram2d"
           }
          ],
          "histogram2dcontour": [
           {
            "colorbar": {
             "outlinewidth": 0,
             "ticks": ""
            },
            "colorscale": [
             [
              0,
              "#0d0887"
             ],
             [
              0.1111111111111111,
              "#46039f"
             ],
             [
              0.2222222222222222,
              "#7201a8"
             ],
             [
              0.3333333333333333,
              "#9c179e"
             ],
             [
              0.4444444444444444,
              "#bd3786"
             ],
             [
              0.5555555555555556,
              "#d8576b"
             ],
             [
              0.6666666666666666,
              "#ed7953"
             ],
             [
              0.7777777777777778,
              "#fb9f3a"
             ],
             [
              0.8888888888888888,
              "#fdca26"
             ],
             [
              1,
              "#f0f921"
             ]
            ],
            "type": "histogram2dcontour"
           }
          ],
          "mesh3d": [
           {
            "colorbar": {
             "outlinewidth": 0,
             "ticks": ""
            },
            "type": "mesh3d"
           }
          ],
          "parcoords": [
           {
            "line": {
             "colorbar": {
              "outlinewidth": 0,
              "ticks": ""
             }
            },
            "type": "parcoords"
           }
          ],
          "pie": [
           {
            "automargin": true,
            "type": "pie"
           }
          ],
          "scatter": [
           {
            "fillpattern": {
             "fillmode": "overlay",
             "size": 10,
             "solidity": 0.2
            },
            "type": "scatter"
           }
          ],
          "scatter3d": [
           {
            "line": {
             "colorbar": {
              "outlinewidth": 0,
              "ticks": ""
             }
            },
            "marker": {
             "colorbar": {
              "outlinewidth": 0,
              "ticks": ""
             }
            },
            "type": "scatter3d"
           }
          ],
          "scattercarpet": [
           {
            "marker": {
             "colorbar": {
              "outlinewidth": 0,
              "ticks": ""
             }
            },
            "type": "scattercarpet"
           }
          ],
          "scattergeo": [
           {
            "marker": {
             "colorbar": {
              "outlinewidth": 0,
              "ticks": ""
             }
            },
            "type": "scattergeo"
           }
          ],
          "scattergl": [
           {
            "marker": {
             "colorbar": {
              "outlinewidth": 0,
              "ticks": ""
             }
            },
            "type": "scattergl"
           }
          ],
          "scattermapbox": [
           {
            "marker": {
             "colorbar": {
              "outlinewidth": 0,
              "ticks": ""
             }
            },
            "type": "scattermapbox"
           }
          ],
          "scatterpolar": [
           {
            "marker": {
             "colorbar": {
              "outlinewidth": 0,
              "ticks": ""
             }
            },
            "type": "scatterpolar"
           }
          ],
          "scatterpolargl": [
           {
            "marker": {
             "colorbar": {
              "outlinewidth": 0,
              "ticks": ""
             }
            },
            "type": "scatterpolargl"
           }
          ],
          "scatterternary": [
           {
            "marker": {
             "colorbar": {
              "outlinewidth": 0,
              "ticks": ""
             }
            },
            "type": "scatterternary"
           }
          ],
          "surface": [
           {
            "colorbar": {
             "outlinewidth": 0,
             "ticks": ""
            },
            "colorscale": [
             [
              0,
              "#0d0887"
             ],
             [
              0.1111111111111111,
              "#46039f"
             ],
             [
              0.2222222222222222,
              "#7201a8"
             ],
             [
              0.3333333333333333,
              "#9c179e"
             ],
             [
              0.4444444444444444,
              "#bd3786"
             ],
             [
              0.5555555555555556,
              "#d8576b"
             ],
             [
              0.6666666666666666,
              "#ed7953"
             ],
             [
              0.7777777777777778,
              "#fb9f3a"
             ],
             [
              0.8888888888888888,
              "#fdca26"
             ],
             [
              1,
              "#f0f921"
             ]
            ],
            "type": "surface"
           }
          ],
          "table": [
           {
            "cells": {
             "fill": {
              "color": "#EBF0F8"
             },
             "line": {
              "color": "white"
             }
            },
            "header": {
             "fill": {
              "color": "#C8D4E3"
             },
             "line": {
              "color": "white"
             }
            },
            "type": "table"
           }
          ]
         },
         "layout": {
          "annotationdefaults": {
           "arrowcolor": "#2a3f5f",
           "arrowhead": 0,
           "arrowwidth": 1
          },
          "autotypenumbers": "strict",
          "coloraxis": {
           "colorbar": {
            "outlinewidth": 0,
            "ticks": ""
           }
          },
          "colorscale": {
           "diverging": [
            [
             0,
             "#8e0152"
            ],
            [
             0.1,
             "#c51b7d"
            ],
            [
             0.2,
             "#de77ae"
            ],
            [
             0.3,
             "#f1b6da"
            ],
            [
             0.4,
             "#fde0ef"
            ],
            [
             0.5,
             "#f7f7f7"
            ],
            [
             0.6,
             "#e6f5d0"
            ],
            [
             0.7,
             "#b8e186"
            ],
            [
             0.8,
             "#7fbc41"
            ],
            [
             0.9,
             "#4d9221"
            ],
            [
             1,
             "#276419"
            ]
           ],
           "sequential": [
            [
             0,
             "#0d0887"
            ],
            [
             0.1111111111111111,
             "#46039f"
            ],
            [
             0.2222222222222222,
             "#7201a8"
            ],
            [
             0.3333333333333333,
             "#9c179e"
            ],
            [
             0.4444444444444444,
             "#bd3786"
            ],
            [
             0.5555555555555556,
             "#d8576b"
            ],
            [
             0.6666666666666666,
             "#ed7953"
            ],
            [
             0.7777777777777778,
             "#fb9f3a"
            ],
            [
             0.8888888888888888,
             "#fdca26"
            ],
            [
             1,
             "#f0f921"
            ]
           ],
           "sequentialminus": [
            [
             0,
             "#0d0887"
            ],
            [
             0.1111111111111111,
             "#46039f"
            ],
            [
             0.2222222222222222,
             "#7201a8"
            ],
            [
             0.3333333333333333,
             "#9c179e"
            ],
            [
             0.4444444444444444,
             "#bd3786"
            ],
            [
             0.5555555555555556,
             "#d8576b"
            ],
            [
             0.6666666666666666,
             "#ed7953"
            ],
            [
             0.7777777777777778,
             "#fb9f3a"
            ],
            [
             0.8888888888888888,
             "#fdca26"
            ],
            [
             1,
             "#f0f921"
            ]
           ]
          },
          "colorway": [
           "#636efa",
           "#EF553B",
           "#00cc96",
           "#ab63fa",
           "#FFA15A",
           "#19d3f3",
           "#FF6692",
           "#B6E880",
           "#FF97FF",
           "#FECB52"
          ],
          "font": {
           "color": "#2a3f5f"
          },
          "geo": {
           "bgcolor": "white",
           "lakecolor": "white",
           "landcolor": "#E5ECF6",
           "showlakes": true,
           "showland": true,
           "subunitcolor": "white"
          },
          "hoverlabel": {
           "align": "left"
          },
          "hovermode": "closest",
          "mapbox": {
           "style": "light"
          },
          "paper_bgcolor": "white",
          "plot_bgcolor": "#E5ECF6",
          "polar": {
           "angularaxis": {
            "gridcolor": "white",
            "linecolor": "white",
            "ticks": ""
           },
           "bgcolor": "#E5ECF6",
           "radialaxis": {
            "gridcolor": "white",
            "linecolor": "white",
            "ticks": ""
           }
          },
          "scene": {
           "xaxis": {
            "backgroundcolor": "#E5ECF6",
            "gridcolor": "white",
            "gridwidth": 2,
            "linecolor": "white",
            "showbackground": true,
            "ticks": "",
            "zerolinecolor": "white"
           },
           "yaxis": {
            "backgroundcolor": "#E5ECF6",
            "gridcolor": "white",
            "gridwidth": 2,
            "linecolor": "white",
            "showbackground": true,
            "ticks": "",
            "zerolinecolor": "white"
           },
           "zaxis": {
            "backgroundcolor": "#E5ECF6",
            "gridcolor": "white",
            "gridwidth": 2,
            "linecolor": "white",
            "showbackground": true,
            "ticks": "",
            "zerolinecolor": "white"
           }
          },
          "shapedefaults": {
           "line": {
            "color": "#2a3f5f"
           }
          },
          "ternary": {
           "aaxis": {
            "gridcolor": "white",
            "linecolor": "white",
            "ticks": ""
           },
           "baxis": {
            "gridcolor": "white",
            "linecolor": "white",
            "ticks": ""
           },
           "bgcolor": "#E5ECF6",
           "caxis": {
            "gridcolor": "white",
            "linecolor": "white",
            "ticks": ""
           }
          },
          "title": {
           "x": 0.05
          },
          "xaxis": {
           "automargin": true,
           "gridcolor": "white",
           "linecolor": "white",
           "ticks": "",
           "title": {
            "standoff": 15
           },
           "zerolinecolor": "white",
           "zerolinewidth": 2
          },
          "yaxis": {
           "automargin": true,
           "gridcolor": "white",
           "linecolor": "white",
           "ticks": "",
           "title": {
            "standoff": 15
           },
           "zerolinecolor": "white",
           "zerolinewidth": 2
          }
         }
        },
        "title": {
         "text": "Гістограма ВВП за країнами (2007 року)",
         "x": 0.5
        },
        "xaxis": {
         "anchor": "y",
         "domain": [
          0,
          1
         ],
         "title": {
          "text": "Країна"
         }
        },
        "yaxis": {
         "anchor": "x",
         "domain": [
          0,
          1
         ],
         "title": {
          "text": "ВВП на душу населення"
         }
        }
       }
      },
      "text/html": [
       "<div>                            <div id=\"51a7a85a-c974-4804-81c1-9d7f9ec74e3a\" class=\"plotly-graph-div\" style=\"height:525px; width:100%;\"></div>            <script type=\"text/javascript\">                require([\"plotly\"], function(Plotly) {                    window.PLOTLYENV=window.PLOTLYENV || {};                                    if (document.getElementById(\"51a7a85a-c974-4804-81c1-9d7f9ec74e3a\")) {                    Plotly.newPlot(                        \"51a7a85a-c974-4804-81c1-9d7f9ec74e3a\",                        [{\"alignmentgroup\":\"True\",\"hovertemplate\":\"country=%{x}<br>gdpPercap=%{marker.color}<extra></extra>\",\"legendgroup\":\"\",\"marker\":{\"color\":[49357.19017,47306.98978,47143.17964,42951.65309,40675.99635,39724.97867,37506.41907,36797.93332,36319.23501,36180.78919],\"coloraxis\":\"coloraxis\",\"pattern\":{\"shape\":\"\"}},\"name\":\"\",\"offsetgroup\":\"\",\"orientation\":\"v\",\"showlegend\":false,\"text\":[49357.19017,47306.98978,47143.17964,42951.65309,40675.99635,39724.97867,37506.41907,36797.93332,36319.23501,36180.78919],\"textposition\":\"outside\",\"x\":[\"Norway\",\"Kuwait\",\"Singapore\",\"United States\",\"Ireland\",\"Hong Kong, China\",\"Switzerland\",\"Netherlands\",\"Canada\",\"Iceland\"],\"xaxis\":\"x\",\"y\":[49357.19017,47306.98978,47143.17964,42951.65309,40675.99635,39724.97867,37506.41907,36797.93332,36319.23501,36180.78919],\"yaxis\":\"y\",\"type\":\"bar\",\"texttemplate\":\"%{text:.2s}\"}],                        {\"template\":{\"data\":{\"histogram2dcontour\":[{\"type\":\"histogram2dcontour\",\"colorbar\":{\"outlinewidth\":0,\"ticks\":\"\"},\"colorscale\":[[0.0,\"#0d0887\"],[0.1111111111111111,\"#46039f\"],[0.2222222222222222,\"#7201a8\"],[0.3333333333333333,\"#9c179e\"],[0.4444444444444444,\"#bd3786\"],[0.5555555555555556,\"#d8576b\"],[0.6666666666666666,\"#ed7953\"],[0.7777777777777778,\"#fb9f3a\"],[0.8888888888888888,\"#fdca26\"],[1.0,\"#f0f921\"]]}],\"choropleth\":[{\"type\":\"choropleth\",\"colorbar\":{\"outlinewidth\":0,\"ticks\":\"\"}}],\"histogram2d\":[{\"type\":\"histogram2d\",\"colorbar\":{\"outlinewidth\":0,\"ticks\":\"\"},\"colorscale\":[[0.0,\"#0d0887\"],[0.1111111111111111,\"#46039f\"],[0.2222222222222222,\"#7201a8\"],[0.3333333333333333,\"#9c179e\"],[0.4444444444444444,\"#bd3786\"],[0.5555555555555556,\"#d8576b\"],[0.6666666666666666,\"#ed7953\"],[0.7777777777777778,\"#fb9f3a\"],[0.8888888888888888,\"#fdca26\"],[1.0,\"#f0f921\"]]}],\"heatmap\":[{\"type\":\"heatmap\",\"colorbar\":{\"outlinewidth\":0,\"ticks\":\"\"},\"colorscale\":[[0.0,\"#0d0887\"],[0.1111111111111111,\"#46039f\"],[0.2222222222222222,\"#7201a8\"],[0.3333333333333333,\"#9c179e\"],[0.4444444444444444,\"#bd3786\"],[0.5555555555555556,\"#d8576b\"],[0.6666666666666666,\"#ed7953\"],[0.7777777777777778,\"#fb9f3a\"],[0.8888888888888888,\"#fdca26\"],[1.0,\"#f0f921\"]]}],\"heatmapgl\":[{\"type\":\"heatmapgl\",\"colorbar\":{\"outlinewidth\":0,\"ticks\":\"\"},\"colorscale\":[[0.0,\"#0d0887\"],[0.1111111111111111,\"#46039f\"],[0.2222222222222222,\"#7201a8\"],[0.3333333333333333,\"#9c179e\"],[0.4444444444444444,\"#bd3786\"],[0.5555555555555556,\"#d8576b\"],[0.6666666666666666,\"#ed7953\"],[0.7777777777777778,\"#fb9f3a\"],[0.8888888888888888,\"#fdca26\"],[1.0,\"#f0f921\"]]}],\"contourcarpet\":[{\"type\":\"contourcarpet\",\"colorbar\":{\"outlinewidth\":0,\"ticks\":\"\"}}],\"contour\":[{\"type\":\"contour\",\"colorbar\":{\"outlinewidth\":0,\"ticks\":\"\"},\"colorscale\":[[0.0,\"#0d0887\"],[0.1111111111111111,\"#46039f\"],[0.2222222222222222,\"#7201a8\"],[0.3333333333333333,\"#9c179e\"],[0.4444444444444444,\"#bd3786\"],[0.5555555555555556,\"#d8576b\"],[0.6666666666666666,\"#ed7953\"],[0.7777777777777778,\"#fb9f3a\"],[0.8888888888888888,\"#fdca26\"],[1.0,\"#f0f921\"]]}],\"surface\":[{\"type\":\"surface\",\"colorbar\":{\"outlinewidth\":0,\"ticks\":\"\"},\"colorscale\":[[0.0,\"#0d0887\"],[0.1111111111111111,\"#46039f\"],[0.2222222222222222,\"#7201a8\"],[0.3333333333333333,\"#9c179e\"],[0.4444444444444444,\"#bd3786\"],[0.5555555555555556,\"#d8576b\"],[0.6666666666666666,\"#ed7953\"],[0.7777777777777778,\"#fb9f3a\"],[0.8888888888888888,\"#fdca26\"],[1.0,\"#f0f921\"]]}],\"mesh3d\":[{\"type\":\"mesh3d\",\"colorbar\":{\"outlinewidth\":0,\"ticks\":\"\"}}],\"scatter\":[{\"fillpattern\":{\"fillmode\":\"overlay\",\"size\":10,\"solidity\":0.2},\"type\":\"scatter\"}],\"parcoords\":[{\"type\":\"parcoords\",\"line\":{\"colorbar\":{\"outlinewidth\":0,\"ticks\":\"\"}}}],\"scatterpolargl\":[{\"type\":\"scatterpolargl\",\"marker\":{\"colorbar\":{\"outlinewidth\":0,\"ticks\":\"\"}}}],\"bar\":[{\"error_x\":{\"color\":\"#2a3f5f\"},\"error_y\":{\"color\":\"#2a3f5f\"},\"marker\":{\"line\":{\"color\":\"#E5ECF6\",\"width\":0.5},\"pattern\":{\"fillmode\":\"overlay\",\"size\":10,\"solidity\":0.2}},\"type\":\"bar\"}],\"scattergeo\":[{\"type\":\"scattergeo\",\"marker\":{\"colorbar\":{\"outlinewidth\":0,\"ticks\":\"\"}}}],\"scatterpolar\":[{\"type\":\"scatterpolar\",\"marker\":{\"colorbar\":{\"outlinewidth\":0,\"ticks\":\"\"}}}],\"histogram\":[{\"marker\":{\"pattern\":{\"fillmode\":\"overlay\",\"size\":10,\"solidity\":0.2}},\"type\":\"histogram\"}],\"scattergl\":[{\"type\":\"scattergl\",\"marker\":{\"colorbar\":{\"outlinewidth\":0,\"ticks\":\"\"}}}],\"scatter3d\":[{\"type\":\"scatter3d\",\"line\":{\"colorbar\":{\"outlinewidth\":0,\"ticks\":\"\"}},\"marker\":{\"colorbar\":{\"outlinewidth\":0,\"ticks\":\"\"}}}],\"scattermapbox\":[{\"type\":\"scattermapbox\",\"marker\":{\"colorbar\":{\"outlinewidth\":0,\"ticks\":\"\"}}}],\"scatterternary\":[{\"type\":\"scatterternary\",\"marker\":{\"colorbar\":{\"outlinewidth\":0,\"ticks\":\"\"}}}],\"scattercarpet\":[{\"type\":\"scattercarpet\",\"marker\":{\"colorbar\":{\"outlinewidth\":0,\"ticks\":\"\"}}}],\"carpet\":[{\"aaxis\":{\"endlinecolor\":\"#2a3f5f\",\"gridcolor\":\"white\",\"linecolor\":\"white\",\"minorgridcolor\":\"white\",\"startlinecolor\":\"#2a3f5f\"},\"baxis\":{\"endlinecolor\":\"#2a3f5f\",\"gridcolor\":\"white\",\"linecolor\":\"white\",\"minorgridcolor\":\"white\",\"startlinecolor\":\"#2a3f5f\"},\"type\":\"carpet\"}],\"table\":[{\"cells\":{\"fill\":{\"color\":\"#EBF0F8\"},\"line\":{\"color\":\"white\"}},\"header\":{\"fill\":{\"color\":\"#C8D4E3\"},\"line\":{\"color\":\"white\"}},\"type\":\"table\"}],\"barpolar\":[{\"marker\":{\"line\":{\"color\":\"#E5ECF6\",\"width\":0.5},\"pattern\":{\"fillmode\":\"overlay\",\"size\":10,\"solidity\":0.2}},\"type\":\"barpolar\"}],\"pie\":[{\"automargin\":true,\"type\":\"pie\"}]},\"layout\":{\"autotypenumbers\":\"strict\",\"colorway\":[\"#636efa\",\"#EF553B\",\"#00cc96\",\"#ab63fa\",\"#FFA15A\",\"#19d3f3\",\"#FF6692\",\"#B6E880\",\"#FF97FF\",\"#FECB52\"],\"font\":{\"color\":\"#2a3f5f\"},\"hovermode\":\"closest\",\"hoverlabel\":{\"align\":\"left\"},\"paper_bgcolor\":\"white\",\"plot_bgcolor\":\"#E5ECF6\",\"polar\":{\"bgcolor\":\"#E5ECF6\",\"angularaxis\":{\"gridcolor\":\"white\",\"linecolor\":\"white\",\"ticks\":\"\"},\"radialaxis\":{\"gridcolor\":\"white\",\"linecolor\":\"white\",\"ticks\":\"\"}},\"ternary\":{\"bgcolor\":\"#E5ECF6\",\"aaxis\":{\"gridcolor\":\"white\",\"linecolor\":\"white\",\"ticks\":\"\"},\"baxis\":{\"gridcolor\":\"white\",\"linecolor\":\"white\",\"ticks\":\"\"},\"caxis\":{\"gridcolor\":\"white\",\"linecolor\":\"white\",\"ticks\":\"\"}},\"coloraxis\":{\"colorbar\":{\"outlinewidth\":0,\"ticks\":\"\"}},\"colorscale\":{\"sequential\":[[0.0,\"#0d0887\"],[0.1111111111111111,\"#46039f\"],[0.2222222222222222,\"#7201a8\"],[0.3333333333333333,\"#9c179e\"],[0.4444444444444444,\"#bd3786\"],[0.5555555555555556,\"#d8576b\"],[0.6666666666666666,\"#ed7953\"],[0.7777777777777778,\"#fb9f3a\"],[0.8888888888888888,\"#fdca26\"],[1.0,\"#f0f921\"]],\"sequentialminus\":[[0.0,\"#0d0887\"],[0.1111111111111111,\"#46039f\"],[0.2222222222222222,\"#7201a8\"],[0.3333333333333333,\"#9c179e\"],[0.4444444444444444,\"#bd3786\"],[0.5555555555555556,\"#d8576b\"],[0.6666666666666666,\"#ed7953\"],[0.7777777777777778,\"#fb9f3a\"],[0.8888888888888888,\"#fdca26\"],[1.0,\"#f0f921\"]],\"diverging\":[[0,\"#8e0152\"],[0.1,\"#c51b7d\"],[0.2,\"#de77ae\"],[0.3,\"#f1b6da\"],[0.4,\"#fde0ef\"],[0.5,\"#f7f7f7\"],[0.6,\"#e6f5d0\"],[0.7,\"#b8e186\"],[0.8,\"#7fbc41\"],[0.9,\"#4d9221\"],[1,\"#276419\"]]},\"xaxis\":{\"gridcolor\":\"white\",\"linecolor\":\"white\",\"ticks\":\"\",\"title\":{\"standoff\":15},\"zerolinecolor\":\"white\",\"automargin\":true,\"zerolinewidth\":2},\"yaxis\":{\"gridcolor\":\"white\",\"linecolor\":\"white\",\"ticks\":\"\",\"title\":{\"standoff\":15},\"zerolinecolor\":\"white\",\"automargin\":true,\"zerolinewidth\":2},\"scene\":{\"xaxis\":{\"backgroundcolor\":\"#E5ECF6\",\"gridcolor\":\"white\",\"linecolor\":\"white\",\"showbackground\":true,\"ticks\":\"\",\"zerolinecolor\":\"white\",\"gridwidth\":2},\"yaxis\":{\"backgroundcolor\":\"#E5ECF6\",\"gridcolor\":\"white\",\"linecolor\":\"white\",\"showbackground\":true,\"ticks\":\"\",\"zerolinecolor\":\"white\",\"gridwidth\":2},\"zaxis\":{\"backgroundcolor\":\"#E5ECF6\",\"gridcolor\":\"white\",\"linecolor\":\"white\",\"showbackground\":true,\"ticks\":\"\",\"zerolinecolor\":\"white\",\"gridwidth\":2}},\"shapedefaults\":{\"line\":{\"color\":\"#2a3f5f\"}},\"annotationdefaults\":{\"arrowcolor\":\"#2a3f5f\",\"arrowhead\":0,\"arrowwidth\":1},\"geo\":{\"bgcolor\":\"white\",\"landcolor\":\"#E5ECF6\",\"subunitcolor\":\"white\",\"showland\":true,\"showlakes\":true,\"lakecolor\":\"white\"},\"title\":{\"x\":0.05},\"mapbox\":{\"style\":\"light\"}}},\"xaxis\":{\"anchor\":\"y\",\"domain\":[0.0,1.0],\"title\":{\"text\":\"\\u041a\\u0440\\u0430\\u0457\\u043d\\u0430\"}},\"yaxis\":{\"anchor\":\"x\",\"domain\":[0.0,1.0],\"title\":{\"text\":\"\\u0412\\u0412\\u041f \\u043d\\u0430 \\u0434\\u0443\\u0448\\u0443 \\u043d\\u0430\\u0441\\u0435\\u043b\\u0435\\u043d\\u043d\\u044f\"}},\"coloraxis\":{\"colorbar\":{\"title\":{\"text\":\"gdpPercap\"}},\"colorscale\":[[0.0,\"#0d0887\"],[0.1111111111111111,\"#46039f\"],[0.2222222222222222,\"#7201a8\"],[0.3333333333333333,\"#9c179e\"],[0.4444444444444444,\"#bd3786\"],[0.5555555555555556,\"#d8576b\"],[0.6666666666666666,\"#ed7953\"],[0.7777777777777778,\"#fb9f3a\"],[0.8888888888888888,\"#fdca26\"],[1.0,\"#f0f921\"]]},\"legend\":{\"tracegroupgap\":0},\"title\":{\"text\":\"\\u0413\\u0456\\u0441\\u0442\\u043e\\u0433\\u0440\\u0430\\u043c\\u0430 \\u0412\\u0412\\u041f \\u0437\\u0430 \\u043a\\u0440\\u0430\\u0457\\u043d\\u0430\\u043c\\u0438 (2007 \\u0440\\u043e\\u043a\\u0443)\",\"x\":0.5},\"barmode\":\"relative\"},                        {\"responsive\": true}                    ).then(function(){\n",
       "                            \n",
       "var gd = document.getElementById('51a7a85a-c974-4804-81c1-9d7f9ec74e3a');\n",
       "var x = new MutationObserver(function (mutations, observer) {{\n",
       "        var display = window.getComputedStyle(gd).display;\n",
       "        if (!display || display === 'none') {{\n",
       "            console.log([gd, 'removed!']);\n",
       "            Plotly.purge(gd);\n",
       "            observer.disconnect();\n",
       "        }}\n",
       "}});\n",
       "\n",
       "// Listen for the removal of the full notebook cells\n",
       "var notebookContainer = gd.closest('#notebook-container');\n",
       "if (notebookContainer) {{\n",
       "    x.observe(notebookContainer, {childList: true});\n",
       "}}\n",
       "\n",
       "// Listen for the clearing of the current output cell\n",
       "var outputEl = gd.closest('.output');\n",
       "if (outputEl) {{\n",
       "    x.observe(outputEl, {childList: true});\n",
       "}}\n",
       "\n",
       "                        })                };                });            </script>        </div>"
      ]
     },
     "metadata": {},
     "output_type": "display_data"
    }
   ],
   "source": [
    "gapminder = px.data.gapminder()\n",
    "\n",
    "# Завантаження даних з gapminder для року 2007\n",
    "gapmider_2007 = gapminder.query(\"year == 2007\")\n",
    "\n",
    "# Вибір 10 країн з найбільшим ВВП\n",
    "top_10_countries = gapmider_2007.nlargest(10, 'gdpPercap')\n",
    "\n",
    "# Побудова гістограми\n",
    "fig = px.bar(top_10_countries, x='country', y='gdpPercap', text='gdpPercap', color='gdpPercap',\n",
    "             title=\"Гістограма ВВП за країнами (2007 року)\")\n",
    "\n",
    "# Налаштування вигляду гістограми\n",
    "fig.update_traces(texttemplate='%{text:.2s}', textposition='outside')\n",
    "fig.update_layout(\n",
    "    xaxis_title='Країна',\n",
    "    yaxis_title='ВВП на душу населення',\n",
    "    title_x=0.5 \n",
    ")\n",
    "\n",
    "fig.show()"
   ]
  },
  {
   "cell_type": "markdown",
   "id": "768e0437",
   "metadata": {},
   "source": [
    "Завдання 2\n",
    "\n",
    "Діаграму, яка відображає розподіл ВВП за країнами Європи у 2018 році."
   ]
  },
  {
   "cell_type": "code",
   "execution_count": 32,
   "id": "e45d5347",
   "metadata": {},
   "outputs": [
    {
     "data": {
      "application/vnd.plotly.v1+json": {
       "config": {
        "plotlyServerURL": "https://plot.ly"
       },
       "data": [
        {
         "domain": {
          "x": [
           0,
           1
          ],
          "y": [
           0,
           1
          ]
         },
         "hovertemplate": "country=%{label}<br>gdpPercap=%{value}<extra></extra>",
         "labels": [],
         "legendgroup": "",
         "name": "",
         "showlegend": true,
         "type": "pie",
         "values": []
        }
       ],
       "layout": {
        "annotations": [
         {
          "showarrow": false,
          "text": "ВВП країн Європи"
         }
        ],
        "legend": {
         "tracegroupgap": 0
        },
        "template": {
         "data": {
          "bar": [
           {
            "error_x": {
             "color": "#2a3f5f"
            },
            "error_y": {
             "color": "#2a3f5f"
            },
            "marker": {
             "line": {
              "color": "#E5ECF6",
              "width": 0.5
             },
             "pattern": {
              "fillmode": "overlay",
              "size": 10,
              "solidity": 0.2
             }
            },
            "type": "bar"
           }
          ],
          "barpolar": [
           {
            "marker": {
             "line": {
              "color": "#E5ECF6",
              "width": 0.5
             },
             "pattern": {
              "fillmode": "overlay",
              "size": 10,
              "solidity": 0.2
             }
            },
            "type": "barpolar"
           }
          ],
          "carpet": [
           {
            "aaxis": {
             "endlinecolor": "#2a3f5f",
             "gridcolor": "white",
             "linecolor": "white",
             "minorgridcolor": "white",
             "startlinecolor": "#2a3f5f"
            },
            "baxis": {
             "endlinecolor": "#2a3f5f",
             "gridcolor": "white",
             "linecolor": "white",
             "minorgridcolor": "white",
             "startlinecolor": "#2a3f5f"
            },
            "type": "carpet"
           }
          ],
          "choropleth": [
           {
            "colorbar": {
             "outlinewidth": 0,
             "ticks": ""
            },
            "type": "choropleth"
           }
          ],
          "contour": [
           {
            "colorbar": {
             "outlinewidth": 0,
             "ticks": ""
            },
            "colorscale": [
             [
              0,
              "#0d0887"
             ],
             [
              0.1111111111111111,
              "#46039f"
             ],
             [
              0.2222222222222222,
              "#7201a8"
             ],
             [
              0.3333333333333333,
              "#9c179e"
             ],
             [
              0.4444444444444444,
              "#bd3786"
             ],
             [
              0.5555555555555556,
              "#d8576b"
             ],
             [
              0.6666666666666666,
              "#ed7953"
             ],
             [
              0.7777777777777778,
              "#fb9f3a"
             ],
             [
              0.8888888888888888,
              "#fdca26"
             ],
             [
              1,
              "#f0f921"
             ]
            ],
            "type": "contour"
           }
          ],
          "contourcarpet": [
           {
            "colorbar": {
             "outlinewidth": 0,
             "ticks": ""
            },
            "type": "contourcarpet"
           }
          ],
          "heatmap": [
           {
            "colorbar": {
             "outlinewidth": 0,
             "ticks": ""
            },
            "colorscale": [
             [
              0,
              "#0d0887"
             ],
             [
              0.1111111111111111,
              "#46039f"
             ],
             [
              0.2222222222222222,
              "#7201a8"
             ],
             [
              0.3333333333333333,
              "#9c179e"
             ],
             [
              0.4444444444444444,
              "#bd3786"
             ],
             [
              0.5555555555555556,
              "#d8576b"
             ],
             [
              0.6666666666666666,
              "#ed7953"
             ],
             [
              0.7777777777777778,
              "#fb9f3a"
             ],
             [
              0.8888888888888888,
              "#fdca26"
             ],
             [
              1,
              "#f0f921"
             ]
            ],
            "type": "heatmap"
           }
          ],
          "heatmapgl": [
           {
            "colorbar": {
             "outlinewidth": 0,
             "ticks": ""
            },
            "colorscale": [
             [
              0,
              "#0d0887"
             ],
             [
              0.1111111111111111,
              "#46039f"
             ],
             [
              0.2222222222222222,
              "#7201a8"
             ],
             [
              0.3333333333333333,
              "#9c179e"
             ],
             [
              0.4444444444444444,
              "#bd3786"
             ],
             [
              0.5555555555555556,
              "#d8576b"
             ],
             [
              0.6666666666666666,
              "#ed7953"
             ],
             [
              0.7777777777777778,
              "#fb9f3a"
             ],
             [
              0.8888888888888888,
              "#fdca26"
             ],
             [
              1,
              "#f0f921"
             ]
            ],
            "type": "heatmapgl"
           }
          ],
          "histogram": [
           {
            "marker": {
             "pattern": {
              "fillmode": "overlay",
              "size": 10,
              "solidity": 0.2
             }
            },
            "type": "histogram"
           }
          ],
          "histogram2d": [
           {
            "colorbar": {
             "outlinewidth": 0,
             "ticks": ""
            },
            "colorscale": [
             [
              0,
              "#0d0887"
             ],
             [
              0.1111111111111111,
              "#46039f"
             ],
             [
              0.2222222222222222,
              "#7201a8"
             ],
             [
              0.3333333333333333,
              "#9c179e"
             ],
             [
              0.4444444444444444,
              "#bd3786"
             ],
             [
              0.5555555555555556,
              "#d8576b"
             ],
             [
              0.6666666666666666,
              "#ed7953"
             ],
             [
              0.7777777777777778,
              "#fb9f3a"
             ],
             [
              0.8888888888888888,
              "#fdca26"
             ],
             [
              1,
              "#f0f921"
             ]
            ],
            "type": "histogram2d"
           }
          ],
          "histogram2dcontour": [
           {
            "colorbar": {
             "outlinewidth": 0,
             "ticks": ""
            },
            "colorscale": [
             [
              0,
              "#0d0887"
             ],
             [
              0.1111111111111111,
              "#46039f"
             ],
             [
              0.2222222222222222,
              "#7201a8"
             ],
             [
              0.3333333333333333,
              "#9c179e"
             ],
             [
              0.4444444444444444,
              "#bd3786"
             ],
             [
              0.5555555555555556,
              "#d8576b"
             ],
             [
              0.6666666666666666,
              "#ed7953"
             ],
             [
              0.7777777777777778,
              "#fb9f3a"
             ],
             [
              0.8888888888888888,
              "#fdca26"
             ],
             [
              1,
              "#f0f921"
             ]
            ],
            "type": "histogram2dcontour"
           }
          ],
          "mesh3d": [
           {
            "colorbar": {
             "outlinewidth": 0,
             "ticks": ""
            },
            "type": "mesh3d"
           }
          ],
          "parcoords": [
           {
            "line": {
             "colorbar": {
              "outlinewidth": 0,
              "ticks": ""
             }
            },
            "type": "parcoords"
           }
          ],
          "pie": [
           {
            "automargin": true,
            "type": "pie"
           }
          ],
          "scatter": [
           {
            "fillpattern": {
             "fillmode": "overlay",
             "size": 10,
             "solidity": 0.2
            },
            "type": "scatter"
           }
          ],
          "scatter3d": [
           {
            "line": {
             "colorbar": {
              "outlinewidth": 0,
              "ticks": ""
             }
            },
            "marker": {
             "colorbar": {
              "outlinewidth": 0,
              "ticks": ""
             }
            },
            "type": "scatter3d"
           }
          ],
          "scattercarpet": [
           {
            "marker": {
             "colorbar": {
              "outlinewidth": 0,
              "ticks": ""
             }
            },
            "type": "scattercarpet"
           }
          ],
          "scattergeo": [
           {
            "marker": {
             "colorbar": {
              "outlinewidth": 0,
              "ticks": ""
             }
            },
            "type": "scattergeo"
           }
          ],
          "scattergl": [
           {
            "marker": {
             "colorbar": {
              "outlinewidth": 0,
              "ticks": ""
             }
            },
            "type": "scattergl"
           }
          ],
          "scattermapbox": [
           {
            "marker": {
             "colorbar": {
              "outlinewidth": 0,
              "ticks": ""
             }
            },
            "type": "scattermapbox"
           }
          ],
          "scatterpolar": [
           {
            "marker": {
             "colorbar": {
              "outlinewidth": 0,
              "ticks": ""
             }
            },
            "type": "scatterpolar"
           }
          ],
          "scatterpolargl": [
           {
            "marker": {
             "colorbar": {
              "outlinewidth": 0,
              "ticks": ""
             }
            },
            "type": "scatterpolargl"
           }
          ],
          "scatterternary": [
           {
            "marker": {
             "colorbar": {
              "outlinewidth": 0,
              "ticks": ""
             }
            },
            "type": "scatterternary"
           }
          ],
          "surface": [
           {
            "colorbar": {
             "outlinewidth": 0,
             "ticks": ""
            },
            "colorscale": [
             [
              0,
              "#0d0887"
             ],
             [
              0.1111111111111111,
              "#46039f"
             ],
             [
              0.2222222222222222,
              "#7201a8"
             ],
             [
              0.3333333333333333,
              "#9c179e"
             ],
             [
              0.4444444444444444,
              "#bd3786"
             ],
             [
              0.5555555555555556,
              "#d8576b"
             ],
             [
              0.6666666666666666,
              "#ed7953"
             ],
             [
              0.7777777777777778,
              "#fb9f3a"
             ],
             [
              0.8888888888888888,
              "#fdca26"
             ],
             [
              1,
              "#f0f921"
             ]
            ],
            "type": "surface"
           }
          ],
          "table": [
           {
            "cells": {
             "fill": {
              "color": "#EBF0F8"
             },
             "line": {
              "color": "white"
             }
            },
            "header": {
             "fill": {
              "color": "#C8D4E3"
             },
             "line": {
              "color": "white"
             }
            },
            "type": "table"
           }
          ]
         },
         "layout": {
          "annotationdefaults": {
           "arrowcolor": "#2a3f5f",
           "arrowhead": 0,
           "arrowwidth": 1
          },
          "autotypenumbers": "strict",
          "coloraxis": {
           "colorbar": {
            "outlinewidth": 0,
            "ticks": ""
           }
          },
          "colorscale": {
           "diverging": [
            [
             0,
             "#8e0152"
            ],
            [
             0.1,
             "#c51b7d"
            ],
            [
             0.2,
             "#de77ae"
            ],
            [
             0.3,
             "#f1b6da"
            ],
            [
             0.4,
             "#fde0ef"
            ],
            [
             0.5,
             "#f7f7f7"
            ],
            [
             0.6,
             "#e6f5d0"
            ],
            [
             0.7,
             "#b8e186"
            ],
            [
             0.8,
             "#7fbc41"
            ],
            [
             0.9,
             "#4d9221"
            ],
            [
             1,
             "#276419"
            ]
           ],
           "sequential": [
            [
             0,
             "#0d0887"
            ],
            [
             0.1111111111111111,
             "#46039f"
            ],
            [
             0.2222222222222222,
             "#7201a8"
            ],
            [
             0.3333333333333333,
             "#9c179e"
            ],
            [
             0.4444444444444444,
             "#bd3786"
            ],
            [
             0.5555555555555556,
             "#d8576b"
            ],
            [
             0.6666666666666666,
             "#ed7953"
            ],
            [
             0.7777777777777778,
             "#fb9f3a"
            ],
            [
             0.8888888888888888,
             "#fdca26"
            ],
            [
             1,
             "#f0f921"
            ]
           ],
           "sequentialminus": [
            [
             0,
             "#0d0887"
            ],
            [
             0.1111111111111111,
             "#46039f"
            ],
            [
             0.2222222222222222,
             "#7201a8"
            ],
            [
             0.3333333333333333,
             "#9c179e"
            ],
            [
             0.4444444444444444,
             "#bd3786"
            ],
            [
             0.5555555555555556,
             "#d8576b"
            ],
            [
             0.6666666666666666,
             "#ed7953"
            ],
            [
             0.7777777777777778,
             "#fb9f3a"
            ],
            [
             0.8888888888888888,
             "#fdca26"
            ],
            [
             1,
             "#f0f921"
            ]
           ]
          },
          "colorway": [
           "#636efa",
           "#EF553B",
           "#00cc96",
           "#ab63fa",
           "#FFA15A",
           "#19d3f3",
           "#FF6692",
           "#B6E880",
           "#FF97FF",
           "#FECB52"
          ],
          "font": {
           "color": "#2a3f5f"
          },
          "geo": {
           "bgcolor": "white",
           "lakecolor": "white",
           "landcolor": "#E5ECF6",
           "showlakes": true,
           "showland": true,
           "subunitcolor": "white"
          },
          "hoverlabel": {
           "align": "left"
          },
          "hovermode": "closest",
          "mapbox": {
           "style": "light"
          },
          "paper_bgcolor": "white",
          "plot_bgcolor": "#E5ECF6",
          "polar": {
           "angularaxis": {
            "gridcolor": "white",
            "linecolor": "white",
            "ticks": ""
           },
           "bgcolor": "#E5ECF6",
           "radialaxis": {
            "gridcolor": "white",
            "linecolor": "white",
            "ticks": ""
           }
          },
          "scene": {
           "xaxis": {
            "backgroundcolor": "#E5ECF6",
            "gridcolor": "white",
            "gridwidth": 2,
            "linecolor": "white",
            "showbackground": true,
            "ticks": "",
            "zerolinecolor": "white"
           },
           "yaxis": {
            "backgroundcolor": "#E5ECF6",
            "gridcolor": "white",
            "gridwidth": 2,
            "linecolor": "white",
            "showbackground": true,
            "ticks": "",
            "zerolinecolor": "white"
           },
           "zaxis": {
            "backgroundcolor": "#E5ECF6",
            "gridcolor": "white",
            "gridwidth": 2,
            "linecolor": "white",
            "showbackground": true,
            "ticks": "",
            "zerolinecolor": "white"
           }
          },
          "shapedefaults": {
           "line": {
            "color": "#2a3f5f"
           }
          },
          "ternary": {
           "aaxis": {
            "gridcolor": "white",
            "linecolor": "white",
            "ticks": ""
           },
           "baxis": {
            "gridcolor": "white",
            "linecolor": "white",
            "ticks": ""
           },
           "bgcolor": "#E5ECF6",
           "caxis": {
            "gridcolor": "white",
            "linecolor": "white",
            "ticks": ""
           }
          },
          "title": {
           "x": 0.05
          },
          "xaxis": {
           "automargin": true,
           "gridcolor": "white",
           "linecolor": "white",
           "ticks": "",
           "title": {
            "standoff": 15
           },
           "zerolinecolor": "white",
           "zerolinewidth": 2
          },
          "yaxis": {
           "automargin": true,
           "gridcolor": "white",
           "linecolor": "white",
           "ticks": "",
           "title": {
            "standoff": 15
           },
           "zerolinecolor": "white",
           "zerolinewidth": 2
          }
         }
        },
        "title": {
         "text": "Розподіл ВВП за країнами Європи (2018)"
        }
       }
      },
      "text/html": [
       "<div>                            <div id=\"63921d35-5e77-418d-b669-c5504f5632dc\" class=\"plotly-graph-div\" style=\"height:525px; width:100%;\"></div>            <script type=\"text/javascript\">                require([\"plotly\"], function(Plotly) {                    window.PLOTLYENV=window.PLOTLYENV || {};                                    if (document.getElementById(\"63921d35-5e77-418d-b669-c5504f5632dc\")) {                    Plotly.newPlot(                        \"63921d35-5e77-418d-b669-c5504f5632dc\",                        [{\"domain\":{\"x\":[0.0,1.0],\"y\":[0.0,1.0]},\"hovertemplate\":\"country=%{label}<br>gdpPercap=%{value}<extra></extra>\",\"labels\":[],\"legendgroup\":\"\",\"name\":\"\",\"showlegend\":true,\"values\":[],\"type\":\"pie\"}],                        {\"template\":{\"data\":{\"histogram2dcontour\":[{\"type\":\"histogram2dcontour\",\"colorbar\":{\"outlinewidth\":0,\"ticks\":\"\"},\"colorscale\":[[0.0,\"#0d0887\"],[0.1111111111111111,\"#46039f\"],[0.2222222222222222,\"#7201a8\"],[0.3333333333333333,\"#9c179e\"],[0.4444444444444444,\"#bd3786\"],[0.5555555555555556,\"#d8576b\"],[0.6666666666666666,\"#ed7953\"],[0.7777777777777778,\"#fb9f3a\"],[0.8888888888888888,\"#fdca26\"],[1.0,\"#f0f921\"]]}],\"choropleth\":[{\"type\":\"choropleth\",\"colorbar\":{\"outlinewidth\":0,\"ticks\":\"\"}}],\"histogram2d\":[{\"type\":\"histogram2d\",\"colorbar\":{\"outlinewidth\":0,\"ticks\":\"\"},\"colorscale\":[[0.0,\"#0d0887\"],[0.1111111111111111,\"#46039f\"],[0.2222222222222222,\"#7201a8\"],[0.3333333333333333,\"#9c179e\"],[0.4444444444444444,\"#bd3786\"],[0.5555555555555556,\"#d8576b\"],[0.6666666666666666,\"#ed7953\"],[0.7777777777777778,\"#fb9f3a\"],[0.8888888888888888,\"#fdca26\"],[1.0,\"#f0f921\"]]}],\"heatmap\":[{\"type\":\"heatmap\",\"colorbar\":{\"outlinewidth\":0,\"ticks\":\"\"},\"colorscale\":[[0.0,\"#0d0887\"],[0.1111111111111111,\"#46039f\"],[0.2222222222222222,\"#7201a8\"],[0.3333333333333333,\"#9c179e\"],[0.4444444444444444,\"#bd3786\"],[0.5555555555555556,\"#d8576b\"],[0.6666666666666666,\"#ed7953\"],[0.7777777777777778,\"#fb9f3a\"],[0.8888888888888888,\"#fdca26\"],[1.0,\"#f0f921\"]]}],\"heatmapgl\":[{\"type\":\"heatmapgl\",\"colorbar\":{\"outlinewidth\":0,\"ticks\":\"\"},\"colorscale\":[[0.0,\"#0d0887\"],[0.1111111111111111,\"#46039f\"],[0.2222222222222222,\"#7201a8\"],[0.3333333333333333,\"#9c179e\"],[0.4444444444444444,\"#bd3786\"],[0.5555555555555556,\"#d8576b\"],[0.6666666666666666,\"#ed7953\"],[0.7777777777777778,\"#fb9f3a\"],[0.8888888888888888,\"#fdca26\"],[1.0,\"#f0f921\"]]}],\"contourcarpet\":[{\"type\":\"contourcarpet\",\"colorbar\":{\"outlinewidth\":0,\"ticks\":\"\"}}],\"contour\":[{\"type\":\"contour\",\"colorbar\":{\"outlinewidth\":0,\"ticks\":\"\"},\"colorscale\":[[0.0,\"#0d0887\"],[0.1111111111111111,\"#46039f\"],[0.2222222222222222,\"#7201a8\"],[0.3333333333333333,\"#9c179e\"],[0.4444444444444444,\"#bd3786\"],[0.5555555555555556,\"#d8576b\"],[0.6666666666666666,\"#ed7953\"],[0.7777777777777778,\"#fb9f3a\"],[0.8888888888888888,\"#fdca26\"],[1.0,\"#f0f921\"]]}],\"surface\":[{\"type\":\"surface\",\"colorbar\":{\"outlinewidth\":0,\"ticks\":\"\"},\"colorscale\":[[0.0,\"#0d0887\"],[0.1111111111111111,\"#46039f\"],[0.2222222222222222,\"#7201a8\"],[0.3333333333333333,\"#9c179e\"],[0.4444444444444444,\"#bd3786\"],[0.5555555555555556,\"#d8576b\"],[0.6666666666666666,\"#ed7953\"],[0.7777777777777778,\"#fb9f3a\"],[0.8888888888888888,\"#fdca26\"],[1.0,\"#f0f921\"]]}],\"mesh3d\":[{\"type\":\"mesh3d\",\"colorbar\":{\"outlinewidth\":0,\"ticks\":\"\"}}],\"scatter\":[{\"fillpattern\":{\"fillmode\":\"overlay\",\"size\":10,\"solidity\":0.2},\"type\":\"scatter\"}],\"parcoords\":[{\"type\":\"parcoords\",\"line\":{\"colorbar\":{\"outlinewidth\":0,\"ticks\":\"\"}}}],\"scatterpolargl\":[{\"type\":\"scatterpolargl\",\"marker\":{\"colorbar\":{\"outlinewidth\":0,\"ticks\":\"\"}}}],\"bar\":[{\"error_x\":{\"color\":\"#2a3f5f\"},\"error_y\":{\"color\":\"#2a3f5f\"},\"marker\":{\"line\":{\"color\":\"#E5ECF6\",\"width\":0.5},\"pattern\":{\"fillmode\":\"overlay\",\"size\":10,\"solidity\":0.2}},\"type\":\"bar\"}],\"scattergeo\":[{\"type\":\"scattergeo\",\"marker\":{\"colorbar\":{\"outlinewidth\":0,\"ticks\":\"\"}}}],\"scatterpolar\":[{\"type\":\"scatterpolar\",\"marker\":{\"colorbar\":{\"outlinewidth\":0,\"ticks\":\"\"}}}],\"histogram\":[{\"marker\":{\"pattern\":{\"fillmode\":\"overlay\",\"size\":10,\"solidity\":0.2}},\"type\":\"histogram\"}],\"scattergl\":[{\"type\":\"scattergl\",\"marker\":{\"colorbar\":{\"outlinewidth\":0,\"ticks\":\"\"}}}],\"scatter3d\":[{\"type\":\"scatter3d\",\"line\":{\"colorbar\":{\"outlinewidth\":0,\"ticks\":\"\"}},\"marker\":{\"colorbar\":{\"outlinewidth\":0,\"ticks\":\"\"}}}],\"scattermapbox\":[{\"type\":\"scattermapbox\",\"marker\":{\"colorbar\":{\"outlinewidth\":0,\"ticks\":\"\"}}}],\"scatterternary\":[{\"type\":\"scatterternary\",\"marker\":{\"colorbar\":{\"outlinewidth\":0,\"ticks\":\"\"}}}],\"scattercarpet\":[{\"type\":\"scattercarpet\",\"marker\":{\"colorbar\":{\"outlinewidth\":0,\"ticks\":\"\"}}}],\"carpet\":[{\"aaxis\":{\"endlinecolor\":\"#2a3f5f\",\"gridcolor\":\"white\",\"linecolor\":\"white\",\"minorgridcolor\":\"white\",\"startlinecolor\":\"#2a3f5f\"},\"baxis\":{\"endlinecolor\":\"#2a3f5f\",\"gridcolor\":\"white\",\"linecolor\":\"white\",\"minorgridcolor\":\"white\",\"startlinecolor\":\"#2a3f5f\"},\"type\":\"carpet\"}],\"table\":[{\"cells\":{\"fill\":{\"color\":\"#EBF0F8\"},\"line\":{\"color\":\"white\"}},\"header\":{\"fill\":{\"color\":\"#C8D4E3\"},\"line\":{\"color\":\"white\"}},\"type\":\"table\"}],\"barpolar\":[{\"marker\":{\"line\":{\"color\":\"#E5ECF6\",\"width\":0.5},\"pattern\":{\"fillmode\":\"overlay\",\"size\":10,\"solidity\":0.2}},\"type\":\"barpolar\"}],\"pie\":[{\"automargin\":true,\"type\":\"pie\"}]},\"layout\":{\"autotypenumbers\":\"strict\",\"colorway\":[\"#636efa\",\"#EF553B\",\"#00cc96\",\"#ab63fa\",\"#FFA15A\",\"#19d3f3\",\"#FF6692\",\"#B6E880\",\"#FF97FF\",\"#FECB52\"],\"font\":{\"color\":\"#2a3f5f\"},\"hovermode\":\"closest\",\"hoverlabel\":{\"align\":\"left\"},\"paper_bgcolor\":\"white\",\"plot_bgcolor\":\"#E5ECF6\",\"polar\":{\"bgcolor\":\"#E5ECF6\",\"angularaxis\":{\"gridcolor\":\"white\",\"linecolor\":\"white\",\"ticks\":\"\"},\"radialaxis\":{\"gridcolor\":\"white\",\"linecolor\":\"white\",\"ticks\":\"\"}},\"ternary\":{\"bgcolor\":\"#E5ECF6\",\"aaxis\":{\"gridcolor\":\"white\",\"linecolor\":\"white\",\"ticks\":\"\"},\"baxis\":{\"gridcolor\":\"white\",\"linecolor\":\"white\",\"ticks\":\"\"},\"caxis\":{\"gridcolor\":\"white\",\"linecolor\":\"white\",\"ticks\":\"\"}},\"coloraxis\":{\"colorbar\":{\"outlinewidth\":0,\"ticks\":\"\"}},\"colorscale\":{\"sequential\":[[0.0,\"#0d0887\"],[0.1111111111111111,\"#46039f\"],[0.2222222222222222,\"#7201a8\"],[0.3333333333333333,\"#9c179e\"],[0.4444444444444444,\"#bd3786\"],[0.5555555555555556,\"#d8576b\"],[0.6666666666666666,\"#ed7953\"],[0.7777777777777778,\"#fb9f3a\"],[0.8888888888888888,\"#fdca26\"],[1.0,\"#f0f921\"]],\"sequentialminus\":[[0.0,\"#0d0887\"],[0.1111111111111111,\"#46039f\"],[0.2222222222222222,\"#7201a8\"],[0.3333333333333333,\"#9c179e\"],[0.4444444444444444,\"#bd3786\"],[0.5555555555555556,\"#d8576b\"],[0.6666666666666666,\"#ed7953\"],[0.7777777777777778,\"#fb9f3a\"],[0.8888888888888888,\"#fdca26\"],[1.0,\"#f0f921\"]],\"diverging\":[[0,\"#8e0152\"],[0.1,\"#c51b7d\"],[0.2,\"#de77ae\"],[0.3,\"#f1b6da\"],[0.4,\"#fde0ef\"],[0.5,\"#f7f7f7\"],[0.6,\"#e6f5d0\"],[0.7,\"#b8e186\"],[0.8,\"#7fbc41\"],[0.9,\"#4d9221\"],[1,\"#276419\"]]},\"xaxis\":{\"gridcolor\":\"white\",\"linecolor\":\"white\",\"ticks\":\"\",\"title\":{\"standoff\":15},\"zerolinecolor\":\"white\",\"automargin\":true,\"zerolinewidth\":2},\"yaxis\":{\"gridcolor\":\"white\",\"linecolor\":\"white\",\"ticks\":\"\",\"title\":{\"standoff\":15},\"zerolinecolor\":\"white\",\"automargin\":true,\"zerolinewidth\":2},\"scene\":{\"xaxis\":{\"backgroundcolor\":\"#E5ECF6\",\"gridcolor\":\"white\",\"linecolor\":\"white\",\"showbackground\":true,\"ticks\":\"\",\"zerolinecolor\":\"white\",\"gridwidth\":2},\"yaxis\":{\"backgroundcolor\":\"#E5ECF6\",\"gridcolor\":\"white\",\"linecolor\":\"white\",\"showbackground\":true,\"ticks\":\"\",\"zerolinecolor\":\"white\",\"gridwidth\":2},\"zaxis\":{\"backgroundcolor\":\"#E5ECF6\",\"gridcolor\":\"white\",\"linecolor\":\"white\",\"showbackground\":true,\"ticks\":\"\",\"zerolinecolor\":\"white\",\"gridwidth\":2}},\"shapedefaults\":{\"line\":{\"color\":\"#2a3f5f\"}},\"annotationdefaults\":{\"arrowcolor\":\"#2a3f5f\",\"arrowhead\":0,\"arrowwidth\":1},\"geo\":{\"bgcolor\":\"white\",\"landcolor\":\"#E5ECF6\",\"subunitcolor\":\"white\",\"showland\":true,\"showlakes\":true,\"lakecolor\":\"white\"},\"title\":{\"x\":0.05},\"mapbox\":{\"style\":\"light\"}}},\"legend\":{\"tracegroupgap\":0},\"title\":{\"text\":\"\\u0420\\u043e\\u0437\\u043f\\u043e\\u0434\\u0456\\u043b \\u0412\\u0412\\u041f \\u0437\\u0430 \\u043a\\u0440\\u0430\\u0457\\u043d\\u0430\\u043c\\u0438 \\u0404\\u0432\\u0440\\u043e\\u043f\\u0438 (2018)\"},\"annotations\":[{\"showarrow\":false,\"text\":\"\\u0412\\u0412\\u041f \\u043a\\u0440\\u0430\\u0457\\u043d \\u0404\\u0432\\u0440\\u043e\\u043f\\u0438\"}]},                        {\"responsive\": true}                    ).then(function(){\n",
       "                            \n",
       "var gd = document.getElementById('63921d35-5e77-418d-b669-c5504f5632dc');\n",
       "var x = new MutationObserver(function (mutations, observer) {{\n",
       "        var display = window.getComputedStyle(gd).display;\n",
       "        if (!display || display === 'none') {{\n",
       "            console.log([gd, 'removed!']);\n",
       "            Plotly.purge(gd);\n",
       "            observer.disconnect();\n",
       "        }}\n",
       "}});\n",
       "\n",
       "// Listen for the removal of the full notebook cells\n",
       "var notebookContainer = gd.closest('#notebook-container');\n",
       "if (notebookContainer) {{\n",
       "    x.observe(notebookContainer, {childList: true});\n",
       "}}\n",
       "\n",
       "// Listen for the clearing of the current output cell\n",
       "var outputEl = gd.closest('.output');\n",
       "if (outputEl) {{\n",
       "    x.observe(outputEl, {childList: true});\n",
       "}}\n",
       "\n",
       "                        })                };                });            </script>        </div>"
      ]
     },
     "metadata": {},
     "output_type": "display_data"
    }
   ],
   "source": [
    "gapminder_2018 = gapminder.query(\"year == 2018 and continent == 'Europe'\")\n",
    "\n",
    "# Вибір 5 країн з найбільшим ВВП\n",
    "top_5_countries = gapminder_2018.nlargest(5, 'gdpPercap')\n",
    "\n",
    "# Побудова кругової діаграми\n",
    "fig = px.pie(top_5_countries, values='gdpPercap', names='country', title=\"Розподіл ВВП за країнами Європи (2018)\")\n",
    "fig.show()"
   ]
  },
  {
   "cell_type": "markdown",
   "id": "278b2c9f",
   "metadata": {},
   "source": [
    "Зробимо первірку даних. Чи існують в датасеті дані за 2018 рік?"
   ]
  },
  {
   "cell_type": "code",
   "execution_count": 35,
   "id": "3eb61525",
   "metadata": {
    "scrolled": true
   },
   "outputs": [
    {
     "data": {
      "text/plain": [
       "2007"
      ]
     },
     "execution_count": 35,
     "metadata": {},
     "output_type": "execute_result"
    }
   ],
   "source": [
    "gapminder.year.max()"
   ]
  },
  {
   "cell_type": "markdown",
   "id": "df6f439c",
   "metadata": {},
   "source": [
    "Даних за 2018 рік не існує. Тому виконаємо пайчарт за усіма роками для Європи"
   ]
  },
  {
   "cell_type": "code",
   "execution_count": 39,
   "id": "c86842cc",
   "metadata": {},
   "outputs": [
    {
     "data": {
      "application/vnd.plotly.v1+json": {
       "config": {
        "plotlyServerURL": "https://plot.ly"
       },
       "data": [
        {
         "domain": {
          "x": [
           0,
           1
          ],
          "y": [
           0,
           1
          ]
         },
         "hovertemplate": "country=%{label}<br>gdpPercap=%{value}<extra></extra>",
         "labels": [
          "Norway",
          "Norway",
          "Norway",
          "Ireland",
          "Switzerland"
         ],
         "legendgroup": "",
         "name": "",
         "showlegend": true,
         "type": "pie",
         "values": [
          49357.19017,
          44683.97525,
          41283.16433,
          40675.99635,
          37506.41907
         ]
        }
       ],
       "layout": {
        "legend": {
         "tracegroupgap": 0
        },
        "margin": {
         "t": 60
        },
        "template": {
         "data": {
          "bar": [
           {
            "error_x": {
             "color": "#2a3f5f"
            },
            "error_y": {
             "color": "#2a3f5f"
            },
            "marker": {
             "line": {
              "color": "#E5ECF6",
              "width": 0.5
             },
             "pattern": {
              "fillmode": "overlay",
              "size": 10,
              "solidity": 0.2
             }
            },
            "type": "bar"
           }
          ],
          "barpolar": [
           {
            "marker": {
             "line": {
              "color": "#E5ECF6",
              "width": 0.5
             },
             "pattern": {
              "fillmode": "overlay",
              "size": 10,
              "solidity": 0.2
             }
            },
            "type": "barpolar"
           }
          ],
          "carpet": [
           {
            "aaxis": {
             "endlinecolor": "#2a3f5f",
             "gridcolor": "white",
             "linecolor": "white",
             "minorgridcolor": "white",
             "startlinecolor": "#2a3f5f"
            },
            "baxis": {
             "endlinecolor": "#2a3f5f",
             "gridcolor": "white",
             "linecolor": "white",
             "minorgridcolor": "white",
             "startlinecolor": "#2a3f5f"
            },
            "type": "carpet"
           }
          ],
          "choropleth": [
           {
            "colorbar": {
             "outlinewidth": 0,
             "ticks": ""
            },
            "type": "choropleth"
           }
          ],
          "contour": [
           {
            "colorbar": {
             "outlinewidth": 0,
             "ticks": ""
            },
            "colorscale": [
             [
              0,
              "#0d0887"
             ],
             [
              0.1111111111111111,
              "#46039f"
             ],
             [
              0.2222222222222222,
              "#7201a8"
             ],
             [
              0.3333333333333333,
              "#9c179e"
             ],
             [
              0.4444444444444444,
              "#bd3786"
             ],
             [
              0.5555555555555556,
              "#d8576b"
             ],
             [
              0.6666666666666666,
              "#ed7953"
             ],
             [
              0.7777777777777778,
              "#fb9f3a"
             ],
             [
              0.8888888888888888,
              "#fdca26"
             ],
             [
              1,
              "#f0f921"
             ]
            ],
            "type": "contour"
           }
          ],
          "contourcarpet": [
           {
            "colorbar": {
             "outlinewidth": 0,
             "ticks": ""
            },
            "type": "contourcarpet"
           }
          ],
          "heatmap": [
           {
            "colorbar": {
             "outlinewidth": 0,
             "ticks": ""
            },
            "colorscale": [
             [
              0,
              "#0d0887"
             ],
             [
              0.1111111111111111,
              "#46039f"
             ],
             [
              0.2222222222222222,
              "#7201a8"
             ],
             [
              0.3333333333333333,
              "#9c179e"
             ],
             [
              0.4444444444444444,
              "#bd3786"
             ],
             [
              0.5555555555555556,
              "#d8576b"
             ],
             [
              0.6666666666666666,
              "#ed7953"
             ],
             [
              0.7777777777777778,
              "#fb9f3a"
             ],
             [
              0.8888888888888888,
              "#fdca26"
             ],
             [
              1,
              "#f0f921"
             ]
            ],
            "type": "heatmap"
           }
          ],
          "heatmapgl": [
           {
            "colorbar": {
             "outlinewidth": 0,
             "ticks": ""
            },
            "colorscale": [
             [
              0,
              "#0d0887"
             ],
             [
              0.1111111111111111,
              "#46039f"
             ],
             [
              0.2222222222222222,
              "#7201a8"
             ],
             [
              0.3333333333333333,
              "#9c179e"
             ],
             [
              0.4444444444444444,
              "#bd3786"
             ],
             [
              0.5555555555555556,
              "#d8576b"
             ],
             [
              0.6666666666666666,
              "#ed7953"
             ],
             [
              0.7777777777777778,
              "#fb9f3a"
             ],
             [
              0.8888888888888888,
              "#fdca26"
             ],
             [
              1,
              "#f0f921"
             ]
            ],
            "type": "heatmapgl"
           }
          ],
          "histogram": [
           {
            "marker": {
             "pattern": {
              "fillmode": "overlay",
              "size": 10,
              "solidity": 0.2
             }
            },
            "type": "histogram"
           }
          ],
          "histogram2d": [
           {
            "colorbar": {
             "outlinewidth": 0,
             "ticks": ""
            },
            "colorscale": [
             [
              0,
              "#0d0887"
             ],
             [
              0.1111111111111111,
              "#46039f"
             ],
             [
              0.2222222222222222,
              "#7201a8"
             ],
             [
              0.3333333333333333,
              "#9c179e"
             ],
             [
              0.4444444444444444,
              "#bd3786"
             ],
             [
              0.5555555555555556,
              "#d8576b"
             ],
             [
              0.6666666666666666,
              "#ed7953"
             ],
             [
              0.7777777777777778,
              "#fb9f3a"
             ],
             [
              0.8888888888888888,
              "#fdca26"
             ],
             [
              1,
              "#f0f921"
             ]
            ],
            "type": "histogram2d"
           }
          ],
          "histogram2dcontour": [
           {
            "colorbar": {
             "outlinewidth": 0,
             "ticks": ""
            },
            "colorscale": [
             [
              0,
              "#0d0887"
             ],
             [
              0.1111111111111111,
              "#46039f"
             ],
             [
              0.2222222222222222,
              "#7201a8"
             ],
             [
              0.3333333333333333,
              "#9c179e"
             ],
             [
              0.4444444444444444,
              "#bd3786"
             ],
             [
              0.5555555555555556,
              "#d8576b"
             ],
             [
              0.6666666666666666,
              "#ed7953"
             ],
             [
              0.7777777777777778,
              "#fb9f3a"
             ],
             [
              0.8888888888888888,
              "#fdca26"
             ],
             [
              1,
              "#f0f921"
             ]
            ],
            "type": "histogram2dcontour"
           }
          ],
          "mesh3d": [
           {
            "colorbar": {
             "outlinewidth": 0,
             "ticks": ""
            },
            "type": "mesh3d"
           }
          ],
          "parcoords": [
           {
            "line": {
             "colorbar": {
              "outlinewidth": 0,
              "ticks": ""
             }
            },
            "type": "parcoords"
           }
          ],
          "pie": [
           {
            "automargin": true,
            "type": "pie"
           }
          ],
          "scatter": [
           {
            "fillpattern": {
             "fillmode": "overlay",
             "size": 10,
             "solidity": 0.2
            },
            "type": "scatter"
           }
          ],
          "scatter3d": [
           {
            "line": {
             "colorbar": {
              "outlinewidth": 0,
              "ticks": ""
             }
            },
            "marker": {
             "colorbar": {
              "outlinewidth": 0,
              "ticks": ""
             }
            },
            "type": "scatter3d"
           }
          ],
          "scattercarpet": [
           {
            "marker": {
             "colorbar": {
              "outlinewidth": 0,
              "ticks": ""
             }
            },
            "type": "scattercarpet"
           }
          ],
          "scattergeo": [
           {
            "marker": {
             "colorbar": {
              "outlinewidth": 0,
              "ticks": ""
             }
            },
            "type": "scattergeo"
           }
          ],
          "scattergl": [
           {
            "marker": {
             "colorbar": {
              "outlinewidth": 0,
              "ticks": ""
             }
            },
            "type": "scattergl"
           }
          ],
          "scattermapbox": [
           {
            "marker": {
             "colorbar": {
              "outlinewidth": 0,
              "ticks": ""
             }
            },
            "type": "scattermapbox"
           }
          ],
          "scatterpolar": [
           {
            "marker": {
             "colorbar": {
              "outlinewidth": 0,
              "ticks": ""
             }
            },
            "type": "scatterpolar"
           }
          ],
          "scatterpolargl": [
           {
            "marker": {
             "colorbar": {
              "outlinewidth": 0,
              "ticks": ""
             }
            },
            "type": "scatterpolargl"
           }
          ],
          "scatterternary": [
           {
            "marker": {
             "colorbar": {
              "outlinewidth": 0,
              "ticks": ""
             }
            },
            "type": "scatterternary"
           }
          ],
          "surface": [
           {
            "colorbar": {
             "outlinewidth": 0,
             "ticks": ""
            },
            "colorscale": [
             [
              0,
              "#0d0887"
             ],
             [
              0.1111111111111111,
              "#46039f"
             ],
             [
              0.2222222222222222,
              "#7201a8"
             ],
             [
              0.3333333333333333,
              "#9c179e"
             ],
             [
              0.4444444444444444,
              "#bd3786"
             ],
             [
              0.5555555555555556,
              "#d8576b"
             ],
             [
              0.6666666666666666,
              "#ed7953"
             ],
             [
              0.7777777777777778,
              "#fb9f3a"
             ],
             [
              0.8888888888888888,
              "#fdca26"
             ],
             [
              1,
              "#f0f921"
             ]
            ],
            "type": "surface"
           }
          ],
          "table": [
           {
            "cells": {
             "fill": {
              "color": "#EBF0F8"
             },
             "line": {
              "color": "white"
             }
            },
            "header": {
             "fill": {
              "color": "#C8D4E3"
             },
             "line": {
              "color": "white"
             }
            },
            "type": "table"
           }
          ]
         },
         "layout": {
          "annotationdefaults": {
           "arrowcolor": "#2a3f5f",
           "arrowhead": 0,
           "arrowwidth": 1
          },
          "autotypenumbers": "strict",
          "coloraxis": {
           "colorbar": {
            "outlinewidth": 0,
            "ticks": ""
           }
          },
          "colorscale": {
           "diverging": [
            [
             0,
             "#8e0152"
            ],
            [
             0.1,
             "#c51b7d"
            ],
            [
             0.2,
             "#de77ae"
            ],
            [
             0.3,
             "#f1b6da"
            ],
            [
             0.4,
             "#fde0ef"
            ],
            [
             0.5,
             "#f7f7f7"
            ],
            [
             0.6,
             "#e6f5d0"
            ],
            [
             0.7,
             "#b8e186"
            ],
            [
             0.8,
             "#7fbc41"
            ],
            [
             0.9,
             "#4d9221"
            ],
            [
             1,
             "#276419"
            ]
           ],
           "sequential": [
            [
             0,
             "#0d0887"
            ],
            [
             0.1111111111111111,
             "#46039f"
            ],
            [
             0.2222222222222222,
             "#7201a8"
            ],
            [
             0.3333333333333333,
             "#9c179e"
            ],
            [
             0.4444444444444444,
             "#bd3786"
            ],
            [
             0.5555555555555556,
             "#d8576b"
            ],
            [
             0.6666666666666666,
             "#ed7953"
            ],
            [
             0.7777777777777778,
             "#fb9f3a"
            ],
            [
             0.8888888888888888,
             "#fdca26"
            ],
            [
             1,
             "#f0f921"
            ]
           ],
           "sequentialminus": [
            [
             0,
             "#0d0887"
            ],
            [
             0.1111111111111111,
             "#46039f"
            ],
            [
             0.2222222222222222,
             "#7201a8"
            ],
            [
             0.3333333333333333,
             "#9c179e"
            ],
            [
             0.4444444444444444,
             "#bd3786"
            ],
            [
             0.5555555555555556,
             "#d8576b"
            ],
            [
             0.6666666666666666,
             "#ed7953"
            ],
            [
             0.7777777777777778,
             "#fb9f3a"
            ],
            [
             0.8888888888888888,
             "#fdca26"
            ],
            [
             1,
             "#f0f921"
            ]
           ]
          },
          "colorway": [
           "#636efa",
           "#EF553B",
           "#00cc96",
           "#ab63fa",
           "#FFA15A",
           "#19d3f3",
           "#FF6692",
           "#B6E880",
           "#FF97FF",
           "#FECB52"
          ],
          "font": {
           "color": "#2a3f5f"
          },
          "geo": {
           "bgcolor": "white",
           "lakecolor": "white",
           "landcolor": "#E5ECF6",
           "showlakes": true,
           "showland": true,
           "subunitcolor": "white"
          },
          "hoverlabel": {
           "align": "left"
          },
          "hovermode": "closest",
          "mapbox": {
           "style": "light"
          },
          "paper_bgcolor": "white",
          "plot_bgcolor": "#E5ECF6",
          "polar": {
           "angularaxis": {
            "gridcolor": "white",
            "linecolor": "white",
            "ticks": ""
           },
           "bgcolor": "#E5ECF6",
           "radialaxis": {
            "gridcolor": "white",
            "linecolor": "white",
            "ticks": ""
           }
          },
          "scene": {
           "xaxis": {
            "backgroundcolor": "#E5ECF6",
            "gridcolor": "white",
            "gridwidth": 2,
            "linecolor": "white",
            "showbackground": true,
            "ticks": "",
            "zerolinecolor": "white"
           },
           "yaxis": {
            "backgroundcolor": "#E5ECF6",
            "gridcolor": "white",
            "gridwidth": 2,
            "linecolor": "white",
            "showbackground": true,
            "ticks": "",
            "zerolinecolor": "white"
           },
           "zaxis": {
            "backgroundcolor": "#E5ECF6",
            "gridcolor": "white",
            "gridwidth": 2,
            "linecolor": "white",
            "showbackground": true,
            "ticks": "",
            "zerolinecolor": "white"
           }
          },
          "shapedefaults": {
           "line": {
            "color": "#2a3f5f"
           }
          },
          "ternary": {
           "aaxis": {
            "gridcolor": "white",
            "linecolor": "white",
            "ticks": ""
           },
           "baxis": {
            "gridcolor": "white",
            "linecolor": "white",
            "ticks": ""
           },
           "bgcolor": "#E5ECF6",
           "caxis": {
            "gridcolor": "white",
            "linecolor": "white",
            "ticks": ""
           }
          },
          "title": {
           "x": 0.05
          },
          "xaxis": {
           "automargin": true,
           "gridcolor": "white",
           "linecolor": "white",
           "ticks": "",
           "title": {
            "standoff": 15
           },
           "zerolinecolor": "white",
           "zerolinewidth": 2
          },
          "yaxis": {
           "automargin": true,
           "gridcolor": "white",
           "linecolor": "white",
           "ticks": "",
           "title": {
            "standoff": 15
           },
           "zerolinecolor": "white",
           "zerolinewidth": 2
          }
         }
        },
        "title": {
         "text": "Розподіл ВВП за країнами Європи (2018)",
         "x": 0.5
        }
       }
      },
      "text/html": [
       "<div>                            <div id=\"354d9eac-d5a3-40ce-9603-842f65609d16\" class=\"plotly-graph-div\" style=\"height:525px; width:100%;\"></div>            <script type=\"text/javascript\">                require([\"plotly\"], function(Plotly) {                    window.PLOTLYENV=window.PLOTLYENV || {};                                    if (document.getElementById(\"354d9eac-d5a3-40ce-9603-842f65609d16\")) {                    Plotly.newPlot(                        \"354d9eac-d5a3-40ce-9603-842f65609d16\",                        [{\"domain\":{\"x\":[0.0,1.0],\"y\":[0.0,1.0]},\"hovertemplate\":\"country=%{label}<br>gdpPercap=%{value}<extra></extra>\",\"labels\":[\"Norway\",\"Norway\",\"Norway\",\"Ireland\",\"Switzerland\"],\"legendgroup\":\"\",\"name\":\"\",\"showlegend\":true,\"values\":[49357.19017,44683.97525,41283.16433,40675.99635,37506.41907],\"type\":\"pie\"}],                        {\"template\":{\"data\":{\"histogram2dcontour\":[{\"type\":\"histogram2dcontour\",\"colorbar\":{\"outlinewidth\":0,\"ticks\":\"\"},\"colorscale\":[[0.0,\"#0d0887\"],[0.1111111111111111,\"#46039f\"],[0.2222222222222222,\"#7201a8\"],[0.3333333333333333,\"#9c179e\"],[0.4444444444444444,\"#bd3786\"],[0.5555555555555556,\"#d8576b\"],[0.6666666666666666,\"#ed7953\"],[0.7777777777777778,\"#fb9f3a\"],[0.8888888888888888,\"#fdca26\"],[1.0,\"#f0f921\"]]}],\"choropleth\":[{\"type\":\"choropleth\",\"colorbar\":{\"outlinewidth\":0,\"ticks\":\"\"}}],\"histogram2d\":[{\"type\":\"histogram2d\",\"colorbar\":{\"outlinewidth\":0,\"ticks\":\"\"},\"colorscale\":[[0.0,\"#0d0887\"],[0.1111111111111111,\"#46039f\"],[0.2222222222222222,\"#7201a8\"],[0.3333333333333333,\"#9c179e\"],[0.4444444444444444,\"#bd3786\"],[0.5555555555555556,\"#d8576b\"],[0.6666666666666666,\"#ed7953\"],[0.7777777777777778,\"#fb9f3a\"],[0.8888888888888888,\"#fdca26\"],[1.0,\"#f0f921\"]]}],\"heatmap\":[{\"type\":\"heatmap\",\"colorbar\":{\"outlinewidth\":0,\"ticks\":\"\"},\"colorscale\":[[0.0,\"#0d0887\"],[0.1111111111111111,\"#46039f\"],[0.2222222222222222,\"#7201a8\"],[0.3333333333333333,\"#9c179e\"],[0.4444444444444444,\"#bd3786\"],[0.5555555555555556,\"#d8576b\"],[0.6666666666666666,\"#ed7953\"],[0.7777777777777778,\"#fb9f3a\"],[0.8888888888888888,\"#fdca26\"],[1.0,\"#f0f921\"]]}],\"heatmapgl\":[{\"type\":\"heatmapgl\",\"colorbar\":{\"outlinewidth\":0,\"ticks\":\"\"},\"colorscale\":[[0.0,\"#0d0887\"],[0.1111111111111111,\"#46039f\"],[0.2222222222222222,\"#7201a8\"],[0.3333333333333333,\"#9c179e\"],[0.4444444444444444,\"#bd3786\"],[0.5555555555555556,\"#d8576b\"],[0.6666666666666666,\"#ed7953\"],[0.7777777777777778,\"#fb9f3a\"],[0.8888888888888888,\"#fdca26\"],[1.0,\"#f0f921\"]]}],\"contourcarpet\":[{\"type\":\"contourcarpet\",\"colorbar\":{\"outlinewidth\":0,\"ticks\":\"\"}}],\"contour\":[{\"type\":\"contour\",\"colorbar\":{\"outlinewidth\":0,\"ticks\":\"\"},\"colorscale\":[[0.0,\"#0d0887\"],[0.1111111111111111,\"#46039f\"],[0.2222222222222222,\"#7201a8\"],[0.3333333333333333,\"#9c179e\"],[0.4444444444444444,\"#bd3786\"],[0.5555555555555556,\"#d8576b\"],[0.6666666666666666,\"#ed7953\"],[0.7777777777777778,\"#fb9f3a\"],[0.8888888888888888,\"#fdca26\"],[1.0,\"#f0f921\"]]}],\"surface\":[{\"type\":\"surface\",\"colorbar\":{\"outlinewidth\":0,\"ticks\":\"\"},\"colorscale\":[[0.0,\"#0d0887\"],[0.1111111111111111,\"#46039f\"],[0.2222222222222222,\"#7201a8\"],[0.3333333333333333,\"#9c179e\"],[0.4444444444444444,\"#bd3786\"],[0.5555555555555556,\"#d8576b\"],[0.6666666666666666,\"#ed7953\"],[0.7777777777777778,\"#fb9f3a\"],[0.8888888888888888,\"#fdca26\"],[1.0,\"#f0f921\"]]}],\"mesh3d\":[{\"type\":\"mesh3d\",\"colorbar\":{\"outlinewidth\":0,\"ticks\":\"\"}}],\"scatter\":[{\"fillpattern\":{\"fillmode\":\"overlay\",\"size\":10,\"solidity\":0.2},\"type\":\"scatter\"}],\"parcoords\":[{\"type\":\"parcoords\",\"line\":{\"colorbar\":{\"outlinewidth\":0,\"ticks\":\"\"}}}],\"scatterpolargl\":[{\"type\":\"scatterpolargl\",\"marker\":{\"colorbar\":{\"outlinewidth\":0,\"ticks\":\"\"}}}],\"bar\":[{\"error_x\":{\"color\":\"#2a3f5f\"},\"error_y\":{\"color\":\"#2a3f5f\"},\"marker\":{\"line\":{\"color\":\"#E5ECF6\",\"width\":0.5},\"pattern\":{\"fillmode\":\"overlay\",\"size\":10,\"solidity\":0.2}},\"type\":\"bar\"}],\"scattergeo\":[{\"type\":\"scattergeo\",\"marker\":{\"colorbar\":{\"outlinewidth\":0,\"ticks\":\"\"}}}],\"scatterpolar\":[{\"type\":\"scatterpolar\",\"marker\":{\"colorbar\":{\"outlinewidth\":0,\"ticks\":\"\"}}}],\"histogram\":[{\"marker\":{\"pattern\":{\"fillmode\":\"overlay\",\"size\":10,\"solidity\":0.2}},\"type\":\"histogram\"}],\"scattergl\":[{\"type\":\"scattergl\",\"marker\":{\"colorbar\":{\"outlinewidth\":0,\"ticks\":\"\"}}}],\"scatter3d\":[{\"type\":\"scatter3d\",\"line\":{\"colorbar\":{\"outlinewidth\":0,\"ticks\":\"\"}},\"marker\":{\"colorbar\":{\"outlinewidth\":0,\"ticks\":\"\"}}}],\"scattermapbox\":[{\"type\":\"scattermapbox\",\"marker\":{\"colorbar\":{\"outlinewidth\":0,\"ticks\":\"\"}}}],\"scatterternary\":[{\"type\":\"scatterternary\",\"marker\":{\"colorbar\":{\"outlinewidth\":0,\"ticks\":\"\"}}}],\"scattercarpet\":[{\"type\":\"scattercarpet\",\"marker\":{\"colorbar\":{\"outlinewidth\":0,\"ticks\":\"\"}}}],\"carpet\":[{\"aaxis\":{\"endlinecolor\":\"#2a3f5f\",\"gridcolor\":\"white\",\"linecolor\":\"white\",\"minorgridcolor\":\"white\",\"startlinecolor\":\"#2a3f5f\"},\"baxis\":{\"endlinecolor\":\"#2a3f5f\",\"gridcolor\":\"white\",\"linecolor\":\"white\",\"minorgridcolor\":\"white\",\"startlinecolor\":\"#2a3f5f\"},\"type\":\"carpet\"}],\"table\":[{\"cells\":{\"fill\":{\"color\":\"#EBF0F8\"},\"line\":{\"color\":\"white\"}},\"header\":{\"fill\":{\"color\":\"#C8D4E3\"},\"line\":{\"color\":\"white\"}},\"type\":\"table\"}],\"barpolar\":[{\"marker\":{\"line\":{\"color\":\"#E5ECF6\",\"width\":0.5},\"pattern\":{\"fillmode\":\"overlay\",\"size\":10,\"solidity\":0.2}},\"type\":\"barpolar\"}],\"pie\":[{\"automargin\":true,\"type\":\"pie\"}]},\"layout\":{\"autotypenumbers\":\"strict\",\"colorway\":[\"#636efa\",\"#EF553B\",\"#00cc96\",\"#ab63fa\",\"#FFA15A\",\"#19d3f3\",\"#FF6692\",\"#B6E880\",\"#FF97FF\",\"#FECB52\"],\"font\":{\"color\":\"#2a3f5f\"},\"hovermode\":\"closest\",\"hoverlabel\":{\"align\":\"left\"},\"paper_bgcolor\":\"white\",\"plot_bgcolor\":\"#E5ECF6\",\"polar\":{\"bgcolor\":\"#E5ECF6\",\"angularaxis\":{\"gridcolor\":\"white\",\"linecolor\":\"white\",\"ticks\":\"\"},\"radialaxis\":{\"gridcolor\":\"white\",\"linecolor\":\"white\",\"ticks\":\"\"}},\"ternary\":{\"bgcolor\":\"#E5ECF6\",\"aaxis\":{\"gridcolor\":\"white\",\"linecolor\":\"white\",\"ticks\":\"\"},\"baxis\":{\"gridcolor\":\"white\",\"linecolor\":\"white\",\"ticks\":\"\"},\"caxis\":{\"gridcolor\":\"white\",\"linecolor\":\"white\",\"ticks\":\"\"}},\"coloraxis\":{\"colorbar\":{\"outlinewidth\":0,\"ticks\":\"\"}},\"colorscale\":{\"sequential\":[[0.0,\"#0d0887\"],[0.1111111111111111,\"#46039f\"],[0.2222222222222222,\"#7201a8\"],[0.3333333333333333,\"#9c179e\"],[0.4444444444444444,\"#bd3786\"],[0.5555555555555556,\"#d8576b\"],[0.6666666666666666,\"#ed7953\"],[0.7777777777777778,\"#fb9f3a\"],[0.8888888888888888,\"#fdca26\"],[1.0,\"#f0f921\"]],\"sequentialminus\":[[0.0,\"#0d0887\"],[0.1111111111111111,\"#46039f\"],[0.2222222222222222,\"#7201a8\"],[0.3333333333333333,\"#9c179e\"],[0.4444444444444444,\"#bd3786\"],[0.5555555555555556,\"#d8576b\"],[0.6666666666666666,\"#ed7953\"],[0.7777777777777778,\"#fb9f3a\"],[0.8888888888888888,\"#fdca26\"],[1.0,\"#f0f921\"]],\"diverging\":[[0,\"#8e0152\"],[0.1,\"#c51b7d\"],[0.2,\"#de77ae\"],[0.3,\"#f1b6da\"],[0.4,\"#fde0ef\"],[0.5,\"#f7f7f7\"],[0.6,\"#e6f5d0\"],[0.7,\"#b8e186\"],[0.8,\"#7fbc41\"],[0.9,\"#4d9221\"],[1,\"#276419\"]]},\"xaxis\":{\"gridcolor\":\"white\",\"linecolor\":\"white\",\"ticks\":\"\",\"title\":{\"standoff\":15},\"zerolinecolor\":\"white\",\"automargin\":true,\"zerolinewidth\":2},\"yaxis\":{\"gridcolor\":\"white\",\"linecolor\":\"white\",\"ticks\":\"\",\"title\":{\"standoff\":15},\"zerolinecolor\":\"white\",\"automargin\":true,\"zerolinewidth\":2},\"scene\":{\"xaxis\":{\"backgroundcolor\":\"#E5ECF6\",\"gridcolor\":\"white\",\"linecolor\":\"white\",\"showbackground\":true,\"ticks\":\"\",\"zerolinecolor\":\"white\",\"gridwidth\":2},\"yaxis\":{\"backgroundcolor\":\"#E5ECF6\",\"gridcolor\":\"white\",\"linecolor\":\"white\",\"showbackground\":true,\"ticks\":\"\",\"zerolinecolor\":\"white\",\"gridwidth\":2},\"zaxis\":{\"backgroundcolor\":\"#E5ECF6\",\"gridcolor\":\"white\",\"linecolor\":\"white\",\"showbackground\":true,\"ticks\":\"\",\"zerolinecolor\":\"white\",\"gridwidth\":2}},\"shapedefaults\":{\"line\":{\"color\":\"#2a3f5f\"}},\"annotationdefaults\":{\"arrowcolor\":\"#2a3f5f\",\"arrowhead\":0,\"arrowwidth\":1},\"geo\":{\"bgcolor\":\"white\",\"landcolor\":\"#E5ECF6\",\"subunitcolor\":\"white\",\"showland\":true,\"showlakes\":true,\"lakecolor\":\"white\"},\"title\":{\"x\":0.05},\"mapbox\":{\"style\":\"light\"}}},\"legend\":{\"tracegroupgap\":0},\"margin\":{\"t\":60},\"title\":{\"text\":\"\\u0420\\u043e\\u0437\\u043f\\u043e\\u0434\\u0456\\u043b \\u0412\\u0412\\u041f \\u0437\\u0430 \\u043a\\u0440\\u0430\\u0457\\u043d\\u0430\\u043c\\u0438 \\u0404\\u0432\\u0440\\u043e\\u043f\\u0438 (2018)\",\"x\":0.5}},                        {\"responsive\": true}                    ).then(function(){\n",
       "                            \n",
       "var gd = document.getElementById('354d9eac-d5a3-40ce-9603-842f65609d16');\n",
       "var x = new MutationObserver(function (mutations, observer) {{\n",
       "        var display = window.getComputedStyle(gd).display;\n",
       "        if (!display || display === 'none') {{\n",
       "            console.log([gd, 'removed!']);\n",
       "            Plotly.purge(gd);\n",
       "            observer.disconnect();\n",
       "        }}\n",
       "}});\n",
       "\n",
       "// Listen for the removal of the full notebook cells\n",
       "var notebookContainer = gd.closest('#notebook-container');\n",
       "if (notebookContainer) {{\n",
       "    x.observe(notebookContainer, {childList: true});\n",
       "}}\n",
       "\n",
       "// Listen for the clearing of the current output cell\n",
       "var outputEl = gd.closest('.output');\n",
       "if (outputEl) {{\n",
       "    x.observe(outputEl, {childList: true});\n",
       "}}\n",
       "\n",
       "                        })                };                });            </script>        </div>"
      ]
     },
     "metadata": {},
     "output_type": "display_data"
    }
   ],
   "source": [
    "gapminder_europe = gapminder.query(\"continent == 'Europe'\")\n",
    "\n",
    "# Вибір 5 країн з найбільшим ВВП\n",
    "top_5_countries = gapminder_europe.nlargest(5, 'gdpPercap')\n",
    "\n",
    "# Побудова кругової діаграми\n",
    "fig = px.pie(top_5_countries, values='gdpPercap', names='country')\n",
    "\n",
    "fig.update_layout(\n",
    "    title=\"Розподіл ВВП за країнами Європи (2018)\",\n",
    "    title_x=0.5 \n",
    ")\n",
    "\n",
    "fig.show()"
   ]
  },
  {
   "cell_type": "markdown",
   "id": "657d3014",
   "metadata": {},
   "source": [
    "Завдання 4 \n",
    "\n",
    "Стовпчаста діаграма, яка відображає динаміку зміни кількості населення в країнах Океанії протягом років. "
   ]
  },
  {
   "cell_type": "code",
   "execution_count": 43,
   "id": "a31b4fe7",
   "metadata": {},
   "outputs": [
    {
     "data": {
      "application/vnd.plotly.v1+json": {
       "config": {
        "plotlyServerURL": "https://plot.ly"
       },
       "data": [
        {
         "alignmentgroup": "True",
         "hovertemplate": "country=Australia<br>year=%{x}<br>pop=%{y}<extra></extra>",
         "legendgroup": "Australia",
         "marker": {
          "color": "#636efa",
          "pattern": {
           "shape": ""
          }
         },
         "name": "Australia",
         "offsetgroup": "Australia",
         "orientation": "v",
         "showlegend": true,
         "textposition": "auto",
         "type": "bar",
         "x": [
          1952,
          1957,
          1962,
          1967,
          1972,
          1977,
          1982,
          1987,
          1992,
          1997,
          2002,
          2007
         ],
         "xaxis": "x",
         "y": [
          8691212,
          9712569,
          10794968,
          11872264,
          13177000,
          14074100,
          15184200,
          16257249,
          17481977,
          18565243,
          19546792,
          20434176
         ],
         "yaxis": "y"
        },
        {
         "alignmentgroup": "True",
         "hovertemplate": "country=New Zealand<br>year=%{x}<br>pop=%{y}<extra></extra>",
         "legendgroup": "New Zealand",
         "marker": {
          "color": "#EF553B",
          "pattern": {
           "shape": ""
          }
         },
         "name": "New Zealand",
         "offsetgroup": "New Zealand",
         "orientation": "v",
         "showlegend": true,
         "textposition": "auto",
         "type": "bar",
         "x": [
          1952,
          1957,
          1962,
          1967,
          1972,
          1977,
          1982,
          1987,
          1992,
          1997,
          2002,
          2007
         ],
         "xaxis": "x",
         "y": [
          1994794,
          2229407,
          2488550,
          2728150,
          2929100,
          3164900,
          3210650,
          3317166,
          3437674,
          3676187,
          3908037,
          4115771
         ],
         "yaxis": "y"
        }
       ],
       "layout": {
        "barmode": "relative",
        "legend": {
         "title": {
          "text": "country"
         },
         "tracegroupgap": 0
        },
        "margin": {
         "t": 60
        },
        "template": {
         "data": {
          "bar": [
           {
            "error_x": {
             "color": "#2a3f5f"
            },
            "error_y": {
             "color": "#2a3f5f"
            },
            "marker": {
             "line": {
              "color": "#E5ECF6",
              "width": 0.5
             },
             "pattern": {
              "fillmode": "overlay",
              "size": 10,
              "solidity": 0.2
             }
            },
            "type": "bar"
           }
          ],
          "barpolar": [
           {
            "marker": {
             "line": {
              "color": "#E5ECF6",
              "width": 0.5
             },
             "pattern": {
              "fillmode": "overlay",
              "size": 10,
              "solidity": 0.2
             }
            },
            "type": "barpolar"
           }
          ],
          "carpet": [
           {
            "aaxis": {
             "endlinecolor": "#2a3f5f",
             "gridcolor": "white",
             "linecolor": "white",
             "minorgridcolor": "white",
             "startlinecolor": "#2a3f5f"
            },
            "baxis": {
             "endlinecolor": "#2a3f5f",
             "gridcolor": "white",
             "linecolor": "white",
             "minorgridcolor": "white",
             "startlinecolor": "#2a3f5f"
            },
            "type": "carpet"
           }
          ],
          "choropleth": [
           {
            "colorbar": {
             "outlinewidth": 0,
             "ticks": ""
            },
            "type": "choropleth"
           }
          ],
          "contour": [
           {
            "colorbar": {
             "outlinewidth": 0,
             "ticks": ""
            },
            "colorscale": [
             [
              0,
              "#0d0887"
             ],
             [
              0.1111111111111111,
              "#46039f"
             ],
             [
              0.2222222222222222,
              "#7201a8"
             ],
             [
              0.3333333333333333,
              "#9c179e"
             ],
             [
              0.4444444444444444,
              "#bd3786"
             ],
             [
              0.5555555555555556,
              "#d8576b"
             ],
             [
              0.6666666666666666,
              "#ed7953"
             ],
             [
              0.7777777777777778,
              "#fb9f3a"
             ],
             [
              0.8888888888888888,
              "#fdca26"
             ],
             [
              1,
              "#f0f921"
             ]
            ],
            "type": "contour"
           }
          ],
          "contourcarpet": [
           {
            "colorbar": {
             "outlinewidth": 0,
             "ticks": ""
            },
            "type": "contourcarpet"
           }
          ],
          "heatmap": [
           {
            "colorbar": {
             "outlinewidth": 0,
             "ticks": ""
            },
            "colorscale": [
             [
              0,
              "#0d0887"
             ],
             [
              0.1111111111111111,
              "#46039f"
             ],
             [
              0.2222222222222222,
              "#7201a8"
             ],
             [
              0.3333333333333333,
              "#9c179e"
             ],
             [
              0.4444444444444444,
              "#bd3786"
             ],
             [
              0.5555555555555556,
              "#d8576b"
             ],
             [
              0.6666666666666666,
              "#ed7953"
             ],
             [
              0.7777777777777778,
              "#fb9f3a"
             ],
             [
              0.8888888888888888,
              "#fdca26"
             ],
             [
              1,
              "#f0f921"
             ]
            ],
            "type": "heatmap"
           }
          ],
          "heatmapgl": [
           {
            "colorbar": {
             "outlinewidth": 0,
             "ticks": ""
            },
            "colorscale": [
             [
              0,
              "#0d0887"
             ],
             [
              0.1111111111111111,
              "#46039f"
             ],
             [
              0.2222222222222222,
              "#7201a8"
             ],
             [
              0.3333333333333333,
              "#9c179e"
             ],
             [
              0.4444444444444444,
              "#bd3786"
             ],
             [
              0.5555555555555556,
              "#d8576b"
             ],
             [
              0.6666666666666666,
              "#ed7953"
             ],
             [
              0.7777777777777778,
              "#fb9f3a"
             ],
             [
              0.8888888888888888,
              "#fdca26"
             ],
             [
              1,
              "#f0f921"
             ]
            ],
            "type": "heatmapgl"
           }
          ],
          "histogram": [
           {
            "marker": {
             "pattern": {
              "fillmode": "overlay",
              "size": 10,
              "solidity": 0.2
             }
            },
            "type": "histogram"
           }
          ],
          "histogram2d": [
           {
            "colorbar": {
             "outlinewidth": 0,
             "ticks": ""
            },
            "colorscale": [
             [
              0,
              "#0d0887"
             ],
             [
              0.1111111111111111,
              "#46039f"
             ],
             [
              0.2222222222222222,
              "#7201a8"
             ],
             [
              0.3333333333333333,
              "#9c179e"
             ],
             [
              0.4444444444444444,
              "#bd3786"
             ],
             [
              0.5555555555555556,
              "#d8576b"
             ],
             [
              0.6666666666666666,
              "#ed7953"
             ],
             [
              0.7777777777777778,
              "#fb9f3a"
             ],
             [
              0.8888888888888888,
              "#fdca26"
             ],
             [
              1,
              "#f0f921"
             ]
            ],
            "type": "histogram2d"
           }
          ],
          "histogram2dcontour": [
           {
            "colorbar": {
             "outlinewidth": 0,
             "ticks": ""
            },
            "colorscale": [
             [
              0,
              "#0d0887"
             ],
             [
              0.1111111111111111,
              "#46039f"
             ],
             [
              0.2222222222222222,
              "#7201a8"
             ],
             [
              0.3333333333333333,
              "#9c179e"
             ],
             [
              0.4444444444444444,
              "#bd3786"
             ],
             [
              0.5555555555555556,
              "#d8576b"
             ],
             [
              0.6666666666666666,
              "#ed7953"
             ],
             [
              0.7777777777777778,
              "#fb9f3a"
             ],
             [
              0.8888888888888888,
              "#fdca26"
             ],
             [
              1,
              "#f0f921"
             ]
            ],
            "type": "histogram2dcontour"
           }
          ],
          "mesh3d": [
           {
            "colorbar": {
             "outlinewidth": 0,
             "ticks": ""
            },
            "type": "mesh3d"
           }
          ],
          "parcoords": [
           {
            "line": {
             "colorbar": {
              "outlinewidth": 0,
              "ticks": ""
             }
            },
            "type": "parcoords"
           }
          ],
          "pie": [
           {
            "automargin": true,
            "type": "pie"
           }
          ],
          "scatter": [
           {
            "fillpattern": {
             "fillmode": "overlay",
             "size": 10,
             "solidity": 0.2
            },
            "type": "scatter"
           }
          ],
          "scatter3d": [
           {
            "line": {
             "colorbar": {
              "outlinewidth": 0,
              "ticks": ""
             }
            },
            "marker": {
             "colorbar": {
              "outlinewidth": 0,
              "ticks": ""
             }
            },
            "type": "scatter3d"
           }
          ],
          "scattercarpet": [
           {
            "marker": {
             "colorbar": {
              "outlinewidth": 0,
              "ticks": ""
             }
            },
            "type": "scattercarpet"
           }
          ],
          "scattergeo": [
           {
            "marker": {
             "colorbar": {
              "outlinewidth": 0,
              "ticks": ""
             }
            },
            "type": "scattergeo"
           }
          ],
          "scattergl": [
           {
            "marker": {
             "colorbar": {
              "outlinewidth": 0,
              "ticks": ""
             }
            },
            "type": "scattergl"
           }
          ],
          "scattermapbox": [
           {
            "marker": {
             "colorbar": {
              "outlinewidth": 0,
              "ticks": ""
             }
            },
            "type": "scattermapbox"
           }
          ],
          "scatterpolar": [
           {
            "marker": {
             "colorbar": {
              "outlinewidth": 0,
              "ticks": ""
             }
            },
            "type": "scatterpolar"
           }
          ],
          "scatterpolargl": [
           {
            "marker": {
             "colorbar": {
              "outlinewidth": 0,
              "ticks": ""
             }
            },
            "type": "scatterpolargl"
           }
          ],
          "scatterternary": [
           {
            "marker": {
             "colorbar": {
              "outlinewidth": 0,
              "ticks": ""
             }
            },
            "type": "scatterternary"
           }
          ],
          "surface": [
           {
            "colorbar": {
             "outlinewidth": 0,
             "ticks": ""
            },
            "colorscale": [
             [
              0,
              "#0d0887"
             ],
             [
              0.1111111111111111,
              "#46039f"
             ],
             [
              0.2222222222222222,
              "#7201a8"
             ],
             [
              0.3333333333333333,
              "#9c179e"
             ],
             [
              0.4444444444444444,
              "#bd3786"
             ],
             [
              0.5555555555555556,
              "#d8576b"
             ],
             [
              0.6666666666666666,
              "#ed7953"
             ],
             [
              0.7777777777777778,
              "#fb9f3a"
             ],
             [
              0.8888888888888888,
              "#fdca26"
             ],
             [
              1,
              "#f0f921"
             ]
            ],
            "type": "surface"
           }
          ],
          "table": [
           {
            "cells": {
             "fill": {
              "color": "#EBF0F8"
             },
             "line": {
              "color": "white"
             }
            },
            "header": {
             "fill": {
              "color": "#C8D4E3"
             },
             "line": {
              "color": "white"
             }
            },
            "type": "table"
           }
          ]
         },
         "layout": {
          "annotationdefaults": {
           "arrowcolor": "#2a3f5f",
           "arrowhead": 0,
           "arrowwidth": 1
          },
          "autotypenumbers": "strict",
          "coloraxis": {
           "colorbar": {
            "outlinewidth": 0,
            "ticks": ""
           }
          },
          "colorscale": {
           "diverging": [
            [
             0,
             "#8e0152"
            ],
            [
             0.1,
             "#c51b7d"
            ],
            [
             0.2,
             "#de77ae"
            ],
            [
             0.3,
             "#f1b6da"
            ],
            [
             0.4,
             "#fde0ef"
            ],
            [
             0.5,
             "#f7f7f7"
            ],
            [
             0.6,
             "#e6f5d0"
            ],
            [
             0.7,
             "#b8e186"
            ],
            [
             0.8,
             "#7fbc41"
            ],
            [
             0.9,
             "#4d9221"
            ],
            [
             1,
             "#276419"
            ]
           ],
           "sequential": [
            [
             0,
             "#0d0887"
            ],
            [
             0.1111111111111111,
             "#46039f"
            ],
            [
             0.2222222222222222,
             "#7201a8"
            ],
            [
             0.3333333333333333,
             "#9c179e"
            ],
            [
             0.4444444444444444,
             "#bd3786"
            ],
            [
             0.5555555555555556,
             "#d8576b"
            ],
            [
             0.6666666666666666,
             "#ed7953"
            ],
            [
             0.7777777777777778,
             "#fb9f3a"
            ],
            [
             0.8888888888888888,
             "#fdca26"
            ],
            [
             1,
             "#f0f921"
            ]
           ],
           "sequentialminus": [
            [
             0,
             "#0d0887"
            ],
            [
             0.1111111111111111,
             "#46039f"
            ],
            [
             0.2222222222222222,
             "#7201a8"
            ],
            [
             0.3333333333333333,
             "#9c179e"
            ],
            [
             0.4444444444444444,
             "#bd3786"
            ],
            [
             0.5555555555555556,
             "#d8576b"
            ],
            [
             0.6666666666666666,
             "#ed7953"
            ],
            [
             0.7777777777777778,
             "#fb9f3a"
            ],
            [
             0.8888888888888888,
             "#fdca26"
            ],
            [
             1,
             "#f0f921"
            ]
           ]
          },
          "colorway": [
           "#636efa",
           "#EF553B",
           "#00cc96",
           "#ab63fa",
           "#FFA15A",
           "#19d3f3",
           "#FF6692",
           "#B6E880",
           "#FF97FF",
           "#FECB52"
          ],
          "font": {
           "color": "#2a3f5f"
          },
          "geo": {
           "bgcolor": "white",
           "lakecolor": "white",
           "landcolor": "#E5ECF6",
           "showlakes": true,
           "showland": true,
           "subunitcolor": "white"
          },
          "hoverlabel": {
           "align": "left"
          },
          "hovermode": "closest",
          "mapbox": {
           "style": "light"
          },
          "paper_bgcolor": "white",
          "plot_bgcolor": "#E5ECF6",
          "polar": {
           "angularaxis": {
            "gridcolor": "white",
            "linecolor": "white",
            "ticks": ""
           },
           "bgcolor": "#E5ECF6",
           "radialaxis": {
            "gridcolor": "white",
            "linecolor": "white",
            "ticks": ""
           }
          },
          "scene": {
           "xaxis": {
            "backgroundcolor": "#E5ECF6",
            "gridcolor": "white",
            "gridwidth": 2,
            "linecolor": "white",
            "showbackground": true,
            "ticks": "",
            "zerolinecolor": "white"
           },
           "yaxis": {
            "backgroundcolor": "#E5ECF6",
            "gridcolor": "white",
            "gridwidth": 2,
            "linecolor": "white",
            "showbackground": true,
            "ticks": "",
            "zerolinecolor": "white"
           },
           "zaxis": {
            "backgroundcolor": "#E5ECF6",
            "gridcolor": "white",
            "gridwidth": 2,
            "linecolor": "white",
            "showbackground": true,
            "ticks": "",
            "zerolinecolor": "white"
           }
          },
          "shapedefaults": {
           "line": {
            "color": "#2a3f5f"
           }
          },
          "ternary": {
           "aaxis": {
            "gridcolor": "white",
            "linecolor": "white",
            "ticks": ""
           },
           "baxis": {
            "gridcolor": "white",
            "linecolor": "white",
            "ticks": ""
           },
           "bgcolor": "#E5ECF6",
           "caxis": {
            "gridcolor": "white",
            "linecolor": "white",
            "ticks": ""
           }
          },
          "title": {
           "x": 0.05
          },
          "xaxis": {
           "automargin": true,
           "gridcolor": "white",
           "linecolor": "white",
           "ticks": "",
           "title": {
            "standoff": 15
           },
           "zerolinecolor": "white",
           "zerolinewidth": 2
          },
          "yaxis": {
           "automargin": true,
           "gridcolor": "white",
           "linecolor": "white",
           "ticks": "",
           "title": {
            "standoff": 15
           },
           "zerolinecolor": "white",
           "zerolinewidth": 2
          }
         }
        },
        "title": {
         "text": "Динаміка зміни населення для Канади та країн Океанії",
         "x": 0.5
        },
        "xaxis": {
         "anchor": "y",
         "domain": [
          0,
          1
         ],
         "title": {
          "text": "year"
         }
        },
        "yaxis": {
         "anchor": "x",
         "domain": [
          0,
          1
         ],
         "title": {
          "text": "pop"
         }
        }
       }
      },
      "text/html": [
       "<div>                            <div id=\"84fe2b4b-6d9c-4dfb-b037-46e92bc6cb61\" class=\"plotly-graph-div\" style=\"height:525px; width:100%;\"></div>            <script type=\"text/javascript\">                require([\"plotly\"], function(Plotly) {                    window.PLOTLYENV=window.PLOTLYENV || {};                                    if (document.getElementById(\"84fe2b4b-6d9c-4dfb-b037-46e92bc6cb61\")) {                    Plotly.newPlot(                        \"84fe2b4b-6d9c-4dfb-b037-46e92bc6cb61\",                        [{\"alignmentgroup\":\"True\",\"hovertemplate\":\"country=Australia<br>year=%{x}<br>pop=%{y}<extra></extra>\",\"legendgroup\":\"Australia\",\"marker\":{\"color\":\"#636efa\",\"pattern\":{\"shape\":\"\"}},\"name\":\"Australia\",\"offsetgroup\":\"Australia\",\"orientation\":\"v\",\"showlegend\":true,\"textposition\":\"auto\",\"x\":[1952,1957,1962,1967,1972,1977,1982,1987,1992,1997,2002,2007],\"xaxis\":\"x\",\"y\":[8691212,9712569,10794968,11872264,13177000,14074100,15184200,16257249,17481977,18565243,19546792,20434176],\"yaxis\":\"y\",\"type\":\"bar\"},{\"alignmentgroup\":\"True\",\"hovertemplate\":\"country=New Zealand<br>year=%{x}<br>pop=%{y}<extra></extra>\",\"legendgroup\":\"New Zealand\",\"marker\":{\"color\":\"#EF553B\",\"pattern\":{\"shape\":\"\"}},\"name\":\"New Zealand\",\"offsetgroup\":\"New Zealand\",\"orientation\":\"v\",\"showlegend\":true,\"textposition\":\"auto\",\"x\":[1952,1957,1962,1967,1972,1977,1982,1987,1992,1997,2002,2007],\"xaxis\":\"x\",\"y\":[1994794,2229407,2488550,2728150,2929100,3164900,3210650,3317166,3437674,3676187,3908037,4115771],\"yaxis\":\"y\",\"type\":\"bar\"}],                        {\"template\":{\"data\":{\"histogram2dcontour\":[{\"type\":\"histogram2dcontour\",\"colorbar\":{\"outlinewidth\":0,\"ticks\":\"\"},\"colorscale\":[[0.0,\"#0d0887\"],[0.1111111111111111,\"#46039f\"],[0.2222222222222222,\"#7201a8\"],[0.3333333333333333,\"#9c179e\"],[0.4444444444444444,\"#bd3786\"],[0.5555555555555556,\"#d8576b\"],[0.6666666666666666,\"#ed7953\"],[0.7777777777777778,\"#fb9f3a\"],[0.8888888888888888,\"#fdca26\"],[1.0,\"#f0f921\"]]}],\"choropleth\":[{\"type\":\"choropleth\",\"colorbar\":{\"outlinewidth\":0,\"ticks\":\"\"}}],\"histogram2d\":[{\"type\":\"histogram2d\",\"colorbar\":{\"outlinewidth\":0,\"ticks\":\"\"},\"colorscale\":[[0.0,\"#0d0887\"],[0.1111111111111111,\"#46039f\"],[0.2222222222222222,\"#7201a8\"],[0.3333333333333333,\"#9c179e\"],[0.4444444444444444,\"#bd3786\"],[0.5555555555555556,\"#d8576b\"],[0.6666666666666666,\"#ed7953\"],[0.7777777777777778,\"#fb9f3a\"],[0.8888888888888888,\"#fdca26\"],[1.0,\"#f0f921\"]]}],\"heatmap\":[{\"type\":\"heatmap\",\"colorbar\":{\"outlinewidth\":0,\"ticks\":\"\"},\"colorscale\":[[0.0,\"#0d0887\"],[0.1111111111111111,\"#46039f\"],[0.2222222222222222,\"#7201a8\"],[0.3333333333333333,\"#9c179e\"],[0.4444444444444444,\"#bd3786\"],[0.5555555555555556,\"#d8576b\"],[0.6666666666666666,\"#ed7953\"],[0.7777777777777778,\"#fb9f3a\"],[0.8888888888888888,\"#fdca26\"],[1.0,\"#f0f921\"]]}],\"heatmapgl\":[{\"type\":\"heatmapgl\",\"colorbar\":{\"outlinewidth\":0,\"ticks\":\"\"},\"colorscale\":[[0.0,\"#0d0887\"],[0.1111111111111111,\"#46039f\"],[0.2222222222222222,\"#7201a8\"],[0.3333333333333333,\"#9c179e\"],[0.4444444444444444,\"#bd3786\"],[0.5555555555555556,\"#d8576b\"],[0.6666666666666666,\"#ed7953\"],[0.7777777777777778,\"#fb9f3a\"],[0.8888888888888888,\"#fdca26\"],[1.0,\"#f0f921\"]]}],\"contourcarpet\":[{\"type\":\"contourcarpet\",\"colorbar\":{\"outlinewidth\":0,\"ticks\":\"\"}}],\"contour\":[{\"type\":\"contour\",\"colorbar\":{\"outlinewidth\":0,\"ticks\":\"\"},\"colorscale\":[[0.0,\"#0d0887\"],[0.1111111111111111,\"#46039f\"],[0.2222222222222222,\"#7201a8\"],[0.3333333333333333,\"#9c179e\"],[0.4444444444444444,\"#bd3786\"],[0.5555555555555556,\"#d8576b\"],[0.6666666666666666,\"#ed7953\"],[0.7777777777777778,\"#fb9f3a\"],[0.8888888888888888,\"#fdca26\"],[1.0,\"#f0f921\"]]}],\"surface\":[{\"type\":\"surface\",\"colorbar\":{\"outlinewidth\":0,\"ticks\":\"\"},\"colorscale\":[[0.0,\"#0d0887\"],[0.1111111111111111,\"#46039f\"],[0.2222222222222222,\"#7201a8\"],[0.3333333333333333,\"#9c179e\"],[0.4444444444444444,\"#bd3786\"],[0.5555555555555556,\"#d8576b\"],[0.6666666666666666,\"#ed7953\"],[0.7777777777777778,\"#fb9f3a\"],[0.8888888888888888,\"#fdca26\"],[1.0,\"#f0f921\"]]}],\"mesh3d\":[{\"type\":\"mesh3d\",\"colorbar\":{\"outlinewidth\":0,\"ticks\":\"\"}}],\"scatter\":[{\"fillpattern\":{\"fillmode\":\"overlay\",\"size\":10,\"solidity\":0.2},\"type\":\"scatter\"}],\"parcoords\":[{\"type\":\"parcoords\",\"line\":{\"colorbar\":{\"outlinewidth\":0,\"ticks\":\"\"}}}],\"scatterpolargl\":[{\"type\":\"scatterpolargl\",\"marker\":{\"colorbar\":{\"outlinewidth\":0,\"ticks\":\"\"}}}],\"bar\":[{\"error_x\":{\"color\":\"#2a3f5f\"},\"error_y\":{\"color\":\"#2a3f5f\"},\"marker\":{\"line\":{\"color\":\"#E5ECF6\",\"width\":0.5},\"pattern\":{\"fillmode\":\"overlay\",\"size\":10,\"solidity\":0.2}},\"type\":\"bar\"}],\"scattergeo\":[{\"type\":\"scattergeo\",\"marker\":{\"colorbar\":{\"outlinewidth\":0,\"ticks\":\"\"}}}],\"scatterpolar\":[{\"type\":\"scatterpolar\",\"marker\":{\"colorbar\":{\"outlinewidth\":0,\"ticks\":\"\"}}}],\"histogram\":[{\"marker\":{\"pattern\":{\"fillmode\":\"overlay\",\"size\":10,\"solidity\":0.2}},\"type\":\"histogram\"}],\"scattergl\":[{\"type\":\"scattergl\",\"marker\":{\"colorbar\":{\"outlinewidth\":0,\"ticks\":\"\"}}}],\"scatter3d\":[{\"type\":\"scatter3d\",\"line\":{\"colorbar\":{\"outlinewidth\":0,\"ticks\":\"\"}},\"marker\":{\"colorbar\":{\"outlinewidth\":0,\"ticks\":\"\"}}}],\"scattermapbox\":[{\"type\":\"scattermapbox\",\"marker\":{\"colorbar\":{\"outlinewidth\":0,\"ticks\":\"\"}}}],\"scatterternary\":[{\"type\":\"scatterternary\",\"marker\":{\"colorbar\":{\"outlinewidth\":0,\"ticks\":\"\"}}}],\"scattercarpet\":[{\"type\":\"scattercarpet\",\"marker\":{\"colorbar\":{\"outlinewidth\":0,\"ticks\":\"\"}}}],\"carpet\":[{\"aaxis\":{\"endlinecolor\":\"#2a3f5f\",\"gridcolor\":\"white\",\"linecolor\":\"white\",\"minorgridcolor\":\"white\",\"startlinecolor\":\"#2a3f5f\"},\"baxis\":{\"endlinecolor\":\"#2a3f5f\",\"gridcolor\":\"white\",\"linecolor\":\"white\",\"minorgridcolor\":\"white\",\"startlinecolor\":\"#2a3f5f\"},\"type\":\"carpet\"}],\"table\":[{\"cells\":{\"fill\":{\"color\":\"#EBF0F8\"},\"line\":{\"color\":\"white\"}},\"header\":{\"fill\":{\"color\":\"#C8D4E3\"},\"line\":{\"color\":\"white\"}},\"type\":\"table\"}],\"barpolar\":[{\"marker\":{\"line\":{\"color\":\"#E5ECF6\",\"width\":0.5},\"pattern\":{\"fillmode\":\"overlay\",\"size\":10,\"solidity\":0.2}},\"type\":\"barpolar\"}],\"pie\":[{\"automargin\":true,\"type\":\"pie\"}]},\"layout\":{\"autotypenumbers\":\"strict\",\"colorway\":[\"#636efa\",\"#EF553B\",\"#00cc96\",\"#ab63fa\",\"#FFA15A\",\"#19d3f3\",\"#FF6692\",\"#B6E880\",\"#FF97FF\",\"#FECB52\"],\"font\":{\"color\":\"#2a3f5f\"},\"hovermode\":\"closest\",\"hoverlabel\":{\"align\":\"left\"},\"paper_bgcolor\":\"white\",\"plot_bgcolor\":\"#E5ECF6\",\"polar\":{\"bgcolor\":\"#E5ECF6\",\"angularaxis\":{\"gridcolor\":\"white\",\"linecolor\":\"white\",\"ticks\":\"\"},\"radialaxis\":{\"gridcolor\":\"white\",\"linecolor\":\"white\",\"ticks\":\"\"}},\"ternary\":{\"bgcolor\":\"#E5ECF6\",\"aaxis\":{\"gridcolor\":\"white\",\"linecolor\":\"white\",\"ticks\":\"\"},\"baxis\":{\"gridcolor\":\"white\",\"linecolor\":\"white\",\"ticks\":\"\"},\"caxis\":{\"gridcolor\":\"white\",\"linecolor\":\"white\",\"ticks\":\"\"}},\"coloraxis\":{\"colorbar\":{\"outlinewidth\":0,\"ticks\":\"\"}},\"colorscale\":{\"sequential\":[[0.0,\"#0d0887\"],[0.1111111111111111,\"#46039f\"],[0.2222222222222222,\"#7201a8\"],[0.3333333333333333,\"#9c179e\"],[0.4444444444444444,\"#bd3786\"],[0.5555555555555556,\"#d8576b\"],[0.6666666666666666,\"#ed7953\"],[0.7777777777777778,\"#fb9f3a\"],[0.8888888888888888,\"#fdca26\"],[1.0,\"#f0f921\"]],\"sequentialminus\":[[0.0,\"#0d0887\"],[0.1111111111111111,\"#46039f\"],[0.2222222222222222,\"#7201a8\"],[0.3333333333333333,\"#9c179e\"],[0.4444444444444444,\"#bd3786\"],[0.5555555555555556,\"#d8576b\"],[0.6666666666666666,\"#ed7953\"],[0.7777777777777778,\"#fb9f3a\"],[0.8888888888888888,\"#fdca26\"],[1.0,\"#f0f921\"]],\"diverging\":[[0,\"#8e0152\"],[0.1,\"#c51b7d\"],[0.2,\"#de77ae\"],[0.3,\"#f1b6da\"],[0.4,\"#fde0ef\"],[0.5,\"#f7f7f7\"],[0.6,\"#e6f5d0\"],[0.7,\"#b8e186\"],[0.8,\"#7fbc41\"],[0.9,\"#4d9221\"],[1,\"#276419\"]]},\"xaxis\":{\"gridcolor\":\"white\",\"linecolor\":\"white\",\"ticks\":\"\",\"title\":{\"standoff\":15},\"zerolinecolor\":\"white\",\"automargin\":true,\"zerolinewidth\":2},\"yaxis\":{\"gridcolor\":\"white\",\"linecolor\":\"white\",\"ticks\":\"\",\"title\":{\"standoff\":15},\"zerolinecolor\":\"white\",\"automargin\":true,\"zerolinewidth\":2},\"scene\":{\"xaxis\":{\"backgroundcolor\":\"#E5ECF6\",\"gridcolor\":\"white\",\"linecolor\":\"white\",\"showbackground\":true,\"ticks\":\"\",\"zerolinecolor\":\"white\",\"gridwidth\":2},\"yaxis\":{\"backgroundcolor\":\"#E5ECF6\",\"gridcolor\":\"white\",\"linecolor\":\"white\",\"showbackground\":true,\"ticks\":\"\",\"zerolinecolor\":\"white\",\"gridwidth\":2},\"zaxis\":{\"backgroundcolor\":\"#E5ECF6\",\"gridcolor\":\"white\",\"linecolor\":\"white\",\"showbackground\":true,\"ticks\":\"\",\"zerolinecolor\":\"white\",\"gridwidth\":2}},\"shapedefaults\":{\"line\":{\"color\":\"#2a3f5f\"}},\"annotationdefaults\":{\"arrowcolor\":\"#2a3f5f\",\"arrowhead\":0,\"arrowwidth\":1},\"geo\":{\"bgcolor\":\"white\",\"landcolor\":\"#E5ECF6\",\"subunitcolor\":\"white\",\"showland\":true,\"showlakes\":true,\"lakecolor\":\"white\"},\"title\":{\"x\":0.05},\"mapbox\":{\"style\":\"light\"}}},\"xaxis\":{\"anchor\":\"y\",\"domain\":[0.0,1.0],\"title\":{\"text\":\"year\"}},\"yaxis\":{\"anchor\":\"x\",\"domain\":[0.0,1.0],\"title\":{\"text\":\"pop\"}},\"legend\":{\"title\":{\"text\":\"country\"},\"tracegroupgap\":0},\"margin\":{\"t\":60},\"barmode\":\"relative\",\"title\":{\"text\":\"\\u0414\\u0438\\u043d\\u0430\\u043c\\u0456\\u043a\\u0430 \\u0437\\u043c\\u0456\\u043d\\u0438 \\u043d\\u0430\\u0441\\u0435\\u043b\\u0435\\u043d\\u043d\\u044f \\u0434\\u043b\\u044f \\u041a\\u0430\\u043d\\u0430\\u0434\\u0438 \\u0442\\u0430 \\u043a\\u0440\\u0430\\u0457\\u043d \\u041e\\u043a\\u0435\\u0430\\u043d\\u0456\\u0457\",\"x\":0.5}},                        {\"responsive\": true}                    ).then(function(){\n",
       "                            \n",
       "var gd = document.getElementById('84fe2b4b-6d9c-4dfb-b037-46e92bc6cb61');\n",
       "var x = new MutationObserver(function (mutations, observer) {{\n",
       "        var display = window.getComputedStyle(gd).display;\n",
       "        if (!display || display === 'none') {{\n",
       "            console.log([gd, 'removed!']);\n",
       "            Plotly.purge(gd);\n",
       "            observer.disconnect();\n",
       "        }}\n",
       "}});\n",
       "\n",
       "// Listen for the removal of the full notebook cells\n",
       "var notebookContainer = gd.closest('#notebook-container');\n",
       "if (notebookContainer) {{\n",
       "    x.observe(notebookContainer, {childList: true});\n",
       "}}\n",
       "\n",
       "// Listen for the clearing of the current output cell\n",
       "var outputEl = gd.closest('.output');\n",
       "if (outputEl) {{\n",
       "    x.observe(outputEl, {childList: true});\n",
       "}}\n",
       "\n",
       "                        })                };                });            </script>        </div>"
      ]
     },
     "metadata": {},
     "output_type": "display_data"
    }
   ],
   "source": [
    "# Завантаження даних з gapminder для країн Океанії та Канади\n",
    "gapminder_oceania = gapminder.query(\"continent == 'Oceania'\")\n",
    "\n",
    "# Побудова стовпчастої діаграми\n",
    "fig = px.bar(gapminder_oceania, x='year', y='pop', color='country')\n",
    "fig.update_layout(\n",
    "    title=\"Динаміка зміни населення для Канади та країн Океанії\",\n",
    "    title_x=0.5 \n",
    ")\n",
    "fig.show()"
   ]
  },
  {
   "cell_type": "markdown",
   "id": "bda48cce",
   "metadata": {},
   "source": [
    "**Побудува лінійних графіків для тригонометричних функцій**"
   ]
  },
  {
   "cell_type": "code",
   "execution_count": 45,
   "id": "feddc78c",
   "metadata": {},
   "outputs": [
    {
     "data": {
      "application/vnd.plotly.v1+json": {
       "config": {
        "plotlyServerURL": "https://plot.ly"
       },
       "data": [
        {
         "hovertemplate": "x=%{x}<br>y=%{y}<extra></extra>",
         "legendgroup": "",
         "line": {
          "color": "#636efa",
          "dash": "solid"
         },
         "marker": {
          "symbol": "circle"
         },
         "mode": "lines",
         "name": "",
         "orientation": "v",
         "showlegend": false,
         "type": "scatter",
         "x": [
          0,
          0.031478884304506946,
          0.06295776860901389,
          0.09443665291352084,
          0.12591553721802778,
          0.15739442152253474,
          0.18887330582704168,
          0.2203521901315486,
          0.25183107443605557,
          0.28330995874056253,
          0.3147888430450695,
          0.3462677273495764,
          0.37774661165408335,
          0.4092254959585903,
          0.4407043802630972,
          0.4721832645676042,
          0.5036621488721111,
          0.5351410331766181,
          0.5666199174811251,
          0.598098801785632,
          0.629577686090139,
          0.6610565703946458,
          0.6925354546991528,
          0.7240143390036597,
          0.7554932233081667,
          0.7869721076126737,
          0.8184509919171806,
          0.8499298762216876,
          0.8814087605261944,
          0.9128876448307014,
          0.9443665291352084,
          0.9758454134397153,
          1.0073242977442223,
          1.0388031820487291,
          1.0702820663532362,
          1.101760950657743,
          1.1332398349622501,
          1.164718719266757,
          1.196197603571264,
          1.2276764878757709,
          1.259155372180278,
          1.2906342564847848,
          1.3221131407892917,
          1.3535920250937987,
          1.3850709093983056,
          1.4165497937028126,
          1.4480286780073195,
          1.4795075623118266,
          1.5109864466163334,
          1.5424653309208403,
          1.5739442152253473,
          1.6054230995298542,
          1.6369019838343613,
          1.668380868138868,
          1.6998597524433752,
          1.731338636747882,
          1.7628175210523889,
          1.794296405356896,
          1.8257752896614028,
          1.8572541739659099,
          1.8887330582704167,
          1.9202119425749238,
          1.9516908268794306,
          1.9831697111839377,
          2.0146485954884445,
          2.0461274797929514,
          2.0776063640974582,
          2.1090852484019655,
          2.1405641327064724,
          2.1720430170109792,
          2.203521901315486,
          2.2350007856199934,
          2.2664796699245002,
          2.297958554229007,
          2.329437438533514,
          2.3609163228380208,
          2.392395207142528,
          2.423874091447035,
          2.4553529757515418,
          2.4868318600560486,
          2.518310744360556,
          2.5497896286650628,
          2.5812685129695696,
          2.6127473972740765,
          2.6442262815785833,
          2.6757051658830906,
          2.7071840501875974,
          2.7386629344921043,
          2.770141818796611,
          2.801620703101118,
          2.8330995874056253,
          2.864578471710132,
          2.896057356014639,
          2.927536240319146,
          2.959015124623653,
          2.99049400892816,
          3.021972893232667,
          3.0534517775371737,
          3.0849306618416805,
          3.116409546146188,
          3.1478884304506947,
          3.1793673147552015,
          3.2108461990597084,
          3.2423250833642157,
          3.2738039676687225,
          3.3052828519732294,
          3.336761736277736,
          3.368240620582243,
          3.3997195048867503,
          3.431198389191257,
          3.462677273495764,
          3.494156157800271,
          3.5256350421047777,
          3.557113926409285,
          3.588592810713792,
          3.6200716950182987,
          3.6515505793228056,
          3.683029463627313,
          3.7145083479318197,
          3.7459872322363266,
          3.7774661165408334,
          3.8089450008453403,
          3.8404238851498476,
          3.8719027694543544,
          3.9033816537588613,
          3.934860538063368,
          3.9663394223678754,
          3.9978183066723822,
          4.029297190976889,
          4.060776075281396,
          4.092254959585903,
          4.12373384389041,
          4.1552127281949165,
          4.186691612499424,
          4.218170496803931,
          4.249649381108438,
          4.281128265412945,
          4.312607149717452,
          4.3440860340219585,
          4.375564918326465,
          4.407043802630972,
          4.438522686935479,
          4.470001571239987,
          4.501480455544494,
          4.5329593398490005,
          4.564438224153507,
          4.595917108458014,
          4.627395992762521,
          4.658874877067028,
          4.690353761371535,
          4.7218326456760416,
          4.753311529980549,
          4.784790414285056,
          4.816269298589563,
          4.84774818289407,
          4.879227067198577,
          4.9107059515030835,
          4.94218483580759,
          4.973663720112097,
          5.005142604416604,
          5.036621488721112,
          5.068100373025619,
          5.0995792573301255,
          5.131058141634632,
          5.162537025939139,
          5.194015910243646,
          5.225494794548153,
          5.25697367885266,
          5.288452563157167,
          5.3199314474616735,
          5.351410331766181,
          5.382889216070688,
          5.414368100375195,
          5.445846984679702,
          5.477325868984209,
          5.508804753288715,
          5.540283637593222,
          5.571762521897729,
          5.603241406202236,
          5.634720290506744,
          5.666199174811251,
          5.697678059115757,
          5.729156943420264,
          5.760635827724771,
          5.792114712029278,
          5.823593596333785,
          5.855072480638292,
          5.8865513649427985,
          5.918030249247306,
          5.949509133551813,
          5.98098801785632,
          6.012466902160827,
          6.043945786465334,
          6.0754246707698405,
          6.106903555074347,
          6.138382439378854,
          6.169861323683361,
          6.201340207987869,
          6.232819092292376,
          6.2642979765968825,
          6.295776860901389,
          6.327255745205896,
          6.358734629510403,
          6.39021351381491,
          6.421692398119417,
          6.453171282423924,
          6.484650166728431,
          6.516129051032938,
          6.547607935337445,
          6.579086819641952,
          6.610565703946459,
          6.6420445882509656,
          6.673523472555472,
          6.705002356859979,
          6.736481241164486,
          6.767960125468994,
          6.799439009773501,
          6.8309178940780075,
          6.862396778382514,
          6.893875662687021,
          6.925354546991528,
          6.956833431296035,
          6.988312315600542,
          7.019791199905049,
          7.0512700842095555,
          7.082748968514063,
          7.11422785281857,
          7.145706737123077,
          7.177185621427584,
          7.208664505732091,
          7.2401433900365975,
          7.271622274341104,
          7.303101158645611,
          7.334580042950118,
          7.366058927254626,
          7.397537811559133,
          7.429016695863639,
          7.460495580168146,
          7.491974464472653,
          7.52345334877716,
          7.554932233081667,
          7.586411117386174,
          7.6178900016906805,
          7.649368885995188,
          7.680847770299695,
          7.712326654604202,
          7.743805538908709,
          7.775284423213216,
          7.8067633075177225,
          7.838242191822229,
          7.869721076126736,
          7.901199960431243,
          7.932678844735751,
          7.964157729040258,
          7.9956366133447645,
          8.027115497649271,
          8.058594381953778,
          8.090073266258285,
          8.121552150562792,
          8.153031034867299,
          8.184509919171806,
          8.215988803476312,
          8.24746768778082,
          8.278946572085326,
          8.310425456389833,
          8.34190434069434,
          8.373383224998848,
          8.404862109303355,
          8.436340993607862,
          8.467819877912369,
          8.499298762216876,
          8.530777646521383,
          8.56225653082589,
          8.593735415130396,
          8.625214299434903,
          8.65669318373941,
          8.688172068043917,
          8.719650952348424,
          8.75112983665293,
          8.782608720957437,
          8.814087605261944,
          8.845566489566451,
          8.877045373870958,
          8.908524258175465,
          8.940003142479974,
          8.97148202678448,
          9.002960911088987,
          9.034439795393494,
          9.065918679698001,
          9.097397564002508,
          9.128876448307015,
          9.160355332611521,
          9.191834216916028,
          9.223313101220535,
          9.254791985525042,
          9.286270869829549,
          9.317749754134056,
          9.349228638438563,
          9.38070752274307,
          9.412186407047576,
          9.443665291352083,
          9.47514417565659,
          9.506623059961099,
          9.538101944265605,
          9.569580828570112,
          9.60105971287462,
          9.632538597179126,
          9.664017481483633,
          9.69549636578814,
          9.726975250092647,
          9.758454134397153,
          9.78993301870166,
          9.821411903006167,
          9.852890787310674,
          9.88436967161518,
          9.915848555919688,
          9.947327440224194,
          9.978806324528701,
          10.010285208833208,
          10.041764093137715,
          10.073242977442224,
          10.10472186174673,
          10.136200746051237,
          10.167679630355744,
          10.199158514660251,
          10.230637398964758,
          10.262116283269265,
          10.293595167573772,
          10.325074051878278,
          10.356552936182785,
          10.388031820487292,
          10.419510704791799,
          10.450989589096306,
          10.482468473400813,
          10.51394735770532,
          10.545426242009826,
          10.576905126314333,
          10.60838401061884,
          10.639862894923347,
          10.671341779227856,
          10.702820663532362,
          10.73429954783687,
          10.765778432141376,
          10.797257316445883,
          10.82873620075039,
          10.860215085054897,
          10.891693969359403,
          10.92317285366391,
          10.954651737968417,
          10.986130622272924,
          11.01760950657743,
          11.049088390881938,
          11.080567275186445,
          11.112046159490951,
          11.143525043795458,
          11.175003928099965,
          11.206482812404472,
          11.23796169670898,
          11.269440581013487,
          11.300919465317994,
          11.332398349622501,
          11.363877233927008,
          11.395356118231515,
          11.426835002536022,
          11.458313886840529,
          11.489792771145035,
          11.521271655449542,
          11.552750539754049,
          11.584229424058556,
          11.615708308363063,
          11.64718719266757,
          11.678666076972076,
          11.710144961276583,
          11.74162384558109,
          11.773102729885597,
          11.804581614190106,
          11.836060498494613,
          11.86753938279912,
          11.899018267103626,
          11.930497151408133,
          11.96197603571264,
          11.993454920017147,
          12.024933804321654,
          12.05641268862616,
          12.087891572930667,
          12.119370457235174,
          12.150849341539681,
          12.182328225844188,
          12.213807110148695,
          12.245285994453202,
          12.276764878757708,
          12.308243763062215,
          12.339722647366722,
          12.371201531671229,
          12.402680415975738,
          12.434159300280244,
          12.465638184584751,
          12.497117068889258,
          12.528595953193765,
          12.560074837498272,
          12.591553721802779,
          12.623032606107286,
          12.654511490411792,
          12.6859903747163,
          12.717469259020806,
          12.748948143325313,
          12.78042702762982,
          12.811905911934327,
          12.843384796238833,
          12.87486368054334,
          12.906342564847847,
          12.937821449152354,
          12.969300333456863,
          13.00077921776137,
          13.032258102065876,
          13.063736986370383,
          13.09521587067489,
          13.126694754979397,
          13.158173639283904,
          13.18965252358841,
          13.221131407892917,
          13.252610292197424,
          13.284089176501931,
          13.315568060806438,
          13.347046945110945,
          13.378525829415452,
          13.410004713719959,
          13.441483598024465,
          13.472962482328972,
          13.504441366633479,
          13.535920250937988,
          13.567399135242495,
          13.598878019547001,
          13.630356903851508,
          13.661835788156015,
          13.693314672460522,
          13.724793556765029,
          13.756272441069536,
          13.787751325374042,
          13.81923020967855,
          13.850709093983056,
          13.882187978287563,
          13.91366686259207,
          13.945145746896577,
          13.976624631201084,
          14.00810351550559,
          14.039582399810097,
          14.071061284114604,
          14.102540168419111,
          14.13401905272362,
          14.165497937028126,
          14.196976821332633,
          14.22845570563714,
          14.259934589941647,
          14.291413474246154,
          14.32289235855066,
          14.354371242855168,
          14.385850127159674,
          14.417329011464181,
          14.448807895768688,
          14.480286780073195,
          14.511765664377702,
          14.543244548682209,
          14.574723432986715,
          14.606202317291222,
          14.63768120159573,
          14.669160085900236,
          14.700638970204745,
          14.732117854509251,
          14.763596738813758,
          14.795075623118265,
          14.826554507422772,
          14.858033391727279,
          14.889512276031786,
          14.920991160336293,
          14.9524700446408,
          14.983948928945306,
          15.015427813249813,
          15.04690669755432,
          15.078385581858827,
          15.109864466163334,
          15.14134335046784,
          15.172822234772347,
          15.204301119076854,
          15.235780003381361,
          15.26725888768587,
          15.298737771990377,
          15.330216656294883,
          15.36169554059939,
          15.393174424903897,
          15.424653309208404,
          15.45613219351291,
          15.487611077817418,
          15.519089962121924,
          15.550568846426431,
          15.582047730730938,
          15.613526615035445,
          15.645005499339952,
          15.676484383644459,
          15.707963267948966
         ],
         "xaxis": "x",
         "y": [
          -1.5707963267948966,
          -1.507091546064273,
          -1.4420182122949259,
          -1.375765410088359,
          -1.3085231456544884,
          -1.2404820353251609,
          -1.1718329938300223,
          -1.1027669227653343,
          -1.0334743996856608,
          -0.9641453682471216,
          -0.8949688298291507,
          -0.8261325370593846,
          -0.7578226896634608,
          -0.6902236330581272,
          -0.623517560102148,
          -0.5578842164150566,
          -0.4935006096688511,
          -0.4305407232522512,
          -0.36917523470116537,
          -0.30957123928253655,
          -0.2518919791117696,
          -0.196296578176495,
          -0.14293978363150003,
          -0.09197171372127838,
          -0.043537612677806016,
          0.002222387068121034,
          0.045173495033362696,
          0.08518648486822518,
          0.12213790827359701,
          0.1559103003523863,
          0.186392376109514,
          0.2134792178263883,
          0.23707245304779834,
          0.25708042293151906,
          0.27341834072359167,
          0.2860084401352181,
          0.294780113410478,
          0.2996700388876065,
          0.30062229787037126,
          0.2975884806401113,
          0.2905277814532567,
          0.27940708238360085,
          0.2642010258832381,
          0.24489207595088883,
          0.2214705678112917,
          0.19393474602442873,
          0.16229079095855498,
          0.12655283357629035,
          0.0867429584984109,
          0.042891195325388085,
          -0.004964501787802299,
          -0.05677828629260883,
          -0.11249646311710437,
          -0.17205754420352196,
          -0.2353923156557965,
          -0.3024239164244012,
          -0.3730679284405159,
          -0.4472324780963581,
          -0.5248183489534581,
          -0.6057191055457314,
          -0.6898212281294018,
          -0.7770042582172584,
          -0.8671409547202735,
          -0.96009746050544,
          -1.055733479164667,
          -1.1539024617758666,
          -1.2544518034238556,
          -1.3572230492355173,
          -1.462052109670739,
          -1.5687694847980722,
          -1.6772004972717454,
          -1.7871655337147723,
          -1.898480294201287,
          -2.0109560495200767,
          -2.124399905890402,
          -2.238615076790839,
          -2.353401161551828,
          -2.468554430353044,
          -2.5838681152575824,
          -2.6991327069062034,
          -2.814136256486713,
          -2.9286646825857376,
          -3.0425020825229194,
          -3.1554310477607173,
          -3.2672329829767617,
          -3.3776884283798947,
          -3.4865773848457775,
          -3.5936796414432255,
          -3.6987751049181785,
          -3.801644130698591,
          -3.9020678549803764,
          -3.999828527451931,
          -4.094709844212802,
          -4.1864972804404985,
          -4.274978422358587,
          -4.359943298058826,
          -4.441184706730301,
          -4.518498545849267,
          -4.591684135884744,
          -4.660544542076781,
          -4.724886892846738,
          -4.78452269440197,
          -4.839268141100786,
          -4.88894442114772,
          -4.933378017193771,
          -4.972401001421475,
          -5.005851324700379,
          -5.033573099404804,
          -5.055416875492494,
          -5.071239909450141,
          -5.080906425719513,
          -5.084287870226273,
          -5.081263155642393,
          -5.071718898022309,
          -5.055549644462789,
          -5.032658091446669,
          -5.002955293541294,
          -4.966360862133636,
          -4.922803153895566,
          -4.872219448684737,
          -4.814556116598869,
          -4.749768773913966,
          -4.67782242765009,
          -4.598691608521796,
          -4.512360492044108,
          -4.418823007579049,
          -4.318082935122179,
          -4.2101539896432785,
          -4.095059892810344,
          -3.972834431941303,
          -3.8435215060433263,
          -3.707175158815324,
          -3.563859598505153,
          -3.4136492045290905,
          -3.2566285207774746,
          -3.092892235546667,
          -2.922545148054205,
          -2.745702121510466,
          -2.562488022736986,
          -2.373037648338304,
          -2.177495637451065,
          -1.9760163711109282,
          -1.7687638582947098,
          -1.5559116087120493,
          -1.3376424924375816,
          -1.1141485864915552,
          -0.8856310084932957,
          -0.6522997375286235,
          -0.4143734223887551,
          -0.17207917735454364,
          0.07434763428390884,
          0.3246636287662551,
          0.5786176422376581,
          0.8359509827240021,
          1.0963976934536683,
          1.3596848272581352,
          1.6255327317686934,
          1.893655345112085,
          2.1637605017936434,
          2.435550248442619,
          2.708721169080827,
          2.9829647195625157,
          3.257967570820701,
          3.5334119605425207,
          3.8089760528844376,
          4.084334305826375,
          4.359157845752768,
          4.6331148488378515,
          4.905870928802269,
          5.177089530598366,
          5.446432329572312,
          5.7135596356424,
          5.9781308020248565,
          6.239804638030526,
          6.498239825448959,
          6.753095338029683,
          7.0040308635644815,
          7.250707228069052,
          7.492786821557566,
          7.729934024899367,
          7.961815637243342,
          8.188101303492527,
          8.408463941308842,
          8.622580167126172,
          8.830130720648688,
          9.030800887310654,
          9.224280918173966,
          9.410266446740348,
          9.58845890215626,
          9.758565918290522,
          9.920301738167133,
          10.073387613238832,
          10.217552196990733,
          10.352531932367695,
          10.47807143252409,
          10.593923854400161,
          10.699851264635427,
          10.795624997336322,
          10.881026003222697,
          10.955845189685805,
          11.01988375129889,
          11.072953490330734,
          11.114877126822176,
          11.145488597795891,
          11.164633345180542,
          11.17216859204176,
          11.167963606724323,
          11.151899954522197,
          11.123871736506132,
          11.083785815151753,
          11.031562026425028,
          10.967133377996225,
          10.890446233268328,
          10.801460480920921,
          10.700149689686283,
          10.586501248090311,
          10.460516488907349,
          10.32221079809459,
          10.171613707988982,
          10.008768974566753,
          9.833734638583508,
          9.646583070430754,
          9.447400998563012,
          9.236289521368084,
          9.013364102371856,
          8.778754548687848,
          8.532604972640902,
          8.275073736513527,
          8.00633338038305,
          7.726570533036971,
          7.435985805973762,
          7.134793670515863,
          6.823222318081521,
          6.501513503681739,
          6.169922372728491,
          5.828717271260087,
          5.47817953970914,
          5.1186032903585605,
          4.750295168650232,
          4.3735740985306935,
          3.9887710120373923,
          3.5962285633483018,
          3.1963008275366325,
          2.7893529842912264,
          2.3757609868818275,
          1.955911216666553,
          1.5302001234573421,
          1.0990338520765683,
          0.6628278554557016,
          0.22200649464398495,
          -0.22299737388809132,
          -0.6717428232493136,
          -1.1237812930150224,
          -1.5786570375681872,
          -2.0359075854463753,
          -2.495064209231524,
          -2.9556524055055657,
          -3.417192384380897,
          -3.8791995681014573,
          -4.341185098197395,
          -4.802656350664038,
          -5.2631174586241976,
          -5.722069841921692,
          -6.179012743083435,
          -6.633443769077467,
          -7.084859438284967,
          -7.532755732095573,
          -7.976628650527085,
          -8.41597477126368,
          -8.850291811499133,
          -9.279079191966236,
          -9.701838602527701,
          -10.118074568699171,
          -10.527295018470907,
          -10.929011848791347,
          -11.322741491073003,
          -11.708005475079306,
          -12.084330990549637,
          -12.451251445919416,
          -12.808307023492125,
          -13.15504523042128,
          -13.491021444861834,
          -13.815799456653023,
          -14.128952001897614,
          -14.430061290806613,
          -14.718719528182591,
          -14.994529425920803,
          -15.257104706912411,
          -15.506070599741507,
          -15.741064323574868,
          -15.961735562651304,
          -16.167746929786706,
          -16.35877441831998,
          -16.53450784193568,
          -16.694651261809692,
          -16.838923400536192,
          -16.967058042305958,
          -17.07880441881939,
          -17.173927580430593,
          -17.25220875203348,
          -17.313445673215053,
          -17.357452922216847,
          -17.384062223260845,
          -17.393122736813098,
          -17.38450133237498,
          -17.35808284340947,
          -17.31377030402821,
          -17.251485167083125,
          -17.171167503325815,
          -17.072776181317018,
          -16.956289027788557,
          -16.821702968180297,
          -16.66903414709545,
          -16.498318028438444,
          -16.309609475021215,
          -16.102982807445162,
          -15.878531842088409,
          -15.63636990804997,
          -15.376629842925258,
          -15.099463967309934,
          -14.805044037952328,
          -14.493561179497663,
          -14.165225794790606,
          -13.82026745372654,
          -13.458934760664954,
          -13.081495200442534,
          -12.68823496304687,
          -12.279458747035752,
          -11.855489541810535,
          -11.41666838887598,
          -10.963354122242507,
          -10.495923088150548,
          -10.014768844320054,
          -9.520301838951731,
          -9.012949069729686,
          -8.49315372309832,
          -7.961374794109036,
          -7.418086687155062,
          -6.863778797934928,
          -6.298955077007261,
          -5.724133575321496,
          -5.139845972129878,
          -4.546637085708337,
          -3.9450643673333246,
          -3.3356973789827555,
          -2.719117255248708,
          -2.0959161499690757,
          -1.4666966681041878,
          -0.8320712834029197,
          -0.1926617424206495,
          0.45090154453117987,
          1.0979801249073713,
          1.7479281373104039,
          2.4000929561026356,
          3.053815846605954,
          3.7084326302311816,
          4.363274358865924,
          5.017667997836491,
          5.670937116747051,
          6.3224025874883,
          6.971383288695742,
          7.617196815928924,
          8.259160196832694,
          8.896590610533316,
          9.528806110514292,
          10.15512635020982,
          10.774873310547399,
          11.387372028665919,
          11.991951327030607,
          12.58794454216283,
          13.17469025219938,
          13.751533002494112,
          14.31782402847328,
          14.872921974955696,
          15.41619361114908,
          15.947014540535497,
          16.46476990486056,
          16.968855081444772,
          17.45867637303828,
          17.93365168944587,
          18.393211220154345,
          18.836798097200607,
          19.26386904752651,
          19.67389503407425,
          20.06636188488536,
          20.44077090947588,
          20.796639501771203,
          21.133501728895208,
          21.450908905120837,
          21.74843015030203,
          22.02565293212104,
          22.282183591499418,
          22.517647850536658,
          22.73169130235625,
          22.923979882256035,
          23.09420031957692,
          23.24206056972276,
          23.367290225782575,
          23.46964090922623,
          23.548886639164856,
          23.604824179688002,
          23.637273364811204,
          23.646077400589395,
          23.63110314397453,
          23.592241358018526,
          23.529406943046794,
          23.442539143451167,
          23.331601729776306,
          23.196583155798063,
          23.03749669031843,
          22.8543805234269,
          22.64729784700497,
          22.416336909276392,
          22.161611043233474,
          21.883258668795964,
          21.581443268587396,
          21.2563533372408,
          20.908202304173713,
          20.53722842980061,
          20.143694675178725,
          19.72788854511186,
          19.290121904764668,
          18.830730769868904,
          18.350075070630854,
          17.84853838947822,
          17.326527672812556,
          16.784472916962066,
          16.222826828557444,
          15.642064459581745,
          15.042682817372913,
          14.425200449885548,
          13.790157006545943,
          13.138112775061035,
          12.469648194570137,
          11.78536334555351,
          11.085877416939091,
          10.371828150874133,
          9.643871265654214,
          8.902679857327003,
          8.148943780512953,
          7.383369009008985,
          6.606676976765102,
          5.81960389984669,
          5.022900080017977,
          4.217329190603853,
          3.4036675453087017,
          2.5827033506913915,
          1.755235943015693,
          0.922075010214545,
          0.08403979972523286,
          -0.7580416870293776,
          -1.6033335127222674,
          -2.4509926339571466,
          -3.300169742033711,
          -4.150010113804553,
          -4.999654471771445,
          -5.848239852555715,
          -6.694900482865277,
          -7.538768662069675,
          -8.378975650484117,
          -9.214652562454111,
          -10.04493126332377,
          -10.868945269363339,
          -11.685830649724856,
          -12.494726929489286,
          -13.294777992863677,
          -14.085132985583394,
          -14.864947215571542,
          -15.633383050906017,
          -16.389610814144504,
          -17.132809672056684,
          -17.862168519815732,
          -18.57688685870246,
          -19.27617566637917,
          -19.959258258794502,
          -20.62537114278591,
          -21.27376485845262,
          -21.90370481037952,
          -22.51447208680026,
          -23.105364265797782,
          -23.675696207650123,
          -24.224800832441215,
          -24.752029882068094,
          -25.256754665789625,
          -25.73836678847554,
          -26.19627886072998,
          -26.629925190079476,
          -27.038762452432596,
          -27.42227034303571,
          -27.779952206168392,
          -28.11133564284163,
          -28.415973095781847,
          -28.69344241100554,
          -28.943347375310918,
          -29.16531822903593,
          -29.35901215345548,
          -29.524113732215103,
          -29.660335386223082,
          -29.767417781449033,
          -29.845130209103033
         ],
         "yaxis": "y"
        }
       ],
       "layout": {
        "legend": {
         "tracegroupgap": 0
        },
        "template": {
         "data": {
          "bar": [
           {
            "error_x": {
             "color": "#2a3f5f"
            },
            "error_y": {
             "color": "#2a3f5f"
            },
            "marker": {
             "line": {
              "color": "#E5ECF6",
              "width": 0.5
             },
             "pattern": {
              "fillmode": "overlay",
              "size": 10,
              "solidity": 0.2
             }
            },
            "type": "bar"
           }
          ],
          "barpolar": [
           {
            "marker": {
             "line": {
              "color": "#E5ECF6",
              "width": 0.5
             },
             "pattern": {
              "fillmode": "overlay",
              "size": 10,
              "solidity": 0.2
             }
            },
            "type": "barpolar"
           }
          ],
          "carpet": [
           {
            "aaxis": {
             "endlinecolor": "#2a3f5f",
             "gridcolor": "white",
             "linecolor": "white",
             "minorgridcolor": "white",
             "startlinecolor": "#2a3f5f"
            },
            "baxis": {
             "endlinecolor": "#2a3f5f",
             "gridcolor": "white",
             "linecolor": "white",
             "minorgridcolor": "white",
             "startlinecolor": "#2a3f5f"
            },
            "type": "carpet"
           }
          ],
          "choropleth": [
           {
            "colorbar": {
             "outlinewidth": 0,
             "ticks": ""
            },
            "type": "choropleth"
           }
          ],
          "contour": [
           {
            "colorbar": {
             "outlinewidth": 0,
             "ticks": ""
            },
            "colorscale": [
             [
              0,
              "#0d0887"
             ],
             [
              0.1111111111111111,
              "#46039f"
             ],
             [
              0.2222222222222222,
              "#7201a8"
             ],
             [
              0.3333333333333333,
              "#9c179e"
             ],
             [
              0.4444444444444444,
              "#bd3786"
             ],
             [
              0.5555555555555556,
              "#d8576b"
             ],
             [
              0.6666666666666666,
              "#ed7953"
             ],
             [
              0.7777777777777778,
              "#fb9f3a"
             ],
             [
              0.8888888888888888,
              "#fdca26"
             ],
             [
              1,
              "#f0f921"
             ]
            ],
            "type": "contour"
           }
          ],
          "contourcarpet": [
           {
            "colorbar": {
             "outlinewidth": 0,
             "ticks": ""
            },
            "type": "contourcarpet"
           }
          ],
          "heatmap": [
           {
            "colorbar": {
             "outlinewidth": 0,
             "ticks": ""
            },
            "colorscale": [
             [
              0,
              "#0d0887"
             ],
             [
              0.1111111111111111,
              "#46039f"
             ],
             [
              0.2222222222222222,
              "#7201a8"
             ],
             [
              0.3333333333333333,
              "#9c179e"
             ],
             [
              0.4444444444444444,
              "#bd3786"
             ],
             [
              0.5555555555555556,
              "#d8576b"
             ],
             [
              0.6666666666666666,
              "#ed7953"
             ],
             [
              0.7777777777777778,
              "#fb9f3a"
             ],
             [
              0.8888888888888888,
              "#fdca26"
             ],
             [
              1,
              "#f0f921"
             ]
            ],
            "type": "heatmap"
           }
          ],
          "heatmapgl": [
           {
            "colorbar": {
             "outlinewidth": 0,
             "ticks": ""
            },
            "colorscale": [
             [
              0,
              "#0d0887"
             ],
             [
              0.1111111111111111,
              "#46039f"
             ],
             [
              0.2222222222222222,
              "#7201a8"
             ],
             [
              0.3333333333333333,
              "#9c179e"
             ],
             [
              0.4444444444444444,
              "#bd3786"
             ],
             [
              0.5555555555555556,
              "#d8576b"
             ],
             [
              0.6666666666666666,
              "#ed7953"
             ],
             [
              0.7777777777777778,
              "#fb9f3a"
             ],
             [
              0.8888888888888888,
              "#fdca26"
             ],
             [
              1,
              "#f0f921"
             ]
            ],
            "type": "heatmapgl"
           }
          ],
          "histogram": [
           {
            "marker": {
             "pattern": {
              "fillmode": "overlay",
              "size": 10,
              "solidity": 0.2
             }
            },
            "type": "histogram"
           }
          ],
          "histogram2d": [
           {
            "colorbar": {
             "outlinewidth": 0,
             "ticks": ""
            },
            "colorscale": [
             [
              0,
              "#0d0887"
             ],
             [
              0.1111111111111111,
              "#46039f"
             ],
             [
              0.2222222222222222,
              "#7201a8"
             ],
             [
              0.3333333333333333,
              "#9c179e"
             ],
             [
              0.4444444444444444,
              "#bd3786"
             ],
             [
              0.5555555555555556,
              "#d8576b"
             ],
             [
              0.6666666666666666,
              "#ed7953"
             ],
             [
              0.7777777777777778,
              "#fb9f3a"
             ],
             [
              0.8888888888888888,
              "#fdca26"
             ],
             [
              1,
              "#f0f921"
             ]
            ],
            "type": "histogram2d"
           }
          ],
          "histogram2dcontour": [
           {
            "colorbar": {
             "outlinewidth": 0,
             "ticks": ""
            },
            "colorscale": [
             [
              0,
              "#0d0887"
             ],
             [
              0.1111111111111111,
              "#46039f"
             ],
             [
              0.2222222222222222,
              "#7201a8"
             ],
             [
              0.3333333333333333,
              "#9c179e"
             ],
             [
              0.4444444444444444,
              "#bd3786"
             ],
             [
              0.5555555555555556,
              "#d8576b"
             ],
             [
              0.6666666666666666,
              "#ed7953"
             ],
             [
              0.7777777777777778,
              "#fb9f3a"
             ],
             [
              0.8888888888888888,
              "#fdca26"
             ],
             [
              1,
              "#f0f921"
             ]
            ],
            "type": "histogram2dcontour"
           }
          ],
          "mesh3d": [
           {
            "colorbar": {
             "outlinewidth": 0,
             "ticks": ""
            },
            "type": "mesh3d"
           }
          ],
          "parcoords": [
           {
            "line": {
             "colorbar": {
              "outlinewidth": 0,
              "ticks": ""
             }
            },
            "type": "parcoords"
           }
          ],
          "pie": [
           {
            "automargin": true,
            "type": "pie"
           }
          ],
          "scatter": [
           {
            "fillpattern": {
             "fillmode": "overlay",
             "size": 10,
             "solidity": 0.2
            },
            "type": "scatter"
           }
          ],
          "scatter3d": [
           {
            "line": {
             "colorbar": {
              "outlinewidth": 0,
              "ticks": ""
             }
            },
            "marker": {
             "colorbar": {
              "outlinewidth": 0,
              "ticks": ""
             }
            },
            "type": "scatter3d"
           }
          ],
          "scattercarpet": [
           {
            "marker": {
             "colorbar": {
              "outlinewidth": 0,
              "ticks": ""
             }
            },
            "type": "scattercarpet"
           }
          ],
          "scattergeo": [
           {
            "marker": {
             "colorbar": {
              "outlinewidth": 0,
              "ticks": ""
             }
            },
            "type": "scattergeo"
           }
          ],
          "scattergl": [
           {
            "marker": {
             "colorbar": {
              "outlinewidth": 0,
              "ticks": ""
             }
            },
            "type": "scattergl"
           }
          ],
          "scattermapbox": [
           {
            "marker": {
             "colorbar": {
              "outlinewidth": 0,
              "ticks": ""
             }
            },
            "type": "scattermapbox"
           }
          ],
          "scatterpolar": [
           {
            "marker": {
             "colorbar": {
              "outlinewidth": 0,
              "ticks": ""
             }
            },
            "type": "scatterpolar"
           }
          ],
          "scatterpolargl": [
           {
            "marker": {
             "colorbar": {
              "outlinewidth": 0,
              "ticks": ""
             }
            },
            "type": "scatterpolargl"
           }
          ],
          "scatterternary": [
           {
            "marker": {
             "colorbar": {
              "outlinewidth": 0,
              "ticks": ""
             }
            },
            "type": "scatterternary"
           }
          ],
          "surface": [
           {
            "colorbar": {
             "outlinewidth": 0,
             "ticks": ""
            },
            "colorscale": [
             [
              0,
              "#0d0887"
             ],
             [
              0.1111111111111111,
              "#46039f"
             ],
             [
              0.2222222222222222,
              "#7201a8"
             ],
             [
              0.3333333333333333,
              "#9c179e"
             ],
             [
              0.4444444444444444,
              "#bd3786"
             ],
             [
              0.5555555555555556,
              "#d8576b"
             ],
             [
              0.6666666666666666,
              "#ed7953"
             ],
             [
              0.7777777777777778,
              "#fb9f3a"
             ],
             [
              0.8888888888888888,
              "#fdca26"
             ],
             [
              1,
              "#f0f921"
             ]
            ],
            "type": "surface"
           }
          ],
          "table": [
           {
            "cells": {
             "fill": {
              "color": "#EBF0F8"
             },
             "line": {
              "color": "white"
             }
            },
            "header": {
             "fill": {
              "color": "#C8D4E3"
             },
             "line": {
              "color": "white"
             }
            },
            "type": "table"
           }
          ]
         },
         "layout": {
          "annotationdefaults": {
           "arrowcolor": "#2a3f5f",
           "arrowhead": 0,
           "arrowwidth": 1
          },
          "autotypenumbers": "strict",
          "coloraxis": {
           "colorbar": {
            "outlinewidth": 0,
            "ticks": ""
           }
          },
          "colorscale": {
           "diverging": [
            [
             0,
             "#8e0152"
            ],
            [
             0.1,
             "#c51b7d"
            ],
            [
             0.2,
             "#de77ae"
            ],
            [
             0.3,
             "#f1b6da"
            ],
            [
             0.4,
             "#fde0ef"
            ],
            [
             0.5,
             "#f7f7f7"
            ],
            [
             0.6,
             "#e6f5d0"
            ],
            [
             0.7,
             "#b8e186"
            ],
            [
             0.8,
             "#7fbc41"
            ],
            [
             0.9,
             "#4d9221"
            ],
            [
             1,
             "#276419"
            ]
           ],
           "sequential": [
            [
             0,
             "#0d0887"
            ],
            [
             0.1111111111111111,
             "#46039f"
            ],
            [
             0.2222222222222222,
             "#7201a8"
            ],
            [
             0.3333333333333333,
             "#9c179e"
            ],
            [
             0.4444444444444444,
             "#bd3786"
            ],
            [
             0.5555555555555556,
             "#d8576b"
            ],
            [
             0.6666666666666666,
             "#ed7953"
            ],
            [
             0.7777777777777778,
             "#fb9f3a"
            ],
            [
             0.8888888888888888,
             "#fdca26"
            ],
            [
             1,
             "#f0f921"
            ]
           ],
           "sequentialminus": [
            [
             0,
             "#0d0887"
            ],
            [
             0.1111111111111111,
             "#46039f"
            ],
            [
             0.2222222222222222,
             "#7201a8"
            ],
            [
             0.3333333333333333,
             "#9c179e"
            ],
            [
             0.4444444444444444,
             "#bd3786"
            ],
            [
             0.5555555555555556,
             "#d8576b"
            ],
            [
             0.6666666666666666,
             "#ed7953"
            ],
            [
             0.7777777777777778,
             "#fb9f3a"
            ],
            [
             0.8888888888888888,
             "#fdca26"
            ],
            [
             1,
             "#f0f921"
            ]
           ]
          },
          "colorway": [
           "#636efa",
           "#EF553B",
           "#00cc96",
           "#ab63fa",
           "#FFA15A",
           "#19d3f3",
           "#FF6692",
           "#B6E880",
           "#FF97FF",
           "#FECB52"
          ],
          "font": {
           "color": "#2a3f5f"
          },
          "geo": {
           "bgcolor": "white",
           "lakecolor": "white",
           "landcolor": "#E5ECF6",
           "showlakes": true,
           "showland": true,
           "subunitcolor": "white"
          },
          "hoverlabel": {
           "align": "left"
          },
          "hovermode": "closest",
          "mapbox": {
           "style": "light"
          },
          "paper_bgcolor": "white",
          "plot_bgcolor": "#E5ECF6",
          "polar": {
           "angularaxis": {
            "gridcolor": "white",
            "linecolor": "white",
            "ticks": ""
           },
           "bgcolor": "#E5ECF6",
           "radialaxis": {
            "gridcolor": "white",
            "linecolor": "white",
            "ticks": ""
           }
          },
          "scene": {
           "xaxis": {
            "backgroundcolor": "#E5ECF6",
            "gridcolor": "white",
            "gridwidth": 2,
            "linecolor": "white",
            "showbackground": true,
            "ticks": "",
            "zerolinecolor": "white"
           },
           "yaxis": {
            "backgroundcolor": "#E5ECF6",
            "gridcolor": "white",
            "gridwidth": 2,
            "linecolor": "white",
            "showbackground": true,
            "ticks": "",
            "zerolinecolor": "white"
           },
           "zaxis": {
            "backgroundcolor": "#E5ECF6",
            "gridcolor": "white",
            "gridwidth": 2,
            "linecolor": "white",
            "showbackground": true,
            "ticks": "",
            "zerolinecolor": "white"
           }
          },
          "shapedefaults": {
           "line": {
            "color": "#2a3f5f"
           }
          },
          "ternary": {
           "aaxis": {
            "gridcolor": "white",
            "linecolor": "white",
            "ticks": ""
           },
           "baxis": {
            "gridcolor": "white",
            "linecolor": "white",
            "ticks": ""
           },
           "bgcolor": "#E5ECF6",
           "caxis": {
            "gridcolor": "white",
            "linecolor": "white",
            "ticks": ""
           }
          },
          "title": {
           "x": 0.05
          },
          "xaxis": {
           "automargin": true,
           "gridcolor": "white",
           "linecolor": "white",
           "ticks": "",
           "title": {
            "standoff": 15
           },
           "zerolinecolor": "white",
           "zerolinewidth": 2
          },
          "yaxis": {
           "automargin": true,
           "gridcolor": "white",
           "linecolor": "white",
           "ticks": "",
           "title": {
            "standoff": 15
           },
           "zerolinecolor": "white",
           "zerolinewidth": 2
          }
         }
        },
        "title": {
         "text": "Графік функції y = 2cos(x)(x - π/4)"
        },
        "xaxis": {
         "anchor": "y",
         "domain": [
          0,
          1
         ],
         "title": {
          "text": "x"
         }
        },
        "yaxis": {
         "anchor": "x",
         "domain": [
          0,
          1
         ],
         "title": {
          "text": "y"
         }
        }
       }
      },
      "text/html": [
       "<div>                            <div id=\"0fc335c7-22f9-4e0b-828a-303cbf85d7c9\" class=\"plotly-graph-div\" style=\"height:525px; width:100%;\"></div>            <script type=\"text/javascript\">                require([\"plotly\"], function(Plotly) {                    window.PLOTLYENV=window.PLOTLYENV || {};                                    if (document.getElementById(\"0fc335c7-22f9-4e0b-828a-303cbf85d7c9\")) {                    Plotly.newPlot(                        \"0fc335c7-22f9-4e0b-828a-303cbf85d7c9\",                        [{\"hovertemplate\":\"x=%{x}<br>y=%{y}<extra></extra>\",\"legendgroup\":\"\",\"line\":{\"color\":\"#636efa\",\"dash\":\"solid\"},\"marker\":{\"symbol\":\"circle\"},\"mode\":\"lines\",\"name\":\"\",\"orientation\":\"v\",\"showlegend\":false,\"x\":[0.0,0.031478884304506946,0.06295776860901389,0.09443665291352084,0.12591553721802778,0.15739442152253474,0.18887330582704168,0.2203521901315486,0.25183107443605557,0.28330995874056253,0.3147888430450695,0.3462677273495764,0.37774661165408335,0.4092254959585903,0.4407043802630972,0.4721832645676042,0.5036621488721111,0.5351410331766181,0.5666199174811251,0.598098801785632,0.629577686090139,0.6610565703946458,0.6925354546991528,0.7240143390036597,0.7554932233081667,0.7869721076126737,0.8184509919171806,0.8499298762216876,0.8814087605261944,0.9128876448307014,0.9443665291352084,0.9758454134397153,1.0073242977442223,1.0388031820487291,1.0702820663532362,1.101760950657743,1.1332398349622501,1.164718719266757,1.196197603571264,1.2276764878757709,1.259155372180278,1.2906342564847848,1.3221131407892917,1.3535920250937987,1.3850709093983056,1.4165497937028126,1.4480286780073195,1.4795075623118266,1.5109864466163334,1.5424653309208403,1.5739442152253473,1.6054230995298542,1.6369019838343613,1.668380868138868,1.6998597524433752,1.731338636747882,1.7628175210523889,1.794296405356896,1.8257752896614028,1.8572541739659099,1.8887330582704167,1.9202119425749238,1.9516908268794306,1.9831697111839377,2.0146485954884445,2.0461274797929514,2.0776063640974582,2.1090852484019655,2.1405641327064724,2.1720430170109792,2.203521901315486,2.2350007856199934,2.2664796699245002,2.297958554229007,2.329437438533514,2.3609163228380208,2.392395207142528,2.423874091447035,2.4553529757515418,2.4868318600560486,2.518310744360556,2.5497896286650628,2.5812685129695696,2.6127473972740765,2.6442262815785833,2.6757051658830906,2.7071840501875974,2.7386629344921043,2.770141818796611,2.801620703101118,2.8330995874056253,2.864578471710132,2.896057356014639,2.927536240319146,2.959015124623653,2.99049400892816,3.021972893232667,3.0534517775371737,3.0849306618416805,3.116409546146188,3.1478884304506947,3.1793673147552015,3.2108461990597084,3.2423250833642157,3.2738039676687225,3.3052828519732294,3.336761736277736,3.368240620582243,3.3997195048867503,3.431198389191257,3.462677273495764,3.494156157800271,3.5256350421047777,3.557113926409285,3.588592810713792,3.6200716950182987,3.6515505793228056,3.683029463627313,3.7145083479318197,3.7459872322363266,3.7774661165408334,3.8089450008453403,3.8404238851498476,3.8719027694543544,3.9033816537588613,3.934860538063368,3.9663394223678754,3.9978183066723822,4.029297190976889,4.060776075281396,4.092254959585903,4.12373384389041,4.1552127281949165,4.186691612499424,4.218170496803931,4.249649381108438,4.281128265412945,4.312607149717452,4.3440860340219585,4.375564918326465,4.407043802630972,4.438522686935479,4.470001571239987,4.501480455544494,4.5329593398490005,4.564438224153507,4.595917108458014,4.627395992762521,4.658874877067028,4.690353761371535,4.7218326456760416,4.753311529980549,4.784790414285056,4.816269298589563,4.84774818289407,4.879227067198577,4.9107059515030835,4.94218483580759,4.973663720112097,5.005142604416604,5.036621488721112,5.068100373025619,5.0995792573301255,5.131058141634632,5.162537025939139,5.194015910243646,5.225494794548153,5.25697367885266,5.288452563157167,5.3199314474616735,5.351410331766181,5.382889216070688,5.414368100375195,5.445846984679702,5.477325868984209,5.508804753288715,5.540283637593222,5.571762521897729,5.603241406202236,5.634720290506744,5.666199174811251,5.697678059115757,5.729156943420264,5.760635827724771,5.792114712029278,5.823593596333785,5.855072480638292,5.8865513649427985,5.918030249247306,5.949509133551813,5.98098801785632,6.012466902160827,6.043945786465334,6.0754246707698405,6.106903555074347,6.138382439378854,6.169861323683361,6.201340207987869,6.232819092292376,6.2642979765968825,6.295776860901389,6.327255745205896,6.358734629510403,6.39021351381491,6.421692398119417,6.453171282423924,6.484650166728431,6.516129051032938,6.547607935337445,6.579086819641952,6.610565703946459,6.6420445882509656,6.673523472555472,6.705002356859979,6.736481241164486,6.767960125468994,6.799439009773501,6.8309178940780075,6.862396778382514,6.893875662687021,6.925354546991528,6.956833431296035,6.988312315600542,7.019791199905049,7.0512700842095555,7.082748968514063,7.11422785281857,7.145706737123077,7.177185621427584,7.208664505732091,7.2401433900365975,7.271622274341104,7.303101158645611,7.334580042950118,7.366058927254626,7.397537811559133,7.429016695863639,7.460495580168146,7.491974464472653,7.52345334877716,7.554932233081667,7.586411117386174,7.6178900016906805,7.649368885995188,7.680847770299695,7.712326654604202,7.743805538908709,7.775284423213216,7.8067633075177225,7.838242191822229,7.869721076126736,7.901199960431243,7.932678844735751,7.964157729040258,7.9956366133447645,8.027115497649271,8.058594381953778,8.090073266258285,8.121552150562792,8.153031034867299,8.184509919171806,8.215988803476312,8.24746768778082,8.278946572085326,8.310425456389833,8.34190434069434,8.373383224998848,8.404862109303355,8.436340993607862,8.467819877912369,8.499298762216876,8.530777646521383,8.56225653082589,8.593735415130396,8.625214299434903,8.65669318373941,8.688172068043917,8.719650952348424,8.75112983665293,8.782608720957437,8.814087605261944,8.845566489566451,8.877045373870958,8.908524258175465,8.940003142479974,8.97148202678448,9.002960911088987,9.034439795393494,9.065918679698001,9.097397564002508,9.128876448307015,9.160355332611521,9.191834216916028,9.223313101220535,9.254791985525042,9.286270869829549,9.317749754134056,9.349228638438563,9.38070752274307,9.412186407047576,9.443665291352083,9.47514417565659,9.506623059961099,9.538101944265605,9.569580828570112,9.60105971287462,9.632538597179126,9.664017481483633,9.69549636578814,9.726975250092647,9.758454134397153,9.78993301870166,9.821411903006167,9.852890787310674,9.88436967161518,9.915848555919688,9.947327440224194,9.978806324528701,10.010285208833208,10.041764093137715,10.073242977442224,10.10472186174673,10.136200746051237,10.167679630355744,10.199158514660251,10.230637398964758,10.262116283269265,10.293595167573772,10.325074051878278,10.356552936182785,10.388031820487292,10.419510704791799,10.450989589096306,10.482468473400813,10.51394735770532,10.545426242009826,10.576905126314333,10.60838401061884,10.639862894923347,10.671341779227856,10.702820663532362,10.73429954783687,10.765778432141376,10.797257316445883,10.82873620075039,10.860215085054897,10.891693969359403,10.92317285366391,10.954651737968417,10.986130622272924,11.01760950657743,11.049088390881938,11.080567275186445,11.112046159490951,11.143525043795458,11.175003928099965,11.206482812404472,11.23796169670898,11.269440581013487,11.300919465317994,11.332398349622501,11.363877233927008,11.395356118231515,11.426835002536022,11.458313886840529,11.489792771145035,11.521271655449542,11.552750539754049,11.584229424058556,11.615708308363063,11.64718719266757,11.678666076972076,11.710144961276583,11.74162384558109,11.773102729885597,11.804581614190106,11.836060498494613,11.86753938279912,11.899018267103626,11.930497151408133,11.96197603571264,11.993454920017147,12.024933804321654,12.05641268862616,12.087891572930667,12.119370457235174,12.150849341539681,12.182328225844188,12.213807110148695,12.245285994453202,12.276764878757708,12.308243763062215,12.339722647366722,12.371201531671229,12.402680415975738,12.434159300280244,12.465638184584751,12.497117068889258,12.528595953193765,12.560074837498272,12.591553721802779,12.623032606107286,12.654511490411792,12.6859903747163,12.717469259020806,12.748948143325313,12.78042702762982,12.811905911934327,12.843384796238833,12.87486368054334,12.906342564847847,12.937821449152354,12.969300333456863,13.00077921776137,13.032258102065876,13.063736986370383,13.09521587067489,13.126694754979397,13.158173639283904,13.18965252358841,13.221131407892917,13.252610292197424,13.284089176501931,13.315568060806438,13.347046945110945,13.378525829415452,13.410004713719959,13.441483598024465,13.472962482328972,13.504441366633479,13.535920250937988,13.567399135242495,13.598878019547001,13.630356903851508,13.661835788156015,13.693314672460522,13.724793556765029,13.756272441069536,13.787751325374042,13.81923020967855,13.850709093983056,13.882187978287563,13.91366686259207,13.945145746896577,13.976624631201084,14.00810351550559,14.039582399810097,14.071061284114604,14.102540168419111,14.13401905272362,14.165497937028126,14.196976821332633,14.22845570563714,14.259934589941647,14.291413474246154,14.32289235855066,14.354371242855168,14.385850127159674,14.417329011464181,14.448807895768688,14.480286780073195,14.511765664377702,14.543244548682209,14.574723432986715,14.606202317291222,14.63768120159573,14.669160085900236,14.700638970204745,14.732117854509251,14.763596738813758,14.795075623118265,14.826554507422772,14.858033391727279,14.889512276031786,14.920991160336293,14.9524700446408,14.983948928945306,15.015427813249813,15.04690669755432,15.078385581858827,15.109864466163334,15.14134335046784,15.172822234772347,15.204301119076854,15.235780003381361,15.26725888768587,15.298737771990377,15.330216656294883,15.36169554059939,15.393174424903897,15.424653309208404,15.45613219351291,15.487611077817418,15.519089962121924,15.550568846426431,15.582047730730938,15.613526615035445,15.645005499339952,15.676484383644459,15.707963267948966],\"xaxis\":\"x\",\"y\":[-1.5707963267948966,-1.507091546064273,-1.4420182122949259,-1.375765410088359,-1.3085231456544884,-1.2404820353251609,-1.1718329938300223,-1.1027669227653343,-1.0334743996856608,-0.9641453682471216,-0.8949688298291507,-0.8261325370593846,-0.7578226896634608,-0.6902236330581272,-0.623517560102148,-0.5578842164150566,-0.4935006096688511,-0.4305407232522512,-0.36917523470116537,-0.30957123928253655,-0.2518919791117696,-0.196296578176495,-0.14293978363150003,-0.09197171372127838,-0.043537612677806016,0.002222387068121034,0.045173495033362696,0.08518648486822518,0.12213790827359701,0.1559103003523863,0.186392376109514,0.2134792178263883,0.23707245304779834,0.25708042293151906,0.27341834072359167,0.2860084401352181,0.294780113410478,0.2996700388876065,0.30062229787037126,0.2975884806401113,0.2905277814532567,0.27940708238360085,0.2642010258832381,0.24489207595088883,0.2214705678112917,0.19393474602442873,0.16229079095855498,0.12655283357629035,0.0867429584984109,0.042891195325388085,-0.004964501787802299,-0.05677828629260883,-0.11249646311710437,-0.17205754420352196,-0.2353923156557965,-0.3024239164244012,-0.3730679284405159,-0.4472324780963581,-0.5248183489534581,-0.6057191055457314,-0.6898212281294018,-0.7770042582172584,-0.8671409547202735,-0.96009746050544,-1.055733479164667,-1.1539024617758666,-1.2544518034238556,-1.3572230492355173,-1.462052109670739,-1.5687694847980722,-1.6772004972717454,-1.7871655337147723,-1.898480294201287,-2.0109560495200767,-2.124399905890402,-2.238615076790839,-2.353401161551828,-2.468554430353044,-2.5838681152575824,-2.6991327069062034,-2.814136256486713,-2.9286646825857376,-3.0425020825229194,-3.1554310477607173,-3.2672329829767617,-3.3776884283798947,-3.4865773848457775,-3.5936796414432255,-3.6987751049181785,-3.801644130698591,-3.9020678549803764,-3.999828527451931,-4.094709844212802,-4.1864972804404985,-4.274978422358587,-4.359943298058826,-4.441184706730301,-4.518498545849267,-4.591684135884744,-4.660544542076781,-4.724886892846738,-4.78452269440197,-4.839268141100786,-4.88894442114772,-4.933378017193771,-4.972401001421475,-5.005851324700379,-5.033573099404804,-5.055416875492494,-5.071239909450141,-5.080906425719513,-5.084287870226273,-5.081263155642393,-5.071718898022309,-5.055549644462789,-5.032658091446669,-5.002955293541294,-4.966360862133636,-4.922803153895566,-4.872219448684737,-4.814556116598869,-4.749768773913966,-4.67782242765009,-4.598691608521796,-4.512360492044108,-4.418823007579049,-4.318082935122179,-4.2101539896432785,-4.095059892810344,-3.972834431941303,-3.8435215060433263,-3.707175158815324,-3.563859598505153,-3.4136492045290905,-3.2566285207774746,-3.092892235546667,-2.922545148054205,-2.745702121510466,-2.562488022736986,-2.373037648338304,-2.177495637451065,-1.9760163711109282,-1.7687638582947098,-1.5559116087120493,-1.3376424924375816,-1.1141485864915552,-0.8856310084932957,-0.6522997375286235,-0.4143734223887551,-0.17207917735454364,0.07434763428390884,0.3246636287662551,0.5786176422376581,0.8359509827240021,1.0963976934536683,1.3596848272581352,1.6255327317686934,1.893655345112085,2.1637605017936434,2.435550248442619,2.708721169080827,2.9829647195625157,3.257967570820701,3.5334119605425207,3.8089760528844376,4.084334305826375,4.359157845752768,4.6331148488378515,4.905870928802269,5.177089530598366,5.446432329572312,5.7135596356424,5.9781308020248565,6.239804638030526,6.498239825448959,6.753095338029683,7.0040308635644815,7.250707228069052,7.492786821557566,7.729934024899367,7.961815637243342,8.188101303492527,8.408463941308842,8.622580167126172,8.830130720648688,9.030800887310654,9.224280918173966,9.410266446740348,9.58845890215626,9.758565918290522,9.920301738167133,10.073387613238832,10.217552196990733,10.352531932367695,10.47807143252409,10.593923854400161,10.699851264635427,10.795624997336322,10.881026003222697,10.955845189685805,11.01988375129889,11.072953490330734,11.114877126822176,11.145488597795891,11.164633345180542,11.17216859204176,11.167963606724323,11.151899954522197,11.123871736506132,11.083785815151753,11.031562026425028,10.967133377996225,10.890446233268328,10.801460480920921,10.700149689686283,10.586501248090311,10.460516488907349,10.32221079809459,10.171613707988982,10.008768974566753,9.833734638583508,9.646583070430754,9.447400998563012,9.236289521368084,9.013364102371856,8.778754548687848,8.532604972640902,8.275073736513527,8.00633338038305,7.726570533036971,7.435985805973762,7.134793670515863,6.823222318081521,6.501513503681739,6.169922372728491,5.828717271260087,5.47817953970914,5.1186032903585605,4.750295168650232,4.3735740985306935,3.9887710120373923,3.5962285633483018,3.1963008275366325,2.7893529842912264,2.3757609868818275,1.955911216666553,1.5302001234573421,1.0990338520765683,0.6628278554557016,0.22200649464398495,-0.22299737388809132,-0.6717428232493136,-1.1237812930150224,-1.5786570375681872,-2.0359075854463753,-2.495064209231524,-2.9556524055055657,-3.417192384380897,-3.8791995681014573,-4.341185098197395,-4.802656350664038,-5.2631174586241976,-5.722069841921692,-6.179012743083435,-6.633443769077467,-7.084859438284967,-7.532755732095573,-7.976628650527085,-8.41597477126368,-8.850291811499133,-9.279079191966236,-9.701838602527701,-10.118074568699171,-10.527295018470907,-10.929011848791347,-11.322741491073003,-11.708005475079306,-12.084330990549637,-12.451251445919416,-12.808307023492125,-13.15504523042128,-13.491021444861834,-13.815799456653023,-14.128952001897614,-14.430061290806613,-14.718719528182591,-14.994529425920803,-15.257104706912411,-15.506070599741507,-15.741064323574868,-15.961735562651304,-16.167746929786706,-16.35877441831998,-16.53450784193568,-16.694651261809692,-16.838923400536192,-16.967058042305958,-17.07880441881939,-17.173927580430593,-17.25220875203348,-17.313445673215053,-17.357452922216847,-17.384062223260845,-17.393122736813098,-17.38450133237498,-17.35808284340947,-17.31377030402821,-17.251485167083125,-17.171167503325815,-17.072776181317018,-16.956289027788557,-16.821702968180297,-16.66903414709545,-16.498318028438444,-16.309609475021215,-16.102982807445162,-15.878531842088409,-15.63636990804997,-15.376629842925258,-15.099463967309934,-14.805044037952328,-14.493561179497663,-14.165225794790606,-13.82026745372654,-13.458934760664954,-13.081495200442534,-12.68823496304687,-12.279458747035752,-11.855489541810535,-11.41666838887598,-10.963354122242507,-10.495923088150548,-10.014768844320054,-9.520301838951731,-9.012949069729686,-8.49315372309832,-7.961374794109036,-7.418086687155062,-6.863778797934928,-6.298955077007261,-5.724133575321496,-5.139845972129878,-4.546637085708337,-3.9450643673333246,-3.3356973789827555,-2.719117255248708,-2.0959161499690757,-1.4666966681041878,-0.8320712834029197,-0.1926617424206495,0.45090154453117987,1.0979801249073713,1.7479281373104039,2.4000929561026356,3.053815846605954,3.7084326302311816,4.363274358865924,5.017667997836491,5.670937116747051,6.3224025874883,6.971383288695742,7.617196815928924,8.259160196832694,8.896590610533316,9.528806110514292,10.15512635020982,10.774873310547399,11.387372028665919,11.991951327030607,12.58794454216283,13.17469025219938,13.751533002494112,14.31782402847328,14.872921974955696,15.41619361114908,15.947014540535497,16.46476990486056,16.968855081444772,17.45867637303828,17.93365168944587,18.393211220154345,18.836798097200607,19.26386904752651,19.67389503407425,20.06636188488536,20.44077090947588,20.796639501771203,21.133501728895208,21.450908905120837,21.74843015030203,22.02565293212104,22.282183591499418,22.517647850536658,22.73169130235625,22.923979882256035,23.09420031957692,23.24206056972276,23.367290225782575,23.46964090922623,23.548886639164856,23.604824179688002,23.637273364811204,23.646077400589395,23.63110314397453,23.592241358018526,23.529406943046794,23.442539143451167,23.331601729776306,23.196583155798063,23.03749669031843,22.8543805234269,22.64729784700497,22.416336909276392,22.161611043233474,21.883258668795964,21.581443268587396,21.2563533372408,20.908202304173713,20.53722842980061,20.143694675178725,19.72788854511186,19.290121904764668,18.830730769868904,18.350075070630854,17.84853838947822,17.326527672812556,16.784472916962066,16.222826828557444,15.642064459581745,15.042682817372913,14.425200449885548,13.790157006545943,13.138112775061035,12.469648194570137,11.78536334555351,11.085877416939091,10.371828150874133,9.643871265654214,8.902679857327003,8.148943780512953,7.383369009008985,6.606676976765102,5.81960389984669,5.022900080017977,4.217329190603853,3.4036675453087017,2.5827033506913915,1.755235943015693,0.922075010214545,0.08403979972523286,-0.7580416870293776,-1.6033335127222674,-2.4509926339571466,-3.300169742033711,-4.150010113804553,-4.999654471771445,-5.848239852555715,-6.694900482865277,-7.538768662069675,-8.378975650484117,-9.214652562454111,-10.04493126332377,-10.868945269363339,-11.685830649724856,-12.494726929489286,-13.294777992863677,-14.085132985583394,-14.864947215571542,-15.633383050906017,-16.389610814144504,-17.132809672056684,-17.862168519815732,-18.57688685870246,-19.27617566637917,-19.959258258794502,-20.62537114278591,-21.27376485845262,-21.90370481037952,-22.51447208680026,-23.105364265797782,-23.675696207650123,-24.224800832441215,-24.752029882068094,-25.256754665789625,-25.73836678847554,-26.19627886072998,-26.629925190079476,-27.038762452432596,-27.42227034303571,-27.779952206168392,-28.11133564284163,-28.415973095781847,-28.69344241100554,-28.943347375310918,-29.16531822903593,-29.35901215345548,-29.524113732215103,-29.660335386223082,-29.767417781449033,-29.845130209103033],\"yaxis\":\"y\",\"type\":\"scatter\"}],                        {\"template\":{\"data\":{\"histogram2dcontour\":[{\"type\":\"histogram2dcontour\",\"colorbar\":{\"outlinewidth\":0,\"ticks\":\"\"},\"colorscale\":[[0.0,\"#0d0887\"],[0.1111111111111111,\"#46039f\"],[0.2222222222222222,\"#7201a8\"],[0.3333333333333333,\"#9c179e\"],[0.4444444444444444,\"#bd3786\"],[0.5555555555555556,\"#d8576b\"],[0.6666666666666666,\"#ed7953\"],[0.7777777777777778,\"#fb9f3a\"],[0.8888888888888888,\"#fdca26\"],[1.0,\"#f0f921\"]]}],\"choropleth\":[{\"type\":\"choropleth\",\"colorbar\":{\"outlinewidth\":0,\"ticks\":\"\"}}],\"histogram2d\":[{\"type\":\"histogram2d\",\"colorbar\":{\"outlinewidth\":0,\"ticks\":\"\"},\"colorscale\":[[0.0,\"#0d0887\"],[0.1111111111111111,\"#46039f\"],[0.2222222222222222,\"#7201a8\"],[0.3333333333333333,\"#9c179e\"],[0.4444444444444444,\"#bd3786\"],[0.5555555555555556,\"#d8576b\"],[0.6666666666666666,\"#ed7953\"],[0.7777777777777778,\"#fb9f3a\"],[0.8888888888888888,\"#fdca26\"],[1.0,\"#f0f921\"]]}],\"heatmap\":[{\"type\":\"heatmap\",\"colorbar\":{\"outlinewidth\":0,\"ticks\":\"\"},\"colorscale\":[[0.0,\"#0d0887\"],[0.1111111111111111,\"#46039f\"],[0.2222222222222222,\"#7201a8\"],[0.3333333333333333,\"#9c179e\"],[0.4444444444444444,\"#bd3786\"],[0.5555555555555556,\"#d8576b\"],[0.6666666666666666,\"#ed7953\"],[0.7777777777777778,\"#fb9f3a\"],[0.8888888888888888,\"#fdca26\"],[1.0,\"#f0f921\"]]}],\"heatmapgl\":[{\"type\":\"heatmapgl\",\"colorbar\":{\"outlinewidth\":0,\"ticks\":\"\"},\"colorscale\":[[0.0,\"#0d0887\"],[0.1111111111111111,\"#46039f\"],[0.2222222222222222,\"#7201a8\"],[0.3333333333333333,\"#9c179e\"],[0.4444444444444444,\"#bd3786\"],[0.5555555555555556,\"#d8576b\"],[0.6666666666666666,\"#ed7953\"],[0.7777777777777778,\"#fb9f3a\"],[0.8888888888888888,\"#fdca26\"],[1.0,\"#f0f921\"]]}],\"contourcarpet\":[{\"type\":\"contourcarpet\",\"colorbar\":{\"outlinewidth\":0,\"ticks\":\"\"}}],\"contour\":[{\"type\":\"contour\",\"colorbar\":{\"outlinewidth\":0,\"ticks\":\"\"},\"colorscale\":[[0.0,\"#0d0887\"],[0.1111111111111111,\"#46039f\"],[0.2222222222222222,\"#7201a8\"],[0.3333333333333333,\"#9c179e\"],[0.4444444444444444,\"#bd3786\"],[0.5555555555555556,\"#d8576b\"],[0.6666666666666666,\"#ed7953\"],[0.7777777777777778,\"#fb9f3a\"],[0.8888888888888888,\"#fdca26\"],[1.0,\"#f0f921\"]]}],\"surface\":[{\"type\":\"surface\",\"colorbar\":{\"outlinewidth\":0,\"ticks\":\"\"},\"colorscale\":[[0.0,\"#0d0887\"],[0.1111111111111111,\"#46039f\"],[0.2222222222222222,\"#7201a8\"],[0.3333333333333333,\"#9c179e\"],[0.4444444444444444,\"#bd3786\"],[0.5555555555555556,\"#d8576b\"],[0.6666666666666666,\"#ed7953\"],[0.7777777777777778,\"#fb9f3a\"],[0.8888888888888888,\"#fdca26\"],[1.0,\"#f0f921\"]]}],\"mesh3d\":[{\"type\":\"mesh3d\",\"colorbar\":{\"outlinewidth\":0,\"ticks\":\"\"}}],\"scatter\":[{\"fillpattern\":{\"fillmode\":\"overlay\",\"size\":10,\"solidity\":0.2},\"type\":\"scatter\"}],\"parcoords\":[{\"type\":\"parcoords\",\"line\":{\"colorbar\":{\"outlinewidth\":0,\"ticks\":\"\"}}}],\"scatterpolargl\":[{\"type\":\"scatterpolargl\",\"marker\":{\"colorbar\":{\"outlinewidth\":0,\"ticks\":\"\"}}}],\"bar\":[{\"error_x\":{\"color\":\"#2a3f5f\"},\"error_y\":{\"color\":\"#2a3f5f\"},\"marker\":{\"line\":{\"color\":\"#E5ECF6\",\"width\":0.5},\"pattern\":{\"fillmode\":\"overlay\",\"size\":10,\"solidity\":0.2}},\"type\":\"bar\"}],\"scattergeo\":[{\"type\":\"scattergeo\",\"marker\":{\"colorbar\":{\"outlinewidth\":0,\"ticks\":\"\"}}}],\"scatterpolar\":[{\"type\":\"scatterpolar\",\"marker\":{\"colorbar\":{\"outlinewidth\":0,\"ticks\":\"\"}}}],\"histogram\":[{\"marker\":{\"pattern\":{\"fillmode\":\"overlay\",\"size\":10,\"solidity\":0.2}},\"type\":\"histogram\"}],\"scattergl\":[{\"type\":\"scattergl\",\"marker\":{\"colorbar\":{\"outlinewidth\":0,\"ticks\":\"\"}}}],\"scatter3d\":[{\"type\":\"scatter3d\",\"line\":{\"colorbar\":{\"outlinewidth\":0,\"ticks\":\"\"}},\"marker\":{\"colorbar\":{\"outlinewidth\":0,\"ticks\":\"\"}}}],\"scattermapbox\":[{\"type\":\"scattermapbox\",\"marker\":{\"colorbar\":{\"outlinewidth\":0,\"ticks\":\"\"}}}],\"scatterternary\":[{\"type\":\"scatterternary\",\"marker\":{\"colorbar\":{\"outlinewidth\":0,\"ticks\":\"\"}}}],\"scattercarpet\":[{\"type\":\"scattercarpet\",\"marker\":{\"colorbar\":{\"outlinewidth\":0,\"ticks\":\"\"}}}],\"carpet\":[{\"aaxis\":{\"endlinecolor\":\"#2a3f5f\",\"gridcolor\":\"white\",\"linecolor\":\"white\",\"minorgridcolor\":\"white\",\"startlinecolor\":\"#2a3f5f\"},\"baxis\":{\"endlinecolor\":\"#2a3f5f\",\"gridcolor\":\"white\",\"linecolor\":\"white\",\"minorgridcolor\":\"white\",\"startlinecolor\":\"#2a3f5f\"},\"type\":\"carpet\"}],\"table\":[{\"cells\":{\"fill\":{\"color\":\"#EBF0F8\"},\"line\":{\"color\":\"white\"}},\"header\":{\"fill\":{\"color\":\"#C8D4E3\"},\"line\":{\"color\":\"white\"}},\"type\":\"table\"}],\"barpolar\":[{\"marker\":{\"line\":{\"color\":\"#E5ECF6\",\"width\":0.5},\"pattern\":{\"fillmode\":\"overlay\",\"size\":10,\"solidity\":0.2}},\"type\":\"barpolar\"}],\"pie\":[{\"automargin\":true,\"type\":\"pie\"}]},\"layout\":{\"autotypenumbers\":\"strict\",\"colorway\":[\"#636efa\",\"#EF553B\",\"#00cc96\",\"#ab63fa\",\"#FFA15A\",\"#19d3f3\",\"#FF6692\",\"#B6E880\",\"#FF97FF\",\"#FECB52\"],\"font\":{\"color\":\"#2a3f5f\"},\"hovermode\":\"closest\",\"hoverlabel\":{\"align\":\"left\"},\"paper_bgcolor\":\"white\",\"plot_bgcolor\":\"#E5ECF6\",\"polar\":{\"bgcolor\":\"#E5ECF6\",\"angularaxis\":{\"gridcolor\":\"white\",\"linecolor\":\"white\",\"ticks\":\"\"},\"radialaxis\":{\"gridcolor\":\"white\",\"linecolor\":\"white\",\"ticks\":\"\"}},\"ternary\":{\"bgcolor\":\"#E5ECF6\",\"aaxis\":{\"gridcolor\":\"white\",\"linecolor\":\"white\",\"ticks\":\"\"},\"baxis\":{\"gridcolor\":\"white\",\"linecolor\":\"white\",\"ticks\":\"\"},\"caxis\":{\"gridcolor\":\"white\",\"linecolor\":\"white\",\"ticks\":\"\"}},\"coloraxis\":{\"colorbar\":{\"outlinewidth\":0,\"ticks\":\"\"}},\"colorscale\":{\"sequential\":[[0.0,\"#0d0887\"],[0.1111111111111111,\"#46039f\"],[0.2222222222222222,\"#7201a8\"],[0.3333333333333333,\"#9c179e\"],[0.4444444444444444,\"#bd3786\"],[0.5555555555555556,\"#d8576b\"],[0.6666666666666666,\"#ed7953\"],[0.7777777777777778,\"#fb9f3a\"],[0.8888888888888888,\"#fdca26\"],[1.0,\"#f0f921\"]],\"sequentialminus\":[[0.0,\"#0d0887\"],[0.1111111111111111,\"#46039f\"],[0.2222222222222222,\"#7201a8\"],[0.3333333333333333,\"#9c179e\"],[0.4444444444444444,\"#bd3786\"],[0.5555555555555556,\"#d8576b\"],[0.6666666666666666,\"#ed7953\"],[0.7777777777777778,\"#fb9f3a\"],[0.8888888888888888,\"#fdca26\"],[1.0,\"#f0f921\"]],\"diverging\":[[0,\"#8e0152\"],[0.1,\"#c51b7d\"],[0.2,\"#de77ae\"],[0.3,\"#f1b6da\"],[0.4,\"#fde0ef\"],[0.5,\"#f7f7f7\"],[0.6,\"#e6f5d0\"],[0.7,\"#b8e186\"],[0.8,\"#7fbc41\"],[0.9,\"#4d9221\"],[1,\"#276419\"]]},\"xaxis\":{\"gridcolor\":\"white\",\"linecolor\":\"white\",\"ticks\":\"\",\"title\":{\"standoff\":15},\"zerolinecolor\":\"white\",\"automargin\":true,\"zerolinewidth\":2},\"yaxis\":{\"gridcolor\":\"white\",\"linecolor\":\"white\",\"ticks\":\"\",\"title\":{\"standoff\":15},\"zerolinecolor\":\"white\",\"automargin\":true,\"zerolinewidth\":2},\"scene\":{\"xaxis\":{\"backgroundcolor\":\"#E5ECF6\",\"gridcolor\":\"white\",\"linecolor\":\"white\",\"showbackground\":true,\"ticks\":\"\",\"zerolinecolor\":\"white\",\"gridwidth\":2},\"yaxis\":{\"backgroundcolor\":\"#E5ECF6\",\"gridcolor\":\"white\",\"linecolor\":\"white\",\"showbackground\":true,\"ticks\":\"\",\"zerolinecolor\":\"white\",\"gridwidth\":2},\"zaxis\":{\"backgroundcolor\":\"#E5ECF6\",\"gridcolor\":\"white\",\"linecolor\":\"white\",\"showbackground\":true,\"ticks\":\"\",\"zerolinecolor\":\"white\",\"gridwidth\":2}},\"shapedefaults\":{\"line\":{\"color\":\"#2a3f5f\"}},\"annotationdefaults\":{\"arrowcolor\":\"#2a3f5f\",\"arrowhead\":0,\"arrowwidth\":1},\"geo\":{\"bgcolor\":\"white\",\"landcolor\":\"#E5ECF6\",\"subunitcolor\":\"white\",\"showland\":true,\"showlakes\":true,\"lakecolor\":\"white\"},\"title\":{\"x\":0.05},\"mapbox\":{\"style\":\"light\"}}},\"xaxis\":{\"anchor\":\"y\",\"domain\":[0.0,1.0],\"title\":{\"text\":\"x\"}},\"yaxis\":{\"anchor\":\"x\",\"domain\":[0.0,1.0],\"title\":{\"text\":\"y\"}},\"legend\":{\"tracegroupgap\":0},\"title\":{\"text\":\"\\u0413\\u0440\\u0430\\u0444\\u0456\\u043a \\u0444\\u0443\\u043d\\u043a\\u0446\\u0456\\u0457 y = 2cos(x)(x - \\u03c0/4)\"}},                        {\"responsive\": true}                    ).then(function(){\n",
       "                            \n",
       "var gd = document.getElementById('0fc335c7-22f9-4e0b-828a-303cbf85d7c9');\n",
       "var x = new MutationObserver(function (mutations, observer) {{\n",
       "        var display = window.getComputedStyle(gd).display;\n",
       "        if (!display || display === 'none') {{\n",
       "            console.log([gd, 'removed!']);\n",
       "            Plotly.purge(gd);\n",
       "            observer.disconnect();\n",
       "        }}\n",
       "}});\n",
       "\n",
       "// Listen for the removal of the full notebook cells\n",
       "var notebookContainer = gd.closest('#notebook-container');\n",
       "if (notebookContainer) {{\n",
       "    x.observe(notebookContainer, {childList: true});\n",
       "}}\n",
       "\n",
       "// Listen for the clearing of the current output cell\n",
       "var outputEl = gd.closest('.output');\n",
       "if (outputEl) {{\n",
       "    x.observe(outputEl, {childList: true});\n",
       "}}\n",
       "\n",
       "                        })                };                });            </script>        </div>"
      ]
     },
     "metadata": {},
     "output_type": "display_data"
    },
    {
     "data": {
      "application/vnd.plotly.v1+json": {
       "config": {
        "plotlyServerURL": "https://plot.ly"
       },
       "data": [
        {
         "hovertemplate": "x=%{x}<br>y=%{y}<extra></extra>",
         "legendgroup": "",
         "line": {
          "color": "#636efa",
          "dash": "solid"
         },
         "marker": {
          "symbol": "circle"
         },
         "mode": "lines",
         "name": "",
         "orientation": "v",
         "showlegend": false,
         "type": "scatter",
         "x": [
          0,
          0.012591553721802777,
          0.025183107443605555,
          0.037774661165408334,
          0.05036621488721111,
          0.06295776860901389,
          0.07554932233081667,
          0.08814087605261944,
          0.10073242977442222,
          0.113323983496225,
          0.12591553721802778,
          0.13850709093983055,
          0.15109864466163334,
          0.1636901983834361,
          0.1762817521052389,
          0.18887330582704165,
          0.20146485954884444,
          0.21405641327064723,
          0.22664796699245,
          0.23923952071425278,
          0.25183107443605557,
          0.26442262815785833,
          0.2770141818796611,
          0.28960573560146385,
          0.30219728932326667,
          0.31478884304506943,
          0.3273803967668722,
          0.339971950488675,
          0.3525635042104778,
          0.36515505793228054,
          0.3777466116540833,
          0.3903381653758861,
          0.4029297190976889,
          0.41552127281949164,
          0.42811282654129446,
          0.4407043802630972,
          0.4532959339849,
          0.46588748770670274,
          0.47847904142850556,
          0.4910705951503083,
          0.5036621488721111,
          0.5162537025939139,
          0.5288452563157167,
          0.5414368100375194,
          0.5540283637593222,
          0.566619917481125,
          0.5792114712029277,
          0.5918030249247306,
          0.6043945786465333,
          0.6169861323683361,
          0.6295776860901389,
          0.6421692398119416,
          0.6547607935337444,
          0.6673523472555472,
          0.67994390097735,
          0.6925354546991528,
          0.7051270084209555,
          0.7177185621427583,
          0.7303101158645611,
          0.7429016695863638,
          0.7554932233081666,
          0.7680847770299695,
          0.7806763307517722,
          0.793267884473575,
          0.8058594381953778,
          0.8184509919171805,
          0.8310425456389833,
          0.843634099360786,
          0.8562256530825889,
          0.8688172068043917,
          0.8814087605261944,
          0.8940003142479972,
          0.9065918679698,
          0.9191834216916027,
          0.9317749754134055,
          0.9443665291352084,
          0.9569580828570111,
          0.9695496365788139,
          0.9821411903006166,
          0.9947327440224194,
          1.0073242977442223,
          1.019915851466025,
          1.0325074051878278,
          1.0450989589096304,
          1.0576905126314333,
          1.070282066353236,
          1.0828736200750388,
          1.0954651737968417,
          1.1080567275186444,
          1.1206482812404472,
          1.13323983496225,
          1.1458313886840528,
          1.1584229424058554,
          1.1710144961276583,
          1.1836060498494612,
          1.1961976035712638,
          1.2087891572930667,
          1.2213807110148693,
          1.2339722647366722,
          1.2465638184584749,
          1.2591553721802777,
          1.2717469259020806,
          1.2843384796238833,
          1.2969300333456861,
          1.3095215870674888,
          1.3221131407892917,
          1.3347046945110943,
          1.3472962482328972,
          1.3598878019547,
          1.3724793556765027,
          1.3850709093983056,
          1.3976624631201082,
          1.410254016841911,
          1.4228455705637137,
          1.4354371242855166,
          1.4480286780073195,
          1.4606202317291221,
          1.473211785450925,
          1.4858033391727277,
          1.4983948928945305,
          1.5109864466163332,
          1.523578000338136,
          1.536169554059939,
          1.5487611077817416,
          1.5613526615035445,
          1.573944215225347,
          1.58653576894715,
          1.5991273226689526,
          1.6117188763907555,
          1.6243104301125584,
          1.636901983834361,
          1.649493537556164,
          1.6620850912779666,
          1.6746766449997694,
          1.687268198721572,
          1.699859752443375,
          1.7124513061651778,
          1.7250428598869805,
          1.7376344136087833,
          1.750225967330586,
          1.7628175210523889,
          1.7754090747741915,
          1.7880006284959944,
          1.8005921822177973,
          1.8131837359396,
          1.8257752896614028,
          1.8383668433832054,
          1.8509583971050083,
          1.863549950826811,
          1.8761415045486138,
          1.8887330582704167,
          1.9013246119922194,
          1.9139161657140222,
          1.9265077194358249,
          1.9390992731576278,
          1.9516908268794304,
          1.9642823806012333,
          1.9768739343230362,
          1.9894654880448388,
          2.0020570417666415,
          2.0146485954884445,
          2.027240149210247,
          2.03983170293205,
          2.0524232566538525,
          2.0650148103756556,
          2.0776063640974582,
          2.090197917819261,
          2.102789471541064,
          2.1153810252628666,
          2.1279725789846693,
          2.140564132706472,
          2.153155686428275,
          2.1657472401500777,
          2.1783387938718803,
          2.1909303475936834,
          2.203521901315486,
          2.2161134550372887,
          2.2287050087590914,
          2.2412965624808945,
          2.253888116202697,
          2.2664796699245,
          2.279071223646303,
          2.2916627773681055,
          2.304254331089908,
          2.316845884811711,
          2.329437438533514,
          2.3420289922553166,
          2.3546205459771192,
          2.3672120996989223,
          2.379803653420725,
          2.3923952071425276,
          2.4049867608643303,
          2.4175783145861334,
          2.430169868307936,
          2.4427614220297387,
          2.4553529757515418,
          2.4679445294733444,
          2.480536083195147,
          2.4931276369169497,
          2.505719190638753,
          2.5183107443605555,
          2.530902298082358,
          2.543493851804161,
          2.556085405525964,
          2.5686769592477665,
          2.581268512969569,
          2.5938600666913723,
          2.606451620413175,
          2.6190431741349776,
          2.6316347278567807,
          2.6442262815785833,
          2.656817835300386,
          2.6694093890221886,
          2.6820009427439917,
          2.6945924964657944,
          2.707184050187597,
          2.7197756039094,
          2.7323671576312027,
          2.7449587113530054,
          2.757550265074808,
          2.770141818796611,
          2.782733372518414,
          2.7953249262402164,
          2.8079164799620195,
          2.820508033683822,
          2.833099587405625,
          2.8456911411274275,
          2.8582826948492306,
          2.8708742485710332,
          2.883465802292836,
          2.896057356014639,
          2.9086489097364416,
          2.9212404634582443,
          2.933832017180047,
          2.94642357090185,
          2.9590151246236527,
          2.9716066783454553,
          2.9841982320672584,
          2.996789785789061,
          3.0093813395108637,
          3.0219728932326664,
          3.0345644469544695,
          3.047156000676272,
          3.0597475543980748,
          3.072339108119878,
          3.0849306618416805,
          3.097522215563483,
          3.110113769285286,
          3.122705323007089,
          3.1352968767288916,
          3.147888430450694,
          3.1604799841724973,
          3.1730715378943,
          3.1856630916161026,
          3.1982546453379053,
          3.2108461990597084,
          3.223437752781511,
          3.2360293065033137,
          3.2486208602251168,
          3.2612124139469194,
          3.273803967668722,
          3.2863955213905247,
          3.298987075112328,
          3.3115786288341305,
          3.324170182555933,
          3.336761736277736,
          3.349353289999539,
          3.3619448437213415,
          3.374536397443144,
          3.3871279511649472,
          3.39971950488675,
          3.4123110586085525,
          3.4249026123303556,
          3.4374941660521583,
          3.450085719773961,
          3.4626772734957636,
          3.4752688272175667,
          3.4878603809393693,
          3.500451934661172,
          3.513043488382975,
          3.5256350421047777,
          3.5382265958265804,
          3.550818149548383,
          3.563409703270186,
          3.576001256991989,
          3.5885928107137914,
          3.6011843644355945,
          3.613775918157397,
          3.6263674718792,
          3.6389590256010025,
          3.6515505793228056,
          3.6641421330446082,
          3.676733686766411,
          3.689325240488214,
          3.7019167942100166,
          3.7145083479318193,
          3.727099901653622,
          3.739691455375425,
          3.7522830090972277,
          3.7648745628190303,
          3.7774661165408334,
          3.790057670262636,
          3.8026492239844387,
          3.8152407777062414,
          3.8278323314280445,
          3.840423885149847,
          3.8530154388716498,
          3.865606992593453,
          3.8781985463152555,
          3.890790100037058,
          3.903381653758861,
          3.915973207480664,
          3.9285647612024666,
          3.941156314924269,
          3.9537478686460723,
          3.966339422367875,
          3.9789309760896776,
          3.9915225298114803,
          4.004114083533283,
          4.016705637255086,
          4.029297190976889,
          4.041888744698691,
          4.054480298420494,
          4.0670718521422975,
          4.0796634058641,
          4.092254959585903,
          4.104846513307705,
          4.117438067029508,
          4.130029620751311,
          4.142621174473113,
          4.1552127281949165,
          4.16780428191672,
          4.180395835638522,
          4.192987389360325,
          4.205578943082128,
          4.21817049680393,
          4.230762050525733,
          4.243353604247536,
          4.255945157969339,
          4.268536711691142,
          4.281128265412944,
          4.293719819134747,
          4.30631137285655,
          4.318902926578352,
          4.331494480300155,
          4.3440860340219585,
          4.356677587743761,
          4.369269141465564,
          4.381860695187367,
          4.394452248909169,
          4.407043802630972,
          4.419635356352775,
          4.4322269100745775,
          4.444818463796381,
          4.457410017518183,
          4.470001571239986,
          4.482593124961789,
          4.495184678683591,
          4.507776232405394,
          4.520367786127197,
          4.532959339849,
          4.545550893570803,
          4.558142447292606,
          4.570734001014408,
          4.583325554736211,
          4.595917108458014,
          4.608508662179816,
          4.6211002159016195,
          4.633691769623422,
          4.646283323345225,
          4.658874877067028,
          4.67146643078883,
          4.684057984510633,
          4.696649538232436,
          4.7092410919542385,
          4.7218326456760416,
          4.734424199397845,
          4.747015753119647,
          4.75960730684145,
          4.772198860563253,
          4.784790414285055,
          4.797381968006858,
          4.8099735217286606,
          4.822565075450464,
          4.835156629172267,
          4.847748182894069,
          4.860339736615872,
          4.872931290337675,
          4.885522844059477,
          4.89811439778128,
          4.9107059515030835,
          4.923297505224886,
          4.935889058946689,
          4.948480612668492,
          4.961072166390294,
          4.973663720112097,
          4.986255273833899,
          4.9988468275557025,
          5.011438381277506,
          5.024029934999308,
          5.036621488721111,
          5.049213042442914,
          5.061804596164716,
          5.074396149886519,
          5.086987703608322,
          5.099579257330125,
          5.112170811051928,
          5.124762364773731,
          5.137353918495533,
          5.149945472217336,
          5.162537025939138,
          5.175128579660941,
          5.1877201333827445,
          5.200311687104547,
          5.21290324082635,
          5.225494794548153,
          5.238086348269955,
          5.250677901991758,
          5.263269455713561,
          5.2758610094353635,
          5.288452563157167,
          5.30104411687897,
          5.313635670600772,
          5.326227224322575,
          5.338818778044377,
          5.35141033176618,
          5.364001885487983,
          5.376593439209786,
          5.389184992931589,
          5.401776546653392,
          5.414368100375194,
          5.426959654096997,
          5.4395512078188,
          5.452142761540602,
          5.4647343152624055,
          5.477325868984209,
          5.489917422706011,
          5.502508976427814,
          5.515100530149616,
          5.527692083871419,
          5.540283637593222,
          5.5528751913150245,
          5.565466745036828,
          5.578058298758631,
          5.590649852480433,
          5.603241406202236,
          5.615832959924039,
          5.628424513645841,
          5.641016067367644,
          5.6536076210894475,
          5.66619917481125,
          5.678790728533053,
          5.691382282254855,
          5.703973835976658,
          5.716565389698461,
          5.729156943420263,
          5.7417484971420665,
          5.75434005086387,
          5.766931604585672,
          5.779523158307475,
          5.792114712029278,
          5.80470626575108,
          5.817297819472883,
          5.829889373194686,
          5.842480926916489,
          5.855072480638292,
          5.867664034360094,
          5.880255588081897,
          5.8928471418037,
          5.905438695525502,
          5.918030249247305,
          5.9306218029691085,
          5.943213356690911,
          5.955804910412714,
          5.968396464134517,
          5.980988017856319,
          5.993579571578122,
          6.006171125299925,
          6.0187626790217275,
          6.0313542327435306,
          6.043945786465333,
          6.056537340187136,
          6.069128893908939,
          6.081720447630741,
          6.094312001352544,
          6.106903555074347,
          6.1194951087961496,
          6.132086662517953,
          6.144678216239756,
          6.157269769961558,
          6.169861323683361,
          6.182452877405164,
          6.195044431126966,
          6.207635984848769,
          6.220227538570572,
          6.232819092292375,
          6.245410646014178,
          6.25800219973598,
          6.270593753457783,
          6.283185307179586
         ],
         "xaxis": "x",
         "y": [
          0,
          0.006751290933704639,
          0.01381857241813208,
          0.02120064856552447,
          0.02889622332245085,
          0.036903900695213064,
          0.04522218499906154,
          0.05384948113117686,
          0.06278409486736834,
          0.07202423318243545,
          0.08156800459413324,
          0.0914134195306776,
          0.10155839072172157,
          0.1120007336127286,
          0.12273816680266389,
          0.13376831250491975,
          0.14508869703138658,
          0.1566967512995754,
          0.1685898113626932,
          0.18076511896256817,
          0.19321982210531585,
          0.20595097565963327,
          0.218955541977603,
          0.2322303915378845,
          0.24577230361116453,
          0.2595779669477352,
          0.27364398048706207,
          0.2879668540892002,
          0.3025430092879124,
          0.31736878006533836,
          0.332440413648059,
          0.3477540713243952,
          0.36330582928277705,
          0.3790916794710134,
          0.3951075304762894,
          0.41134920842571004,
          0.427812457907213,
          0.44449294291065733,
          0.4613862477889011,
          0.4784878782386699,
          0.4957932623010173,
          0.513297751381172,
          0.5309966212875645,
          0.5488850732898201,
          0.5669582351954994,
          0.5852111624453703,
          0.6036388392269824,
          0.622236179606316,
          0.6409980286772735,
          0.6599191637287778,
          0.6789942954292345,
          0.6982180690281148,
          0.7175850655744117,
          0.7370898031517176,
          0.7567267381296665,
          0.7764902664314828,
          0.7963747248173755,
          0.8163743921835089,
          0.8364834908762816,
          0.8566961880216418,
          0.8770065968691615,
          0.8974087781505903,
          0.9178967414526036,
          0.9384644466034671,
          0.9591058050733173,
          0.9798146813877743,
          1.0005848945545877,
          1.0214102195030204,
          1.0422843885356652,
          1.0632010927923936,
          1.0841539837261298,
          1.105136674590139,
          1.1261427419365184,
          1.1471657271255777,
          1.1681991378457914,
          1.189236449644001,
          1.210271107465548,
          1.2312965272040128,
          1.252306097260232,
          1.2732931801102647,
          1.2942511138819792,
          1.3151732139399233,
          1.3360527744781494,
          1.356883070120647,
          1.3776573575290574,
          1.3983688770173164,
          1.4190108541728916,
          1.4395765014842654,
          1.4600590199743217,
          1.480451600839286,
          1.5007474270928682,
          1.5209396752152669,
          1.541021516806671,
          1.5609861202449173,
          1.5808266523469403,
          1.6005362800336687,
          1.620108171998006,
          1.6395355003755365,
          1.6588114424176075,
          1.677929182166419,
          1.696881912131767,
          1.7156628349690766,
          1.7342651651583694,
          1.7526821306837992,
          1.770906974713388,
          1.7889329572786201,
          1.8067533569535048,
          1.824361472532767,
          1.841750624708788,
          1.8589141577469452,
          1.8758454411589744,
          1.8925378713740006,
          1.908984873406874,
          1.9251799025234426,
          1.9411164459024024,
          1.956788024293361,
          1.9721881936707581,
          1.987310546883271,
          2.002148715298353,
          2.016696370441543,
          2.030947225630179,
          2.04489503760117,
          2.0585336081324526,
          2.0718567856577894,
          2.084858466874544,
          2.0975325983440785,
          2.1098731780844227,
          2.1218742571548623,
          2.133529941232087,
          2.14483439217756,
          2.1557818295957487,
          2.16636653238288,
          2.1765828402658616,
          2.18642515533104,
          2.195887943542439,
          2.20496573624915,
          2.2136531316815224,
          2.2219447964358285,
          2.2298354669470655,
          2.2373199509495523,
          2.244393128925006,
          2.251049955537755,
          2.257285461056772,
          2.263094752764194,
          2.2684730163500215,
          2.27341551729266,
          2.2779176022250005,
          2.2819747002857205,
          2.285582324455492,
          2.288736072877789,
          2.291431630163991,
          2.2936647686824787,
          2.295431349831413,
          2.296727325294915,
          2.2975487382823427,
          2.297891724750371,
          2.297752514607598,
          2.2971274329013798,
          2.2960129009866246,
          2.294405437676257,
          2.292301660373083,
          2.289698286182787,
          2.2865921330077845,
          2.2829801206216778,
          2.27885927172404,
          2.2742267129752842,
          2.2690796760113545,
          2.2634154984379937,
          2.2572316248043416,
          2.250525607555621,
          2.2432951079646766,
          2.235537897042125,
          2.227251856424901,
          2.2184349792429545,
          2.209085370963894,
          2.1992012502153497,
          2.188780949584848,
          2.177822916396983,
          2.166325713467684,
          2.1542880198353838,
          2.1417086314688785,
          2.128586461951703,
          2.1149205431428246,
          2.1007100258134774,
          2.0859541802599586,
          2.0706523968922137,
          2.054804186798045,
          2.0384091822827703,
          2.0214671373841893,
          2.003977928362688,
          1.98594155416634,
          1.9673581368708581,
          1.9482279220942582,
          1.9285512793861017,
          1.9083287025911775,
          1.8875608101875152,
          1.8662483455985992,
          1.8443921774796654,
          1.8219932999779846,
          1.799052832967014,
          1.7755720222543312,
          1.751552239763241,
          1.7269949836879792,
          1.7019018786224276,
          1.6762746756622529,
          1.650115252480406,
          1.6234256133759102,
          1.5962078892958778,
          1.568464337830689,
          1.540197343182293,
          1.5114094161055833,
          1.4821031938227878,
          1.4522814399108677,
          1.4219470441618682,
          1.3911030224162142,
          1.3597525163689121,
          1.3278987933486668,
          1.295545246069887,
          1.2626953923575792,
          1.2293528748451372,
          1.1955214606450304,
          1.1612050409924102,
          1.126407630861634,
          1.091133368555758,
          1.055386515269011,
          1.019171454622277,
          0.9824926921716518,
          0.9453548548900922,
          0.9077626906222319,
          0.8697210675123962,
          0.8312349734059016,
          0.7923095152236982,
          0.7529499183104154,
          0.7131615257559129,
          0.672949797690401,
          0.6323203105532355,
          0.5912787563354592,
          0.5498309417962163,
          0.507982787653134,
          0.46574032774676644,
          0.4231097081792479,
          0.3800971864272503,
          0.33670913042939143,
          0.29295201764820133,
          0.24883243410681302,
          0.20435707340050657,
          0.15953273568324033,
          0.1143663266293521,
          0.0688648563705635,
          0.023035438408469902,
          -0.0231147114973408,
          -0.06957827646533678,
          -0.11634783965209318,
          -0.1634158854361767,
          -0.2107748006256435,
          -0.2584168756889829,
          -0.3063343060092879,
          -0.35451919316147534,
          -0.40296354621231545,
          -0.4516592830430715,
          -0.5005982316945469,
          -0.5497721317342834,
          -0.5991726356457114,
          -0.6487913102389957,
          -0.6986196380833702,
          -0.748649018960684,
          -0.7988707713399289,
          -0.8492761338725129,
          -0.8998562669079884,
          -0.9506022540300068,
          -1.0015051036122085,
          -1.0525557503938126,
          -1.1037450570745932,
          -1.155063815928987,
          -1.2065027504390606,
          -1.2580525169460193,
          -1.3097037063199972,
          -1.361446845647809,
          -1.4132723999383956,
          -1.4651707738456288,
          -1.5171323134081793,
          -1.5691473078061575,
          -1.6212059911341812,
          -1.673298544190571,
          -1.7254150962823425,
          -1.7775457270456916,
          -1.8296804682816046,
          -1.8818093058062912,
          -1.9339221813161063,
          -1.9860089942665917,
          -2.038059603765328,
          -2.0900638304782215,
          -2.1420114585489074,
          -2.193892237530891,
          -2.245695884332068,
          -2.297412085171304,
          -2.3490304975466603,
          -2.4005407522149356,
          -2.451932455182137,
          -2.5031951897045346,
          -2.554318518299892,
          -2.6052919847685176,
          -2.6561051162237708,
          -2.7067474251316033,
          -2.7572084113587962,
          -2.8074775642294667,
          -2.8575443645894936,
          -2.907398286878445,
          -2.9570288012086157,
          -3.006425375450805,
          -3.0555774773264095,
          -3.104474576505446,
          -3.153106146710095,
          -3.201461667823389,
          -3.249530628002602,
          -3.297302525796955,
          -3.344766872269249,
          -3.3919131931209723,
          -3.438731030820514,
          -3.4852099467340483,
          -3.5313395232586817,
          -3.5771093659574533,
          -3.622509105695781,
          -3.6675284007789015,
          -3.7121569390899323,
          -3.7563844402281283,
          -3.8002006576468608,
          -3.8435953807910006,
          -3.8865584372331727,
          -3.92907969480855,
          -3.9711490637477294,
          -4.012756498807241,
          -4.053892001397331,
          -4.094545621706558,
          -4.134707460822754,
          -4.174367672849993,
          -4.213516467021108,
          -4.252144109805307,
          -4.290240927010527,
          -4.327797305880062,
          -4.3648036971830395,
          -4.401250617298368,
          -4.437128650291671,
          -4.472428449984842,
          -4.50714074201779,
          -4.541256325901912,
          -4.574766077064946,
          -4.607660948886731,
          -4.639931974725482,
          -4.671570269934156,
          -4.702567033866519,
          -4.73291355187245,
          -4.7626011972821285,
          -4.7916214333786655,
          -4.8199658153587555,
          -4.8476259922809835,
          -4.87459370900134,
          -4.900860808095568,
          -4.926419231767931,
          -4.951261023745987,
          -4.975378331161002,
          -4.998763406413584,
          -5.021408609024134,
          -5.043306407467757,
          -5.064449380993211,
          -5.084830221425516,
          -5.104441734951845,
          -5.123276843890312,
          -5.1413285884412625,
          -5.158590128420717,
          -5.175054744975559,
          -5.190715842280129,
          -5.205566949213832,
          -5.219601721019395,
          -5.23281394094143,
          -5.245197521844915,
          -5.256746507813258,
          -5.267455075725578,
          -5.277317536812861,
          -5.286328338192633,
          -5.294482064381819,
          -5.301773438787441,
          -5.308197325174811,
          -5.31374872911291,
          -5.3184227993965925,
          -5.322214829445312,
          -5.325120258678052,
          -5.32713467386411,
          -5.328253810449467,
          -5.328473553858395,
          -5.327789940770024,
          -5.326199160369538,
          -5.323697555573745,
          -5.320281624230677,
          -5.315948020292979,
          -5.310693554964764,
          -5.304515197821689,
          -5.2974100779039475,
          -5.289375484781928,
          -5.280408869594264,
          -5.270507846058007,
          -5.259670191450696,
          -5.247893847564031,
          -5.23517692162893,
          -5.221517687211732,
          -5.206914585081288,
          -5.19136622404672,
          -5.1748713817656355,
          -5.157429005522545,
          -5.13903821297729,
          -5.119698292883276,
          -5.09940870577527,
          -5.07816908462661,
          -5.05597923547559,
          -5.032839138020851,
          -5.008748946185606,
          -4.983708988650486,
          -4.95771976935486,
          -4.930781967966471,
          -4.902896440319193,
          -4.87406421881877,
          -4.844286512816411,
          -4.813564708950054,
          -4.781900371453176,
          -4.7492952424310495,
          -4.715751242104247,
          -4.681270469019359,
          -4.64585520022674,
          -4.609507891425194,
          -4.57223117707353,
          -4.534027870468846,
          -4.494900963791452,
          -4.454853628116398,
          -4.413889213391465,
          -4.372011248381572,
          -4.32922344057956,
          -4.285529676083246,
          -4.240934019438701,
          -4.195440713449757,
          -4.149054178953617,
          -4.10177901456261,
          -4.053619996372009,
          -4.004582077633902,
          -3.954670388397131,
          -3.903890235113248,
          -3.8522471002084786,
          -3.799746641621764,
          -3.746394692308798,
          -3.69219725971213,
          -3.6371605251973658,
          -3.581290843455441,
          -3.5245947418710384,
          -3.4670789198572103,
          -3.4087502481561804,
          -3.3496157681064678,
          -3.289682690876324,
          -3.228958396663565,
          -3.167450433861915,
          -3.105166518193875,
          -3.0421145318102276,
          -2.9783025223563135,
          -2.913738702005096,
          -2.848431446457163,
          -2.7823892939078148,
          -2.715620943981269,
          -2.6481352566321554,
          -2.5799412510144673,
          -2.511048104317997,
          -2.4414651505725358,
          -2.371201879419863,
          -2.300267934853737,
          -2.2286731139280844,
          -2.1564273654334687,
          -2.0835407885420607,
          -2.010023631421326,
          -1.9358862898165343,
          -1.8611393056023264,
          -1.7857933653035705,
          -1.7098592985856416,
          -1.6333480767143571,
          -1.5562708109858574,
          -1.478638751126506,
          -1.4004632836632056,
          -1.3217559302642294,
          -1.242528346050856,
          -1.1627923178801112,
          -1.0825597625987609,
          -1.0018427252688678,
          -0.9206533773652249,
          -0.8390040149448295,
          -0.7569070567887275,
          -0.6743750425165573,
          -0.5914206306739762,
          -0.5080565967933122,
          -0.4242958314277959,
          -0.34015133815953075,
          -0.2556362315816813,
          -0.17076373525504926,
          -0.08554717963941193,
          -1.6671812678922179e-15
         ],
         "yaxis": "y"
        }
       ],
       "layout": {
        "legend": {
         "tracegroupgap": 0
        },
        "template": {
         "data": {
          "bar": [
           {
            "error_x": {
             "color": "#2a3f5f"
            },
            "error_y": {
             "color": "#2a3f5f"
            },
            "marker": {
             "line": {
              "color": "#E5ECF6",
              "width": 0.5
             },
             "pattern": {
              "fillmode": "overlay",
              "size": 10,
              "solidity": 0.2
             }
            },
            "type": "bar"
           }
          ],
          "barpolar": [
           {
            "marker": {
             "line": {
              "color": "#E5ECF6",
              "width": 0.5
             },
             "pattern": {
              "fillmode": "overlay",
              "size": 10,
              "solidity": 0.2
             }
            },
            "type": "barpolar"
           }
          ],
          "carpet": [
           {
            "aaxis": {
             "endlinecolor": "#2a3f5f",
             "gridcolor": "white",
             "linecolor": "white",
             "minorgridcolor": "white",
             "startlinecolor": "#2a3f5f"
            },
            "baxis": {
             "endlinecolor": "#2a3f5f",
             "gridcolor": "white",
             "linecolor": "white",
             "minorgridcolor": "white",
             "startlinecolor": "#2a3f5f"
            },
            "type": "carpet"
           }
          ],
          "choropleth": [
           {
            "colorbar": {
             "outlinewidth": 0,
             "ticks": ""
            },
            "type": "choropleth"
           }
          ],
          "contour": [
           {
            "colorbar": {
             "outlinewidth": 0,
             "ticks": ""
            },
            "colorscale": [
             [
              0,
              "#0d0887"
             ],
             [
              0.1111111111111111,
              "#46039f"
             ],
             [
              0.2222222222222222,
              "#7201a8"
             ],
             [
              0.3333333333333333,
              "#9c179e"
             ],
             [
              0.4444444444444444,
              "#bd3786"
             ],
             [
              0.5555555555555556,
              "#d8576b"
             ],
             [
              0.6666666666666666,
              "#ed7953"
             ],
             [
              0.7777777777777778,
              "#fb9f3a"
             ],
             [
              0.8888888888888888,
              "#fdca26"
             ],
             [
              1,
              "#f0f921"
             ]
            ],
            "type": "contour"
           }
          ],
          "contourcarpet": [
           {
            "colorbar": {
             "outlinewidth": 0,
             "ticks": ""
            },
            "type": "contourcarpet"
           }
          ],
          "heatmap": [
           {
            "colorbar": {
             "outlinewidth": 0,
             "ticks": ""
            },
            "colorscale": [
             [
              0,
              "#0d0887"
             ],
             [
              0.1111111111111111,
              "#46039f"
             ],
             [
              0.2222222222222222,
              "#7201a8"
             ],
             [
              0.3333333333333333,
              "#9c179e"
             ],
             [
              0.4444444444444444,
              "#bd3786"
             ],
             [
              0.5555555555555556,
              "#d8576b"
             ],
             [
              0.6666666666666666,
              "#ed7953"
             ],
             [
              0.7777777777777778,
              "#fb9f3a"
             ],
             [
              0.8888888888888888,
              "#fdca26"
             ],
             [
              1,
              "#f0f921"
             ]
            ],
            "type": "heatmap"
           }
          ],
          "heatmapgl": [
           {
            "colorbar": {
             "outlinewidth": 0,
             "ticks": ""
            },
            "colorscale": [
             [
              0,
              "#0d0887"
             ],
             [
              0.1111111111111111,
              "#46039f"
             ],
             [
              0.2222222222222222,
              "#7201a8"
             ],
             [
              0.3333333333333333,
              "#9c179e"
             ],
             [
              0.4444444444444444,
              "#bd3786"
             ],
             [
              0.5555555555555556,
              "#d8576b"
             ],
             [
              0.6666666666666666,
              "#ed7953"
             ],
             [
              0.7777777777777778,
              "#fb9f3a"
             ],
             [
              0.8888888888888888,
              "#fdca26"
             ],
             [
              1,
              "#f0f921"
             ]
            ],
            "type": "heatmapgl"
           }
          ],
          "histogram": [
           {
            "marker": {
             "pattern": {
              "fillmode": "overlay",
              "size": 10,
              "solidity": 0.2
             }
            },
            "type": "histogram"
           }
          ],
          "histogram2d": [
           {
            "colorbar": {
             "outlinewidth": 0,
             "ticks": ""
            },
            "colorscale": [
             [
              0,
              "#0d0887"
             ],
             [
              0.1111111111111111,
              "#46039f"
             ],
             [
              0.2222222222222222,
              "#7201a8"
             ],
             [
              0.3333333333333333,
              "#9c179e"
             ],
             [
              0.4444444444444444,
              "#bd3786"
             ],
             [
              0.5555555555555556,
              "#d8576b"
             ],
             [
              0.6666666666666666,
              "#ed7953"
             ],
             [
              0.7777777777777778,
              "#fb9f3a"
             ],
             [
              0.8888888888888888,
              "#fdca26"
             ],
             [
              1,
              "#f0f921"
             ]
            ],
            "type": "histogram2d"
           }
          ],
          "histogram2dcontour": [
           {
            "colorbar": {
             "outlinewidth": 0,
             "ticks": ""
            },
            "colorscale": [
             [
              0,
              "#0d0887"
             ],
             [
              0.1111111111111111,
              "#46039f"
             ],
             [
              0.2222222222222222,
              "#7201a8"
             ],
             [
              0.3333333333333333,
              "#9c179e"
             ],
             [
              0.4444444444444444,
              "#bd3786"
             ],
             [
              0.5555555555555556,
              "#d8576b"
             ],
             [
              0.6666666666666666,
              "#ed7953"
             ],
             [
              0.7777777777777778,
              "#fb9f3a"
             ],
             [
              0.8888888888888888,
              "#fdca26"
             ],
             [
              1,
              "#f0f921"
             ]
            ],
            "type": "histogram2dcontour"
           }
          ],
          "mesh3d": [
           {
            "colorbar": {
             "outlinewidth": 0,
             "ticks": ""
            },
            "type": "mesh3d"
           }
          ],
          "parcoords": [
           {
            "line": {
             "colorbar": {
              "outlinewidth": 0,
              "ticks": ""
             }
            },
            "type": "parcoords"
           }
          ],
          "pie": [
           {
            "automargin": true,
            "type": "pie"
           }
          ],
          "scatter": [
           {
            "fillpattern": {
             "fillmode": "overlay",
             "size": 10,
             "solidity": 0.2
            },
            "type": "scatter"
           }
          ],
          "scatter3d": [
           {
            "line": {
             "colorbar": {
              "outlinewidth": 0,
              "ticks": ""
             }
            },
            "marker": {
             "colorbar": {
              "outlinewidth": 0,
              "ticks": ""
             }
            },
            "type": "scatter3d"
           }
          ],
          "scattercarpet": [
           {
            "marker": {
             "colorbar": {
              "outlinewidth": 0,
              "ticks": ""
             }
            },
            "type": "scattercarpet"
           }
          ],
          "scattergeo": [
           {
            "marker": {
             "colorbar": {
              "outlinewidth": 0,
              "ticks": ""
             }
            },
            "type": "scattergeo"
           }
          ],
          "scattergl": [
           {
            "marker": {
             "colorbar": {
              "outlinewidth": 0,
              "ticks": ""
             }
            },
            "type": "scattergl"
           }
          ],
          "scattermapbox": [
           {
            "marker": {
             "colorbar": {
              "outlinewidth": 0,
              "ticks": ""
             }
            },
            "type": "scattermapbox"
           }
          ],
          "scatterpolar": [
           {
            "marker": {
             "colorbar": {
              "outlinewidth": 0,
              "ticks": ""
             }
            },
            "type": "scatterpolar"
           }
          ],
          "scatterpolargl": [
           {
            "marker": {
             "colorbar": {
              "outlinewidth": 0,
              "ticks": ""
             }
            },
            "type": "scatterpolargl"
           }
          ],
          "scatterternary": [
           {
            "marker": {
             "colorbar": {
              "outlinewidth": 0,
              "ticks": ""
             }
            },
            "type": "scatterternary"
           }
          ],
          "surface": [
           {
            "colorbar": {
             "outlinewidth": 0,
             "ticks": ""
            },
            "colorscale": [
             [
              0,
              "#0d0887"
             ],
             [
              0.1111111111111111,
              "#46039f"
             ],
             [
              0.2222222222222222,
              "#7201a8"
             ],
             [
              0.3333333333333333,
              "#9c179e"
             ],
             [
              0.4444444444444444,
              "#bd3786"
             ],
             [
              0.5555555555555556,
              "#d8576b"
             ],
             [
              0.6666666666666666,
              "#ed7953"
             ],
             [
              0.7777777777777778,
              "#fb9f3a"
             ],
             [
              0.8888888888888888,
              "#fdca26"
             ],
             [
              1,
              "#f0f921"
             ]
            ],
            "type": "surface"
           }
          ],
          "table": [
           {
            "cells": {
             "fill": {
              "color": "#EBF0F8"
             },
             "line": {
              "color": "white"
             }
            },
            "header": {
             "fill": {
              "color": "#C8D4E3"
             },
             "line": {
              "color": "white"
             }
            },
            "type": "table"
           }
          ]
         },
         "layout": {
          "annotationdefaults": {
           "arrowcolor": "#2a3f5f",
           "arrowhead": 0,
           "arrowwidth": 1
          },
          "autotypenumbers": "strict",
          "coloraxis": {
           "colorbar": {
            "outlinewidth": 0,
            "ticks": ""
           }
          },
          "colorscale": {
           "diverging": [
            [
             0,
             "#8e0152"
            ],
            [
             0.1,
             "#c51b7d"
            ],
            [
             0.2,
             "#de77ae"
            ],
            [
             0.3,
             "#f1b6da"
            ],
            [
             0.4,
             "#fde0ef"
            ],
            [
             0.5,
             "#f7f7f7"
            ],
            [
             0.6,
             "#e6f5d0"
            ],
            [
             0.7,
             "#b8e186"
            ],
            [
             0.8,
             "#7fbc41"
            ],
            [
             0.9,
             "#4d9221"
            ],
            [
             1,
             "#276419"
            ]
           ],
           "sequential": [
            [
             0,
             "#0d0887"
            ],
            [
             0.1111111111111111,
             "#46039f"
            ],
            [
             0.2222222222222222,
             "#7201a8"
            ],
            [
             0.3333333333333333,
             "#9c179e"
            ],
            [
             0.4444444444444444,
             "#bd3786"
            ],
            [
             0.5555555555555556,
             "#d8576b"
            ],
            [
             0.6666666666666666,
             "#ed7953"
            ],
            [
             0.7777777777777778,
             "#fb9f3a"
            ],
            [
             0.8888888888888888,
             "#fdca26"
            ],
            [
             1,
             "#f0f921"
            ]
           ],
           "sequentialminus": [
            [
             0,
             "#0d0887"
            ],
            [
             0.1111111111111111,
             "#46039f"
            ],
            [
             0.2222222222222222,
             "#7201a8"
            ],
            [
             0.3333333333333333,
             "#9c179e"
            ],
            [
             0.4444444444444444,
             "#bd3786"
            ],
            [
             0.5555555555555556,
             "#d8576b"
            ],
            [
             0.6666666666666666,
             "#ed7953"
            ],
            [
             0.7777777777777778,
             "#fb9f3a"
            ],
            [
             0.8888888888888888,
             "#fdca26"
            ],
            [
             1,
             "#f0f921"
            ]
           ]
          },
          "colorway": [
           "#636efa",
           "#EF553B",
           "#00cc96",
           "#ab63fa",
           "#FFA15A",
           "#19d3f3",
           "#FF6692",
           "#B6E880",
           "#FF97FF",
           "#FECB52"
          ],
          "font": {
           "color": "#2a3f5f"
          },
          "geo": {
           "bgcolor": "white",
           "lakecolor": "white",
           "landcolor": "#E5ECF6",
           "showlakes": true,
           "showland": true,
           "subunitcolor": "white"
          },
          "hoverlabel": {
           "align": "left"
          },
          "hovermode": "closest",
          "mapbox": {
           "style": "light"
          },
          "paper_bgcolor": "white",
          "plot_bgcolor": "#E5ECF6",
          "polar": {
           "angularaxis": {
            "gridcolor": "white",
            "linecolor": "white",
            "ticks": ""
           },
           "bgcolor": "#E5ECF6",
           "radialaxis": {
            "gridcolor": "white",
            "linecolor": "white",
            "ticks": ""
           }
          },
          "scene": {
           "xaxis": {
            "backgroundcolor": "#E5ECF6",
            "gridcolor": "white",
            "gridwidth": 2,
            "linecolor": "white",
            "showbackground": true,
            "ticks": "",
            "zerolinecolor": "white"
           },
           "yaxis": {
            "backgroundcolor": "#E5ECF6",
            "gridcolor": "white",
            "gridwidth": 2,
            "linecolor": "white",
            "showbackground": true,
            "ticks": "",
            "zerolinecolor": "white"
           },
           "zaxis": {
            "backgroundcolor": "#E5ECF6",
            "gridcolor": "white",
            "gridwidth": 2,
            "linecolor": "white",
            "showbackground": true,
            "ticks": "",
            "zerolinecolor": "white"
           }
          },
          "shapedefaults": {
           "line": {
            "color": "#2a3f5f"
           }
          },
          "ternary": {
           "aaxis": {
            "gridcolor": "white",
            "linecolor": "white",
            "ticks": ""
           },
           "baxis": {
            "gridcolor": "white",
            "linecolor": "white",
            "ticks": ""
           },
           "bgcolor": "#E5ECF6",
           "caxis": {
            "gridcolor": "white",
            "linecolor": "white",
            "ticks": ""
           }
          },
          "title": {
           "x": 0.05
          },
          "xaxis": {
           "automargin": true,
           "gridcolor": "white",
           "linecolor": "white",
           "ticks": "",
           "title": {
            "standoff": 15
           },
           "zerolinecolor": "white",
           "zerolinewidth": 2
          },
          "yaxis": {
           "automargin": true,
           "gridcolor": "white",
           "linecolor": "white",
           "ticks": "",
           "title": {
            "standoff": 15
           },
           "zerolinecolor": "white",
           "zerolinewidth": 2
          }
         }
        },
        "title": {
         "text": "Графік функції y = 0.5sin(x)(2x + π/3)"
        },
        "xaxis": {
         "anchor": "y",
         "domain": [
          0,
          1
         ],
         "title": {
          "text": "x"
         }
        },
        "yaxis": {
         "anchor": "x",
         "domain": [
          0,
          1
         ],
         "title": {
          "text": "y"
         }
        }
       }
      },
      "text/html": [
       "<div>                            <div id=\"4119ed0b-a06d-4db7-bbce-0946e0a556d2\" class=\"plotly-graph-div\" style=\"height:525px; width:100%;\"></div>            <script type=\"text/javascript\">                require([\"plotly\"], function(Plotly) {                    window.PLOTLYENV=window.PLOTLYENV || {};                                    if (document.getElementById(\"4119ed0b-a06d-4db7-bbce-0946e0a556d2\")) {                    Plotly.newPlot(                        \"4119ed0b-a06d-4db7-bbce-0946e0a556d2\",                        [{\"hovertemplate\":\"x=%{x}<br>y=%{y}<extra></extra>\",\"legendgroup\":\"\",\"line\":{\"color\":\"#636efa\",\"dash\":\"solid\"},\"marker\":{\"symbol\":\"circle\"},\"mode\":\"lines\",\"name\":\"\",\"orientation\":\"v\",\"showlegend\":false,\"x\":[0.0,0.012591553721802777,0.025183107443605555,0.037774661165408334,0.05036621488721111,0.06295776860901389,0.07554932233081667,0.08814087605261944,0.10073242977442222,0.113323983496225,0.12591553721802778,0.13850709093983055,0.15109864466163334,0.1636901983834361,0.1762817521052389,0.18887330582704165,0.20146485954884444,0.21405641327064723,0.22664796699245,0.23923952071425278,0.25183107443605557,0.26442262815785833,0.2770141818796611,0.28960573560146385,0.30219728932326667,0.31478884304506943,0.3273803967668722,0.339971950488675,0.3525635042104778,0.36515505793228054,0.3777466116540833,0.3903381653758861,0.4029297190976889,0.41552127281949164,0.42811282654129446,0.4407043802630972,0.4532959339849,0.46588748770670274,0.47847904142850556,0.4910705951503083,0.5036621488721111,0.5162537025939139,0.5288452563157167,0.5414368100375194,0.5540283637593222,0.566619917481125,0.5792114712029277,0.5918030249247306,0.6043945786465333,0.6169861323683361,0.6295776860901389,0.6421692398119416,0.6547607935337444,0.6673523472555472,0.67994390097735,0.6925354546991528,0.7051270084209555,0.7177185621427583,0.7303101158645611,0.7429016695863638,0.7554932233081666,0.7680847770299695,0.7806763307517722,0.793267884473575,0.8058594381953778,0.8184509919171805,0.8310425456389833,0.843634099360786,0.8562256530825889,0.8688172068043917,0.8814087605261944,0.8940003142479972,0.9065918679698,0.9191834216916027,0.9317749754134055,0.9443665291352084,0.9569580828570111,0.9695496365788139,0.9821411903006166,0.9947327440224194,1.0073242977442223,1.019915851466025,1.0325074051878278,1.0450989589096304,1.0576905126314333,1.070282066353236,1.0828736200750388,1.0954651737968417,1.1080567275186444,1.1206482812404472,1.13323983496225,1.1458313886840528,1.1584229424058554,1.1710144961276583,1.1836060498494612,1.1961976035712638,1.2087891572930667,1.2213807110148693,1.2339722647366722,1.2465638184584749,1.2591553721802777,1.2717469259020806,1.2843384796238833,1.2969300333456861,1.3095215870674888,1.3221131407892917,1.3347046945110943,1.3472962482328972,1.3598878019547,1.3724793556765027,1.3850709093983056,1.3976624631201082,1.410254016841911,1.4228455705637137,1.4354371242855166,1.4480286780073195,1.4606202317291221,1.473211785450925,1.4858033391727277,1.4983948928945305,1.5109864466163332,1.523578000338136,1.536169554059939,1.5487611077817416,1.5613526615035445,1.573944215225347,1.58653576894715,1.5991273226689526,1.6117188763907555,1.6243104301125584,1.636901983834361,1.649493537556164,1.6620850912779666,1.6746766449997694,1.687268198721572,1.699859752443375,1.7124513061651778,1.7250428598869805,1.7376344136087833,1.750225967330586,1.7628175210523889,1.7754090747741915,1.7880006284959944,1.8005921822177973,1.8131837359396,1.8257752896614028,1.8383668433832054,1.8509583971050083,1.863549950826811,1.8761415045486138,1.8887330582704167,1.9013246119922194,1.9139161657140222,1.9265077194358249,1.9390992731576278,1.9516908268794304,1.9642823806012333,1.9768739343230362,1.9894654880448388,2.0020570417666415,2.0146485954884445,2.027240149210247,2.03983170293205,2.0524232566538525,2.0650148103756556,2.0776063640974582,2.090197917819261,2.102789471541064,2.1153810252628666,2.1279725789846693,2.140564132706472,2.153155686428275,2.1657472401500777,2.1783387938718803,2.1909303475936834,2.203521901315486,2.2161134550372887,2.2287050087590914,2.2412965624808945,2.253888116202697,2.2664796699245,2.279071223646303,2.2916627773681055,2.304254331089908,2.316845884811711,2.329437438533514,2.3420289922553166,2.3546205459771192,2.3672120996989223,2.379803653420725,2.3923952071425276,2.4049867608643303,2.4175783145861334,2.430169868307936,2.4427614220297387,2.4553529757515418,2.4679445294733444,2.480536083195147,2.4931276369169497,2.505719190638753,2.5183107443605555,2.530902298082358,2.543493851804161,2.556085405525964,2.5686769592477665,2.581268512969569,2.5938600666913723,2.606451620413175,2.6190431741349776,2.6316347278567807,2.6442262815785833,2.656817835300386,2.6694093890221886,2.6820009427439917,2.6945924964657944,2.707184050187597,2.7197756039094,2.7323671576312027,2.7449587113530054,2.757550265074808,2.770141818796611,2.782733372518414,2.7953249262402164,2.8079164799620195,2.820508033683822,2.833099587405625,2.8456911411274275,2.8582826948492306,2.8708742485710332,2.883465802292836,2.896057356014639,2.9086489097364416,2.9212404634582443,2.933832017180047,2.94642357090185,2.9590151246236527,2.9716066783454553,2.9841982320672584,2.996789785789061,3.0093813395108637,3.0219728932326664,3.0345644469544695,3.047156000676272,3.0597475543980748,3.072339108119878,3.0849306618416805,3.097522215563483,3.110113769285286,3.122705323007089,3.1352968767288916,3.147888430450694,3.1604799841724973,3.1730715378943,3.1856630916161026,3.1982546453379053,3.2108461990597084,3.223437752781511,3.2360293065033137,3.2486208602251168,3.2612124139469194,3.273803967668722,3.2863955213905247,3.298987075112328,3.3115786288341305,3.324170182555933,3.336761736277736,3.349353289999539,3.3619448437213415,3.374536397443144,3.3871279511649472,3.39971950488675,3.4123110586085525,3.4249026123303556,3.4374941660521583,3.450085719773961,3.4626772734957636,3.4752688272175667,3.4878603809393693,3.500451934661172,3.513043488382975,3.5256350421047777,3.5382265958265804,3.550818149548383,3.563409703270186,3.576001256991989,3.5885928107137914,3.6011843644355945,3.613775918157397,3.6263674718792,3.6389590256010025,3.6515505793228056,3.6641421330446082,3.676733686766411,3.689325240488214,3.7019167942100166,3.7145083479318193,3.727099901653622,3.739691455375425,3.7522830090972277,3.7648745628190303,3.7774661165408334,3.790057670262636,3.8026492239844387,3.8152407777062414,3.8278323314280445,3.840423885149847,3.8530154388716498,3.865606992593453,3.8781985463152555,3.890790100037058,3.903381653758861,3.915973207480664,3.9285647612024666,3.941156314924269,3.9537478686460723,3.966339422367875,3.9789309760896776,3.9915225298114803,4.004114083533283,4.016705637255086,4.029297190976889,4.041888744698691,4.054480298420494,4.0670718521422975,4.0796634058641,4.092254959585903,4.104846513307705,4.117438067029508,4.130029620751311,4.142621174473113,4.1552127281949165,4.16780428191672,4.180395835638522,4.192987389360325,4.205578943082128,4.21817049680393,4.230762050525733,4.243353604247536,4.255945157969339,4.268536711691142,4.281128265412944,4.293719819134747,4.30631137285655,4.318902926578352,4.331494480300155,4.3440860340219585,4.356677587743761,4.369269141465564,4.381860695187367,4.394452248909169,4.407043802630972,4.419635356352775,4.4322269100745775,4.444818463796381,4.457410017518183,4.470001571239986,4.482593124961789,4.495184678683591,4.507776232405394,4.520367786127197,4.532959339849,4.545550893570803,4.558142447292606,4.570734001014408,4.583325554736211,4.595917108458014,4.608508662179816,4.6211002159016195,4.633691769623422,4.646283323345225,4.658874877067028,4.67146643078883,4.684057984510633,4.696649538232436,4.7092410919542385,4.7218326456760416,4.734424199397845,4.747015753119647,4.75960730684145,4.772198860563253,4.784790414285055,4.797381968006858,4.8099735217286606,4.822565075450464,4.835156629172267,4.847748182894069,4.860339736615872,4.872931290337675,4.885522844059477,4.89811439778128,4.9107059515030835,4.923297505224886,4.935889058946689,4.948480612668492,4.961072166390294,4.973663720112097,4.986255273833899,4.9988468275557025,5.011438381277506,5.024029934999308,5.036621488721111,5.049213042442914,5.061804596164716,5.074396149886519,5.086987703608322,5.099579257330125,5.112170811051928,5.124762364773731,5.137353918495533,5.149945472217336,5.162537025939138,5.175128579660941,5.1877201333827445,5.200311687104547,5.21290324082635,5.225494794548153,5.238086348269955,5.250677901991758,5.263269455713561,5.2758610094353635,5.288452563157167,5.30104411687897,5.313635670600772,5.326227224322575,5.338818778044377,5.35141033176618,5.364001885487983,5.376593439209786,5.389184992931589,5.401776546653392,5.414368100375194,5.426959654096997,5.4395512078188,5.452142761540602,5.4647343152624055,5.477325868984209,5.489917422706011,5.502508976427814,5.515100530149616,5.527692083871419,5.540283637593222,5.5528751913150245,5.565466745036828,5.578058298758631,5.590649852480433,5.603241406202236,5.615832959924039,5.628424513645841,5.641016067367644,5.6536076210894475,5.66619917481125,5.678790728533053,5.691382282254855,5.703973835976658,5.716565389698461,5.729156943420263,5.7417484971420665,5.75434005086387,5.766931604585672,5.779523158307475,5.792114712029278,5.80470626575108,5.817297819472883,5.829889373194686,5.842480926916489,5.855072480638292,5.867664034360094,5.880255588081897,5.8928471418037,5.905438695525502,5.918030249247305,5.9306218029691085,5.943213356690911,5.955804910412714,5.968396464134517,5.980988017856319,5.993579571578122,6.006171125299925,6.0187626790217275,6.0313542327435306,6.043945786465333,6.056537340187136,6.069128893908939,6.081720447630741,6.094312001352544,6.106903555074347,6.1194951087961496,6.132086662517953,6.144678216239756,6.157269769961558,6.169861323683361,6.182452877405164,6.195044431126966,6.207635984848769,6.220227538570572,6.232819092292375,6.245410646014178,6.25800219973598,6.270593753457783,6.283185307179586],\"xaxis\":\"x\",\"y\":[0.0,0.006751290933704639,0.01381857241813208,0.02120064856552447,0.02889622332245085,0.036903900695213064,0.04522218499906154,0.05384948113117686,0.06278409486736834,0.07202423318243545,0.08156800459413324,0.0914134195306776,0.10155839072172157,0.1120007336127286,0.12273816680266389,0.13376831250491975,0.14508869703138658,0.1566967512995754,0.1685898113626932,0.18076511896256817,0.19321982210531585,0.20595097565963327,0.218955541977603,0.2322303915378845,0.24577230361116453,0.2595779669477352,0.27364398048706207,0.2879668540892002,0.3025430092879124,0.31736878006533836,0.332440413648059,0.3477540713243952,0.36330582928277705,0.3790916794710134,0.3951075304762894,0.41134920842571004,0.427812457907213,0.44449294291065733,0.4613862477889011,0.4784878782386699,0.4957932623010173,0.513297751381172,0.5309966212875645,0.5488850732898201,0.5669582351954994,0.5852111624453703,0.6036388392269824,0.622236179606316,0.6409980286772735,0.6599191637287778,0.6789942954292345,0.6982180690281148,0.7175850655744117,0.7370898031517176,0.7567267381296665,0.7764902664314828,0.7963747248173755,0.8163743921835089,0.8364834908762816,0.8566961880216418,0.8770065968691615,0.8974087781505903,0.9178967414526036,0.9384644466034671,0.9591058050733173,0.9798146813877743,1.0005848945545877,1.0214102195030204,1.0422843885356652,1.0632010927923936,1.0841539837261298,1.105136674590139,1.1261427419365184,1.1471657271255777,1.1681991378457914,1.189236449644001,1.210271107465548,1.2312965272040128,1.252306097260232,1.2732931801102647,1.2942511138819792,1.3151732139399233,1.3360527744781494,1.356883070120647,1.3776573575290574,1.3983688770173164,1.4190108541728916,1.4395765014842654,1.4600590199743217,1.480451600839286,1.5007474270928682,1.5209396752152669,1.541021516806671,1.5609861202449173,1.5808266523469403,1.6005362800336687,1.620108171998006,1.6395355003755365,1.6588114424176075,1.677929182166419,1.696881912131767,1.7156628349690766,1.7342651651583694,1.7526821306837992,1.770906974713388,1.7889329572786201,1.8067533569535048,1.824361472532767,1.841750624708788,1.8589141577469452,1.8758454411589744,1.8925378713740006,1.908984873406874,1.9251799025234426,1.9411164459024024,1.956788024293361,1.9721881936707581,1.987310546883271,2.002148715298353,2.016696370441543,2.030947225630179,2.04489503760117,2.0585336081324526,2.0718567856577894,2.084858466874544,2.0975325983440785,2.1098731780844227,2.1218742571548623,2.133529941232087,2.14483439217756,2.1557818295957487,2.16636653238288,2.1765828402658616,2.18642515533104,2.195887943542439,2.20496573624915,2.2136531316815224,2.2219447964358285,2.2298354669470655,2.2373199509495523,2.244393128925006,2.251049955537755,2.257285461056772,2.263094752764194,2.2684730163500215,2.27341551729266,2.2779176022250005,2.2819747002857205,2.285582324455492,2.288736072877789,2.291431630163991,2.2936647686824787,2.295431349831413,2.296727325294915,2.2975487382823427,2.297891724750371,2.297752514607598,2.2971274329013798,2.2960129009866246,2.294405437676257,2.292301660373083,2.289698286182787,2.2865921330077845,2.2829801206216778,2.27885927172404,2.2742267129752842,2.2690796760113545,2.2634154984379937,2.2572316248043416,2.250525607555621,2.2432951079646766,2.235537897042125,2.227251856424901,2.2184349792429545,2.209085370963894,2.1992012502153497,2.188780949584848,2.177822916396983,2.166325713467684,2.1542880198353838,2.1417086314688785,2.128586461951703,2.1149205431428246,2.1007100258134774,2.0859541802599586,2.0706523968922137,2.054804186798045,2.0384091822827703,2.0214671373841893,2.003977928362688,1.98594155416634,1.9673581368708581,1.9482279220942582,1.9285512793861017,1.9083287025911775,1.8875608101875152,1.8662483455985992,1.8443921774796654,1.8219932999779846,1.799052832967014,1.7755720222543312,1.751552239763241,1.7269949836879792,1.7019018786224276,1.6762746756622529,1.650115252480406,1.6234256133759102,1.5962078892958778,1.568464337830689,1.540197343182293,1.5114094161055833,1.4821031938227878,1.4522814399108677,1.4219470441618682,1.3911030224162142,1.3597525163689121,1.3278987933486668,1.295545246069887,1.2626953923575792,1.2293528748451372,1.1955214606450304,1.1612050409924102,1.126407630861634,1.091133368555758,1.055386515269011,1.019171454622277,0.9824926921716518,0.9453548548900922,0.9077626906222319,0.8697210675123962,0.8312349734059016,0.7923095152236982,0.7529499183104154,0.7131615257559129,0.672949797690401,0.6323203105532355,0.5912787563354592,0.5498309417962163,0.507982787653134,0.46574032774676644,0.4231097081792479,0.3800971864272503,0.33670913042939143,0.29295201764820133,0.24883243410681302,0.20435707340050657,0.15953273568324033,0.1143663266293521,0.0688648563705635,0.023035438408469902,-0.0231147114973408,-0.06957827646533678,-0.11634783965209318,-0.1634158854361767,-0.2107748006256435,-0.2584168756889829,-0.3063343060092879,-0.35451919316147534,-0.40296354621231545,-0.4516592830430715,-0.5005982316945469,-0.5497721317342834,-0.5991726356457114,-0.6487913102389957,-0.6986196380833702,-0.748649018960684,-0.7988707713399289,-0.8492761338725129,-0.8998562669079884,-0.9506022540300068,-1.0015051036122085,-1.0525557503938126,-1.1037450570745932,-1.155063815928987,-1.2065027504390606,-1.2580525169460193,-1.3097037063199972,-1.361446845647809,-1.4132723999383956,-1.4651707738456288,-1.5171323134081793,-1.5691473078061575,-1.6212059911341812,-1.673298544190571,-1.7254150962823425,-1.7775457270456916,-1.8296804682816046,-1.8818093058062912,-1.9339221813161063,-1.9860089942665917,-2.038059603765328,-2.0900638304782215,-2.1420114585489074,-2.193892237530891,-2.245695884332068,-2.297412085171304,-2.3490304975466603,-2.4005407522149356,-2.451932455182137,-2.5031951897045346,-2.554318518299892,-2.6052919847685176,-2.6561051162237708,-2.7067474251316033,-2.7572084113587962,-2.8074775642294667,-2.8575443645894936,-2.907398286878445,-2.9570288012086157,-3.006425375450805,-3.0555774773264095,-3.104474576505446,-3.153106146710095,-3.201461667823389,-3.249530628002602,-3.297302525796955,-3.344766872269249,-3.3919131931209723,-3.438731030820514,-3.4852099467340483,-3.5313395232586817,-3.5771093659574533,-3.622509105695781,-3.6675284007789015,-3.7121569390899323,-3.7563844402281283,-3.8002006576468608,-3.8435953807910006,-3.8865584372331727,-3.92907969480855,-3.9711490637477294,-4.012756498807241,-4.053892001397331,-4.094545621706558,-4.134707460822754,-4.174367672849993,-4.213516467021108,-4.252144109805307,-4.290240927010527,-4.327797305880062,-4.3648036971830395,-4.401250617298368,-4.437128650291671,-4.472428449984842,-4.50714074201779,-4.541256325901912,-4.574766077064946,-4.607660948886731,-4.639931974725482,-4.671570269934156,-4.702567033866519,-4.73291355187245,-4.7626011972821285,-4.7916214333786655,-4.8199658153587555,-4.8476259922809835,-4.87459370900134,-4.900860808095568,-4.926419231767931,-4.951261023745987,-4.975378331161002,-4.998763406413584,-5.021408609024134,-5.043306407467757,-5.064449380993211,-5.084830221425516,-5.104441734951845,-5.123276843890312,-5.1413285884412625,-5.158590128420717,-5.175054744975559,-5.190715842280129,-5.205566949213832,-5.219601721019395,-5.23281394094143,-5.245197521844915,-5.256746507813258,-5.267455075725578,-5.277317536812861,-5.286328338192633,-5.294482064381819,-5.301773438787441,-5.308197325174811,-5.31374872911291,-5.3184227993965925,-5.322214829445312,-5.325120258678052,-5.32713467386411,-5.328253810449467,-5.328473553858395,-5.327789940770024,-5.326199160369538,-5.323697555573745,-5.320281624230677,-5.315948020292979,-5.310693554964764,-5.304515197821689,-5.2974100779039475,-5.289375484781928,-5.280408869594264,-5.270507846058007,-5.259670191450696,-5.247893847564031,-5.23517692162893,-5.221517687211732,-5.206914585081288,-5.19136622404672,-5.1748713817656355,-5.157429005522545,-5.13903821297729,-5.119698292883276,-5.09940870577527,-5.07816908462661,-5.05597923547559,-5.032839138020851,-5.008748946185606,-4.983708988650486,-4.95771976935486,-4.930781967966471,-4.902896440319193,-4.87406421881877,-4.844286512816411,-4.813564708950054,-4.781900371453176,-4.7492952424310495,-4.715751242104247,-4.681270469019359,-4.64585520022674,-4.609507891425194,-4.57223117707353,-4.534027870468846,-4.494900963791452,-4.454853628116398,-4.413889213391465,-4.372011248381572,-4.32922344057956,-4.285529676083246,-4.240934019438701,-4.195440713449757,-4.149054178953617,-4.10177901456261,-4.053619996372009,-4.004582077633902,-3.954670388397131,-3.903890235113248,-3.8522471002084786,-3.799746641621764,-3.746394692308798,-3.69219725971213,-3.6371605251973658,-3.581290843455441,-3.5245947418710384,-3.4670789198572103,-3.4087502481561804,-3.3496157681064678,-3.289682690876324,-3.228958396663565,-3.167450433861915,-3.105166518193875,-3.0421145318102276,-2.9783025223563135,-2.913738702005096,-2.848431446457163,-2.7823892939078148,-2.715620943981269,-2.6481352566321554,-2.5799412510144673,-2.511048104317997,-2.4414651505725358,-2.371201879419863,-2.300267934853737,-2.2286731139280844,-2.1564273654334687,-2.0835407885420607,-2.010023631421326,-1.9358862898165343,-1.8611393056023264,-1.7857933653035705,-1.7098592985856416,-1.6333480767143571,-1.5562708109858574,-1.478638751126506,-1.4004632836632056,-1.3217559302642294,-1.242528346050856,-1.1627923178801112,-1.0825597625987609,-1.0018427252688678,-0.9206533773652249,-0.8390040149448295,-0.7569070567887275,-0.6743750425165573,-0.5914206306739762,-0.5080565967933122,-0.4242958314277959,-0.34015133815953075,-0.2556362315816813,-0.17076373525504926,-0.08554717963941193,-1.6671812678922179e-15],\"yaxis\":\"y\",\"type\":\"scatter\"}],                        {\"template\":{\"data\":{\"histogram2dcontour\":[{\"type\":\"histogram2dcontour\",\"colorbar\":{\"outlinewidth\":0,\"ticks\":\"\"},\"colorscale\":[[0.0,\"#0d0887\"],[0.1111111111111111,\"#46039f\"],[0.2222222222222222,\"#7201a8\"],[0.3333333333333333,\"#9c179e\"],[0.4444444444444444,\"#bd3786\"],[0.5555555555555556,\"#d8576b\"],[0.6666666666666666,\"#ed7953\"],[0.7777777777777778,\"#fb9f3a\"],[0.8888888888888888,\"#fdca26\"],[1.0,\"#f0f921\"]]}],\"choropleth\":[{\"type\":\"choropleth\",\"colorbar\":{\"outlinewidth\":0,\"ticks\":\"\"}}],\"histogram2d\":[{\"type\":\"histogram2d\",\"colorbar\":{\"outlinewidth\":0,\"ticks\":\"\"},\"colorscale\":[[0.0,\"#0d0887\"],[0.1111111111111111,\"#46039f\"],[0.2222222222222222,\"#7201a8\"],[0.3333333333333333,\"#9c179e\"],[0.4444444444444444,\"#bd3786\"],[0.5555555555555556,\"#d8576b\"],[0.6666666666666666,\"#ed7953\"],[0.7777777777777778,\"#fb9f3a\"],[0.8888888888888888,\"#fdca26\"],[1.0,\"#f0f921\"]]}],\"heatmap\":[{\"type\":\"heatmap\",\"colorbar\":{\"outlinewidth\":0,\"ticks\":\"\"},\"colorscale\":[[0.0,\"#0d0887\"],[0.1111111111111111,\"#46039f\"],[0.2222222222222222,\"#7201a8\"],[0.3333333333333333,\"#9c179e\"],[0.4444444444444444,\"#bd3786\"],[0.5555555555555556,\"#d8576b\"],[0.6666666666666666,\"#ed7953\"],[0.7777777777777778,\"#fb9f3a\"],[0.8888888888888888,\"#fdca26\"],[1.0,\"#f0f921\"]]}],\"heatmapgl\":[{\"type\":\"heatmapgl\",\"colorbar\":{\"outlinewidth\":0,\"ticks\":\"\"},\"colorscale\":[[0.0,\"#0d0887\"],[0.1111111111111111,\"#46039f\"],[0.2222222222222222,\"#7201a8\"],[0.3333333333333333,\"#9c179e\"],[0.4444444444444444,\"#bd3786\"],[0.5555555555555556,\"#d8576b\"],[0.6666666666666666,\"#ed7953\"],[0.7777777777777778,\"#fb9f3a\"],[0.8888888888888888,\"#fdca26\"],[1.0,\"#f0f921\"]]}],\"contourcarpet\":[{\"type\":\"contourcarpet\",\"colorbar\":{\"outlinewidth\":0,\"ticks\":\"\"}}],\"contour\":[{\"type\":\"contour\",\"colorbar\":{\"outlinewidth\":0,\"ticks\":\"\"},\"colorscale\":[[0.0,\"#0d0887\"],[0.1111111111111111,\"#46039f\"],[0.2222222222222222,\"#7201a8\"],[0.3333333333333333,\"#9c179e\"],[0.4444444444444444,\"#bd3786\"],[0.5555555555555556,\"#d8576b\"],[0.6666666666666666,\"#ed7953\"],[0.7777777777777778,\"#fb9f3a\"],[0.8888888888888888,\"#fdca26\"],[1.0,\"#f0f921\"]]}],\"surface\":[{\"type\":\"surface\",\"colorbar\":{\"outlinewidth\":0,\"ticks\":\"\"},\"colorscale\":[[0.0,\"#0d0887\"],[0.1111111111111111,\"#46039f\"],[0.2222222222222222,\"#7201a8\"],[0.3333333333333333,\"#9c179e\"],[0.4444444444444444,\"#bd3786\"],[0.5555555555555556,\"#d8576b\"],[0.6666666666666666,\"#ed7953\"],[0.7777777777777778,\"#fb9f3a\"],[0.8888888888888888,\"#fdca26\"],[1.0,\"#f0f921\"]]}],\"mesh3d\":[{\"type\":\"mesh3d\",\"colorbar\":{\"outlinewidth\":0,\"ticks\":\"\"}}],\"scatter\":[{\"fillpattern\":{\"fillmode\":\"overlay\",\"size\":10,\"solidity\":0.2},\"type\":\"scatter\"}],\"parcoords\":[{\"type\":\"parcoords\",\"line\":{\"colorbar\":{\"outlinewidth\":0,\"ticks\":\"\"}}}],\"scatterpolargl\":[{\"type\":\"scatterpolargl\",\"marker\":{\"colorbar\":{\"outlinewidth\":0,\"ticks\":\"\"}}}],\"bar\":[{\"error_x\":{\"color\":\"#2a3f5f\"},\"error_y\":{\"color\":\"#2a3f5f\"},\"marker\":{\"line\":{\"color\":\"#E5ECF6\",\"width\":0.5},\"pattern\":{\"fillmode\":\"overlay\",\"size\":10,\"solidity\":0.2}},\"type\":\"bar\"}],\"scattergeo\":[{\"type\":\"scattergeo\",\"marker\":{\"colorbar\":{\"outlinewidth\":0,\"ticks\":\"\"}}}],\"scatterpolar\":[{\"type\":\"scatterpolar\",\"marker\":{\"colorbar\":{\"outlinewidth\":0,\"ticks\":\"\"}}}],\"histogram\":[{\"marker\":{\"pattern\":{\"fillmode\":\"overlay\",\"size\":10,\"solidity\":0.2}},\"type\":\"histogram\"}],\"scattergl\":[{\"type\":\"scattergl\",\"marker\":{\"colorbar\":{\"outlinewidth\":0,\"ticks\":\"\"}}}],\"scatter3d\":[{\"type\":\"scatter3d\",\"line\":{\"colorbar\":{\"outlinewidth\":0,\"ticks\":\"\"}},\"marker\":{\"colorbar\":{\"outlinewidth\":0,\"ticks\":\"\"}}}],\"scattermapbox\":[{\"type\":\"scattermapbox\",\"marker\":{\"colorbar\":{\"outlinewidth\":0,\"ticks\":\"\"}}}],\"scatterternary\":[{\"type\":\"scatterternary\",\"marker\":{\"colorbar\":{\"outlinewidth\":0,\"ticks\":\"\"}}}],\"scattercarpet\":[{\"type\":\"scattercarpet\",\"marker\":{\"colorbar\":{\"outlinewidth\":0,\"ticks\":\"\"}}}],\"carpet\":[{\"aaxis\":{\"endlinecolor\":\"#2a3f5f\",\"gridcolor\":\"white\",\"linecolor\":\"white\",\"minorgridcolor\":\"white\",\"startlinecolor\":\"#2a3f5f\"},\"baxis\":{\"endlinecolor\":\"#2a3f5f\",\"gridcolor\":\"white\",\"linecolor\":\"white\",\"minorgridcolor\":\"white\",\"startlinecolor\":\"#2a3f5f\"},\"type\":\"carpet\"}],\"table\":[{\"cells\":{\"fill\":{\"color\":\"#EBF0F8\"},\"line\":{\"color\":\"white\"}},\"header\":{\"fill\":{\"color\":\"#C8D4E3\"},\"line\":{\"color\":\"white\"}},\"type\":\"table\"}],\"barpolar\":[{\"marker\":{\"line\":{\"color\":\"#E5ECF6\",\"width\":0.5},\"pattern\":{\"fillmode\":\"overlay\",\"size\":10,\"solidity\":0.2}},\"type\":\"barpolar\"}],\"pie\":[{\"automargin\":true,\"type\":\"pie\"}]},\"layout\":{\"autotypenumbers\":\"strict\",\"colorway\":[\"#636efa\",\"#EF553B\",\"#00cc96\",\"#ab63fa\",\"#FFA15A\",\"#19d3f3\",\"#FF6692\",\"#B6E880\",\"#FF97FF\",\"#FECB52\"],\"font\":{\"color\":\"#2a3f5f\"},\"hovermode\":\"closest\",\"hoverlabel\":{\"align\":\"left\"},\"paper_bgcolor\":\"white\",\"plot_bgcolor\":\"#E5ECF6\",\"polar\":{\"bgcolor\":\"#E5ECF6\",\"angularaxis\":{\"gridcolor\":\"white\",\"linecolor\":\"white\",\"ticks\":\"\"},\"radialaxis\":{\"gridcolor\":\"white\",\"linecolor\":\"white\",\"ticks\":\"\"}},\"ternary\":{\"bgcolor\":\"#E5ECF6\",\"aaxis\":{\"gridcolor\":\"white\",\"linecolor\":\"white\",\"ticks\":\"\"},\"baxis\":{\"gridcolor\":\"white\",\"linecolor\":\"white\",\"ticks\":\"\"},\"caxis\":{\"gridcolor\":\"white\",\"linecolor\":\"white\",\"ticks\":\"\"}},\"coloraxis\":{\"colorbar\":{\"outlinewidth\":0,\"ticks\":\"\"}},\"colorscale\":{\"sequential\":[[0.0,\"#0d0887\"],[0.1111111111111111,\"#46039f\"],[0.2222222222222222,\"#7201a8\"],[0.3333333333333333,\"#9c179e\"],[0.4444444444444444,\"#bd3786\"],[0.5555555555555556,\"#d8576b\"],[0.6666666666666666,\"#ed7953\"],[0.7777777777777778,\"#fb9f3a\"],[0.8888888888888888,\"#fdca26\"],[1.0,\"#f0f921\"]],\"sequentialminus\":[[0.0,\"#0d0887\"],[0.1111111111111111,\"#46039f\"],[0.2222222222222222,\"#7201a8\"],[0.3333333333333333,\"#9c179e\"],[0.4444444444444444,\"#bd3786\"],[0.5555555555555556,\"#d8576b\"],[0.6666666666666666,\"#ed7953\"],[0.7777777777777778,\"#fb9f3a\"],[0.8888888888888888,\"#fdca26\"],[1.0,\"#f0f921\"]],\"diverging\":[[0,\"#8e0152\"],[0.1,\"#c51b7d\"],[0.2,\"#de77ae\"],[0.3,\"#f1b6da\"],[0.4,\"#fde0ef\"],[0.5,\"#f7f7f7\"],[0.6,\"#e6f5d0\"],[0.7,\"#b8e186\"],[0.8,\"#7fbc41\"],[0.9,\"#4d9221\"],[1,\"#276419\"]]},\"xaxis\":{\"gridcolor\":\"white\",\"linecolor\":\"white\",\"ticks\":\"\",\"title\":{\"standoff\":15},\"zerolinecolor\":\"white\",\"automargin\":true,\"zerolinewidth\":2},\"yaxis\":{\"gridcolor\":\"white\",\"linecolor\":\"white\",\"ticks\":\"\",\"title\":{\"standoff\":15},\"zerolinecolor\":\"white\",\"automargin\":true,\"zerolinewidth\":2},\"scene\":{\"xaxis\":{\"backgroundcolor\":\"#E5ECF6\",\"gridcolor\":\"white\",\"linecolor\":\"white\",\"showbackground\":true,\"ticks\":\"\",\"zerolinecolor\":\"white\",\"gridwidth\":2},\"yaxis\":{\"backgroundcolor\":\"#E5ECF6\",\"gridcolor\":\"white\",\"linecolor\":\"white\",\"showbackground\":true,\"ticks\":\"\",\"zerolinecolor\":\"white\",\"gridwidth\":2},\"zaxis\":{\"backgroundcolor\":\"#E5ECF6\",\"gridcolor\":\"white\",\"linecolor\":\"white\",\"showbackground\":true,\"ticks\":\"\",\"zerolinecolor\":\"white\",\"gridwidth\":2}},\"shapedefaults\":{\"line\":{\"color\":\"#2a3f5f\"}},\"annotationdefaults\":{\"arrowcolor\":\"#2a3f5f\",\"arrowhead\":0,\"arrowwidth\":1},\"geo\":{\"bgcolor\":\"white\",\"landcolor\":\"#E5ECF6\",\"subunitcolor\":\"white\",\"showland\":true,\"showlakes\":true,\"lakecolor\":\"white\"},\"title\":{\"x\":0.05},\"mapbox\":{\"style\":\"light\"}}},\"xaxis\":{\"anchor\":\"y\",\"domain\":[0.0,1.0],\"title\":{\"text\":\"x\"}},\"yaxis\":{\"anchor\":\"x\",\"domain\":[0.0,1.0],\"title\":{\"text\":\"y\"}},\"legend\":{\"tracegroupgap\":0},\"title\":{\"text\":\"\\u0413\\u0440\\u0430\\u0444\\u0456\\u043a \\u0444\\u0443\\u043d\\u043a\\u0446\\u0456\\u0457 y = 0.5sin(x)(2x + \\u03c0/3)\"}},                        {\"responsive\": true}                    ).then(function(){\n",
       "                            \n",
       "var gd = document.getElementById('4119ed0b-a06d-4db7-bbce-0946e0a556d2');\n",
       "var x = new MutationObserver(function (mutations, observer) {{\n",
       "        var display = window.getComputedStyle(gd).display;\n",
       "        if (!display || display === 'none') {{\n",
       "            console.log([gd, 'removed!']);\n",
       "            Plotly.purge(gd);\n",
       "            observer.disconnect();\n",
       "        }}\n",
       "}});\n",
       "\n",
       "// Listen for the removal of the full notebook cells\n",
       "var notebookContainer = gd.closest('#notebook-container');\n",
       "if (notebookContainer) {{\n",
       "    x.observe(notebookContainer, {childList: true});\n",
       "}}\n",
       "\n",
       "// Listen for the clearing of the current output cell\n",
       "var outputEl = gd.closest('.output');\n",
       "if (outputEl) {{\n",
       "    x.observe(outputEl, {childList: true});\n",
       "}}\n",
       "\n",
       "                        })                };                });            </script>        </div>"
      ]
     },
     "metadata": {},
     "output_type": "display_data"
    },
    {
     "data": {
      "application/vnd.plotly.v1+json": {
       "config": {
        "plotlyServerURL": "https://plot.ly"
       },
       "data": [
        {
         "hovertemplate": "x=%{x}<br>y=%{y}<extra></extra>",
         "legendgroup": "",
         "line": {
          "color": "#636efa",
          "dash": "solid"
         },
         "marker": {
          "symbol": "circle"
         },
         "mode": "lines",
         "name": "",
         "orientation": "v",
         "showlegend": false,
         "type": "scatter",
         "x": [
          -6.283185307179586,
          -6.258002199735981,
          -6.232819092292375,
          -6.207635984848769,
          -6.182452877405164,
          -6.157269769961559,
          -6.132086662517953,
          -6.106903555074347,
          -6.081720447630742,
          -6.056537340187136,
          -6.0313542327435306,
          -6.006171125299925,
          -5.98098801785632,
          -5.955804910412714,
          -5.9306218029691085,
          -5.905438695525503,
          -5.880255588081897,
          -5.855072480638292,
          -5.829889373194686,
          -5.804706265751081,
          -5.779523158307475,
          -5.75434005086387,
          -5.729156943420264,
          -5.703973835976658,
          -5.678790728533053,
          -5.6536076210894475,
          -5.628424513645842,
          -5.603241406202236,
          -5.578058298758631,
          -5.552875191315025,
          -5.52769208387142,
          -5.502508976427814,
          -5.477325868984209,
          -5.452142761540603,
          -5.426959654096997,
          -5.401776546653392,
          -5.3765934392097865,
          -5.35141033176618,
          -5.326227224322575,
          -5.30104411687897,
          -5.2758610094353635,
          -5.250677901991758,
          -5.225494794548153,
          -5.200311687104548,
          -5.175128579660942,
          -5.149945472217336,
          -5.124762364773731,
          -5.0995792573301255,
          -5.074396149886519,
          -5.049213042442914,
          -5.024029934999309,
          -4.9988468275557025,
          -4.973663720112097,
          -4.948480612668492,
          -4.923297505224886,
          -4.89811439778128,
          -4.872931290337675,
          -4.84774818289407,
          -4.8225650754504645,
          -4.797381968006858,
          -4.772198860563253,
          -4.747015753119648,
          -4.7218326456760416,
          -4.696649538232436,
          -4.671466430788831,
          -4.646283323345225,
          -4.6211002159016195,
          -4.595917108458014,
          -4.570734001014408,
          -4.545550893570803,
          -4.520367786127197,
          -4.495184678683592,
          -4.470001571239987,
          -4.444818463796381,
          -4.419635356352775,
          -4.39445224890917,
          -4.369269141465564,
          -4.3440860340219585,
          -4.318902926578353,
          -4.293719819134747,
          -4.268536711691142,
          -4.243353604247536,
          -4.21817049680393,
          -4.192987389360326,
          -4.16780428191672,
          -4.142621174473114,
          -4.117438067029509,
          -4.092254959585903,
          -4.0670718521422975,
          -4.041888744698692,
          -4.016705637255086,
          -3.9915225298114807,
          -3.9663394223678754,
          -3.9411563149242697,
          -3.915973207480664,
          -3.8907901000370586,
          -3.865606992593453,
          -3.8404238851498476,
          -3.815240777706242,
          -3.7900576702626365,
          -3.7648745628190308,
          -3.739691455375425,
          -3.7145083479318197,
          -3.689325240488214,
          -3.6641421330446087,
          -3.638959025601003,
          -3.6137759181573976,
          -3.588592810713792,
          -3.563409703270186,
          -3.538226595826581,
          -3.513043488382975,
          -3.48786038093937,
          -3.462677273495764,
          -3.4374941660521587,
          -3.412311058608553,
          -3.3871279511649472,
          -3.361944843721342,
          -3.336761736277736,
          -3.311578628834131,
          -3.286395521390525,
          -3.26121241394692,
          -3.236029306503314,
          -3.2108461990597084,
          -3.185663091616103,
          -3.1604799841724973,
          -3.135296876728892,
          -3.1101137692852863,
          -3.084930661841681,
          -3.059747554398075,
          -3.0345644469544695,
          -3.009381339510864,
          -2.9841982320672584,
          -2.959015124623653,
          -2.9338320171800474,
          -2.908648909736442,
          -2.8834658022928363,
          -2.8582826948492306,
          -2.8330995874056253,
          -2.8079164799620195,
          -2.7827333725184142,
          -2.7575502650748085,
          -2.732367157631203,
          -2.7071840501875974,
          -2.6820009427439917,
          -2.6568178353003864,
          -2.6316347278567807,
          -2.6064516204131754,
          -2.5812685129695696,
          -2.5560854055259643,
          -2.5309022980823586,
          -2.505719190638753,
          -2.4805360831951475,
          -2.4553529757515418,
          -2.4301698683079365,
          -2.4049867608643307,
          -2.3798036534207254,
          -2.3546205459771197,
          -2.329437438533514,
          -2.3042543310899086,
          -2.2790712236463033,
          -2.253888116202697,
          -2.228705008759092,
          -2.2035219013154865,
          -2.1783387938718812,
          -2.153155686428275,
          -2.1279725789846697,
          -2.1027894715410644,
          -2.0776063640974582,
          -2.052423256653853,
          -2.0272401492102476,
          -2.0020570417666423,
          -1.9768739343230362,
          -1.9516908268794309,
          -1.9265077194358255,
          -1.9013246119922194,
          -1.876141504548614,
          -1.8509583971050088,
          -1.8257752896614035,
          -1.8005921822177973,
          -1.775409074774192,
          -1.7502259673305867,
          -1.7250428598869805,
          -1.6998597524433752,
          -1.6746766449997699,
          -1.6494935375561646,
          -1.6243104301125584,
          -1.599127322668953,
          -1.5739442152253478,
          -1.5487611077817416,
          -1.5235780003381363,
          -1.498394892894531,
          -1.4732117854509257,
          -1.4480286780073195,
          -1.4228455705637142,
          -1.3976624631201089,
          -1.3724793556765027,
          -1.3472962482328974,
          -1.322113140789292,
          -1.2969300333456868,
          -1.2717469259020806,
          -1.2465638184584753,
          -1.22138071101487,
          -1.1961976035712638,
          -1.1710144961276585,
          -1.1458313886840532,
          -1.120648281240448,
          -1.0954651737968417,
          -1.0702820663532364,
          -1.0450989589096311,
          -1.019915851466025,
          -0.9947327440224196,
          -0.9695496365788143,
          -0.944366529135209,
          -0.9191834216916028,
          -0.8940003142479975,
          -0.8688172068043922,
          -0.843634099360786,
          -0.8184509919171807,
          -0.7932678844735754,
          -0.7680847770299701,
          -0.7429016695863639,
          -0.7177185621427586,
          -0.6925354546991533,
          -0.6673523472555472,
          -0.6421692398119418,
          -0.6169861323683365,
          -0.5918030249247312,
          -0.5666199174811251,
          -0.5414368100375198,
          -0.5162537025939145,
          -0.49107059515030826,
          -0.46588748770670296,
          -0.44070438026309766,
          -0.41552127281949236,
          -0.39033816537588617,
          -0.36515505793228087,
          -0.33997195048867557,
          -0.3147888430450694,
          -0.2896057356014641,
          -0.2644226281578588,
          -0.23923952071425347,
          -0.21405641327064728,
          -0.18887330582704198,
          -0.16369019838343668,
          -0.1385070909398305,
          -0.11332398349622519,
          -0.08814087605261989,
          -0.06295776860901459,
          -0.037774661165408396,
          -0.012591553721803095,
          0.012591553721802207,
          0.037774661165408396,
          0.0629577686090137,
          0.088140876052619,
          0.1133239834962243,
          0.1385070909398305,
          0.1636901983834358,
          0.1888733058270411,
          0.21405641327064728,
          0.23923952071425258,
          0.2644226281578579,
          0.2896057356014632,
          0.3147888430450694,
          0.3399719504886747,
          0.36515505793228,
          0.39033816537588617,
          0.41552127281949147,
          0.4407043802630968,
          0.4658874877067021,
          0.49107059515030826,
          0.5162537025939136,
          0.5414368100375189,
          0.5666199174811251,
          0.5918030249247304,
          0.6169861323683357,
          0.642169239811941,
          0.6673523472555472,
          0.6925354546991525,
          0.7177185621427578,
          0.7429016695863639,
          0.7680847770299692,
          0.7932678844735745,
          0.8184509919171798,
          0.843634099360786,
          0.8688172068043913,
          0.8940003142479966,
          0.9191834216916028,
          0.9443665291352081,
          0.9695496365788134,
          0.9947327440224187,
          1.019915851466025,
          1.0450989589096302,
          1.0702820663532355,
          1.0954651737968417,
          1.120648281240447,
          1.1458313886840523,
          1.1710144961276576,
          1.1961976035712638,
          1.2213807110148691,
          1.2465638184584744,
          1.2717469259020806,
          1.296930033345686,
          1.3221131407892912,
          1.3472962482328965,
          1.3724793556765027,
          1.397662463120108,
          1.4228455705637133,
          1.4480286780073195,
          1.4732117854509248,
          1.49839489289453,
          1.5235780003381354,
          1.5487611077817416,
          1.5739442152253469,
          1.5991273226689522,
          1.6243104301125584,
          1.6494935375561637,
          1.674676644999769,
          1.6998597524433743,
          1.7250428598869796,
          1.7502259673305858,
          1.775409074774192,
          1.8005921822177964,
          1.8257752896614026,
          1.8509583971050088,
          1.8761415045486132,
          1.9013246119922194,
          1.9265077194358238,
          1.95169082687943,
          1.9768739343230362,
          2.0020570417666406,
          2.0272401492102468,
          2.052423256653853,
          2.0776063640974574,
          2.1027894715410635,
          2.1279725789846697,
          2.153155686428274,
          2.1783387938718803,
          2.2035219013154865,
          2.228705008759091,
          2.253888116202697,
          2.2790712236463015,
          2.3042543310899077,
          2.329437438533514,
          2.3546205459771183,
          2.3798036534207245,
          2.4049867608643307,
          2.430169868307935,
          2.4553529757515413,
          2.4805360831951475,
          2.505719190638752,
          2.530902298082358,
          2.5560854055259643,
          2.5812685129695687,
          2.606451620413175,
          2.6316347278567793,
          2.6568178353003855,
          2.6820009427439917,
          2.707184050187596,
          2.7323671576312023,
          2.7575502650748085,
          2.782733372518413,
          2.807916479962019,
          2.8330995874056253,
          2.8582826948492297,
          2.883465802292836,
          2.908648909736442,
          2.9338320171800465,
          2.9590151246236527,
          2.984198232067257,
          3.0093813395108633,
          3.0345644469544695,
          3.059747554398074,
          3.08493066184168,
          3.1101137692852863,
          3.1352968767288907,
          3.160479984172497,
          3.185663091616103,
          3.2108461990597075,
          3.2360293065033137,
          3.26121241394692,
          3.2863955213905243,
          3.3115786288341305,
          3.336761736277735,
          3.361944843721341,
          3.3871279511649472,
          3.4123110586085517,
          3.437494166052158,
          3.462677273495764,
          3.4878603809393685,
          3.5130434883829746,
          3.538226595826581,
          3.5634097032701852,
          3.5885928107137914,
          3.6137759181573976,
          3.638959025601002,
          3.6641421330446082,
          3.6893252404882126,
          3.714508347931819,
          3.739691455375425,
          3.7648745628190294,
          3.7900576702626356,
          3.815240777706242,
          3.8404238851498462,
          3.8656069925934524,
          3.8907901000370586,
          3.915973207480663,
          3.941156314924269,
          3.9663394223678754,
          3.99152252981148,
          4.016705637255086,
          4.04188874469869,
          4.067071852142297,
          4.092254959585903,
          4.117438067029507,
          4.142621174473113,
          4.16780428191672,
          4.192987389360324,
          4.21817049680393,
          4.243353604247536,
          4.268536711691141,
          4.293719819134747,
          4.318902926578353,
          4.344086034021958,
          4.369269141465564,
          4.394452248909168,
          4.419635356352774,
          4.444818463796381,
          4.470001571239985,
          4.495184678683591,
          4.520367786127197,
          4.545550893570802,
          4.570734001014408,
          4.595917108458014,
          4.621100215901619,
          4.646283323345225,
          4.671466430788831,
          4.696649538232435,
          4.7218326456760416,
          4.747015753119646,
          4.772198860563252,
          4.797381968006858,
          4.822565075450463,
          4.847748182894069,
          4.872931290337675,
          4.8981143977812795,
          4.923297505224886,
          4.948480612668492,
          4.973663720112096,
          4.9988468275557025,
          5.024029934999309,
          5.049213042442913,
          5.074396149886519,
          5.099579257330124,
          5.12476236477373,
          5.149945472217336,
          5.1751285796609405,
          5.200311687104547,
          5.225494794548153,
          5.250677901991757,
          5.2758610094353635,
          5.30104411687897,
          5.326227224322574,
          5.35141033176618,
          5.3765934392097865,
          5.401776546653391,
          5.426959654096997,
          5.4521427615406015,
          5.477325868984208,
          5.502508976427814,
          5.527692083871418,
          5.5528751913150245,
          5.578058298758631,
          5.603241406202235,
          5.628424513645841,
          5.6536076210894475,
          5.678790728533052,
          5.703973835976658,
          5.729156943420264,
          5.754340050863869,
          5.779523158307475,
          5.804706265751079,
          5.8298893731946855,
          5.855072480638292,
          5.880255588081896,
          5.905438695525502,
          5.9306218029691085,
          5.955804910412713,
          5.980988017856319,
          6.006171125299925,
          6.03135423274353,
          6.056537340187136,
          6.081720447630742,
          6.1069035550743465,
          6.132086662517953,
          6.157269769961557,
          6.182452877405163,
          6.207635984848769,
          6.232819092292374,
          6.25800219973598,
          6.283185307179586
         ],
         "xaxis": "x",
         "y": [
          -1.1542024162330739e-15,
          -0.11806336832309985,
          -0.2350071926350901,
          -0.3509781074122697,
          -0.46612101730190947,
          -0.5805798262656972,
          -0.694498166041204,
          -0.8080201318674843,
          -0.921291033660619,
          -1.0344581712242484,
          -1.147671642653103,
          -1.2610851958530798,
          -1.3748571340850992,
          -1.4891512876753799,
          -1.604138065563692,
          -1.7199956022376715,
          -1.836911017892377,
          -1.9550818124454057,
          -2.0747174174354637,
          -2.1960409339711773,
          -2.319291089947808,
          -2.4447244559283634,
          -2.572617966668593,
          -2.7032718046054853,
          -2.8370127131816676,
          -2.9741978222326484,
          -3.115219085587945,
          -3.260508453538395,
          -3.4105439312292036,
          -3.565856710120157,
          -3.7270396057792,
          -3.8947570946435586,
          -4.069757319351549,
          -4.252886532809611,
          -4.445106583625514,
          -4.647516221564833,
          -4.86137723778763,
          -5.0881467744693545,
          -5.329517576361907,
          -5.587468563432426,
          -5.864328954293207,
          -6.162860378855525,
          -6.486363161277917,
          -6.83881550640548,
          -7.2250581250496495,
          -7.651042605075507,
          -8.124170779072953,
          -8.653766518603089,
          -9.251744441650837,
          -9.93357859130869,
          -10.719740767036619,
          -11.637897526123526,
          -12.72637772989046,
          -14.039859308732693,
          -15.65913011619602,
          -17.708789804813623,
          -20.39161227783153,
          -24.06126621191088,
          -29.394766565415345,
          -37.87150652513172,
          -53.462475395851655,
          -91.69060905374542,
          -333.6567474969335,
          198.5836000005456,
          75.72693027105176,
          46.45602074286058,
          33.320922003101415,
          25.855419458637183,
          21.035935884555442,
          17.664446752938463,
          15.171396609473891,
          13.251369270904712,
          11.725872701082684,
          10.483610071652505,
          9.451578659774956,
          8.579903920891724,
          7.833352132949729,
          7.186325030968561,
          6.619776500361316,
          6.119242041187944,
          5.6735390518315425,
          5.273885812105718,
          4.913289820826908,
          4.586114070627013,
          4.287763661868039,
          4.014455523711458,
          3.7630466180356774,
          3.5309040016688145,
          3.315805312499983,
          3.1158616807302315,
          2.9294573829000567,
          2.7552021444130452,
          2.59189310190263,
          2.4384842174974914,
          2.2940614955714924,
          2.157822757017345,
          2.0290610222813337,
          1.907150773604464,
          1.7915365307445512,
          1.6817232980247472,
          1.5772685345662927,
          1.477775371670067,
          1.3828868570405253,
          1.2922810489287053,
          1.205666817273911,
          1.1227802357470655,
          1.0433814698885133,
          0.9672520835289404,
          0.8941926993255447,
          0.8240209602553364,
          0.7565697478367239,
          0.6916856201270805,
          0.6292274385008275,
          0.5690651571105181,
          0.5110787529773709,
          0.45515727801019973,
          0.4011980170414145,
          0.3491057382989679,
          0.2987920246862689,
          0.2501746758847823,
          0.20317717268025243,
          0.15772819608681185,
          0.11376119483956067,
          0.07121399567453322,
          0.030028451539484177,
          -0.009849876500701167,
          -0.04847200736756592,
          -0.08588580132670477,
          -0.12213619744900076,
          -0.15726542968282284,
          -0.19131322374794105,
          -0.22431697680415902,
          -0.2563119216232427,
          -0.28733127679691184,
          -0.3174063843424003,
          -0.3465668359171081,
          -0.3748405887221493,
          -0.402254072058821,
          -0.42883228539996365,
          -0.4545988887481304,
          -0.4795762859728751,
          -0.5037857017489307,
          -0.5272472526545254,
          -0.5499800129334816,
          -0.572002075375311,
          -0.5933306077234276,
          -0.6139819049822629,
          -0.6339714379589141,
          -0.6533138983434609,
          -0.6720232406038931,
          -0.6901127209462444,
          -0.7075949335677829,
          -0.7244818444106118,
          -0.740784822604568,
          -0.7565146697716637,
          -0.77168164734924,
          -0.7862955020754113,
          -0.8003654897680217,
          -0.8139003975171699,
          -0.8269085644011905,
          -0.8393979008267483,
          -0.8513759065852972,
          -0.8628496877104991,
          -0.8738259722141912,
          -0.8843111247721139,
          -0.8943111604247554,
          -0.9038317573533168,
          -0.9128782687858721,
          -0.9214557340842889,
          -0.9295688890583111,
          -0.9372221755493617,
          -0.9444197503230898,
          -0.9511654933063963,
          -0.9574630152016432,
          -0.9633156645079093,
          -0.9687265339765395,
          -0.973698466525767,
          -0.9782340606368886,
          -0.9823356752523176,
          -0.9860054341937968,
          -0.9892452301171418,
          -0.9920567280180519,
          -0.9944413683017973,
          -0.9964003694279285,
          -0.997934730139564,
          -0.9990452312852707,
          -0.9997324372400685,
          -0.9999966969306472,
          -0.9998381444683323,
          -0.9992566993924343,
          -0.9982520665241688,
          -0.996823735431346,
          -0.9949709795014683,
          -0.9926928546200969,
          -0.9899881974497459,
          -0.9868556233031371,
          -0.9832935236031837,
          -0.9793000629205266,
          -0.9748731755778904,
          -0.9700105618088678,
          -0.964709683457034,
          -0.9589677591994924,
          -0.9527817592770526,
          -0.9461483997112418,
          -0.9390641359862181,
          -0.9315251561713949,
          -0.9235273734581662,
          -0.9150664180815362,
          -0.9061376285946802,
          -0.8967360424614801,
          -0.8868563859288617,
          -0.8764930631372759,
          -0.8656401444239205,
          -0.8542913537692077,
          -0.8424400553325664,
          -0.8300792390188428,
          -0.817201505011331,
          -0.803799047201736,
          -0.7898636354411172,
          -0.7753865965290418,
          -0.760358793850669,
          -0.7447706055632903,
          -0.7286119012248186,
          -0.7118720167468146,
          -0.6945397275437192,
          -0.6766032197379116,
          -0.658050059266959,
          -0.6388671587247194,
          -0.6190407417517381,
          -0.5985563047723664,
          -0.5773985758561001,
          -0.5555514704584441,
          -0.5329980437719514,
          -0.5097204393906534,
          -0.4856998339604391,
          -0.4609163774537721,
          -0.43534912866885883,
          -0.4089759855105779,
          -0.38177360956241413,
          -0.3537173444046648,
          -0.3247811270734951,
          -0.294937391986964,
          -0.2641569665869385,
          -0.23240895785847665,
          -0.19966062878941201,
          -0.16587726372066378,
          -0.13102202141029232,
          -0.09505577448917203,
          -0.05793693382048188,
          -0.019621256085915875,
          0.019938367295383813,
          0.060792142058041565,
          0.10299362622104302,
          0.14660001121703473,
          0.19167243216102461,
          0.23827631084099057,
          0.2864817355257717,
          0.33636388228268316,
          0.3880034831939875,
          0.44148734767673536,
          0.49690894406727437,
          0.5543690497577051,
          0.6139764795008424,
          0.6758489030741601,
          0.7401137653631047,
          0.8069093241529428,
          0.8763858235844731,
          0.9487068244297387,
          1.024050716201175,
          1.1026124407747684,
          1.1846054628778453,
          1.2702640297107506,
          1.3598457704516758,
          1.4536346968373,
          1.5519446789367914,
          1.6551234863160464,
          1.763557504902387,
          1.8776772651635978,
          1.9979639492417387,
          2.1249570854762045,
          2.259263691063049,
          2.401569191159021,
          2.552650530653207,
          2.7133920101458475,
          2.884804530222432,
          3.068049131746039,
          3.264465994354799,
          3.475610429119155,
          3.703297915977909,
          3.94966095372689,
          4.2172215025474165,
          4.508984247677715,
          4.828558017423947,
          5.1803157968150115,
          5.56960845123456,
          6.003054439674851,
          6.488939024791257,
          7.037774507601084,
          7.663102724413952,
          8.382671521301393,
          9.220205655930608,
          10.208154746568473,
          11.392110858531163,
          12.838212625072504,
          14.646190599816393,
          16.97379763991106,
          20.086189462632085,
          24.466081265177134,
          31.09446942458416,
          42.317207167872084,
          65.48462236684982,
          141.54851445258748,
          -998.9967002338323,
          -111.85895158897455,
          -59.64887704438526,
          -40.83548915731109,
          -31.129963056975733,
          -25.200599552818858,
          -21.197620290508308,
          -18.30971434690503,
          -16.12498117766161,
          -14.412075454729262,
          -13.031043844780296,
          -11.892249810264127,
          -10.9356242753022,
          -10.119401694783088,
          -9.413640795478138,
          -8.796315595122806,
          -8.25086091948932,
          -7.764577877726487,
          -7.327567173749316,
          -6.931997058372655,
          -6.571589524986509,
          -6.241252430954566,
          -5.936811375701057,
          -5.654811138407635,
          -5.392366491746645,
          -5.147048634651184,
          -4.916797699753374,
          -4.699854606011518,
          -4.494707441167372,
          -4.300048881303165,
          -4.1147420822513645,
          -3.9377931368997587,
          -3.7683286670167218,
          -3.6055774638551363,
          -3.448855346265231,
          -3.297552594310225,
          -3.151123458483517,
          -3.0090773522740335,
          -2.8709714180553223,
          -2.7364042195791596,
          -2.6050103634511186,
          -2.476455890308399,
          -2.350434306560172,
          -2.2266631513885335,
          -2.1048810126717665,
          -1.9848449206579009,
          -1.8663280604086439,
          -1.7491177538798492,
          -1.633013670490043,
          -1.5178262315301532,
          -1.4033751790780313,
          -1.2894882844304787,
          -1.1760001746347932,
          -1.0627512586334955,
          -0.9495867369431467,
          -0.8363556807615579,
          -0.7229101680080641,
          -0.6091044651055931,
          -0.4947942443569243,
          -0.37983582758453055,
          -0.2640854473226576,
          -0.14739851729155526,
          -0.02962890416207516,
          0.08937180725513594,
          0.20975506328307933,
          0.3316761131694634,
          0.45529481176665504,
          0.5807764619444832,
          0.7082927062205809,
          0.8380224779175439,
          0.9701530231873208,
          1.1048810065094794,
          1.2424137138060045,
          1.3829703691678181,
          1.5267835834111823,
          1.6741009553457955,
          1.8251868498262944,
          1.9803243804802386,
          2.139817629591058,
          2.3039941431278983,
          2.473207745559955,
          2.6478417271284767,
          2.8283124659990695,
          3.015073559588739,
          3.208620553877949,
          3.409496377343666,
          3.618297608138466,
          3.8356817304015176,
          4.062375569554806,
          4.29918513899569,
          4.547007184224776,
          4.806842778436022,
          5.079813410346125,
          5.367180116484702,
          5.670366354366672,
          5.990985500981243,
          6.330874108163643,
          6.692132374063837,
          7.077173728333733,
          7.488786021043452,
          7.930207614234953,
          8.405222792077181,
          8.918282466996672,
          9.474658370406587,
          10.080642092818755,
          10.743804970868828,
          11.473341690175808,
          12.280530853147592,
          13.179361760385133,
          14.187401869617437,
          15.327020128478873,
          16.627149015608705,
          18.125883980033123,
          19.874424518841636,
          21.943240796197085,
          24.432084379345806,
          27.48696295482591,
          31.330472187120574,
          36.319597926941,
          43.06517409314551,
          52.7063129234862,
          67.63906458214637,
          93.91058440854621,
          152.45330226141687,
          398.16711742302505,
          -666.3135247216485,
          -182.38161781058122,
          -105.92614348342445,
          -74.74542214667461,
          -57.79358266636933,
          -47.12864726809472,
          -39.79183063176467,
          -34.42910411437291,
          -30.333131858884872,
          -27.098367780415103,
          -24.475614523998484,
          -22.303298564756474,
          -20.47206646029327,
          -18.90526314707894,
          -17.54755841538627,
          -16.358011822408592,
          -15.305678695383712,
          -14.366733475669488,
          -13.522532368542763,
          -12.758275936060897,
          -12.062065516967289,
          -11.424224500410563,
          -10.836801593532478,
          -10.293201581411804,
          -9.787906965472722,
          -9.316265409707002,
          -8.874325528368319,
          -8.45870865305351,
          -8.066507702366954,
          -7.695206694808007,
          -7.3426161466785915,
          -7.006820809979244,
          -6.6861370811711405,
          -6.379078051384924,
          -6.084324640865296,
          -5.800701612501182,
          -5.527157524235564,
          -5.262747881282905,
          -5.006620903032485,
          -4.758005438266014,
          -4.516200654583245,
          -4.280567200109339,
          -4.050519592392021,
          -3.8255196344196944,
          -3.6050706935630346,
          -3.3887127079784802,
          -3.1760178081455566,
          -2.966586459923369,
          -2.7600440507135584,
          -2.556037852714891,
          -2.3542343074019723,
          -2.1543165836893987,
          -1.955982369094745,
          -1.7589418588605992,
          -1.562915912651057,
          -1.3676343522725913,
          -1.1728343770205838,
          -0.9782590758286248,
          -0.7836560174843775,
          -0.588775901843665,
          -0.3933712562744083,
          -0.19719516253832078,
          -1.92367069372179e-15
         ],
         "yaxis": "y"
        }
       ],
       "layout": {
        "legend": {
         "tracegroupgap": 0
        },
        "template": {
         "data": {
          "bar": [
           {
            "error_x": {
             "color": "#2a3f5f"
            },
            "error_y": {
             "color": "#2a3f5f"
            },
            "marker": {
             "line": {
              "color": "#E5ECF6",
              "width": 0.5
             },
             "pattern": {
              "fillmode": "overlay",
              "size": 10,
              "solidity": 0.2
             }
            },
            "type": "bar"
           }
          ],
          "barpolar": [
           {
            "marker": {
             "line": {
              "color": "#E5ECF6",
              "width": 0.5
             },
             "pattern": {
              "fillmode": "overlay",
              "size": 10,
              "solidity": 0.2
             }
            },
            "type": "barpolar"
           }
          ],
          "carpet": [
           {
            "aaxis": {
             "endlinecolor": "#2a3f5f",
             "gridcolor": "white",
             "linecolor": "white",
             "minorgridcolor": "white",
             "startlinecolor": "#2a3f5f"
            },
            "baxis": {
             "endlinecolor": "#2a3f5f",
             "gridcolor": "white",
             "linecolor": "white",
             "minorgridcolor": "white",
             "startlinecolor": "#2a3f5f"
            },
            "type": "carpet"
           }
          ],
          "choropleth": [
           {
            "colorbar": {
             "outlinewidth": 0,
             "ticks": ""
            },
            "type": "choropleth"
           }
          ],
          "contour": [
           {
            "colorbar": {
             "outlinewidth": 0,
             "ticks": ""
            },
            "colorscale": [
             [
              0,
              "#0d0887"
             ],
             [
              0.1111111111111111,
              "#46039f"
             ],
             [
              0.2222222222222222,
              "#7201a8"
             ],
             [
              0.3333333333333333,
              "#9c179e"
             ],
             [
              0.4444444444444444,
              "#bd3786"
             ],
             [
              0.5555555555555556,
              "#d8576b"
             ],
             [
              0.6666666666666666,
              "#ed7953"
             ],
             [
              0.7777777777777778,
              "#fb9f3a"
             ],
             [
              0.8888888888888888,
              "#fdca26"
             ],
             [
              1,
              "#f0f921"
             ]
            ],
            "type": "contour"
           }
          ],
          "contourcarpet": [
           {
            "colorbar": {
             "outlinewidth": 0,
             "ticks": ""
            },
            "type": "contourcarpet"
           }
          ],
          "heatmap": [
           {
            "colorbar": {
             "outlinewidth": 0,
             "ticks": ""
            },
            "colorscale": [
             [
              0,
              "#0d0887"
             ],
             [
              0.1111111111111111,
              "#46039f"
             ],
             [
              0.2222222222222222,
              "#7201a8"
             ],
             [
              0.3333333333333333,
              "#9c179e"
             ],
             [
              0.4444444444444444,
              "#bd3786"
             ],
             [
              0.5555555555555556,
              "#d8576b"
             ],
             [
              0.6666666666666666,
              "#ed7953"
             ],
             [
              0.7777777777777778,
              "#fb9f3a"
             ],
             [
              0.8888888888888888,
              "#fdca26"
             ],
             [
              1,
              "#f0f921"
             ]
            ],
            "type": "heatmap"
           }
          ],
          "heatmapgl": [
           {
            "colorbar": {
             "outlinewidth": 0,
             "ticks": ""
            },
            "colorscale": [
             [
              0,
              "#0d0887"
             ],
             [
              0.1111111111111111,
              "#46039f"
             ],
             [
              0.2222222222222222,
              "#7201a8"
             ],
             [
              0.3333333333333333,
              "#9c179e"
             ],
             [
              0.4444444444444444,
              "#bd3786"
             ],
             [
              0.5555555555555556,
              "#d8576b"
             ],
             [
              0.6666666666666666,
              "#ed7953"
             ],
             [
              0.7777777777777778,
              "#fb9f3a"
             ],
             [
              0.8888888888888888,
              "#fdca26"
             ],
             [
              1,
              "#f0f921"
             ]
            ],
            "type": "heatmapgl"
           }
          ],
          "histogram": [
           {
            "marker": {
             "pattern": {
              "fillmode": "overlay",
              "size": 10,
              "solidity": 0.2
             }
            },
            "type": "histogram"
           }
          ],
          "histogram2d": [
           {
            "colorbar": {
             "outlinewidth": 0,
             "ticks": ""
            },
            "colorscale": [
             [
              0,
              "#0d0887"
             ],
             [
              0.1111111111111111,
              "#46039f"
             ],
             [
              0.2222222222222222,
              "#7201a8"
             ],
             [
              0.3333333333333333,
              "#9c179e"
             ],
             [
              0.4444444444444444,
              "#bd3786"
             ],
             [
              0.5555555555555556,
              "#d8576b"
             ],
             [
              0.6666666666666666,
              "#ed7953"
             ],
             [
              0.7777777777777778,
              "#fb9f3a"
             ],
             [
              0.8888888888888888,
              "#fdca26"
             ],
             [
              1,
              "#f0f921"
             ]
            ],
            "type": "histogram2d"
           }
          ],
          "histogram2dcontour": [
           {
            "colorbar": {
             "outlinewidth": 0,
             "ticks": ""
            },
            "colorscale": [
             [
              0,
              "#0d0887"
             ],
             [
              0.1111111111111111,
              "#46039f"
             ],
             [
              0.2222222222222222,
              "#7201a8"
             ],
             [
              0.3333333333333333,
              "#9c179e"
             ],
             [
              0.4444444444444444,
              "#bd3786"
             ],
             [
              0.5555555555555556,
              "#d8576b"
             ],
             [
              0.6666666666666666,
              "#ed7953"
             ],
             [
              0.7777777777777778,
              "#fb9f3a"
             ],
             [
              0.8888888888888888,
              "#fdca26"
             ],
             [
              1,
              "#f0f921"
             ]
            ],
            "type": "histogram2dcontour"
           }
          ],
          "mesh3d": [
           {
            "colorbar": {
             "outlinewidth": 0,
             "ticks": ""
            },
            "type": "mesh3d"
           }
          ],
          "parcoords": [
           {
            "line": {
             "colorbar": {
              "outlinewidth": 0,
              "ticks": ""
             }
            },
            "type": "parcoords"
           }
          ],
          "pie": [
           {
            "automargin": true,
            "type": "pie"
           }
          ],
          "scatter": [
           {
            "fillpattern": {
             "fillmode": "overlay",
             "size": 10,
             "solidity": 0.2
            },
            "type": "scatter"
           }
          ],
          "scatter3d": [
           {
            "line": {
             "colorbar": {
              "outlinewidth": 0,
              "ticks": ""
             }
            },
            "marker": {
             "colorbar": {
              "outlinewidth": 0,
              "ticks": ""
             }
            },
            "type": "scatter3d"
           }
          ],
          "scattercarpet": [
           {
            "marker": {
             "colorbar": {
              "outlinewidth": 0,
              "ticks": ""
             }
            },
            "type": "scattercarpet"
           }
          ],
          "scattergeo": [
           {
            "marker": {
             "colorbar": {
              "outlinewidth": 0,
              "ticks": ""
             }
            },
            "type": "scattergeo"
           }
          ],
          "scattergl": [
           {
            "marker": {
             "colorbar": {
              "outlinewidth": 0,
              "ticks": ""
             }
            },
            "type": "scattergl"
           }
          ],
          "scattermapbox": [
           {
            "marker": {
             "colorbar": {
              "outlinewidth": 0,
              "ticks": ""
             }
            },
            "type": "scattermapbox"
           }
          ],
          "scatterpolar": [
           {
            "marker": {
             "colorbar": {
              "outlinewidth": 0,
              "ticks": ""
             }
            },
            "type": "scatterpolar"
           }
          ],
          "scatterpolargl": [
           {
            "marker": {
             "colorbar": {
              "outlinewidth": 0,
              "ticks": ""
             }
            },
            "type": "scatterpolargl"
           }
          ],
          "scatterternary": [
           {
            "marker": {
             "colorbar": {
              "outlinewidth": 0,
              "ticks": ""
             }
            },
            "type": "scatterternary"
           }
          ],
          "surface": [
           {
            "colorbar": {
             "outlinewidth": 0,
             "ticks": ""
            },
            "colorscale": [
             [
              0,
              "#0d0887"
             ],
             [
              0.1111111111111111,
              "#46039f"
             ],
             [
              0.2222222222222222,
              "#7201a8"
             ],
             [
              0.3333333333333333,
              "#9c179e"
             ],
             [
              0.4444444444444444,
              "#bd3786"
             ],
             [
              0.5555555555555556,
              "#d8576b"
             ],
             [
              0.6666666666666666,
              "#ed7953"
             ],
             [
              0.7777777777777778,
              "#fb9f3a"
             ],
             [
              0.8888888888888888,
              "#fdca26"
             ],
             [
              1,
              "#f0f921"
             ]
            ],
            "type": "surface"
           }
          ],
          "table": [
           {
            "cells": {
             "fill": {
              "color": "#EBF0F8"
             },
             "line": {
              "color": "white"
             }
            },
            "header": {
             "fill": {
              "color": "#C8D4E3"
             },
             "line": {
              "color": "white"
             }
            },
            "type": "table"
           }
          ]
         },
         "layout": {
          "annotationdefaults": {
           "arrowcolor": "#2a3f5f",
           "arrowhead": 0,
           "arrowwidth": 1
          },
          "autotypenumbers": "strict",
          "coloraxis": {
           "colorbar": {
            "outlinewidth": 0,
            "ticks": ""
           }
          },
          "colorscale": {
           "diverging": [
            [
             0,
             "#8e0152"
            ],
            [
             0.1,
             "#c51b7d"
            ],
            [
             0.2,
             "#de77ae"
            ],
            [
             0.3,
             "#f1b6da"
            ],
            [
             0.4,
             "#fde0ef"
            ],
            [
             0.5,
             "#f7f7f7"
            ],
            [
             0.6,
             "#e6f5d0"
            ],
            [
             0.7,
             "#b8e186"
            ],
            [
             0.8,
             "#7fbc41"
            ],
            [
             0.9,
             "#4d9221"
            ],
            [
             1,
             "#276419"
            ]
           ],
           "sequential": [
            [
             0,
             "#0d0887"
            ],
            [
             0.1111111111111111,
             "#46039f"
            ],
            [
             0.2222222222222222,
             "#7201a8"
            ],
            [
             0.3333333333333333,
             "#9c179e"
            ],
            [
             0.4444444444444444,
             "#bd3786"
            ],
            [
             0.5555555555555556,
             "#d8576b"
            ],
            [
             0.6666666666666666,
             "#ed7953"
            ],
            [
             0.7777777777777778,
             "#fb9f3a"
            ],
            [
             0.8888888888888888,
             "#fdca26"
            ],
            [
             1,
             "#f0f921"
            ]
           ],
           "sequentialminus": [
            [
             0,
             "#0d0887"
            ],
            [
             0.1111111111111111,
             "#46039f"
            ],
            [
             0.2222222222222222,
             "#7201a8"
            ],
            [
             0.3333333333333333,
             "#9c179e"
            ],
            [
             0.4444444444444444,
             "#bd3786"
            ],
            [
             0.5555555555555556,
             "#d8576b"
            ],
            [
             0.6666666666666666,
             "#ed7953"
            ],
            [
             0.7777777777777778,
             "#fb9f3a"
            ],
            [
             0.8888888888888888,
             "#fdca26"
            ],
            [
             1,
             "#f0f921"
            ]
           ]
          },
          "colorway": [
           "#636efa",
           "#EF553B",
           "#00cc96",
           "#ab63fa",
           "#FFA15A",
           "#19d3f3",
           "#FF6692",
           "#B6E880",
           "#FF97FF",
           "#FECB52"
          ],
          "font": {
           "color": "#2a3f5f"
          },
          "geo": {
           "bgcolor": "white",
           "lakecolor": "white",
           "landcolor": "#E5ECF6",
           "showlakes": true,
           "showland": true,
           "subunitcolor": "white"
          },
          "hoverlabel": {
           "align": "left"
          },
          "hovermode": "closest",
          "mapbox": {
           "style": "light"
          },
          "paper_bgcolor": "white",
          "plot_bgcolor": "#E5ECF6",
          "polar": {
           "angularaxis": {
            "gridcolor": "white",
            "linecolor": "white",
            "ticks": ""
           },
           "bgcolor": "#E5ECF6",
           "radialaxis": {
            "gridcolor": "white",
            "linecolor": "white",
            "ticks": ""
           }
          },
          "scene": {
           "xaxis": {
            "backgroundcolor": "#E5ECF6",
            "gridcolor": "white",
            "gridwidth": 2,
            "linecolor": "white",
            "showbackground": true,
            "ticks": "",
            "zerolinecolor": "white"
           },
           "yaxis": {
            "backgroundcolor": "#E5ECF6",
            "gridcolor": "white",
            "gridwidth": 2,
            "linecolor": "white",
            "showbackground": true,
            "ticks": "",
            "zerolinecolor": "white"
           },
           "zaxis": {
            "backgroundcolor": "#E5ECF6",
            "gridcolor": "white",
            "gridwidth": 2,
            "linecolor": "white",
            "showbackground": true,
            "ticks": "",
            "zerolinecolor": "white"
           }
          },
          "shapedefaults": {
           "line": {
            "color": "#2a3f5f"
           }
          },
          "ternary": {
           "aaxis": {
            "gridcolor": "white",
            "linecolor": "white",
            "ticks": ""
           },
           "baxis": {
            "gridcolor": "white",
            "linecolor": "white",
            "ticks": ""
           },
           "bgcolor": "#E5ECF6",
           "caxis": {
            "gridcolor": "white",
            "linecolor": "white",
            "ticks": ""
           }
          },
          "title": {
           "x": 0.05
          },
          "xaxis": {
           "automargin": true,
           "gridcolor": "white",
           "linecolor": "white",
           "ticks": "",
           "title": {
            "standoff": 15
           },
           "zerolinecolor": "white",
           "zerolinewidth": 2
          },
          "yaxis": {
           "automargin": true,
           "gridcolor": "white",
           "linecolor": "white",
           "ticks": "",
           "title": {
            "standoff": 15
           },
           "zerolinecolor": "white",
           "zerolinewidth": 2
          }
         }
        },
        "title": {
         "text": "Графік функції y = 2tan(x)(0.5x + π/4)"
        },
        "xaxis": {
         "anchor": "y",
         "domain": [
          0,
          1
         ],
         "title": {
          "text": "x"
         }
        },
        "yaxis": {
         "anchor": "x",
         "domain": [
          0,
          1
         ],
         "title": {
          "text": "y"
         }
        }
       }
      },
      "text/html": [
       "<div>                            <div id=\"a9f48b2c-5440-4f67-9aed-a78d75b753a9\" class=\"plotly-graph-div\" style=\"height:525px; width:100%;\"></div>            <script type=\"text/javascript\">                require([\"plotly\"], function(Plotly) {                    window.PLOTLYENV=window.PLOTLYENV || {};                                    if (document.getElementById(\"a9f48b2c-5440-4f67-9aed-a78d75b753a9\")) {                    Plotly.newPlot(                        \"a9f48b2c-5440-4f67-9aed-a78d75b753a9\",                        [{\"hovertemplate\":\"x=%{x}<br>y=%{y}<extra></extra>\",\"legendgroup\":\"\",\"line\":{\"color\":\"#636efa\",\"dash\":\"solid\"},\"marker\":{\"symbol\":\"circle\"},\"mode\":\"lines\",\"name\":\"\",\"orientation\":\"v\",\"showlegend\":false,\"x\":[-6.283185307179586,-6.258002199735981,-6.232819092292375,-6.207635984848769,-6.182452877405164,-6.157269769961559,-6.132086662517953,-6.106903555074347,-6.081720447630742,-6.056537340187136,-6.0313542327435306,-6.006171125299925,-5.98098801785632,-5.955804910412714,-5.9306218029691085,-5.905438695525503,-5.880255588081897,-5.855072480638292,-5.829889373194686,-5.804706265751081,-5.779523158307475,-5.75434005086387,-5.729156943420264,-5.703973835976658,-5.678790728533053,-5.6536076210894475,-5.628424513645842,-5.603241406202236,-5.578058298758631,-5.552875191315025,-5.52769208387142,-5.502508976427814,-5.477325868984209,-5.452142761540603,-5.426959654096997,-5.401776546653392,-5.3765934392097865,-5.35141033176618,-5.326227224322575,-5.30104411687897,-5.2758610094353635,-5.250677901991758,-5.225494794548153,-5.200311687104548,-5.175128579660942,-5.149945472217336,-5.124762364773731,-5.0995792573301255,-5.074396149886519,-5.049213042442914,-5.024029934999309,-4.9988468275557025,-4.973663720112097,-4.948480612668492,-4.923297505224886,-4.89811439778128,-4.872931290337675,-4.84774818289407,-4.8225650754504645,-4.797381968006858,-4.772198860563253,-4.747015753119648,-4.7218326456760416,-4.696649538232436,-4.671466430788831,-4.646283323345225,-4.6211002159016195,-4.595917108458014,-4.570734001014408,-4.545550893570803,-4.520367786127197,-4.495184678683592,-4.470001571239987,-4.444818463796381,-4.419635356352775,-4.39445224890917,-4.369269141465564,-4.3440860340219585,-4.318902926578353,-4.293719819134747,-4.268536711691142,-4.243353604247536,-4.21817049680393,-4.192987389360326,-4.16780428191672,-4.142621174473114,-4.117438067029509,-4.092254959585903,-4.0670718521422975,-4.041888744698692,-4.016705637255086,-3.9915225298114807,-3.9663394223678754,-3.9411563149242697,-3.915973207480664,-3.8907901000370586,-3.865606992593453,-3.8404238851498476,-3.815240777706242,-3.7900576702626365,-3.7648745628190308,-3.739691455375425,-3.7145083479318197,-3.689325240488214,-3.6641421330446087,-3.638959025601003,-3.6137759181573976,-3.588592810713792,-3.563409703270186,-3.538226595826581,-3.513043488382975,-3.48786038093937,-3.462677273495764,-3.4374941660521587,-3.412311058608553,-3.3871279511649472,-3.361944843721342,-3.336761736277736,-3.311578628834131,-3.286395521390525,-3.26121241394692,-3.236029306503314,-3.2108461990597084,-3.185663091616103,-3.1604799841724973,-3.135296876728892,-3.1101137692852863,-3.084930661841681,-3.059747554398075,-3.0345644469544695,-3.009381339510864,-2.9841982320672584,-2.959015124623653,-2.9338320171800474,-2.908648909736442,-2.8834658022928363,-2.8582826948492306,-2.8330995874056253,-2.8079164799620195,-2.7827333725184142,-2.7575502650748085,-2.732367157631203,-2.7071840501875974,-2.6820009427439917,-2.6568178353003864,-2.6316347278567807,-2.6064516204131754,-2.5812685129695696,-2.5560854055259643,-2.5309022980823586,-2.505719190638753,-2.4805360831951475,-2.4553529757515418,-2.4301698683079365,-2.4049867608643307,-2.3798036534207254,-2.3546205459771197,-2.329437438533514,-2.3042543310899086,-2.2790712236463033,-2.253888116202697,-2.228705008759092,-2.2035219013154865,-2.1783387938718812,-2.153155686428275,-2.1279725789846697,-2.1027894715410644,-2.0776063640974582,-2.052423256653853,-2.0272401492102476,-2.0020570417666423,-1.9768739343230362,-1.9516908268794309,-1.9265077194358255,-1.9013246119922194,-1.876141504548614,-1.8509583971050088,-1.8257752896614035,-1.8005921822177973,-1.775409074774192,-1.7502259673305867,-1.7250428598869805,-1.6998597524433752,-1.6746766449997699,-1.6494935375561646,-1.6243104301125584,-1.599127322668953,-1.5739442152253478,-1.5487611077817416,-1.5235780003381363,-1.498394892894531,-1.4732117854509257,-1.4480286780073195,-1.4228455705637142,-1.3976624631201089,-1.3724793556765027,-1.3472962482328974,-1.322113140789292,-1.2969300333456868,-1.2717469259020806,-1.2465638184584753,-1.22138071101487,-1.1961976035712638,-1.1710144961276585,-1.1458313886840532,-1.120648281240448,-1.0954651737968417,-1.0702820663532364,-1.0450989589096311,-1.019915851466025,-0.9947327440224196,-0.9695496365788143,-0.944366529135209,-0.9191834216916028,-0.8940003142479975,-0.8688172068043922,-0.843634099360786,-0.8184509919171807,-0.7932678844735754,-0.7680847770299701,-0.7429016695863639,-0.7177185621427586,-0.6925354546991533,-0.6673523472555472,-0.6421692398119418,-0.6169861323683365,-0.5918030249247312,-0.5666199174811251,-0.5414368100375198,-0.5162537025939145,-0.49107059515030826,-0.46588748770670296,-0.44070438026309766,-0.41552127281949236,-0.39033816537588617,-0.36515505793228087,-0.33997195048867557,-0.3147888430450694,-0.2896057356014641,-0.2644226281578588,-0.23923952071425347,-0.21405641327064728,-0.18887330582704198,-0.16369019838343668,-0.1385070909398305,-0.11332398349622519,-0.08814087605261989,-0.06295776860901459,-0.037774661165408396,-0.012591553721803095,0.012591553721802207,0.037774661165408396,0.0629577686090137,0.088140876052619,0.1133239834962243,0.1385070909398305,0.1636901983834358,0.1888733058270411,0.21405641327064728,0.23923952071425258,0.2644226281578579,0.2896057356014632,0.3147888430450694,0.3399719504886747,0.36515505793228,0.39033816537588617,0.41552127281949147,0.4407043802630968,0.4658874877067021,0.49107059515030826,0.5162537025939136,0.5414368100375189,0.5666199174811251,0.5918030249247304,0.6169861323683357,0.642169239811941,0.6673523472555472,0.6925354546991525,0.7177185621427578,0.7429016695863639,0.7680847770299692,0.7932678844735745,0.8184509919171798,0.843634099360786,0.8688172068043913,0.8940003142479966,0.9191834216916028,0.9443665291352081,0.9695496365788134,0.9947327440224187,1.019915851466025,1.0450989589096302,1.0702820663532355,1.0954651737968417,1.120648281240447,1.1458313886840523,1.1710144961276576,1.1961976035712638,1.2213807110148691,1.2465638184584744,1.2717469259020806,1.296930033345686,1.3221131407892912,1.3472962482328965,1.3724793556765027,1.397662463120108,1.4228455705637133,1.4480286780073195,1.4732117854509248,1.49839489289453,1.5235780003381354,1.5487611077817416,1.5739442152253469,1.5991273226689522,1.6243104301125584,1.6494935375561637,1.674676644999769,1.6998597524433743,1.7250428598869796,1.7502259673305858,1.775409074774192,1.8005921822177964,1.8257752896614026,1.8509583971050088,1.8761415045486132,1.9013246119922194,1.9265077194358238,1.95169082687943,1.9768739343230362,2.0020570417666406,2.0272401492102468,2.052423256653853,2.0776063640974574,2.1027894715410635,2.1279725789846697,2.153155686428274,2.1783387938718803,2.2035219013154865,2.228705008759091,2.253888116202697,2.2790712236463015,2.3042543310899077,2.329437438533514,2.3546205459771183,2.3798036534207245,2.4049867608643307,2.430169868307935,2.4553529757515413,2.4805360831951475,2.505719190638752,2.530902298082358,2.5560854055259643,2.5812685129695687,2.606451620413175,2.6316347278567793,2.6568178353003855,2.6820009427439917,2.707184050187596,2.7323671576312023,2.7575502650748085,2.782733372518413,2.807916479962019,2.8330995874056253,2.8582826948492297,2.883465802292836,2.908648909736442,2.9338320171800465,2.9590151246236527,2.984198232067257,3.0093813395108633,3.0345644469544695,3.059747554398074,3.08493066184168,3.1101137692852863,3.1352968767288907,3.160479984172497,3.185663091616103,3.2108461990597075,3.2360293065033137,3.26121241394692,3.2863955213905243,3.3115786288341305,3.336761736277735,3.361944843721341,3.3871279511649472,3.4123110586085517,3.437494166052158,3.462677273495764,3.4878603809393685,3.5130434883829746,3.538226595826581,3.5634097032701852,3.5885928107137914,3.6137759181573976,3.638959025601002,3.6641421330446082,3.6893252404882126,3.714508347931819,3.739691455375425,3.7648745628190294,3.7900576702626356,3.815240777706242,3.8404238851498462,3.8656069925934524,3.8907901000370586,3.915973207480663,3.941156314924269,3.9663394223678754,3.99152252981148,4.016705637255086,4.04188874469869,4.067071852142297,4.092254959585903,4.117438067029507,4.142621174473113,4.16780428191672,4.192987389360324,4.21817049680393,4.243353604247536,4.268536711691141,4.293719819134747,4.318902926578353,4.344086034021958,4.369269141465564,4.394452248909168,4.419635356352774,4.444818463796381,4.470001571239985,4.495184678683591,4.520367786127197,4.545550893570802,4.570734001014408,4.595917108458014,4.621100215901619,4.646283323345225,4.671466430788831,4.696649538232435,4.7218326456760416,4.747015753119646,4.772198860563252,4.797381968006858,4.822565075450463,4.847748182894069,4.872931290337675,4.8981143977812795,4.923297505224886,4.948480612668492,4.973663720112096,4.9988468275557025,5.024029934999309,5.049213042442913,5.074396149886519,5.099579257330124,5.12476236477373,5.149945472217336,5.1751285796609405,5.200311687104547,5.225494794548153,5.250677901991757,5.2758610094353635,5.30104411687897,5.326227224322574,5.35141033176618,5.3765934392097865,5.401776546653391,5.426959654096997,5.4521427615406015,5.477325868984208,5.502508976427814,5.527692083871418,5.5528751913150245,5.578058298758631,5.603241406202235,5.628424513645841,5.6536076210894475,5.678790728533052,5.703973835976658,5.729156943420264,5.754340050863869,5.779523158307475,5.804706265751079,5.8298893731946855,5.855072480638292,5.880255588081896,5.905438695525502,5.9306218029691085,5.955804910412713,5.980988017856319,6.006171125299925,6.03135423274353,6.056537340187136,6.081720447630742,6.1069035550743465,6.132086662517953,6.157269769961557,6.182452877405163,6.207635984848769,6.232819092292374,6.25800219973598,6.283185307179586],\"xaxis\":\"x\",\"y\":[-1.1542024162330739e-15,-0.11806336832309985,-0.2350071926350901,-0.3509781074122697,-0.46612101730190947,-0.5805798262656972,-0.694498166041204,-0.8080201318674843,-0.921291033660619,-1.0344581712242484,-1.147671642653103,-1.2610851958530798,-1.3748571340850992,-1.4891512876753799,-1.604138065563692,-1.7199956022376715,-1.836911017892377,-1.9550818124454057,-2.0747174174354637,-2.1960409339711773,-2.319291089947808,-2.4447244559283634,-2.572617966668593,-2.7032718046054853,-2.8370127131816676,-2.9741978222326484,-3.115219085587945,-3.260508453538395,-3.4105439312292036,-3.565856710120157,-3.7270396057792,-3.8947570946435586,-4.069757319351549,-4.252886532809611,-4.445106583625514,-4.647516221564833,-4.86137723778763,-5.0881467744693545,-5.329517576361907,-5.587468563432426,-5.864328954293207,-6.162860378855525,-6.486363161277917,-6.83881550640548,-7.2250581250496495,-7.651042605075507,-8.124170779072953,-8.653766518603089,-9.251744441650837,-9.93357859130869,-10.719740767036619,-11.637897526123526,-12.72637772989046,-14.039859308732693,-15.65913011619602,-17.708789804813623,-20.39161227783153,-24.06126621191088,-29.394766565415345,-37.87150652513172,-53.462475395851655,-91.69060905374542,-333.6567474969335,198.5836000005456,75.72693027105176,46.45602074286058,33.320922003101415,25.855419458637183,21.035935884555442,17.664446752938463,15.171396609473891,13.251369270904712,11.725872701082684,10.483610071652505,9.451578659774956,8.579903920891724,7.833352132949729,7.186325030968561,6.619776500361316,6.119242041187944,5.6735390518315425,5.273885812105718,4.913289820826908,4.586114070627013,4.287763661868039,4.014455523711458,3.7630466180356774,3.5309040016688145,3.315805312499983,3.1158616807302315,2.9294573829000567,2.7552021444130452,2.59189310190263,2.4384842174974914,2.2940614955714924,2.157822757017345,2.0290610222813337,1.907150773604464,1.7915365307445512,1.6817232980247472,1.5772685345662927,1.477775371670067,1.3828868570405253,1.2922810489287053,1.205666817273911,1.1227802357470655,1.0433814698885133,0.9672520835289404,0.8941926993255447,0.8240209602553364,0.7565697478367239,0.6916856201270805,0.6292274385008275,0.5690651571105181,0.5110787529773709,0.45515727801019973,0.4011980170414145,0.3491057382989679,0.2987920246862689,0.2501746758847823,0.20317717268025243,0.15772819608681185,0.11376119483956067,0.07121399567453322,0.030028451539484177,-0.009849876500701167,-0.04847200736756592,-0.08588580132670477,-0.12213619744900076,-0.15726542968282284,-0.19131322374794105,-0.22431697680415902,-0.2563119216232427,-0.28733127679691184,-0.3174063843424003,-0.3465668359171081,-0.3748405887221493,-0.402254072058821,-0.42883228539996365,-0.4545988887481304,-0.4795762859728751,-0.5037857017489307,-0.5272472526545254,-0.5499800129334816,-0.572002075375311,-0.5933306077234276,-0.6139819049822629,-0.6339714379589141,-0.6533138983434609,-0.6720232406038931,-0.6901127209462444,-0.7075949335677829,-0.7244818444106118,-0.740784822604568,-0.7565146697716637,-0.77168164734924,-0.7862955020754113,-0.8003654897680217,-0.8139003975171699,-0.8269085644011905,-0.8393979008267483,-0.8513759065852972,-0.8628496877104991,-0.8738259722141912,-0.8843111247721139,-0.8943111604247554,-0.9038317573533168,-0.9128782687858721,-0.9214557340842889,-0.9295688890583111,-0.9372221755493617,-0.9444197503230898,-0.9511654933063963,-0.9574630152016432,-0.9633156645079093,-0.9687265339765395,-0.973698466525767,-0.9782340606368886,-0.9823356752523176,-0.9860054341937968,-0.9892452301171418,-0.9920567280180519,-0.9944413683017973,-0.9964003694279285,-0.997934730139564,-0.9990452312852707,-0.9997324372400685,-0.9999966969306472,-0.9998381444683323,-0.9992566993924343,-0.9982520665241688,-0.996823735431346,-0.9949709795014683,-0.9926928546200969,-0.9899881974497459,-0.9868556233031371,-0.9832935236031837,-0.9793000629205266,-0.9748731755778904,-0.9700105618088678,-0.964709683457034,-0.9589677591994924,-0.9527817592770526,-0.9461483997112418,-0.9390641359862181,-0.9315251561713949,-0.9235273734581662,-0.9150664180815362,-0.9061376285946802,-0.8967360424614801,-0.8868563859288617,-0.8764930631372759,-0.8656401444239205,-0.8542913537692077,-0.8424400553325664,-0.8300792390188428,-0.817201505011331,-0.803799047201736,-0.7898636354411172,-0.7753865965290418,-0.760358793850669,-0.7447706055632903,-0.7286119012248186,-0.7118720167468146,-0.6945397275437192,-0.6766032197379116,-0.658050059266959,-0.6388671587247194,-0.6190407417517381,-0.5985563047723664,-0.5773985758561001,-0.5555514704584441,-0.5329980437719514,-0.5097204393906534,-0.4856998339604391,-0.4609163774537721,-0.43534912866885883,-0.4089759855105779,-0.38177360956241413,-0.3537173444046648,-0.3247811270734951,-0.294937391986964,-0.2641569665869385,-0.23240895785847665,-0.19966062878941201,-0.16587726372066378,-0.13102202141029232,-0.09505577448917203,-0.05793693382048188,-0.019621256085915875,0.019938367295383813,0.060792142058041565,0.10299362622104302,0.14660001121703473,0.19167243216102461,0.23827631084099057,0.2864817355257717,0.33636388228268316,0.3880034831939875,0.44148734767673536,0.49690894406727437,0.5543690497577051,0.6139764795008424,0.6758489030741601,0.7401137653631047,0.8069093241529428,0.8763858235844731,0.9487068244297387,1.024050716201175,1.1026124407747684,1.1846054628778453,1.2702640297107506,1.3598457704516758,1.4536346968373,1.5519446789367914,1.6551234863160464,1.763557504902387,1.8776772651635978,1.9979639492417387,2.1249570854762045,2.259263691063049,2.401569191159021,2.552650530653207,2.7133920101458475,2.884804530222432,3.068049131746039,3.264465994354799,3.475610429119155,3.703297915977909,3.94966095372689,4.2172215025474165,4.508984247677715,4.828558017423947,5.1803157968150115,5.56960845123456,6.003054439674851,6.488939024791257,7.037774507601084,7.663102724413952,8.382671521301393,9.220205655930608,10.208154746568473,11.392110858531163,12.838212625072504,14.646190599816393,16.97379763991106,20.086189462632085,24.466081265177134,31.09446942458416,42.317207167872084,65.48462236684982,141.54851445258748,-998.9967002338323,-111.85895158897455,-59.64887704438526,-40.83548915731109,-31.129963056975733,-25.200599552818858,-21.197620290508308,-18.30971434690503,-16.12498117766161,-14.412075454729262,-13.031043844780296,-11.892249810264127,-10.9356242753022,-10.119401694783088,-9.413640795478138,-8.796315595122806,-8.25086091948932,-7.764577877726487,-7.327567173749316,-6.931997058372655,-6.571589524986509,-6.241252430954566,-5.936811375701057,-5.654811138407635,-5.392366491746645,-5.147048634651184,-4.916797699753374,-4.699854606011518,-4.494707441167372,-4.300048881303165,-4.1147420822513645,-3.9377931368997587,-3.7683286670167218,-3.6055774638551363,-3.448855346265231,-3.297552594310225,-3.151123458483517,-3.0090773522740335,-2.8709714180553223,-2.7364042195791596,-2.6050103634511186,-2.476455890308399,-2.350434306560172,-2.2266631513885335,-2.1048810126717665,-1.9848449206579009,-1.8663280604086439,-1.7491177538798492,-1.633013670490043,-1.5178262315301532,-1.4033751790780313,-1.2894882844304787,-1.1760001746347932,-1.0627512586334955,-0.9495867369431467,-0.8363556807615579,-0.7229101680080641,-0.6091044651055931,-0.4947942443569243,-0.37983582758453055,-0.2640854473226576,-0.14739851729155526,-0.02962890416207516,0.08937180725513594,0.20975506328307933,0.3316761131694634,0.45529481176665504,0.5807764619444832,0.7082927062205809,0.8380224779175439,0.9701530231873208,1.1048810065094794,1.2424137138060045,1.3829703691678181,1.5267835834111823,1.6741009553457955,1.8251868498262944,1.9803243804802386,2.139817629591058,2.3039941431278983,2.473207745559955,2.6478417271284767,2.8283124659990695,3.015073559588739,3.208620553877949,3.409496377343666,3.618297608138466,3.8356817304015176,4.062375569554806,4.29918513899569,4.547007184224776,4.806842778436022,5.079813410346125,5.367180116484702,5.670366354366672,5.990985500981243,6.330874108163643,6.692132374063837,7.077173728333733,7.488786021043452,7.930207614234953,8.405222792077181,8.918282466996672,9.474658370406587,10.080642092818755,10.743804970868828,11.473341690175808,12.280530853147592,13.179361760385133,14.187401869617437,15.327020128478873,16.627149015608705,18.125883980033123,19.874424518841636,21.943240796197085,24.432084379345806,27.48696295482591,31.330472187120574,36.319597926941,43.06517409314551,52.7063129234862,67.63906458214637,93.91058440854621,152.45330226141687,398.16711742302505,-666.3135247216485,-182.38161781058122,-105.92614348342445,-74.74542214667461,-57.79358266636933,-47.12864726809472,-39.79183063176467,-34.42910411437291,-30.333131858884872,-27.098367780415103,-24.475614523998484,-22.303298564756474,-20.47206646029327,-18.90526314707894,-17.54755841538627,-16.358011822408592,-15.305678695383712,-14.366733475669488,-13.522532368542763,-12.758275936060897,-12.062065516967289,-11.424224500410563,-10.836801593532478,-10.293201581411804,-9.787906965472722,-9.316265409707002,-8.874325528368319,-8.45870865305351,-8.066507702366954,-7.695206694808007,-7.3426161466785915,-7.006820809979244,-6.6861370811711405,-6.379078051384924,-6.084324640865296,-5.800701612501182,-5.527157524235564,-5.262747881282905,-5.006620903032485,-4.758005438266014,-4.516200654583245,-4.280567200109339,-4.050519592392021,-3.8255196344196944,-3.6050706935630346,-3.3887127079784802,-3.1760178081455566,-2.966586459923369,-2.7600440507135584,-2.556037852714891,-2.3542343074019723,-2.1543165836893987,-1.955982369094745,-1.7589418588605992,-1.562915912651057,-1.3676343522725913,-1.1728343770205838,-0.9782590758286248,-0.7836560174843775,-0.588775901843665,-0.3933712562744083,-0.19719516253832078,-1.92367069372179e-15],\"yaxis\":\"y\",\"type\":\"scatter\"}],                        {\"template\":{\"data\":{\"histogram2dcontour\":[{\"type\":\"histogram2dcontour\",\"colorbar\":{\"outlinewidth\":0,\"ticks\":\"\"},\"colorscale\":[[0.0,\"#0d0887\"],[0.1111111111111111,\"#46039f\"],[0.2222222222222222,\"#7201a8\"],[0.3333333333333333,\"#9c179e\"],[0.4444444444444444,\"#bd3786\"],[0.5555555555555556,\"#d8576b\"],[0.6666666666666666,\"#ed7953\"],[0.7777777777777778,\"#fb9f3a\"],[0.8888888888888888,\"#fdca26\"],[1.0,\"#f0f921\"]]}],\"choropleth\":[{\"type\":\"choropleth\",\"colorbar\":{\"outlinewidth\":0,\"ticks\":\"\"}}],\"histogram2d\":[{\"type\":\"histogram2d\",\"colorbar\":{\"outlinewidth\":0,\"ticks\":\"\"},\"colorscale\":[[0.0,\"#0d0887\"],[0.1111111111111111,\"#46039f\"],[0.2222222222222222,\"#7201a8\"],[0.3333333333333333,\"#9c179e\"],[0.4444444444444444,\"#bd3786\"],[0.5555555555555556,\"#d8576b\"],[0.6666666666666666,\"#ed7953\"],[0.7777777777777778,\"#fb9f3a\"],[0.8888888888888888,\"#fdca26\"],[1.0,\"#f0f921\"]]}],\"heatmap\":[{\"type\":\"heatmap\",\"colorbar\":{\"outlinewidth\":0,\"ticks\":\"\"},\"colorscale\":[[0.0,\"#0d0887\"],[0.1111111111111111,\"#46039f\"],[0.2222222222222222,\"#7201a8\"],[0.3333333333333333,\"#9c179e\"],[0.4444444444444444,\"#bd3786\"],[0.5555555555555556,\"#d8576b\"],[0.6666666666666666,\"#ed7953\"],[0.7777777777777778,\"#fb9f3a\"],[0.8888888888888888,\"#fdca26\"],[1.0,\"#f0f921\"]]}],\"heatmapgl\":[{\"type\":\"heatmapgl\",\"colorbar\":{\"outlinewidth\":0,\"ticks\":\"\"},\"colorscale\":[[0.0,\"#0d0887\"],[0.1111111111111111,\"#46039f\"],[0.2222222222222222,\"#7201a8\"],[0.3333333333333333,\"#9c179e\"],[0.4444444444444444,\"#bd3786\"],[0.5555555555555556,\"#d8576b\"],[0.6666666666666666,\"#ed7953\"],[0.7777777777777778,\"#fb9f3a\"],[0.8888888888888888,\"#fdca26\"],[1.0,\"#f0f921\"]]}],\"contourcarpet\":[{\"type\":\"contourcarpet\",\"colorbar\":{\"outlinewidth\":0,\"ticks\":\"\"}}],\"contour\":[{\"type\":\"contour\",\"colorbar\":{\"outlinewidth\":0,\"ticks\":\"\"},\"colorscale\":[[0.0,\"#0d0887\"],[0.1111111111111111,\"#46039f\"],[0.2222222222222222,\"#7201a8\"],[0.3333333333333333,\"#9c179e\"],[0.4444444444444444,\"#bd3786\"],[0.5555555555555556,\"#d8576b\"],[0.6666666666666666,\"#ed7953\"],[0.7777777777777778,\"#fb9f3a\"],[0.8888888888888888,\"#fdca26\"],[1.0,\"#f0f921\"]]}],\"surface\":[{\"type\":\"surface\",\"colorbar\":{\"outlinewidth\":0,\"ticks\":\"\"},\"colorscale\":[[0.0,\"#0d0887\"],[0.1111111111111111,\"#46039f\"],[0.2222222222222222,\"#7201a8\"],[0.3333333333333333,\"#9c179e\"],[0.4444444444444444,\"#bd3786\"],[0.5555555555555556,\"#d8576b\"],[0.6666666666666666,\"#ed7953\"],[0.7777777777777778,\"#fb9f3a\"],[0.8888888888888888,\"#fdca26\"],[1.0,\"#f0f921\"]]}],\"mesh3d\":[{\"type\":\"mesh3d\",\"colorbar\":{\"outlinewidth\":0,\"ticks\":\"\"}}],\"scatter\":[{\"fillpattern\":{\"fillmode\":\"overlay\",\"size\":10,\"solidity\":0.2},\"type\":\"scatter\"}],\"parcoords\":[{\"type\":\"parcoords\",\"line\":{\"colorbar\":{\"outlinewidth\":0,\"ticks\":\"\"}}}],\"scatterpolargl\":[{\"type\":\"scatterpolargl\",\"marker\":{\"colorbar\":{\"outlinewidth\":0,\"ticks\":\"\"}}}],\"bar\":[{\"error_x\":{\"color\":\"#2a3f5f\"},\"error_y\":{\"color\":\"#2a3f5f\"},\"marker\":{\"line\":{\"color\":\"#E5ECF6\",\"width\":0.5},\"pattern\":{\"fillmode\":\"overlay\",\"size\":10,\"solidity\":0.2}},\"type\":\"bar\"}],\"scattergeo\":[{\"type\":\"scattergeo\",\"marker\":{\"colorbar\":{\"outlinewidth\":0,\"ticks\":\"\"}}}],\"scatterpolar\":[{\"type\":\"scatterpolar\",\"marker\":{\"colorbar\":{\"outlinewidth\":0,\"ticks\":\"\"}}}],\"histogram\":[{\"marker\":{\"pattern\":{\"fillmode\":\"overlay\",\"size\":10,\"solidity\":0.2}},\"type\":\"histogram\"}],\"scattergl\":[{\"type\":\"scattergl\",\"marker\":{\"colorbar\":{\"outlinewidth\":0,\"ticks\":\"\"}}}],\"scatter3d\":[{\"type\":\"scatter3d\",\"line\":{\"colorbar\":{\"outlinewidth\":0,\"ticks\":\"\"}},\"marker\":{\"colorbar\":{\"outlinewidth\":0,\"ticks\":\"\"}}}],\"scattermapbox\":[{\"type\":\"scattermapbox\",\"marker\":{\"colorbar\":{\"outlinewidth\":0,\"ticks\":\"\"}}}],\"scatterternary\":[{\"type\":\"scatterternary\",\"marker\":{\"colorbar\":{\"outlinewidth\":0,\"ticks\":\"\"}}}],\"scattercarpet\":[{\"type\":\"scattercarpet\",\"marker\":{\"colorbar\":{\"outlinewidth\":0,\"ticks\":\"\"}}}],\"carpet\":[{\"aaxis\":{\"endlinecolor\":\"#2a3f5f\",\"gridcolor\":\"white\",\"linecolor\":\"white\",\"minorgridcolor\":\"white\",\"startlinecolor\":\"#2a3f5f\"},\"baxis\":{\"endlinecolor\":\"#2a3f5f\",\"gridcolor\":\"white\",\"linecolor\":\"white\",\"minorgridcolor\":\"white\",\"startlinecolor\":\"#2a3f5f\"},\"type\":\"carpet\"}],\"table\":[{\"cells\":{\"fill\":{\"color\":\"#EBF0F8\"},\"line\":{\"color\":\"white\"}},\"header\":{\"fill\":{\"color\":\"#C8D4E3\"},\"line\":{\"color\":\"white\"}},\"type\":\"table\"}],\"barpolar\":[{\"marker\":{\"line\":{\"color\":\"#E5ECF6\",\"width\":0.5},\"pattern\":{\"fillmode\":\"overlay\",\"size\":10,\"solidity\":0.2}},\"type\":\"barpolar\"}],\"pie\":[{\"automargin\":true,\"type\":\"pie\"}]},\"layout\":{\"autotypenumbers\":\"strict\",\"colorway\":[\"#636efa\",\"#EF553B\",\"#00cc96\",\"#ab63fa\",\"#FFA15A\",\"#19d3f3\",\"#FF6692\",\"#B6E880\",\"#FF97FF\",\"#FECB52\"],\"font\":{\"color\":\"#2a3f5f\"},\"hovermode\":\"closest\",\"hoverlabel\":{\"align\":\"left\"},\"paper_bgcolor\":\"white\",\"plot_bgcolor\":\"#E5ECF6\",\"polar\":{\"bgcolor\":\"#E5ECF6\",\"angularaxis\":{\"gridcolor\":\"white\",\"linecolor\":\"white\",\"ticks\":\"\"},\"radialaxis\":{\"gridcolor\":\"white\",\"linecolor\":\"white\",\"ticks\":\"\"}},\"ternary\":{\"bgcolor\":\"#E5ECF6\",\"aaxis\":{\"gridcolor\":\"white\",\"linecolor\":\"white\",\"ticks\":\"\"},\"baxis\":{\"gridcolor\":\"white\",\"linecolor\":\"white\",\"ticks\":\"\"},\"caxis\":{\"gridcolor\":\"white\",\"linecolor\":\"white\",\"ticks\":\"\"}},\"coloraxis\":{\"colorbar\":{\"outlinewidth\":0,\"ticks\":\"\"}},\"colorscale\":{\"sequential\":[[0.0,\"#0d0887\"],[0.1111111111111111,\"#46039f\"],[0.2222222222222222,\"#7201a8\"],[0.3333333333333333,\"#9c179e\"],[0.4444444444444444,\"#bd3786\"],[0.5555555555555556,\"#d8576b\"],[0.6666666666666666,\"#ed7953\"],[0.7777777777777778,\"#fb9f3a\"],[0.8888888888888888,\"#fdca26\"],[1.0,\"#f0f921\"]],\"sequentialminus\":[[0.0,\"#0d0887\"],[0.1111111111111111,\"#46039f\"],[0.2222222222222222,\"#7201a8\"],[0.3333333333333333,\"#9c179e\"],[0.4444444444444444,\"#bd3786\"],[0.5555555555555556,\"#d8576b\"],[0.6666666666666666,\"#ed7953\"],[0.7777777777777778,\"#fb9f3a\"],[0.8888888888888888,\"#fdca26\"],[1.0,\"#f0f921\"]],\"diverging\":[[0,\"#8e0152\"],[0.1,\"#c51b7d\"],[0.2,\"#de77ae\"],[0.3,\"#f1b6da\"],[0.4,\"#fde0ef\"],[0.5,\"#f7f7f7\"],[0.6,\"#e6f5d0\"],[0.7,\"#b8e186\"],[0.8,\"#7fbc41\"],[0.9,\"#4d9221\"],[1,\"#276419\"]]},\"xaxis\":{\"gridcolor\":\"white\",\"linecolor\":\"white\",\"ticks\":\"\",\"title\":{\"standoff\":15},\"zerolinecolor\":\"white\",\"automargin\":true,\"zerolinewidth\":2},\"yaxis\":{\"gridcolor\":\"white\",\"linecolor\":\"white\",\"ticks\":\"\",\"title\":{\"standoff\":15},\"zerolinecolor\":\"white\",\"automargin\":true,\"zerolinewidth\":2},\"scene\":{\"xaxis\":{\"backgroundcolor\":\"#E5ECF6\",\"gridcolor\":\"white\",\"linecolor\":\"white\",\"showbackground\":true,\"ticks\":\"\",\"zerolinecolor\":\"white\",\"gridwidth\":2},\"yaxis\":{\"backgroundcolor\":\"#E5ECF6\",\"gridcolor\":\"white\",\"linecolor\":\"white\",\"showbackground\":true,\"ticks\":\"\",\"zerolinecolor\":\"white\",\"gridwidth\":2},\"zaxis\":{\"backgroundcolor\":\"#E5ECF6\",\"gridcolor\":\"white\",\"linecolor\":\"white\",\"showbackground\":true,\"ticks\":\"\",\"zerolinecolor\":\"white\",\"gridwidth\":2}},\"shapedefaults\":{\"line\":{\"color\":\"#2a3f5f\"}},\"annotationdefaults\":{\"arrowcolor\":\"#2a3f5f\",\"arrowhead\":0,\"arrowwidth\":1},\"geo\":{\"bgcolor\":\"white\",\"landcolor\":\"#E5ECF6\",\"subunitcolor\":\"white\",\"showland\":true,\"showlakes\":true,\"lakecolor\":\"white\"},\"title\":{\"x\":0.05},\"mapbox\":{\"style\":\"light\"}}},\"xaxis\":{\"anchor\":\"y\",\"domain\":[0.0,1.0],\"title\":{\"text\":\"x\"}},\"yaxis\":{\"anchor\":\"x\",\"domain\":[0.0,1.0],\"title\":{\"text\":\"y\"}},\"legend\":{\"tracegroupgap\":0},\"title\":{\"text\":\"\\u0413\\u0440\\u0430\\u0444\\u0456\\u043a \\u0444\\u0443\\u043d\\u043a\\u0446\\u0456\\u0457 y = 2tan(x)(0.5x + \\u03c0/4)\"}},                        {\"responsive\": true}                    ).then(function(){\n",
       "                            \n",
       "var gd = document.getElementById('a9f48b2c-5440-4f67-9aed-a78d75b753a9');\n",
       "var x = new MutationObserver(function (mutations, observer) {{\n",
       "        var display = window.getComputedStyle(gd).display;\n",
       "        if (!display || display === 'none') {{\n",
       "            console.log([gd, 'removed!']);\n",
       "            Plotly.purge(gd);\n",
       "            observer.disconnect();\n",
       "        }}\n",
       "}});\n",
       "\n",
       "// Listen for the removal of the full notebook cells\n",
       "var notebookContainer = gd.closest('#notebook-container');\n",
       "if (notebookContainer) {{\n",
       "    x.observe(notebookContainer, {childList: true});\n",
       "}}\n",
       "\n",
       "// Listen for the clearing of the current output cell\n",
       "var outputEl = gd.closest('.output');\n",
       "if (outputEl) {{\n",
       "    x.observe(outputEl, {childList: true});\n",
       "}}\n",
       "\n",
       "                        })                };                });            </script>        </div>"
      ]
     },
     "metadata": {},
     "output_type": "display_data"
    }
   ],
   "source": [
    "# Діапазон значень x\n",
    "x = np.linspace(0, 5 * np.pi, 500)  # для першої функції\n",
    "x2 = np.linspace(0, 2 * np.pi, 500)  # для другої функції\n",
    "x3 = np.linspace(-2 * np.pi, 2 * np.pi, 500)\n",
    "\n",
    "\n",
    "# Обчислення значень функцій\n",
    "y1 = 2 * np.cos(x) * (x - np.pi/4)\n",
    "y2 = 0.5 * np.sin(x2) * (2 * x2 + np.pi/3)\n",
    "y3 = 2 * np.tan(x3) * (0.5 * x3 + np.pi/4)\n",
    "\n",
    "# Створення фігури та додавання графіків\n",
    "fig = px.line(x=x, y=y1, labels={'x': 'x', 'y': 'y'},\n",
    "              title='Графік функції y = 2cos(x)(x - π/4)')\n",
    "fig2 = px.line(x=x2, y=y2, labels={'x': 'x', 'y': 'y'},\n",
    "               title='Графік функції y = 0.5sin(x)(2x + π/3)')\n",
    "fig3 = px.line(x=x3, y=y3, labels={'x': 'x', 'y': 'y'},\n",
    "               title='Графік функції y = 2tan(x)(0.5x + π/4)')\n",
    "\n",
    "# Відображення графіків\n",
    "fig.show()\n",
    "fig2.show()\n",
    "fig3.show()"
   ]
  },
  {
   "cell_type": "code",
   "execution_count": null,
   "id": "3ceed0f8",
   "metadata": {},
   "outputs": [],
   "source": []
  },
  {
   "cell_type": "code",
   "execution_count": null,
   "id": "db0db4c8",
   "metadata": {},
   "outputs": [],
   "source": []
  }
 ],
 "metadata": {
  "kernelspec": {
   "display_name": "Python 3 (ipykernel)",
   "language": "python",
   "name": "python3"
  },
  "language_info": {
   "codemirror_mode": {
    "name": "ipython",
    "version": 3
   },
   "file_extension": ".py",
   "mimetype": "text/x-python",
   "name": "python",
   "nbconvert_exporter": "python",
   "pygments_lexer": "ipython3",
   "version": "3.11.3"
  }
 },
 "nbformat": 4,
 "nbformat_minor": 5
}
