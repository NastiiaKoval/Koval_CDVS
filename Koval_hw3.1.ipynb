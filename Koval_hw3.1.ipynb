{
 "cells": [
  {
   "cell_type": "code",
   "execution_count": 66,
   "id": "88936bd1",
   "metadata": {},
   "outputs": [],
   "source": [
    "import pandas as pd\n",
    "import matplotlib.pyplot as plt\n",
    "import seaborn as sns"
   ]
  },
  {
   "cell_type": "code",
   "execution_count": 67,
   "id": "cb4234d5",
   "metadata": {},
   "outputs": [],
   "source": [
    "file_path = r\"C:\\Users\\Asus\\data\\spotify-2023.csv\"\n",
    "df = pd.read_csv(file_path, encoding='latin-1')"
   ]
  },
  {
   "cell_type": "code",
   "execution_count": 68,
   "id": "fe7cf9d9",
   "metadata": {},
   "outputs": [
    {
     "data": {
      "text/html": [
       "<div>\n",
       "<style scoped>\n",
       "    .dataframe tbody tr th:only-of-type {\n",
       "        vertical-align: middle;\n",
       "    }\n",
       "\n",
       "    .dataframe tbody tr th {\n",
       "        vertical-align: top;\n",
       "    }\n",
       "\n",
       "    .dataframe thead th {\n",
       "        text-align: right;\n",
       "    }\n",
       "</style>\n",
       "<table border=\"1\" class=\"dataframe\">\n",
       "  <thead>\n",
       "    <tr style=\"text-align: right;\">\n",
       "      <th></th>\n",
       "      <th>track_name</th>\n",
       "      <th>artist(s)_name</th>\n",
       "      <th>artist_count</th>\n",
       "      <th>released_year</th>\n",
       "      <th>released_month</th>\n",
       "      <th>released_day</th>\n",
       "      <th>in_spotify_playlists</th>\n",
       "      <th>in_spotify_charts</th>\n",
       "      <th>streams</th>\n",
       "      <th>in_apple_playlists</th>\n",
       "      <th>...</th>\n",
       "      <th>bpm</th>\n",
       "      <th>key</th>\n",
       "      <th>mode</th>\n",
       "      <th>danceability_%</th>\n",
       "      <th>valence_%</th>\n",
       "      <th>energy_%</th>\n",
       "      <th>acousticness_%</th>\n",
       "      <th>instrumentalness_%</th>\n",
       "      <th>liveness_%</th>\n",
       "      <th>speechiness_%</th>\n",
       "    </tr>\n",
       "  </thead>\n",
       "  <tbody>\n",
       "    <tr>\n",
       "      <th>0</th>\n",
       "      <td>Seven (feat. Latto) (Explicit Ver.)</td>\n",
       "      <td>Latto, Jung Kook</td>\n",
       "      <td>2</td>\n",
       "      <td>2023</td>\n",
       "      <td>7</td>\n",
       "      <td>14</td>\n",
       "      <td>553</td>\n",
       "      <td>147</td>\n",
       "      <td>141381703</td>\n",
       "      <td>43</td>\n",
       "      <td>...</td>\n",
       "      <td>125</td>\n",
       "      <td>B</td>\n",
       "      <td>Major</td>\n",
       "      <td>80</td>\n",
       "      <td>89</td>\n",
       "      <td>83</td>\n",
       "      <td>31</td>\n",
       "      <td>0</td>\n",
       "      <td>8</td>\n",
       "      <td>4</td>\n",
       "    </tr>\n",
       "    <tr>\n",
       "      <th>1</th>\n",
       "      <td>LALA</td>\n",
       "      <td>Myke Towers</td>\n",
       "      <td>1</td>\n",
       "      <td>2023</td>\n",
       "      <td>3</td>\n",
       "      <td>23</td>\n",
       "      <td>1474</td>\n",
       "      <td>48</td>\n",
       "      <td>133716286</td>\n",
       "      <td>48</td>\n",
       "      <td>...</td>\n",
       "      <td>92</td>\n",
       "      <td>C#</td>\n",
       "      <td>Major</td>\n",
       "      <td>71</td>\n",
       "      <td>61</td>\n",
       "      <td>74</td>\n",
       "      <td>7</td>\n",
       "      <td>0</td>\n",
       "      <td>10</td>\n",
       "      <td>4</td>\n",
       "    </tr>\n",
       "    <tr>\n",
       "      <th>2</th>\n",
       "      <td>vampire</td>\n",
       "      <td>Olivia Rodrigo</td>\n",
       "      <td>1</td>\n",
       "      <td>2023</td>\n",
       "      <td>6</td>\n",
       "      <td>30</td>\n",
       "      <td>1397</td>\n",
       "      <td>113</td>\n",
       "      <td>140003974</td>\n",
       "      <td>94</td>\n",
       "      <td>...</td>\n",
       "      <td>138</td>\n",
       "      <td>F</td>\n",
       "      <td>Major</td>\n",
       "      <td>51</td>\n",
       "      <td>32</td>\n",
       "      <td>53</td>\n",
       "      <td>17</td>\n",
       "      <td>0</td>\n",
       "      <td>31</td>\n",
       "      <td>6</td>\n",
       "    </tr>\n",
       "    <tr>\n",
       "      <th>3</th>\n",
       "      <td>Cruel Summer</td>\n",
       "      <td>Taylor Swift</td>\n",
       "      <td>1</td>\n",
       "      <td>2019</td>\n",
       "      <td>8</td>\n",
       "      <td>23</td>\n",
       "      <td>7858</td>\n",
       "      <td>100</td>\n",
       "      <td>800840817</td>\n",
       "      <td>116</td>\n",
       "      <td>...</td>\n",
       "      <td>170</td>\n",
       "      <td>A</td>\n",
       "      <td>Major</td>\n",
       "      <td>55</td>\n",
       "      <td>58</td>\n",
       "      <td>72</td>\n",
       "      <td>11</td>\n",
       "      <td>0</td>\n",
       "      <td>11</td>\n",
       "      <td>15</td>\n",
       "    </tr>\n",
       "    <tr>\n",
       "      <th>4</th>\n",
       "      <td>WHERE SHE GOES</td>\n",
       "      <td>Bad Bunny</td>\n",
       "      <td>1</td>\n",
       "      <td>2023</td>\n",
       "      <td>5</td>\n",
       "      <td>18</td>\n",
       "      <td>3133</td>\n",
       "      <td>50</td>\n",
       "      <td>303236322</td>\n",
       "      <td>84</td>\n",
       "      <td>...</td>\n",
       "      <td>144</td>\n",
       "      <td>A</td>\n",
       "      <td>Minor</td>\n",
       "      <td>65</td>\n",
       "      <td>23</td>\n",
       "      <td>80</td>\n",
       "      <td>14</td>\n",
       "      <td>63</td>\n",
       "      <td>11</td>\n",
       "      <td>6</td>\n",
       "    </tr>\n",
       "  </tbody>\n",
       "</table>\n",
       "<p>5 rows × 24 columns</p>\n",
       "</div>"
      ],
      "text/plain": [
       "                            track_name    artist(s)_name  artist_count  \\\n",
       "0  Seven (feat. Latto) (Explicit Ver.)  Latto, Jung Kook             2   \n",
       "1                                 LALA       Myke Towers             1   \n",
       "2                              vampire    Olivia Rodrigo             1   \n",
       "3                         Cruel Summer      Taylor Swift             1   \n",
       "4                       WHERE SHE GOES         Bad Bunny             1   \n",
       "\n",
       "   released_year  released_month  released_day  in_spotify_playlists  \\\n",
       "0           2023               7            14                   553   \n",
       "1           2023               3            23                  1474   \n",
       "2           2023               6            30                  1397   \n",
       "3           2019               8            23                  7858   \n",
       "4           2023               5            18                  3133   \n",
       "\n",
       "   in_spotify_charts    streams  in_apple_playlists  ...  bpm key   mode  \\\n",
       "0                147  141381703                  43  ...  125   B  Major   \n",
       "1                 48  133716286                  48  ...   92  C#  Major   \n",
       "2                113  140003974                  94  ...  138   F  Major   \n",
       "3                100  800840817                 116  ...  170   A  Major   \n",
       "4                 50  303236322                  84  ...  144   A  Minor   \n",
       "\n",
       "  danceability_%  valence_% energy_% acousticness_%  instrumentalness_%  \\\n",
       "0             80         89       83             31                   0   \n",
       "1             71         61       74              7                   0   \n",
       "2             51         32       53             17                   0   \n",
       "3             55         58       72             11                   0   \n",
       "4             65         23       80             14                  63   \n",
       "\n",
       "   liveness_%  speechiness_%  \n",
       "0           8              4  \n",
       "1          10              4  \n",
       "2          31              6  \n",
       "3          11             15  \n",
       "4          11              6  \n",
       "\n",
       "[5 rows x 24 columns]"
      ]
     },
     "execution_count": 68,
     "metadata": {},
     "output_type": "execute_result"
    }
   ],
   "source": [
    "df.head()"
   ]
  },
  {
   "cell_type": "code",
   "execution_count": 69,
   "id": "31014db5",
   "metadata": {},
   "outputs": [
    {
     "data": {
      "text/plain": [
       "(953, 24)"
      ]
     },
     "execution_count": 69,
     "metadata": {},
     "output_type": "execute_result"
    }
   ],
   "source": [
    "df.shape"
   ]
  },
  {
   "cell_type": "code",
   "execution_count": 70,
   "id": "4393df92",
   "metadata": {},
   "outputs": [
    {
     "data": {
      "text/plain": [
       "track_name              object\n",
       "artist(s)_name          object\n",
       "artist_count             int64\n",
       "released_year            int64\n",
       "released_month           int64\n",
       "released_day             int64\n",
       "in_spotify_playlists     int64\n",
       "in_spotify_charts        int64\n",
       "streams                 object\n",
       "in_apple_playlists       int64\n",
       "in_apple_charts          int64\n",
       "in_deezer_playlists     object\n",
       "in_deezer_charts         int64\n",
       "in_shazam_charts        object\n",
       "bpm                      int64\n",
       "key                     object\n",
       "mode                    object\n",
       "danceability_%           int64\n",
       "valence_%                int64\n",
       "energy_%                 int64\n",
       "acousticness_%           int64\n",
       "instrumentalness_%       int64\n",
       "liveness_%               int64\n",
       "speechiness_%            int64\n",
       "dtype: object"
      ]
     },
     "execution_count": 70,
     "metadata": {},
     "output_type": "execute_result"
    }
   ],
   "source": [
    "df.dtypes"
   ]
  },
  {
   "cell_type": "code",
   "execution_count": 71,
   "id": "62036c3e",
   "metadata": {},
   "outputs": [
    {
     "data": {
      "text/plain": [
       "track_name               0\n",
       "artist(s)_name           0\n",
       "artist_count             0\n",
       "released_year            0\n",
       "released_month           0\n",
       "released_day             0\n",
       "in_spotify_playlists     0\n",
       "in_spotify_charts        0\n",
       "streams                  0\n",
       "in_apple_playlists       0\n",
       "in_apple_charts          0\n",
       "in_deezer_playlists      0\n",
       "in_deezer_charts         0\n",
       "in_shazam_charts        50\n",
       "bpm                      0\n",
       "key                     95\n",
       "mode                     0\n",
       "danceability_%           0\n",
       "valence_%                0\n",
       "energy_%                 0\n",
       "acousticness_%           0\n",
       "instrumentalness_%       0\n",
       "liveness_%               0\n",
       "speechiness_%            0\n",
       "dtype: int64"
      ]
     },
     "execution_count": 71,
     "metadata": {},
     "output_type": "execute_result"
    }
   ],
   "source": [
    "df.isna().sum()"
   ]
  },
  {
   "cell_type": "code",
   "execution_count": 72,
   "id": "342d61f2",
   "metadata": {},
   "outputs": [
    {
     "data": {
      "text/plain": [
       "0    826\n",
       "1    382\n",
       "2    949\n",
       "3    548\n",
       "4    425\n",
       "5    946\n",
       "Name: in_shazam_charts, dtype: object"
      ]
     },
     "execution_count": 72,
     "metadata": {},
     "output_type": "execute_result"
    }
   ],
   "source": [
    "df.in_shazam_charts.loc[:5]"
   ]
  },
  {
   "cell_type": "code",
   "execution_count": 73,
   "id": "2ab77672",
   "metadata": {
    "scrolled": true
   },
   "outputs": [
    {
     "data": {
      "text/plain": [
       "0     B\n",
       "1    C#\n",
       "2     F\n",
       "3     A\n",
       "4     A\n",
       "5    C#\n",
       "Name: key, dtype: object"
      ]
     },
     "execution_count": 73,
     "metadata": {},
     "output_type": "execute_result"
    }
   ],
   "source": [
    "df.key.loc[:5]"
   ]
  },
  {
   "cell_type": "code",
   "execution_count": 74,
   "id": "e78d3bc9",
   "metadata": {
    "scrolled": false
   },
   "outputs": [
    {
     "name": "stderr",
     "output_type": "stream",
     "text": [
      "C:\\Users\\Asus\\AppData\\Local\\Temp\\ipykernel_22600\\2554318496.py:3: FutureWarning:\n",
      "\n",
      "The default value of numeric_only in DataFrame.mean is deprecated. In a future version, it will default to False. In addition, specifying 'numeric_only=None' is deprecated. Select only valid columns or specify the value of numeric_only to silence this warning.\n",
      "\n"
     ]
    },
    {
     "data": {
      "text/plain": [
       "track_name              0\n",
       "artist(s)_name          0\n",
       "artist_count            0\n",
       "released_year           0\n",
       "released_month          0\n",
       "released_day            0\n",
       "in_spotify_playlists    0\n",
       "in_spotify_charts       0\n",
       "streams                 0\n",
       "in_apple_playlists      0\n",
       "in_apple_charts         0\n",
       "in_deezer_playlists     0\n",
       "in_deezer_charts        0\n",
       "in_shazam_charts        0\n",
       "bpm                     0\n",
       "key                     0\n",
       "mode                    0\n",
       "danceability_%          0\n",
       "valence_%               0\n",
       "energy_%                0\n",
       "acousticness_%          0\n",
       "instrumentalness_%      0\n",
       "liveness_%              0\n",
       "speechiness_%           0\n",
       "dtype: int64"
      ]
     },
     "execution_count": 74,
     "metadata": {},
     "output_type": "execute_result"
    }
   ],
   "source": [
    "#замінимо значення на в цих сповпцях на середнє значення та найбільш популярні \n",
    "\n",
    "df.fillna(df.mean(), inplace=True)\n",
    "df['key'] = df['key'].fillna(df['key'].mode()[0])\n",
    "df['in_shazam_charts'] = df['in_shazam_charts'].fillna(df['in_shazam_charts'].mode()[0])\n",
    "df.isna().sum()"
   ]
  },
  {
   "cell_type": "code",
   "execution_count": 75,
   "id": "d6fb9cd3",
   "metadata": {},
   "outputs": [],
   "source": [
    "#задамо один стиль для графіків \n",
    "\n",
    "sns.set(style = \"whitegrid\",\n",
    "    rc    = {'figure.figsize':(10,6)},\n",
    "    palette = \"pastel\"\n",
    ")"
   ]
  },
  {
   "cell_type": "markdown",
   "id": "5fb52e01",
   "metadata": {},
   "source": [
    "1. Завдання полягає в тому, щоб побудувати горизонтальну стовпчикову діаграму, на якій відображаються 10 найпопулярніших пісень на Spotify у 2023 році за кількістю прослуховувань. "
   ]
  },
  {
   "cell_type": "code",
   "execution_count": 76,
   "id": "91d136fb",
   "metadata": {},
   "outputs": [],
   "source": [
    "df['streams'] = pd.to_numeric(df['streams'], errors='coerce')"
   ]
  },
  {
   "cell_type": "code",
   "execution_count": 77,
   "id": "9f8f485c",
   "metadata": {},
   "outputs": [],
   "source": [
    "top_10_spotify = df.sort_values(by='streams', ascending=False).head(10)"
   ]
  },
  {
   "cell_type": "code",
   "execution_count": 78,
   "id": "5bec16f0",
   "metadata": {},
   "outputs": [
    {
     "data": {
      "text/html": [
       "<div>\n",
       "<style scoped>\n",
       "    .dataframe tbody tr th:only-of-type {\n",
       "        vertical-align: middle;\n",
       "    }\n",
       "\n",
       "    .dataframe tbody tr th {\n",
       "        vertical-align: top;\n",
       "    }\n",
       "\n",
       "    .dataframe thead th {\n",
       "        text-align: right;\n",
       "    }\n",
       "</style>\n",
       "<table border=\"1\" class=\"dataframe\">\n",
       "  <thead>\n",
       "    <tr style=\"text-align: right;\">\n",
       "      <th></th>\n",
       "      <th>track_name</th>\n",
       "      <th>artist(s)_name</th>\n",
       "      <th>artist_count</th>\n",
       "      <th>released_year</th>\n",
       "      <th>released_month</th>\n",
       "      <th>released_day</th>\n",
       "      <th>in_spotify_playlists</th>\n",
       "      <th>in_spotify_charts</th>\n",
       "      <th>streams</th>\n",
       "      <th>in_apple_playlists</th>\n",
       "      <th>...</th>\n",
       "      <th>bpm</th>\n",
       "      <th>key</th>\n",
       "      <th>mode</th>\n",
       "      <th>danceability_%</th>\n",
       "      <th>valence_%</th>\n",
       "      <th>energy_%</th>\n",
       "      <th>acousticness_%</th>\n",
       "      <th>instrumentalness_%</th>\n",
       "      <th>liveness_%</th>\n",
       "      <th>speechiness_%</th>\n",
       "    </tr>\n",
       "  </thead>\n",
       "  <tbody>\n",
       "    <tr>\n",
       "      <th>55</th>\n",
       "      <td>Blinding Lights</td>\n",
       "      <td>The Weeknd</td>\n",
       "      <td>1</td>\n",
       "      <td>2019</td>\n",
       "      <td>11</td>\n",
       "      <td>29</td>\n",
       "      <td>43899</td>\n",
       "      <td>69</td>\n",
       "      <td>3.703895e+09</td>\n",
       "      <td>672</td>\n",
       "      <td>...</td>\n",
       "      <td>171</td>\n",
       "      <td>C#</td>\n",
       "      <td>Major</td>\n",
       "      <td>50</td>\n",
       "      <td>38</td>\n",
       "      <td>80</td>\n",
       "      <td>0</td>\n",
       "      <td>0</td>\n",
       "      <td>9</td>\n",
       "      <td>7</td>\n",
       "    </tr>\n",
       "    <tr>\n",
       "      <th>179</th>\n",
       "      <td>Shape of You</td>\n",
       "      <td>Ed Sheeran</td>\n",
       "      <td>1</td>\n",
       "      <td>2017</td>\n",
       "      <td>1</td>\n",
       "      <td>6</td>\n",
       "      <td>32181</td>\n",
       "      <td>10</td>\n",
       "      <td>3.562544e+09</td>\n",
       "      <td>33</td>\n",
       "      <td>...</td>\n",
       "      <td>96</td>\n",
       "      <td>C#</td>\n",
       "      <td>Minor</td>\n",
       "      <td>83</td>\n",
       "      <td>93</td>\n",
       "      <td>65</td>\n",
       "      <td>58</td>\n",
       "      <td>0</td>\n",
       "      <td>9</td>\n",
       "      <td>8</td>\n",
       "    </tr>\n",
       "    <tr>\n",
       "      <th>86</th>\n",
       "      <td>Someone You Loved</td>\n",
       "      <td>Lewis Capaldi</td>\n",
       "      <td>1</td>\n",
       "      <td>2018</td>\n",
       "      <td>11</td>\n",
       "      <td>8</td>\n",
       "      <td>17836</td>\n",
       "      <td>53</td>\n",
       "      <td>2.887242e+09</td>\n",
       "      <td>440</td>\n",
       "      <td>...</td>\n",
       "      <td>110</td>\n",
       "      <td>C#</td>\n",
       "      <td>Major</td>\n",
       "      <td>50</td>\n",
       "      <td>45</td>\n",
       "      <td>41</td>\n",
       "      <td>75</td>\n",
       "      <td>0</td>\n",
       "      <td>11</td>\n",
       "      <td>3</td>\n",
       "    </tr>\n",
       "    <tr>\n",
       "      <th>620</th>\n",
       "      <td>Dance Monkey</td>\n",
       "      <td>Tones and I</td>\n",
       "      <td>1</td>\n",
       "      <td>2019</td>\n",
       "      <td>5</td>\n",
       "      <td>10</td>\n",
       "      <td>24529</td>\n",
       "      <td>0</td>\n",
       "      <td>2.864792e+09</td>\n",
       "      <td>533</td>\n",
       "      <td>...</td>\n",
       "      <td>98</td>\n",
       "      <td>F#</td>\n",
       "      <td>Minor</td>\n",
       "      <td>82</td>\n",
       "      <td>54</td>\n",
       "      <td>59</td>\n",
       "      <td>69</td>\n",
       "      <td>0</td>\n",
       "      <td>18</td>\n",
       "      <td>10</td>\n",
       "    </tr>\n",
       "    <tr>\n",
       "      <th>41</th>\n",
       "      <td>Sunflower - Spider-Man: Into the Spider-Verse</td>\n",
       "      <td>Post Malone, Swae Lee</td>\n",
       "      <td>2</td>\n",
       "      <td>2018</td>\n",
       "      <td>10</td>\n",
       "      <td>9</td>\n",
       "      <td>24094</td>\n",
       "      <td>78</td>\n",
       "      <td>2.808097e+09</td>\n",
       "      <td>372</td>\n",
       "      <td>...</td>\n",
       "      <td>90</td>\n",
       "      <td>D</td>\n",
       "      <td>Major</td>\n",
       "      <td>76</td>\n",
       "      <td>91</td>\n",
       "      <td>50</td>\n",
       "      <td>54</td>\n",
       "      <td>0</td>\n",
       "      <td>7</td>\n",
       "      <td>5</td>\n",
       "    </tr>\n",
       "    <tr>\n",
       "      <th>162</th>\n",
       "      <td>One Dance</td>\n",
       "      <td>Drake, WizKid, Kyla</td>\n",
       "      <td>3</td>\n",
       "      <td>2016</td>\n",
       "      <td>4</td>\n",
       "      <td>4</td>\n",
       "      <td>43257</td>\n",
       "      <td>24</td>\n",
       "      <td>2.713922e+09</td>\n",
       "      <td>433</td>\n",
       "      <td>...</td>\n",
       "      <td>104</td>\n",
       "      <td>C#</td>\n",
       "      <td>Major</td>\n",
       "      <td>77</td>\n",
       "      <td>36</td>\n",
       "      <td>63</td>\n",
       "      <td>1</td>\n",
       "      <td>0</td>\n",
       "      <td>36</td>\n",
       "      <td>5</td>\n",
       "    </tr>\n",
       "    <tr>\n",
       "      <th>84</th>\n",
       "      <td>STAY (with Justin Bieber)</td>\n",
       "      <td>Justin Bieber, The Kid Laroi</td>\n",
       "      <td>2</td>\n",
       "      <td>2021</td>\n",
       "      <td>7</td>\n",
       "      <td>9</td>\n",
       "      <td>17050</td>\n",
       "      <td>36</td>\n",
       "      <td>2.665344e+09</td>\n",
       "      <td>492</td>\n",
       "      <td>...</td>\n",
       "      <td>170</td>\n",
       "      <td>C#</td>\n",
       "      <td>Major</td>\n",
       "      <td>59</td>\n",
       "      <td>48</td>\n",
       "      <td>76</td>\n",
       "      <td>4</td>\n",
       "      <td>0</td>\n",
       "      <td>10</td>\n",
       "      <td>5</td>\n",
       "    </tr>\n",
       "    <tr>\n",
       "      <th>140</th>\n",
       "      <td>Believer</td>\n",
       "      <td>Imagine Dragons</td>\n",
       "      <td>1</td>\n",
       "      <td>2017</td>\n",
       "      <td>1</td>\n",
       "      <td>31</td>\n",
       "      <td>18986</td>\n",
       "      <td>23</td>\n",
       "      <td>2.594040e+09</td>\n",
       "      <td>250</td>\n",
       "      <td>...</td>\n",
       "      <td>125</td>\n",
       "      <td>A#</td>\n",
       "      <td>Minor</td>\n",
       "      <td>77</td>\n",
       "      <td>74</td>\n",
       "      <td>78</td>\n",
       "      <td>4</td>\n",
       "      <td>0</td>\n",
       "      <td>23</td>\n",
       "      <td>11</td>\n",
       "    </tr>\n",
       "    <tr>\n",
       "      <th>725</th>\n",
       "      <td>Closer</td>\n",
       "      <td>The Chainsmokers, Halsey</td>\n",
       "      <td>2</td>\n",
       "      <td>2016</td>\n",
       "      <td>5</td>\n",
       "      <td>31</td>\n",
       "      <td>28032</td>\n",
       "      <td>0</td>\n",
       "      <td>2.591224e+09</td>\n",
       "      <td>315</td>\n",
       "      <td>...</td>\n",
       "      <td>95</td>\n",
       "      <td>G#</td>\n",
       "      <td>Major</td>\n",
       "      <td>75</td>\n",
       "      <td>64</td>\n",
       "      <td>52</td>\n",
       "      <td>41</td>\n",
       "      <td>0</td>\n",
       "      <td>11</td>\n",
       "      <td>3</td>\n",
       "    </tr>\n",
       "    <tr>\n",
       "      <th>48</th>\n",
       "      <td>Starboy</td>\n",
       "      <td>The Weeknd, Daft Punk</td>\n",
       "      <td>2</td>\n",
       "      <td>2016</td>\n",
       "      <td>9</td>\n",
       "      <td>21</td>\n",
       "      <td>29536</td>\n",
       "      <td>79</td>\n",
       "      <td>2.565530e+09</td>\n",
       "      <td>281</td>\n",
       "      <td>...</td>\n",
       "      <td>186</td>\n",
       "      <td>G</td>\n",
       "      <td>Major</td>\n",
       "      <td>68</td>\n",
       "      <td>49</td>\n",
       "      <td>59</td>\n",
       "      <td>16</td>\n",
       "      <td>0</td>\n",
       "      <td>13</td>\n",
       "      <td>28</td>\n",
       "    </tr>\n",
       "  </tbody>\n",
       "</table>\n",
       "<p>10 rows × 24 columns</p>\n",
       "</div>"
      ],
      "text/plain": [
       "                                        track_name  \\\n",
       "55                                 Blinding Lights   \n",
       "179                                   Shape of You   \n",
       "86                               Someone You Loved   \n",
       "620                                   Dance Monkey   \n",
       "41   Sunflower - Spider-Man: Into the Spider-Verse   \n",
       "162                                      One Dance   \n",
       "84                       STAY (with Justin Bieber)   \n",
       "140                                       Believer   \n",
       "725                                         Closer   \n",
       "48                                         Starboy   \n",
       "\n",
       "                   artist(s)_name  artist_count  released_year  \\\n",
       "55                     The Weeknd             1           2019   \n",
       "179                    Ed Sheeran             1           2017   \n",
       "86                  Lewis Capaldi             1           2018   \n",
       "620                   Tones and I             1           2019   \n",
       "41          Post Malone, Swae Lee             2           2018   \n",
       "162           Drake, WizKid, Kyla             3           2016   \n",
       "84   Justin Bieber, The Kid Laroi             2           2021   \n",
       "140               Imagine Dragons             1           2017   \n",
       "725      The Chainsmokers, Halsey             2           2016   \n",
       "48          The Weeknd, Daft Punk             2           2016   \n",
       "\n",
       "     released_month  released_day  in_spotify_playlists  in_spotify_charts  \\\n",
       "55               11            29                 43899                 69   \n",
       "179               1             6                 32181                 10   \n",
       "86               11             8                 17836                 53   \n",
       "620               5            10                 24529                  0   \n",
       "41               10             9                 24094                 78   \n",
       "162               4             4                 43257                 24   \n",
       "84                7             9                 17050                 36   \n",
       "140               1            31                 18986                 23   \n",
       "725               5            31                 28032                  0   \n",
       "48                9            21                 29536                 79   \n",
       "\n",
       "          streams  in_apple_playlists  ...  bpm key   mode danceability_%  \\\n",
       "55   3.703895e+09                 672  ...  171  C#  Major             50   \n",
       "179  3.562544e+09                  33  ...   96  C#  Minor             83   \n",
       "86   2.887242e+09                 440  ...  110  C#  Major             50   \n",
       "620  2.864792e+09                 533  ...   98  F#  Minor             82   \n",
       "41   2.808097e+09                 372  ...   90   D  Major             76   \n",
       "162  2.713922e+09                 433  ...  104  C#  Major             77   \n",
       "84   2.665344e+09                 492  ...  170  C#  Major             59   \n",
       "140  2.594040e+09                 250  ...  125  A#  Minor             77   \n",
       "725  2.591224e+09                 315  ...   95  G#  Major             75   \n",
       "48   2.565530e+09                 281  ...  186   G  Major             68   \n",
       "\n",
       "     valence_% energy_% acousticness_%  instrumentalness_%  liveness_%  \\\n",
       "55          38       80              0                   0           9   \n",
       "179         93       65             58                   0           9   \n",
       "86          45       41             75                   0          11   \n",
       "620         54       59             69                   0          18   \n",
       "41          91       50             54                   0           7   \n",
       "162         36       63              1                   0          36   \n",
       "84          48       76              4                   0          10   \n",
       "140         74       78              4                   0          23   \n",
       "725         64       52             41                   0          11   \n",
       "48          49       59             16                   0          13   \n",
       "\n",
       "     speechiness_%  \n",
       "55               7  \n",
       "179              8  \n",
       "86               3  \n",
       "620             10  \n",
       "41               5  \n",
       "162              5  \n",
       "84               5  \n",
       "140             11  \n",
       "725              3  \n",
       "48              28  \n",
       "\n",
       "[10 rows x 24 columns]"
      ]
     },
     "execution_count": 78,
     "metadata": {},
     "output_type": "execute_result"
    }
   ],
   "source": [
    "top_10_spotify"
   ]
  },
  {
   "cell_type": "code",
   "execution_count": 79,
   "id": "27db79ee",
   "metadata": {},
   "outputs": [
    {
     "data": {
      "image/png": "[encoded data removed]",
      "text/plain": [
       "<Figure size 1000x600 with 1 Axes>"
      ]
     },
     "metadata": {},
     "output_type": "display_data"
    }
   ],
   "source": [
    "plt.figure(figsize=(10, 6))\n",
    "plt.barh(top_10_spotify['track_name'], top_10_spotify['streams'])\n",
    "plt.xlabel('Кількість прослуховувань')\n",
    "plt.title('10 найпопулярніших пісень на Spotify у 2023 році')\n",
    "plt.gca().invert_yaxis()  # Щоб найпопулярніші пісні були зверху\n",
    "plt.show();"
   ]
  },
  {
   "cell_type": "markdown",
   "id": "788920d5",
   "metadata": {},
   "source": [
    "2. Розподіл жанрів найпопулярніших пісень: Створіть кругову діаграму або секторну діаграму, яка відображає розподіл жанрів серед найпопулярніших пісень у 2023 році. "
   ]
  },
  {
   "cell_type": "code",
   "execution_count": 80,
   "id": "3bf96597",
   "metadata": {},
   "outputs": [
    {
     "data": {
      "text/html": [
       "<div>\n",
       "<style scoped>\n",
       "    .dataframe tbody tr th:only-of-type {\n",
       "        vertical-align: middle;\n",
       "    }\n",
       "\n",
       "    .dataframe tbody tr th {\n",
       "        vertical-align: top;\n",
       "    }\n",
       "\n",
       "    .dataframe thead th {\n",
       "        text-align: right;\n",
       "    }\n",
       "</style>\n",
       "<table border=\"1\" class=\"dataframe\">\n",
       "  <thead>\n",
       "    <tr style=\"text-align: right;\">\n",
       "      <th></th>\n",
       "      <th>track_name</th>\n",
       "      <th>artist(s)_name</th>\n",
       "      <th>artist_count</th>\n",
       "      <th>released_year</th>\n",
       "      <th>released_month</th>\n",
       "      <th>released_day</th>\n",
       "      <th>in_spotify_playlists</th>\n",
       "      <th>in_spotify_charts</th>\n",
       "      <th>streams</th>\n",
       "      <th>in_apple_playlists</th>\n",
       "      <th>...</th>\n",
       "      <th>bpm</th>\n",
       "      <th>key</th>\n",
       "      <th>mode</th>\n",
       "      <th>danceability_%</th>\n",
       "      <th>valence_%</th>\n",
       "      <th>energy_%</th>\n",
       "      <th>acousticness_%</th>\n",
       "      <th>instrumentalness_%</th>\n",
       "      <th>liveness_%</th>\n",
       "      <th>speechiness_%</th>\n",
       "    </tr>\n",
       "  </thead>\n",
       "  <tbody>\n",
       "    <tr>\n",
       "      <th>55</th>\n",
       "      <td>Blinding Lights</td>\n",
       "      <td>The Weeknd</td>\n",
       "      <td>1</td>\n",
       "      <td>2019</td>\n",
       "      <td>11</td>\n",
       "      <td>29</td>\n",
       "      <td>43899</td>\n",
       "      <td>69</td>\n",
       "      <td>3.703895e+09</td>\n",
       "      <td>672</td>\n",
       "      <td>...</td>\n",
       "      <td>171</td>\n",
       "      <td>C#</td>\n",
       "      <td>Major</td>\n",
       "      <td>50</td>\n",
       "      <td>38</td>\n",
       "      <td>80</td>\n",
       "      <td>0</td>\n",
       "      <td>0</td>\n",
       "      <td>9</td>\n",
       "      <td>7</td>\n",
       "    </tr>\n",
       "    <tr>\n",
       "      <th>179</th>\n",
       "      <td>Shape of You</td>\n",
       "      <td>Ed Sheeran</td>\n",
       "      <td>1</td>\n",
       "      <td>2017</td>\n",
       "      <td>1</td>\n",
       "      <td>6</td>\n",
       "      <td>32181</td>\n",
       "      <td>10</td>\n",
       "      <td>3.562544e+09</td>\n",
       "      <td>33</td>\n",
       "      <td>...</td>\n",
       "      <td>96</td>\n",
       "      <td>C#</td>\n",
       "      <td>Minor</td>\n",
       "      <td>83</td>\n",
       "      <td>93</td>\n",
       "      <td>65</td>\n",
       "      <td>58</td>\n",
       "      <td>0</td>\n",
       "      <td>9</td>\n",
       "      <td>8</td>\n",
       "    </tr>\n",
       "    <tr>\n",
       "      <th>86</th>\n",
       "      <td>Someone You Loved</td>\n",
       "      <td>Lewis Capaldi</td>\n",
       "      <td>1</td>\n",
       "      <td>2018</td>\n",
       "      <td>11</td>\n",
       "      <td>8</td>\n",
       "      <td>17836</td>\n",
       "      <td>53</td>\n",
       "      <td>2.887242e+09</td>\n",
       "      <td>440</td>\n",
       "      <td>...</td>\n",
       "      <td>110</td>\n",
       "      <td>C#</td>\n",
       "      <td>Major</td>\n",
       "      <td>50</td>\n",
       "      <td>45</td>\n",
       "      <td>41</td>\n",
       "      <td>75</td>\n",
       "      <td>0</td>\n",
       "      <td>11</td>\n",
       "      <td>3</td>\n",
       "    </tr>\n",
       "    <tr>\n",
       "      <th>620</th>\n",
       "      <td>Dance Monkey</td>\n",
       "      <td>Tones and I</td>\n",
       "      <td>1</td>\n",
       "      <td>2019</td>\n",
       "      <td>5</td>\n",
       "      <td>10</td>\n",
       "      <td>24529</td>\n",
       "      <td>0</td>\n",
       "      <td>2.864792e+09</td>\n",
       "      <td>533</td>\n",
       "      <td>...</td>\n",
       "      <td>98</td>\n",
       "      <td>F#</td>\n",
       "      <td>Minor</td>\n",
       "      <td>82</td>\n",
       "      <td>54</td>\n",
       "      <td>59</td>\n",
       "      <td>69</td>\n",
       "      <td>0</td>\n",
       "      <td>18</td>\n",
       "      <td>10</td>\n",
       "    </tr>\n",
       "    <tr>\n",
       "      <th>41</th>\n",
       "      <td>Sunflower - Spider-Man: Into the Spider-Verse</td>\n",
       "      <td>Post Malone, Swae Lee</td>\n",
       "      <td>2</td>\n",
       "      <td>2018</td>\n",
       "      <td>10</td>\n",
       "      <td>9</td>\n",
       "      <td>24094</td>\n",
       "      <td>78</td>\n",
       "      <td>2.808097e+09</td>\n",
       "      <td>372</td>\n",
       "      <td>...</td>\n",
       "      <td>90</td>\n",
       "      <td>D</td>\n",
       "      <td>Major</td>\n",
       "      <td>76</td>\n",
       "      <td>91</td>\n",
       "      <td>50</td>\n",
       "      <td>54</td>\n",
       "      <td>0</td>\n",
       "      <td>7</td>\n",
       "      <td>5</td>\n",
       "    </tr>\n",
       "    <tr>\n",
       "      <th>162</th>\n",
       "      <td>One Dance</td>\n",
       "      <td>Drake, WizKid, Kyla</td>\n",
       "      <td>3</td>\n",
       "      <td>2016</td>\n",
       "      <td>4</td>\n",
       "      <td>4</td>\n",
       "      <td>43257</td>\n",
       "      <td>24</td>\n",
       "      <td>2.713922e+09</td>\n",
       "      <td>433</td>\n",
       "      <td>...</td>\n",
       "      <td>104</td>\n",
       "      <td>C#</td>\n",
       "      <td>Major</td>\n",
       "      <td>77</td>\n",
       "      <td>36</td>\n",
       "      <td>63</td>\n",
       "      <td>1</td>\n",
       "      <td>0</td>\n",
       "      <td>36</td>\n",
       "      <td>5</td>\n",
       "    </tr>\n",
       "    <tr>\n",
       "      <th>84</th>\n",
       "      <td>STAY (with Justin Bieber)</td>\n",
       "      <td>Justin Bieber, The Kid Laroi</td>\n",
       "      <td>2</td>\n",
       "      <td>2021</td>\n",
       "      <td>7</td>\n",
       "      <td>9</td>\n",
       "      <td>17050</td>\n",
       "      <td>36</td>\n",
       "      <td>2.665344e+09</td>\n",
       "      <td>492</td>\n",
       "      <td>...</td>\n",
       "      <td>170</td>\n",
       "      <td>C#</td>\n",
       "      <td>Major</td>\n",
       "      <td>59</td>\n",
       "      <td>48</td>\n",
       "      <td>76</td>\n",
       "      <td>4</td>\n",
       "      <td>0</td>\n",
       "      <td>10</td>\n",
       "      <td>5</td>\n",
       "    </tr>\n",
       "    <tr>\n",
       "      <th>140</th>\n",
       "      <td>Believer</td>\n",
       "      <td>Imagine Dragons</td>\n",
       "      <td>1</td>\n",
       "      <td>2017</td>\n",
       "      <td>1</td>\n",
       "      <td>31</td>\n",
       "      <td>18986</td>\n",
       "      <td>23</td>\n",
       "      <td>2.594040e+09</td>\n",
       "      <td>250</td>\n",
       "      <td>...</td>\n",
       "      <td>125</td>\n",
       "      <td>A#</td>\n",
       "      <td>Minor</td>\n",
       "      <td>77</td>\n",
       "      <td>74</td>\n",
       "      <td>78</td>\n",
       "      <td>4</td>\n",
       "      <td>0</td>\n",
       "      <td>23</td>\n",
       "      <td>11</td>\n",
       "    </tr>\n",
       "    <tr>\n",
       "      <th>725</th>\n",
       "      <td>Closer</td>\n",
       "      <td>The Chainsmokers, Halsey</td>\n",
       "      <td>2</td>\n",
       "      <td>2016</td>\n",
       "      <td>5</td>\n",
       "      <td>31</td>\n",
       "      <td>28032</td>\n",
       "      <td>0</td>\n",
       "      <td>2.591224e+09</td>\n",
       "      <td>315</td>\n",
       "      <td>...</td>\n",
       "      <td>95</td>\n",
       "      <td>G#</td>\n",
       "      <td>Major</td>\n",
       "      <td>75</td>\n",
       "      <td>64</td>\n",
       "      <td>52</td>\n",
       "      <td>41</td>\n",
       "      <td>0</td>\n",
       "      <td>11</td>\n",
       "      <td>3</td>\n",
       "    </tr>\n",
       "    <tr>\n",
       "      <th>48</th>\n",
       "      <td>Starboy</td>\n",
       "      <td>The Weeknd, Daft Punk</td>\n",
       "      <td>2</td>\n",
       "      <td>2016</td>\n",
       "      <td>9</td>\n",
       "      <td>21</td>\n",
       "      <td>29536</td>\n",
       "      <td>79</td>\n",
       "      <td>2.565530e+09</td>\n",
       "      <td>281</td>\n",
       "      <td>...</td>\n",
       "      <td>186</td>\n",
       "      <td>G</td>\n",
       "      <td>Major</td>\n",
       "      <td>68</td>\n",
       "      <td>49</td>\n",
       "      <td>59</td>\n",
       "      <td>16</td>\n",
       "      <td>0</td>\n",
       "      <td>13</td>\n",
       "      <td>28</td>\n",
       "    </tr>\n",
       "  </tbody>\n",
       "</table>\n",
       "<p>10 rows × 24 columns</p>\n",
       "</div>"
      ],
      "text/plain": [
       "                                        track_name  \\\n",
       "55                                 Blinding Lights   \n",
       "179                                   Shape of You   \n",
       "86                               Someone You Loved   \n",
       "620                                   Dance Monkey   \n",
       "41   Sunflower - Spider-Man: Into the Spider-Verse   \n",
       "162                                      One Dance   \n",
       "84                       STAY (with Justin Bieber)   \n",
       "140                                       Believer   \n",
       "725                                         Closer   \n",
       "48                                         Starboy   \n",
       "\n",
       "                   artist(s)_name  artist_count  released_year  \\\n",
       "55                     The Weeknd             1           2019   \n",
       "179                    Ed Sheeran             1           2017   \n",
       "86                  Lewis Capaldi             1           2018   \n",
       "620                   Tones and I             1           2019   \n",
       "41          Post Malone, Swae Lee             2           2018   \n",
       "162           Drake, WizKid, Kyla             3           2016   \n",
       "84   Justin Bieber, The Kid Laroi             2           2021   \n",
       "140               Imagine Dragons             1           2017   \n",
       "725      The Chainsmokers, Halsey             2           2016   \n",
       "48          The Weeknd, Daft Punk             2           2016   \n",
       "\n",
       "     released_month  released_day  in_spotify_playlists  in_spotify_charts  \\\n",
       "55               11            29                 43899                 69   \n",
       "179               1             6                 32181                 10   \n",
       "86               11             8                 17836                 53   \n",
       "620               5            10                 24529                  0   \n",
       "41               10             9                 24094                 78   \n",
       "162               4             4                 43257                 24   \n",
       "84                7             9                 17050                 36   \n",
       "140               1            31                 18986                 23   \n",
       "725               5            31                 28032                  0   \n",
       "48                9            21                 29536                 79   \n",
       "\n",
       "          streams  in_apple_playlists  ...  bpm key   mode danceability_%  \\\n",
       "55   3.703895e+09                 672  ...  171  C#  Major             50   \n",
       "179  3.562544e+09                  33  ...   96  C#  Minor             83   \n",
       "86   2.887242e+09                 440  ...  110  C#  Major             50   \n",
       "620  2.864792e+09                 533  ...   98  F#  Minor             82   \n",
       "41   2.808097e+09                 372  ...   90   D  Major             76   \n",
       "162  2.713922e+09                 433  ...  104  C#  Major             77   \n",
       "84   2.665344e+09                 492  ...  170  C#  Major             59   \n",
       "140  2.594040e+09                 250  ...  125  A#  Minor             77   \n",
       "725  2.591224e+09                 315  ...   95  G#  Major             75   \n",
       "48   2.565530e+09                 281  ...  186   G  Major             68   \n",
       "\n",
       "     valence_% energy_% acousticness_%  instrumentalness_%  liveness_%  \\\n",
       "55          38       80              0                   0           9   \n",
       "179         93       65             58                   0           9   \n",
       "86          45       41             75                   0          11   \n",
       "620         54       59             69                   0          18   \n",
       "41          91       50             54                   0           7   \n",
       "162         36       63              1                   0          36   \n",
       "84          48       76              4                   0          10   \n",
       "140         74       78              4                   0          23   \n",
       "725         64       52             41                   0          11   \n",
       "48          49       59             16                   0          13   \n",
       "\n",
       "     speechiness_%  \n",
       "55               7  \n",
       "179              8  \n",
       "86               3  \n",
       "620             10  \n",
       "41               5  \n",
       "162              5  \n",
       "84               5  \n",
       "140             11  \n",
       "725              3  \n",
       "48              28  \n",
       "\n",
       "[10 rows x 24 columns]"
      ]
     },
     "execution_count": 80,
     "metadata": {},
     "output_type": "execute_result"
    }
   ],
   "source": [
    "top_10_spotify"
   ]
  },
  {
   "cell_type": "code",
   "execution_count": 81,
   "id": "2a2de47f",
   "metadata": {},
   "outputs": [
    {
     "data": {
      "image/png": "[encoded data removed]",
      "text/plain": [
       "<Figure size 800x800 with 1 Axes>"
      ]
     },
     "metadata": {},
     "output_type": "display_data"
    }
   ],
   "source": [
    "#у нашому датасеті немає колонки яка б вказувала жанр пісні, тому викиристаємо лад пісні \n",
    "#mode: Mode of the song (major or minor)\n",
    "\n",
    "genre_distribution = top_10_spotify['mode'].value_counts()\n",
    "\n",
    "# Побудова кругової діаграми\n",
    "plt.figure(figsize=(8, 8))\n",
    "plt.pie(genre_distribution, labels=genre_distribution.index,  autopct='%1.1f%%')\n",
    "plt.title('Розподіл жанрів серед найпопулярніших пісень у 2023 році')\n",
    "plt.show();"
   ]
  },
  {
   "cell_type": "markdown",
   "id": "d14ad5b9",
   "metadata": {},
   "source": [
    "3. Динаміка популярності треку в залежності від часу: Побудуйте лінійний графік, який відображає зміни кількості прослуховувань певного треку протягом року 2023 року. "
   ]
  },
  {
   "cell_type": "markdown",
   "id": "faeacfbc",
   "metadata": {},
   "source": [
    "у нас немає інформації про кількість прослуховавань протягом року, щоб відобразити її зміни, ми маємо лише одне значення streams для пісні, тобто загальну кількість прослуховувань для пісні за 2023 рік"
   ]
  },
  {
   "cell_type": "code",
   "execution_count": 82,
   "id": "6e335558",
   "metadata": {},
   "outputs": [
    {
     "data": {
      "text/html": [
       "<div>\n",
       "<style scoped>\n",
       "    .dataframe tbody tr th:only-of-type {\n",
       "        vertical-align: middle;\n",
       "    }\n",
       "\n",
       "    .dataframe tbody tr th {\n",
       "        vertical-align: top;\n",
       "    }\n",
       "\n",
       "    .dataframe thead th {\n",
       "        text-align: right;\n",
       "    }\n",
       "</style>\n",
       "<table border=\"1\" class=\"dataframe\">\n",
       "  <thead>\n",
       "    <tr style=\"text-align: right;\">\n",
       "      <th></th>\n",
       "      <th>track_name</th>\n",
       "      <th>artist(s)_name</th>\n",
       "      <th>artist_count</th>\n",
       "      <th>released_year</th>\n",
       "      <th>released_month</th>\n",
       "      <th>released_day</th>\n",
       "      <th>in_spotify_playlists</th>\n",
       "      <th>in_spotify_charts</th>\n",
       "      <th>streams</th>\n",
       "      <th>in_apple_playlists</th>\n",
       "      <th>...</th>\n",
       "      <th>bpm</th>\n",
       "      <th>key</th>\n",
       "      <th>mode</th>\n",
       "      <th>danceability_%</th>\n",
       "      <th>valence_%</th>\n",
       "      <th>energy_%</th>\n",
       "      <th>acousticness_%</th>\n",
       "      <th>instrumentalness_%</th>\n",
       "      <th>liveness_%</th>\n",
       "      <th>speechiness_%</th>\n",
       "    </tr>\n",
       "  </thead>\n",
       "  <tbody>\n",
       "    <tr>\n",
       "      <th>3</th>\n",
       "      <td>Cruel Summer</td>\n",
       "      <td>Taylor Swift</td>\n",
       "      <td>1</td>\n",
       "      <td>2019</td>\n",
       "      <td>8</td>\n",
       "      <td>23</td>\n",
       "      <td>7858</td>\n",
       "      <td>100</td>\n",
       "      <td>800840817.0</td>\n",
       "      <td>116</td>\n",
       "      <td>...</td>\n",
       "      <td>170</td>\n",
       "      <td>A</td>\n",
       "      <td>Major</td>\n",
       "      <td>55</td>\n",
       "      <td>58</td>\n",
       "      <td>72</td>\n",
       "      <td>11</td>\n",
       "      <td>0</td>\n",
       "      <td>11</td>\n",
       "      <td>15</td>\n",
       "    </tr>\n",
       "  </tbody>\n",
       "</table>\n",
       "<p>1 rows × 24 columns</p>\n",
       "</div>"
      ],
      "text/plain": [
       "     track_name artist(s)_name  artist_count  released_year  released_month  \\\n",
       "3  Cruel Summer   Taylor Swift             1           2019               8   \n",
       "\n",
       "   released_day  in_spotify_playlists  in_spotify_charts      streams  \\\n",
       "3            23                  7858                100  800840817.0   \n",
       "\n",
       "   in_apple_playlists  ...  bpm key   mode danceability_%  valence_% energy_%  \\\n",
       "3                 116  ...  170   A  Major             55         58       72   \n",
       "\n",
       "  acousticness_%  instrumentalness_%  liveness_%  speechiness_%  \n",
       "3             11                   0          11             15  \n",
       "\n",
       "[1 rows x 24 columns]"
      ]
     },
     "execution_count": 82,
     "metadata": {},
     "output_type": "execute_result"
    }
   ],
   "source": [
    "#обираємо \"певний трек\"\n",
    "track_name = 'Cruel Summer'\n",
    "selected_track = df[df['track_name'] == track_name]\n",
    "selected_track"
   ]
  },
  {
   "cell_type": "code",
   "execution_count": 83,
   "id": "416d4c02",
   "metadata": {
    "scrolled": false
   },
   "outputs": [
    {
     "data": {
      "image/png": "[encoded data removed]",
      "text/plain": [
       "<Figure size 1200x600 with 1 Axes>"
      ]
     },
     "metadata": {},
     "output_type": "display_data"
    }
   ],
   "source": [
    "# візьмемо'released_month' (або інший, який містить час)\n",
    "# дані в 'released_month' представлені як числа (наприклад, 1, 2, ..., 12)\n",
    "\n",
    "plt.figure(figsize=(12, 6))\n",
    "plt.plot(selected_track['released_month'], selected_track['streams'], marker='o', linestyle='-', color='b')\n",
    "plt.title(f'Динаміка популярності треку \"{track_name}\" у 2023 році')\n",
    "plt.xlabel('Місяць')\n",
    "plt.ylabel('Кількість прослуховувань')\n",
    "plt.xticks(range(1, 13))  # Якщо 'released_month' представлено як числа місяців\n",
    "plt.grid(True)\n",
    "plt.show()\n"
   ]
  },
  {
   "cell_type": "markdown",
   "id": "af9dd474",
   "metadata": {},
   "source": [
    "Можемо переглянути який місяць є найпопулярніший для релізу у 2023 році"
   ]
  },
  {
   "cell_type": "code",
   "execution_count": 111,
   "id": "accfad3c",
   "metadata": {
    "scrolled": false
   },
   "outputs": [
    {
     "data": {
      "image/png": "[encoded data removed]",
      "text/plain": [
       "<Figure size 1000x600 with 1 Axes>"
      ]
     },
     "metadata": {},
     "output_type": "display_data"
    },
    {
     "name": "stdout",
     "output_type": "stream",
     "text": [
      "Березень є найпопулярнішим місяцем для релізу у 2023 році\n"
     ]
    }
   ],
   "source": [
    "monthly_track_counts = df.query('released_year == 2023')\\\n",
    ".groupby('released_month')\\\n",
    ".agg({'track_name': 'count'})\n",
    "\n",
    "ax = monthly_track_counts.plot()\n",
    "\n",
    "ax.set_title('Кількість треків, випущених у 2023 році за місяцем')\n",
    "ax.set_xlabel('Місяць')\n",
    "ax.set_ylabel('Кількість треків')\n",
    "plt.show();\n",
    "\n",
    "print('Березень є найпопулярнішим місяцем для релізу у 2023 році')"
   ]
  },
  {
   "cell_type": "markdown",
   "id": "6af03812",
   "metadata": {},
   "source": [
    "4. Рейтинг артистів на Spotify: Створіть стовпчикову діаграму, на якій відображаються 10 найпопулярніших артистів на Spotify у 2023 році за кількістю слухачів. "
   ]
  },
  {
   "cell_type": "markdown",
   "id": "7fa256fa",
   "metadata": {},
   "source": [
    "У нас немає даних про кількість слухачів пісні, тому візьмемо нашу колонку streams"
   ]
  },
  {
   "cell_type": "code",
   "execution_count": 105,
   "id": "1d7397fc",
   "metadata": {},
   "outputs": [
    {
     "data": {
      "text/html": [
       "<div>\n",
       "<style scoped>\n",
       "    .dataframe tbody tr th:only-of-type {\n",
       "        vertical-align: middle;\n",
       "    }\n",
       "\n",
       "    .dataframe tbody tr th {\n",
       "        vertical-align: top;\n",
       "    }\n",
       "\n",
       "    .dataframe thead th {\n",
       "        text-align: right;\n",
       "    }\n",
       "</style>\n",
       "<table border=\"1\" class=\"dataframe\">\n",
       "  <thead>\n",
       "    <tr style=\"text-align: right;\">\n",
       "      <th></th>\n",
       "      <th>track_name</th>\n",
       "      <th>artist(s)_name</th>\n",
       "      <th>artist_count</th>\n",
       "      <th>released_year</th>\n",
       "      <th>released_month</th>\n",
       "      <th>released_day</th>\n",
       "      <th>in_spotify_playlists</th>\n",
       "      <th>in_spotify_charts</th>\n",
       "      <th>streams</th>\n",
       "      <th>in_apple_playlists</th>\n",
       "      <th>...</th>\n",
       "      <th>bpm</th>\n",
       "      <th>key</th>\n",
       "      <th>mode</th>\n",
       "      <th>danceability_%</th>\n",
       "      <th>valence_%</th>\n",
       "      <th>energy_%</th>\n",
       "      <th>acousticness_%</th>\n",
       "      <th>instrumentalness_%</th>\n",
       "      <th>liveness_%</th>\n",
       "      <th>speechiness_%</th>\n",
       "    </tr>\n",
       "  </thead>\n",
       "  <tbody>\n",
       "    <tr>\n",
       "      <th>55</th>\n",
       "      <td>Blinding Lights</td>\n",
       "      <td>The Weeknd</td>\n",
       "      <td>1</td>\n",
       "      <td>2019</td>\n",
       "      <td>11</td>\n",
       "      <td>29</td>\n",
       "      <td>43899</td>\n",
       "      <td>69</td>\n",
       "      <td>3.703895e+09</td>\n",
       "      <td>672</td>\n",
       "      <td>...</td>\n",
       "      <td>171</td>\n",
       "      <td>C#</td>\n",
       "      <td>Major</td>\n",
       "      <td>50</td>\n",
       "      <td>38</td>\n",
       "      <td>80</td>\n",
       "      <td>0</td>\n",
       "      <td>0</td>\n",
       "      <td>9</td>\n",
       "      <td>7</td>\n",
       "    </tr>\n",
       "    <tr>\n",
       "      <th>179</th>\n",
       "      <td>Shape of You</td>\n",
       "      <td>Ed Sheeran</td>\n",
       "      <td>1</td>\n",
       "      <td>2017</td>\n",
       "      <td>1</td>\n",
       "      <td>6</td>\n",
       "      <td>32181</td>\n",
       "      <td>10</td>\n",
       "      <td>3.562544e+09</td>\n",
       "      <td>33</td>\n",
       "      <td>...</td>\n",
       "      <td>96</td>\n",
       "      <td>C#</td>\n",
       "      <td>Minor</td>\n",
       "      <td>83</td>\n",
       "      <td>93</td>\n",
       "      <td>65</td>\n",
       "      <td>58</td>\n",
       "      <td>0</td>\n",
       "      <td>9</td>\n",
       "      <td>8</td>\n",
       "    </tr>\n",
       "    <tr>\n",
       "      <th>86</th>\n",
       "      <td>Someone You Loved</td>\n",
       "      <td>Lewis Capaldi</td>\n",
       "      <td>1</td>\n",
       "      <td>2018</td>\n",
       "      <td>11</td>\n",
       "      <td>8</td>\n",
       "      <td>17836</td>\n",
       "      <td>53</td>\n",
       "      <td>2.887242e+09</td>\n",
       "      <td>440</td>\n",
       "      <td>...</td>\n",
       "      <td>110</td>\n",
       "      <td>C#</td>\n",
       "      <td>Major</td>\n",
       "      <td>50</td>\n",
       "      <td>45</td>\n",
       "      <td>41</td>\n",
       "      <td>75</td>\n",
       "      <td>0</td>\n",
       "      <td>11</td>\n",
       "      <td>3</td>\n",
       "    </tr>\n",
       "    <tr>\n",
       "      <th>620</th>\n",
       "      <td>Dance Monkey</td>\n",
       "      <td>Tones and I</td>\n",
       "      <td>1</td>\n",
       "      <td>2019</td>\n",
       "      <td>5</td>\n",
       "      <td>10</td>\n",
       "      <td>24529</td>\n",
       "      <td>0</td>\n",
       "      <td>2.864792e+09</td>\n",
       "      <td>533</td>\n",
       "      <td>...</td>\n",
       "      <td>98</td>\n",
       "      <td>F#</td>\n",
       "      <td>Minor</td>\n",
       "      <td>82</td>\n",
       "      <td>54</td>\n",
       "      <td>59</td>\n",
       "      <td>69</td>\n",
       "      <td>0</td>\n",
       "      <td>18</td>\n",
       "      <td>10</td>\n",
       "    </tr>\n",
       "    <tr>\n",
       "      <th>41</th>\n",
       "      <td>Sunflower - Spider-Man: Into the Spider-Verse</td>\n",
       "      <td>Post Malone, Swae Lee</td>\n",
       "      <td>2</td>\n",
       "      <td>2018</td>\n",
       "      <td>10</td>\n",
       "      <td>9</td>\n",
       "      <td>24094</td>\n",
       "      <td>78</td>\n",
       "      <td>2.808097e+09</td>\n",
       "      <td>372</td>\n",
       "      <td>...</td>\n",
       "      <td>90</td>\n",
       "      <td>D</td>\n",
       "      <td>Major</td>\n",
       "      <td>76</td>\n",
       "      <td>91</td>\n",
       "      <td>50</td>\n",
       "      <td>54</td>\n",
       "      <td>0</td>\n",
       "      <td>7</td>\n",
       "      <td>5</td>\n",
       "    </tr>\n",
       "    <tr>\n",
       "      <th>162</th>\n",
       "      <td>One Dance</td>\n",
       "      <td>Drake, WizKid, Kyla</td>\n",
       "      <td>3</td>\n",
       "      <td>2016</td>\n",
       "      <td>4</td>\n",
       "      <td>4</td>\n",
       "      <td>43257</td>\n",
       "      <td>24</td>\n",
       "      <td>2.713922e+09</td>\n",
       "      <td>433</td>\n",
       "      <td>...</td>\n",
       "      <td>104</td>\n",
       "      <td>C#</td>\n",
       "      <td>Major</td>\n",
       "      <td>77</td>\n",
       "      <td>36</td>\n",
       "      <td>63</td>\n",
       "      <td>1</td>\n",
       "      <td>0</td>\n",
       "      <td>36</td>\n",
       "      <td>5</td>\n",
       "    </tr>\n",
       "    <tr>\n",
       "      <th>84</th>\n",
       "      <td>STAY (with Justin Bieber)</td>\n",
       "      <td>Justin Bieber, The Kid Laroi</td>\n",
       "      <td>2</td>\n",
       "      <td>2021</td>\n",
       "      <td>7</td>\n",
       "      <td>9</td>\n",
       "      <td>17050</td>\n",
       "      <td>36</td>\n",
       "      <td>2.665344e+09</td>\n",
       "      <td>492</td>\n",
       "      <td>...</td>\n",
       "      <td>170</td>\n",
       "      <td>C#</td>\n",
       "      <td>Major</td>\n",
       "      <td>59</td>\n",
       "      <td>48</td>\n",
       "      <td>76</td>\n",
       "      <td>4</td>\n",
       "      <td>0</td>\n",
       "      <td>10</td>\n",
       "      <td>5</td>\n",
       "    </tr>\n",
       "    <tr>\n",
       "      <th>140</th>\n",
       "      <td>Believer</td>\n",
       "      <td>Imagine Dragons</td>\n",
       "      <td>1</td>\n",
       "      <td>2017</td>\n",
       "      <td>1</td>\n",
       "      <td>31</td>\n",
       "      <td>18986</td>\n",
       "      <td>23</td>\n",
       "      <td>2.594040e+09</td>\n",
       "      <td>250</td>\n",
       "      <td>...</td>\n",
       "      <td>125</td>\n",
       "      <td>A#</td>\n",
       "      <td>Minor</td>\n",
       "      <td>77</td>\n",
       "      <td>74</td>\n",
       "      <td>78</td>\n",
       "      <td>4</td>\n",
       "      <td>0</td>\n",
       "      <td>23</td>\n",
       "      <td>11</td>\n",
       "    </tr>\n",
       "    <tr>\n",
       "      <th>725</th>\n",
       "      <td>Closer</td>\n",
       "      <td>The Chainsmokers, Halsey</td>\n",
       "      <td>2</td>\n",
       "      <td>2016</td>\n",
       "      <td>5</td>\n",
       "      <td>31</td>\n",
       "      <td>28032</td>\n",
       "      <td>0</td>\n",
       "      <td>2.591224e+09</td>\n",
       "      <td>315</td>\n",
       "      <td>...</td>\n",
       "      <td>95</td>\n",
       "      <td>G#</td>\n",
       "      <td>Major</td>\n",
       "      <td>75</td>\n",
       "      <td>64</td>\n",
       "      <td>52</td>\n",
       "      <td>41</td>\n",
       "      <td>0</td>\n",
       "      <td>11</td>\n",
       "      <td>3</td>\n",
       "    </tr>\n",
       "    <tr>\n",
       "      <th>48</th>\n",
       "      <td>Starboy</td>\n",
       "      <td>The Weeknd, Daft Punk</td>\n",
       "      <td>2</td>\n",
       "      <td>2016</td>\n",
       "      <td>9</td>\n",
       "      <td>21</td>\n",
       "      <td>29536</td>\n",
       "      <td>79</td>\n",
       "      <td>2.565530e+09</td>\n",
       "      <td>281</td>\n",
       "      <td>...</td>\n",
       "      <td>186</td>\n",
       "      <td>G</td>\n",
       "      <td>Major</td>\n",
       "      <td>68</td>\n",
       "      <td>49</td>\n",
       "      <td>59</td>\n",
       "      <td>16</td>\n",
       "      <td>0</td>\n",
       "      <td>13</td>\n",
       "      <td>28</td>\n",
       "    </tr>\n",
       "  </tbody>\n",
       "</table>\n",
       "<p>10 rows × 24 columns</p>\n",
       "</div>"
      ],
      "text/plain": [
       "                                        track_name  \\\n",
       "55                                 Blinding Lights   \n",
       "179                                   Shape of You   \n",
       "86                               Someone You Loved   \n",
       "620                                   Dance Monkey   \n",
       "41   Sunflower - Spider-Man: Into the Spider-Verse   \n",
       "162                                      One Dance   \n",
       "84                       STAY (with Justin Bieber)   \n",
       "140                                       Believer   \n",
       "725                                         Closer   \n",
       "48                                         Starboy   \n",
       "\n",
       "                   artist(s)_name  artist_count  released_year  \\\n",
       "55                     The Weeknd             1           2019   \n",
       "179                    Ed Sheeran             1           2017   \n",
       "86                  Lewis Capaldi             1           2018   \n",
       "620                   Tones and I             1           2019   \n",
       "41          Post Malone, Swae Lee             2           2018   \n",
       "162           Drake, WizKid, Kyla             3           2016   \n",
       "84   Justin Bieber, The Kid Laroi             2           2021   \n",
       "140               Imagine Dragons             1           2017   \n",
       "725      The Chainsmokers, Halsey             2           2016   \n",
       "48          The Weeknd, Daft Punk             2           2016   \n",
       "\n",
       "     released_month  released_day  in_spotify_playlists  in_spotify_charts  \\\n",
       "55               11            29                 43899                 69   \n",
       "179               1             6                 32181                 10   \n",
       "86               11             8                 17836                 53   \n",
       "620               5            10                 24529                  0   \n",
       "41               10             9                 24094                 78   \n",
       "162               4             4                 43257                 24   \n",
       "84                7             9                 17050                 36   \n",
       "140               1            31                 18986                 23   \n",
       "725               5            31                 28032                  0   \n",
       "48                9            21                 29536                 79   \n",
       "\n",
       "          streams  in_apple_playlists  ...  bpm key   mode danceability_%  \\\n",
       "55   3.703895e+09                 672  ...  171  C#  Major             50   \n",
       "179  3.562544e+09                  33  ...   96  C#  Minor             83   \n",
       "86   2.887242e+09                 440  ...  110  C#  Major             50   \n",
       "620  2.864792e+09                 533  ...   98  F#  Minor             82   \n",
       "41   2.808097e+09                 372  ...   90   D  Major             76   \n",
       "162  2.713922e+09                 433  ...  104  C#  Major             77   \n",
       "84   2.665344e+09                 492  ...  170  C#  Major             59   \n",
       "140  2.594040e+09                 250  ...  125  A#  Minor             77   \n",
       "725  2.591224e+09                 315  ...   95  G#  Major             75   \n",
       "48   2.565530e+09                 281  ...  186   G  Major             68   \n",
       "\n",
       "     valence_% energy_% acousticness_%  instrumentalness_%  liveness_%  \\\n",
       "55          38       80              0                   0           9   \n",
       "179         93       65             58                   0           9   \n",
       "86          45       41             75                   0          11   \n",
       "620         54       59             69                   0          18   \n",
       "41          91       50             54                   0           7   \n",
       "162         36       63              1                   0          36   \n",
       "84          48       76              4                   0          10   \n",
       "140         74       78              4                   0          23   \n",
       "725         64       52             41                   0          11   \n",
       "48          49       59             16                   0          13   \n",
       "\n",
       "     speechiness_%  \n",
       "55               7  \n",
       "179              8  \n",
       "86               3  \n",
       "620             10  \n",
       "41               5  \n",
       "162              5  \n",
       "84               5  \n",
       "140             11  \n",
       "725              3  \n",
       "48              28  \n",
       "\n",
       "[10 rows x 24 columns]"
      ]
     },
     "execution_count": 105,
     "metadata": {},
     "output_type": "execute_result"
    }
   ],
   "source": [
    "#скористаємось уже стовореним датафреймом з найпопулярнішими піснями\n",
    "top_10_spotify "
   ]
  },
  {
   "cell_type": "code",
   "execution_count": 106,
   "id": "c300a214",
   "metadata": {},
   "outputs": [
    {
     "data": {
      "image/png": "[encoded data removed]",
      "text/plain": [
       "<Figure size 1000x600 with 1 Axes>"
      ]
     },
     "metadata": {},
     "output_type": "display_data"
    }
   ],
   "source": [
    "plt.figure(figsize=(10, 6))\n",
    "plt.barh(top_10_spotify['artist(s)_name'], top_10_spotify['streams'])\n",
    "plt.xlabel('Кількість прослуховувань')\n",
    "plt.title('10 найпопулярніших пісень на Spotify у 2023 році')\n",
    "plt.gca().invert_yaxis()  # Щоб найпопулярніші виконавці були зверху\n",
    "plt.show();"
   ]
  },
  {
   "cell_type": "markdown",
   "id": "e1d1f7bb",
   "metadata": {},
   "source": [
    "Ми можемо поєднати графік з найпопулярнішими виконавцями та назвами пісень (з першого завдання), зробивши його інтерактивним за допомогою plotly. Тепер наводячи на графік певної пісні ми бачимо її виконавця та кількість прослуховувань"
   ]
  },
  {
   "cell_type": "code",
   "execution_count": 107,
   "id": "4317617b",
   "metadata": {},
   "outputs": [
    {
     "data": {
      "application/vnd.plotly.v1+json": {
       "config": {
        "plotlyServerURL": "https://plot.ly"
       },
       "data": [
        {
         "alignmentgroup": "True",
         "hovertemplate": "<b>%{hovertext}</b><br><br>track_name=%{x}<br>streams=%{y}<extra></extra>",
         "hovertext": [
          "The Weeknd"
         ],
         "legendgroup": "Blinding Lights",
         "marker": {
          "color": "#636efa",
          "pattern": {
           "shape": ""
          }
         },
         "name": "Blinding Lights",
         "offsetgroup": "Blinding Lights",
         "orientation": "v",
         "showlegend": true,
         "textposition": "auto",
         "type": "bar",
         "x": [
          "Blinding Lights"
         ],
         "xaxis": "x",
         "y": [
          3703895074
         ],
         "yaxis": "y"
        },
        {
         "alignmentgroup": "True",
         "hovertemplate": "<b>%{hovertext}</b><br><br>track_name=%{x}<br>streams=%{y}<extra></extra>",
         "hovertext": [
          "Ed Sheeran"
         ],
         "legendgroup": "Shape of You",
         "marker": {
          "color": "#EF553B",
          "pattern": {
           "shape": ""
          }
         },
         "name": "Shape of You",
         "offsetgroup": "Shape of You",
         "orientation": "v",
         "showlegend": true,
         "textposition": "auto",
         "type": "bar",
         "x": [
          "Shape of You"
         ],
         "xaxis": "x",
         "y": [
          3562543890
         ],
         "yaxis": "y"
        },
        {
         "alignmentgroup": "True",
         "hovertemplate": "<b>%{hovertext}</b><br><br>track_name=%{x}<br>streams=%{y}<extra></extra>",
         "hovertext": [
          "Lewis Capaldi"
         ],
         "legendgroup": "Someone You Loved",
         "marker": {
          "color": "#00cc96",
          "pattern": {
           "shape": ""
          }
         },
         "name": "Someone You Loved",
         "offsetgroup": "Someone You Loved",
         "orientation": "v",
         "showlegend": true,
         "textposition": "auto",
         "type": "bar",
         "x": [
          "Someone You Loved"
         ],
         "xaxis": "x",
         "y": [
          2887241814
         ],
         "yaxis": "y"
        },
        {
         "alignmentgroup": "True",
         "hovertemplate": "<b>%{hovertext}</b><br><br>track_name=%{x}<br>streams=%{y}<extra></extra>",
         "hovertext": [
          "Tones and I"
         ],
         "legendgroup": "Dance Monkey",
         "marker": {
          "color": "#ab63fa",
          "pattern": {
           "shape": ""
          }
         },
         "name": "Dance Monkey",
         "offsetgroup": "Dance Monkey",
         "orientation": "v",
         "showlegend": true,
         "textposition": "auto",
         "type": "bar",
         "x": [
          "Dance Monkey"
         ],
         "xaxis": "x",
         "y": [
          2864791672
         ],
         "yaxis": "y"
        },
        {
         "alignmentgroup": "True",
         "hovertemplate": "<b>%{hovertext}</b><br><br>track_name=%{x}<br>streams=%{y}<extra></extra>",
         "hovertext": [
          "Post Malone, Swae Lee"
         ],
         "legendgroup": "Sunflower - Spider-Man: Into the Spider-Verse",
         "marker": {
          "color": "#FFA15A",
          "pattern": {
           "shape": ""
          }
         },
         "name": "Sunflower - Spider-Man: Into the Spider-Verse",
         "offsetgroup": "Sunflower - Spider-Man: Into the Spider-Verse",
         "orientation": "v",
         "showlegend": true,
         "textposition": "auto",
         "type": "bar",
         "x": [
          "Sunflower - Spider-Man: Into the Spider-Verse"
         ],
         "xaxis": "x",
         "y": [
          2808096550
         ],
         "yaxis": "y"
        },
        {
         "alignmentgroup": "True",
         "hovertemplate": "<b>%{hovertext}</b><br><br>track_name=%{x}<br>streams=%{y}<extra></extra>",
         "hovertext": [
          "Drake, WizKid, Kyla"
         ],
         "legendgroup": "One Dance",
         "marker": {
          "color": "#19d3f3",
          "pattern": {
           "shape": ""
          }
         },
         "name": "One Dance",
         "offsetgroup": "One Dance",
         "orientation": "v",
         "showlegend": true,
         "textposition": "auto",
         "type": "bar",
         "x": [
          "One Dance"
         ],
         "xaxis": "x",
         "y": [
          2713922350
         ],
         "yaxis": "y"
        },
        {
         "alignmentgroup": "True",
         "hovertemplate": "<b>%{hovertext}</b><br><br>track_name=%{x}<br>streams=%{y}<extra></extra>",
         "hovertext": [
          "Justin Bieber, The Kid Laroi"
         ],
         "legendgroup": "STAY (with Justin Bieber)",
         "marker": {
          "color": "#FF6692",
          "pattern": {
           "shape": ""
          }
         },
         "name": "STAY (with Justin Bieber)",
         "offsetgroup": "STAY (with Justin Bieber)",
         "orientation": "v",
         "showlegend": true,
         "textposition": "auto",
         "type": "bar",
         "x": [
          "STAY (with Justin Bieber)"
         ],
         "xaxis": "x",
         "y": [
          2665343922
         ],
         "yaxis": "y"
        },
        {
         "alignmentgroup": "True",
         "hovertemplate": "<b>%{hovertext}</b><br><br>track_name=%{x}<br>streams=%{y}<extra></extra>",
         "hovertext": [
          "Imagine Dragons"
         ],
         "legendgroup": "Believer",
         "marker": {
          "color": "#B6E880",
          "pattern": {
           "shape": ""
          }
         },
         "name": "Believer",
         "offsetgroup": "Believer",
         "orientation": "v",
         "showlegend": true,
         "textposition": "auto",
         "type": "bar",
         "x": [
          "Believer"
         ],
         "xaxis": "x",
         "y": [
          2594040133
         ],
         "yaxis": "y"
        },
        {
         "alignmentgroup": "True",
         "hovertemplate": "<b>%{hovertext}</b><br><br>track_name=%{x}<br>streams=%{y}<extra></extra>",
         "hovertext": [
          "The Chainsmokers, Halsey"
         ],
         "legendgroup": "Closer",
         "marker": {
          "color": "#FF97FF",
          "pattern": {
           "shape": ""
          }
         },
         "name": "Closer",
         "offsetgroup": "Closer",
         "orientation": "v",
         "showlegend": true,
         "textposition": "auto",
         "type": "bar",
         "x": [
          "Closer"
         ],
         "xaxis": "x",
         "y": [
          2591224264
         ],
         "yaxis": "y"
        },
        {
         "alignmentgroup": "True",
         "hovertemplate": "<b>%{hovertext}</b><br><br>track_name=%{x}<br>streams=%{y}<extra></extra>",
         "hovertext": [
          "The Weeknd, Daft Punk"
         ],
         "legendgroup": "Starboy",
         "marker": {
          "color": "#FECB52",
          "pattern": {
           "shape": ""
          }
         },
         "name": "Starboy",
         "offsetgroup": "Starboy",
         "orientation": "v",
         "showlegend": true,
         "textposition": "auto",
         "type": "bar",
         "x": [
          "Starboy"
         ],
         "xaxis": "x",
         "y": [
          2565529693
         ],
         "yaxis": "y"
        }
       ],
       "layout": {
        "barmode": "relative",
        "height": 800,
        "legend": {
         "title": {
          "text": "track_name"
         },
         "tracegroupgap": 0
        },
        "template": {
         "data": {
          "bar": [
           {
            "error_x": {
             "color": "#2a3f5f"
            },
            "error_y": {
             "color": "#2a3f5f"
            },
            "marker": {
             "line": {
              "color": "#E5ECF6",
              "width": 0.5
             },
             "pattern": {
              "fillmode": "overlay",
              "size": 10,
              "solidity": 0.2
             }
            },
            "type": "bar"
           }
          ],
          "barpolar": [
           {
            "marker": {
             "line": {
              "color": "#E5ECF6",
              "width": 0.5
             },
             "pattern": {
              "fillmode": "overlay",
              "size": 10,
              "solidity": 0.2
             }
            },
            "type": "barpolar"
           }
          ],
          "carpet": [
           {
            "aaxis": {
             "endlinecolor": "#2a3f5f",
             "gridcolor": "white",
             "linecolor": "white",
             "minorgridcolor": "white",
             "startlinecolor": "#2a3f5f"
            },
            "baxis": {
             "endlinecolor": "#2a3f5f",
             "gridcolor": "white",
             "linecolor": "white",
             "minorgridcolor": "white",
             "startlinecolor": "#2a3f5f"
            },
            "type": "carpet"
           }
          ],
          "choropleth": [
           {
            "colorbar": {
             "outlinewidth": 0,
             "ticks": ""
            },
            "type": "choropleth"
           }
          ],
          "contour": [
           {
            "colorbar": {
             "outlinewidth": 0,
             "ticks": ""
            },
            "colorscale": [
             [
              0,
              "#0d0887"
             ],
             [
              0.1111111111111111,
              "#46039f"
             ],
             [
              0.2222222222222222,
              "#7201a8"
             ],
             [
              0.3333333333333333,
              "#9c179e"
             ],
             [
              0.4444444444444444,
              "#bd3786"
             ],
             [
              0.5555555555555556,
              "#d8576b"
             ],
             [
              0.6666666666666666,
              "#ed7953"
             ],
             [
              0.7777777777777778,
              "#fb9f3a"
             ],
             [
              0.8888888888888888,
              "#fdca26"
             ],
             [
              1,
              "#f0f921"
             ]
            ],
            "type": "contour"
           }
          ],
          "contourcarpet": [
           {
            "colorbar": {
             "outlinewidth": 0,
             "ticks": ""
            },
            "type": "contourcarpet"
           }
          ],
          "heatmap": [
           {
            "colorbar": {
             "outlinewidth": 0,
             "ticks": ""
            },
            "colorscale": [
             [
              0,
              "#0d0887"
             ],
             [
              0.1111111111111111,
              "#46039f"
             ],
             [
              0.2222222222222222,
              "#7201a8"
             ],
             [
              0.3333333333333333,
              "#9c179e"
             ],
             [
              0.4444444444444444,
              "#bd3786"
             ],
             [
              0.5555555555555556,
              "#d8576b"
             ],
             [
              0.6666666666666666,
              "#ed7953"
             ],
             [
              0.7777777777777778,
              "#fb9f3a"
             ],
             [
              0.8888888888888888,
              "#fdca26"
             ],
             [
              1,
              "#f0f921"
             ]
            ],
            "type": "heatmap"
           }
          ],
          "heatmapgl": [
           {
            "colorbar": {
             "outlinewidth": 0,
             "ticks": ""
            },
            "colorscale": [
             [
              0,
              "#0d0887"
             ],
             [
              0.1111111111111111,
              "#46039f"
             ],
             [
              0.2222222222222222,
              "#7201a8"
             ],
             [
              0.3333333333333333,
              "#9c179e"
             ],
             [
              0.4444444444444444,
              "#bd3786"
             ],
             [
              0.5555555555555556,
              "#d8576b"
             ],
             [
              0.6666666666666666,
              "#ed7953"
             ],
             [
              0.7777777777777778,
              "#fb9f3a"
             ],
             [
              0.8888888888888888,
              "#fdca26"
             ],
             [
              1,
              "#f0f921"
             ]
            ],
            "type": "heatmapgl"
           }
          ],
          "histogram": [
           {
            "marker": {
             "pattern": {
              "fillmode": "overlay",
              "size": 10,
              "solidity": 0.2
             }
            },
            "type": "histogram"
           }
          ],
          "histogram2d": [
           {
            "colorbar": {
             "outlinewidth": 0,
             "ticks": ""
            },
            "colorscale": [
             [
              0,
              "#0d0887"
             ],
             [
              0.1111111111111111,
              "#46039f"
             ],
             [
              0.2222222222222222,
              "#7201a8"
             ],
             [
              0.3333333333333333,
              "#9c179e"
             ],
             [
              0.4444444444444444,
              "#bd3786"
             ],
             [
              0.5555555555555556,
              "#d8576b"
             ],
             [
              0.6666666666666666,
              "#ed7953"
             ],
             [
              0.7777777777777778,
              "#fb9f3a"
             ],
             [
              0.8888888888888888,
              "#fdca26"
             ],
             [
              1,
              "#f0f921"
             ]
            ],
            "type": "histogram2d"
           }
          ],
          "histogram2dcontour": [
           {
            "colorbar": {
             "outlinewidth": 0,
             "ticks": ""
            },
            "colorscale": [
             [
              0,
              "#0d0887"
             ],
             [
              0.1111111111111111,
              "#46039f"
             ],
             [
              0.2222222222222222,
              "#7201a8"
             ],
             [
              0.3333333333333333,
              "#9c179e"
             ],
             [
              0.4444444444444444,
              "#bd3786"
             ],
             [
              0.5555555555555556,
              "#d8576b"
             ],
             [
              0.6666666666666666,
              "#ed7953"
             ],
             [
              0.7777777777777778,
              "#fb9f3a"
             ],
             [
              0.8888888888888888,
              "#fdca26"
             ],
             [
              1,
              "#f0f921"
             ]
            ],
            "type": "histogram2dcontour"
           }
          ],
          "mesh3d": [
           {
            "colorbar": {
             "outlinewidth": 0,
             "ticks": ""
            },
            "type": "mesh3d"
           }
          ],
          "parcoords": [
           {
            "line": {
             "colorbar": {
              "outlinewidth": 0,
              "ticks": ""
             }
            },
            "type": "parcoords"
           }
          ],
          "pie": [
           {
            "automargin": true,
            "type": "pie"
           }
          ],
          "scatter": [
           {
            "fillpattern": {
             "fillmode": "overlay",
             "size": 10,
             "solidity": 0.2
            },
            "type": "scatter"
           }
          ],
          "scatter3d": [
           {
            "line": {
             "colorbar": {
              "outlinewidth": 0,
              "ticks": ""
             }
            },
            "marker": {
             "colorbar": {
              "outlinewidth": 0,
              "ticks": ""
             }
            },
            "type": "scatter3d"
           }
          ],
          "scattercarpet": [
           {
            "marker": {
             "colorbar": {
              "outlinewidth": 0,
              "ticks": ""
             }
            },
            "type": "scattercarpet"
           }
          ],
          "scattergeo": [
           {
            "marker": {
             "colorbar": {
              "outlinewidth": 0,
              "ticks": ""
             }
            },
            "type": "scattergeo"
           }
          ],
          "scattergl": [
           {
            "marker": {
             "colorbar": {
              "outlinewidth": 0,
              "ticks": ""
             }
            },
            "type": "scattergl"
           }
          ],
          "scattermapbox": [
           {
            "marker": {
             "colorbar": {
              "outlinewidth": 0,
              "ticks": ""
             }
            },
            "type": "scattermapbox"
           }
          ],
          "scatterpolar": [
           {
            "marker": {
             "colorbar": {
              "outlinewidth": 0,
              "ticks": ""
             }
            },
            "type": "scatterpolar"
           }
          ],
          "scatterpolargl": [
           {
            "marker": {
             "colorbar": {
              "outlinewidth": 0,
              "ticks": ""
             }
            },
            "type": "scatterpolargl"
           }
          ],
          "scatterternary": [
           {
            "marker": {
             "colorbar": {
              "outlinewidth": 0,
              "ticks": ""
             }
            },
            "type": "scatterternary"
           }
          ],
          "surface": [
           {
            "colorbar": {
             "outlinewidth": 0,
             "ticks": ""
            },
            "colorscale": [
             [
              0,
              "#0d0887"
             ],
             [
              0.1111111111111111,
              "#46039f"
             ],
             [
              0.2222222222222222,
              "#7201a8"
             ],
             [
              0.3333333333333333,
              "#9c179e"
             ],
             [
              0.4444444444444444,
              "#bd3786"
             ],
             [
              0.5555555555555556,
              "#d8576b"
             ],
             [
              0.6666666666666666,
              "#ed7953"
             ],
             [
              0.7777777777777778,
              "#fb9f3a"
             ],
             [
              0.8888888888888888,
              "#fdca26"
             ],
             [
              1,
              "#f0f921"
             ]
            ],
            "type": "surface"
           }
          ],
          "table": [
           {
            "cells": {
             "fill": {
              "color": "#EBF0F8"
             },
             "line": {
              "color": "white"
             }
            },
            "header": {
             "fill": {
              "color": "#C8D4E3"
             },
             "line": {
              "color": "white"
             }
            },
            "type": "table"
           }
          ]
         },
         "layout": {
          "annotationdefaults": {
           "arrowcolor": "#2a3f5f",
           "arrowhead": 0,
           "arrowwidth": 1
          },
          "autotypenumbers": "strict",
          "coloraxis": {
           "colorbar": {
            "outlinewidth": 0,
            "ticks": ""
           }
          },
          "colorscale": {
           "diverging": [
            [
             0,
             "#8e0152"
            ],
            [
             0.1,
             "#c51b7d"
            ],
            [
             0.2,
             "#de77ae"
            ],
            [
             0.3,
             "#f1b6da"
            ],
            [
             0.4,
             "#fde0ef"
            ],
            [
             0.5,
             "#f7f7f7"
            ],
            [
             0.6,
             "#e6f5d0"
            ],
            [
             0.7,
             "#b8e186"
            ],
            [
             0.8,
             "#7fbc41"
            ],
            [
             0.9,
             "#4d9221"
            ],
            [
             1,
             "#276419"
            ]
           ],
           "sequential": [
            [
             0,
             "#0d0887"
            ],
            [
             0.1111111111111111,
             "#46039f"
            ],
            [
             0.2222222222222222,
             "#7201a8"
            ],
            [
             0.3333333333333333,
             "#9c179e"
            ],
            [
             0.4444444444444444,
             "#bd3786"
            ],
            [
             0.5555555555555556,
             "#d8576b"
            ],
            [
             0.6666666666666666,
             "#ed7953"
            ],
            [
             0.7777777777777778,
             "#fb9f3a"
            ],
            [
             0.8888888888888888,
             "#fdca26"
            ],
            [
             1,
             "#f0f921"
            ]
           ],
           "sequentialminus": [
            [
             0,
             "#0d0887"
            ],
            [
             0.1111111111111111,
             "#46039f"
            ],
            [
             0.2222222222222222,
             "#7201a8"
            ],
            [
             0.3333333333333333,
             "#9c179e"
            ],
            [
             0.4444444444444444,
             "#bd3786"
            ],
            [
             0.5555555555555556,
             "#d8576b"
            ],
            [
             0.6666666666666666,
             "#ed7953"
            ],
            [
             0.7777777777777778,
             "#fb9f3a"
            ],
            [
             0.8888888888888888,
             "#fdca26"
            ],
            [
             1,
             "#f0f921"
            ]
           ]
          },
          "colorway": [
           "#636efa",
           "#EF553B",
           "#00cc96",
           "#ab63fa",
           "#FFA15A",
           "#19d3f3",
           "#FF6692",
           "#B6E880",
           "#FF97FF",
           "#FECB52"
          ],
          "font": {
           "color": "#2a3f5f"
          },
          "geo": {
           "bgcolor": "white",
           "lakecolor": "white",
           "landcolor": "#E5ECF6",
           "showlakes": true,
           "showland": true,
           "subunitcolor": "white"
          },
          "hoverlabel": {
           "align": "left"
          },
          "hovermode": "closest",
          "mapbox": {
           "style": "light"
          },
          "paper_bgcolor": "white",
          "plot_bgcolor": "#E5ECF6",
          "polar": {
           "angularaxis": {
            "gridcolor": "white",
            "linecolor": "white",
            "ticks": ""
           },
           "bgcolor": "#E5ECF6",
           "radialaxis": {
            "gridcolor": "white",
            "linecolor": "white",
            "ticks": ""
           }
          },
          "scene": {
           "xaxis": {
            "backgroundcolor": "#E5ECF6",
            "gridcolor": "white",
            "gridwidth": 2,
            "linecolor": "white",
            "showbackground": true,
            "ticks": "",
            "zerolinecolor": "white"
           },
           "yaxis": {
            "backgroundcolor": "#E5ECF6",
            "gridcolor": "white",
            "gridwidth": 2,
            "linecolor": "white",
            "showbackground": true,
            "ticks": "",
            "zerolinecolor": "white"
           },
           "zaxis": {
            "backgroundcolor": "#E5ECF6",
            "gridcolor": "white",
            "gridwidth": 2,
            "linecolor": "white",
            "showbackground": true,
            "ticks": "",
            "zerolinecolor": "white"
           }
          },
          "shapedefaults": {
           "line": {
            "color": "#2a3f5f"
           }
          },
          "ternary": {
           "aaxis": {
            "gridcolor": "white",
            "linecolor": "white",
            "ticks": ""
           },
           "baxis": {
            "gridcolor": "white",
            "linecolor": "white",
            "ticks": ""
           },
           "bgcolor": "#E5ECF6",
           "caxis": {
            "gridcolor": "white",
            "linecolor": "white",
            "ticks": ""
           }
          },
          "title": {
           "x": 0.05
          },
          "xaxis": {
           "automargin": true,
           "gridcolor": "white",
           "linecolor": "white",
           "ticks": "",
           "title": {
            "standoff": 15
           },
           "zerolinecolor": "white",
           "zerolinewidth": 2
          },
          "yaxis": {
           "automargin": true,
           "gridcolor": "white",
           "linecolor": "white",
           "ticks": "",
           "title": {
            "standoff": 15
           },
           "zerolinecolor": "white",
           "zerolinewidth": 2
          }
         }
        },
        "title": {
         "text": "10 найпопулярніших пісень на Spotify у 2023 році"
        },
        "width": 1000,
        "xaxis": {
         "anchor": "y",
         "categoryarray": [
          "Blinding Lights",
          "Shape of You",
          "Someone You Loved",
          "Dance Monkey",
          "Sunflower - Spider-Man: Into the Spider-Verse",
          "One Dance",
          "STAY (with Justin Bieber)",
          "Believer",
          "Closer",
          "Starboy"
         ],
         "categoryorder": "total descending",
         "domain": [
          0,
          1
         ],
         "title": {
          "text": "Назва пісні"
         }
        },
        "yaxis": {
         "anchor": "x",
         "domain": [
          0,
          1
         ],
         "title": {
          "text": "Кількість прослуховувань"
         }
        }
       }
      },
      "text/html": [
       "<div>                            <div id=\"8edb3ea8-f618-4bb1-aa73-e651532e08c2\" class=\"plotly-graph-div\" style=\"height:800px; width:1000px;\"></div>            <script type=\"text/javascript\">                require([\"plotly\"], function(Plotly) {                    window.PLOTLYENV=window.PLOTLYENV || {};                                    if (document.getElementById(\"8edb3ea8-f618-4bb1-aa73-e651532e08c2\")) {                    Plotly.newPlot(                        \"8edb3ea8-f618-4bb1-aa73-e651532e08c2\",                        [{\"alignmentgroup\":\"True\",\"hovertemplate\":\"<b>%{hovertext}</b><br><br>track_name=%{x}<br>streams=%{y}<extra></extra>\",\"hovertext\":[\"The Weeknd\"],\"legendgroup\":\"Blinding Lights\",\"marker\":{\"color\":\"#636efa\",\"pattern\":{\"shape\":\"\"}},\"name\":\"Blinding Lights\",\"offsetgroup\":\"Blinding Lights\",\"orientation\":\"v\",\"showlegend\":true,\"textposition\":\"auto\",\"x\":[\"Blinding Lights\"],\"xaxis\":\"x\",\"y\":[3703895074.0],\"yaxis\":\"y\",\"type\":\"bar\"},{\"alignmentgroup\":\"True\",\"hovertemplate\":\"<b>%{hovertext}</b><br><br>track_name=%{x}<br>streams=%{y}<extra></extra>\",\"hovertext\":[\"Ed Sheeran\"],\"legendgroup\":\"Shape of You\",\"marker\":{\"color\":\"#EF553B\",\"pattern\":{\"shape\":\"\"}},\"name\":\"Shape of You\",\"offsetgroup\":\"Shape of You\",\"orientation\":\"v\",\"showlegend\":true,\"textposition\":\"auto\",\"x\":[\"Shape of You\"],\"xaxis\":\"x\",\"y\":[3562543890.0],\"yaxis\":\"y\",\"type\":\"bar\"},{\"alignmentgroup\":\"True\",\"hovertemplate\":\"<b>%{hovertext}</b><br><br>track_name=%{x}<br>streams=%{y}<extra></extra>\",\"hovertext\":[\"Lewis Capaldi\"],\"legendgroup\":\"Someone You Loved\",\"marker\":{\"color\":\"#00cc96\",\"pattern\":{\"shape\":\"\"}},\"name\":\"Someone You Loved\",\"offsetgroup\":\"Someone You Loved\",\"orientation\":\"v\",\"showlegend\":true,\"textposition\":\"auto\",\"x\":[\"Someone You Loved\"],\"xaxis\":\"x\",\"y\":[2887241814.0],\"yaxis\":\"y\",\"type\":\"bar\"},{\"alignmentgroup\":\"True\",\"hovertemplate\":\"<b>%{hovertext}</b><br><br>track_name=%{x}<br>streams=%{y}<extra></extra>\",\"hovertext\":[\"Tones and I\"],\"legendgroup\":\"Dance Monkey\",\"marker\":{\"color\":\"#ab63fa\",\"pattern\":{\"shape\":\"\"}},\"name\":\"Dance Monkey\",\"offsetgroup\":\"Dance Monkey\",\"orientation\":\"v\",\"showlegend\":true,\"textposition\":\"auto\",\"x\":[\"Dance Monkey\"],\"xaxis\":\"x\",\"y\":[2864791672.0],\"yaxis\":\"y\",\"type\":\"bar\"},{\"alignmentgroup\":\"True\",\"hovertemplate\":\"<b>%{hovertext}</b><br><br>track_name=%{x}<br>streams=%{y}<extra></extra>\",\"hovertext\":[\"Post Malone, Swae Lee\"],\"legendgroup\":\"Sunflower - Spider-Man: Into the Spider-Verse\",\"marker\":{\"color\":\"#FFA15A\",\"pattern\":{\"shape\":\"\"}},\"name\":\"Sunflower - Spider-Man: Into the Spider-Verse\",\"offsetgroup\":\"Sunflower - Spider-Man: Into the Spider-Verse\",\"orientation\":\"v\",\"showlegend\":true,\"textposition\":\"auto\",\"x\":[\"Sunflower - Spider-Man: Into the Spider-Verse\"],\"xaxis\":\"x\",\"y\":[2808096550.0],\"yaxis\":\"y\",\"type\":\"bar\"},{\"alignmentgroup\":\"True\",\"hovertemplate\":\"<b>%{hovertext}</b><br><br>track_name=%{x}<br>streams=%{y}<extra></extra>\",\"hovertext\":[\"Drake, WizKid, Kyla\"],\"legendgroup\":\"One Dance\",\"marker\":{\"color\":\"#19d3f3\",\"pattern\":{\"shape\":\"\"}},\"name\":\"One Dance\",\"offsetgroup\":\"One Dance\",\"orientation\":\"v\",\"showlegend\":true,\"textposition\":\"auto\",\"x\":[\"One Dance\"],\"xaxis\":\"x\",\"y\":[2713922350.0],\"yaxis\":\"y\",\"type\":\"bar\"},{\"alignmentgroup\":\"True\",\"hovertemplate\":\"<b>%{hovertext}</b><br><br>track_name=%{x}<br>streams=%{y}<extra></extra>\",\"hovertext\":[\"Justin Bieber, The Kid Laroi\"],\"legendgroup\":\"STAY (with Justin Bieber)\",\"marker\":{\"color\":\"#FF6692\",\"pattern\":{\"shape\":\"\"}},\"name\":\"STAY (with Justin Bieber)\",\"offsetgroup\":\"STAY (with Justin Bieber)\",\"orientation\":\"v\",\"showlegend\":true,\"textposition\":\"auto\",\"x\":[\"STAY (with Justin Bieber)\"],\"xaxis\":\"x\",\"y\":[2665343922.0],\"yaxis\":\"y\",\"type\":\"bar\"},{\"alignmentgroup\":\"True\",\"hovertemplate\":\"<b>%{hovertext}</b><br><br>track_name=%{x}<br>streams=%{y}<extra></extra>\",\"hovertext\":[\"Imagine Dragons\"],\"legendgroup\":\"Believer\",\"marker\":{\"color\":\"#B6E880\",\"pattern\":{\"shape\":\"\"}},\"name\":\"Believer\",\"offsetgroup\":\"Believer\",\"orientation\":\"v\",\"showlegend\":true,\"textposition\":\"auto\",\"x\":[\"Believer\"],\"xaxis\":\"x\",\"y\":[2594040133.0],\"yaxis\":\"y\",\"type\":\"bar\"},{\"alignmentgroup\":\"True\",\"hovertemplate\":\"<b>%{hovertext}</b><br><br>track_name=%{x}<br>streams=%{y}<extra></extra>\",\"hovertext\":[\"The Chainsmokers, Halsey\"],\"legendgroup\":\"Closer\",\"marker\":{\"color\":\"#FF97FF\",\"pattern\":{\"shape\":\"\"}},\"name\":\"Closer\",\"offsetgroup\":\"Closer\",\"orientation\":\"v\",\"showlegend\":true,\"textposition\":\"auto\",\"x\":[\"Closer\"],\"xaxis\":\"x\",\"y\":[2591224264.0],\"yaxis\":\"y\",\"type\":\"bar\"},{\"alignmentgroup\":\"True\",\"hovertemplate\":\"<b>%{hovertext}</b><br><br>track_name=%{x}<br>streams=%{y}<extra></extra>\",\"hovertext\":[\"The Weeknd, Daft Punk\"],\"legendgroup\":\"Starboy\",\"marker\":{\"color\":\"#FECB52\",\"pattern\":{\"shape\":\"\"}},\"name\":\"Starboy\",\"offsetgroup\":\"Starboy\",\"orientation\":\"v\",\"showlegend\":true,\"textposition\":\"auto\",\"x\":[\"Starboy\"],\"xaxis\":\"x\",\"y\":[2565529693.0],\"yaxis\":\"y\",\"type\":\"bar\"}],                        {\"template\":{\"data\":{\"histogram2dcontour\":[{\"type\":\"histogram2dcontour\",\"colorbar\":{\"outlinewidth\":0,\"ticks\":\"\"},\"colorscale\":[[0.0,\"#0d0887\"],[0.1111111111111111,\"#46039f\"],[0.2222222222222222,\"#7201a8\"],[0.3333333333333333,\"#9c179e\"],[0.4444444444444444,\"#bd3786\"],[0.5555555555555556,\"#d8576b\"],[0.6666666666666666,\"#ed7953\"],[0.7777777777777778,\"#fb9f3a\"],[0.8888888888888888,\"#fdca26\"],[1.0,\"#f0f921\"]]}],\"choropleth\":[{\"type\":\"choropleth\",\"colorbar\":{\"outlinewidth\":0,\"ticks\":\"\"}}],\"histogram2d\":[{\"type\":\"histogram2d\",\"colorbar\":{\"outlinewidth\":0,\"ticks\":\"\"},\"colorscale\":[[0.0,\"#0d0887\"],[0.1111111111111111,\"#46039f\"],[0.2222222222222222,\"#7201a8\"],[0.3333333333333333,\"#9c179e\"],[0.4444444444444444,\"#bd3786\"],[0.5555555555555556,\"#d8576b\"],[0.6666666666666666,\"#ed7953\"],[0.7777777777777778,\"#fb9f3a\"],[0.8888888888888888,\"#fdca26\"],[1.0,\"#f0f921\"]]}],\"heatmap\":[{\"type\":\"heatmap\",\"colorbar\":{\"outlinewidth\":0,\"ticks\":\"\"},\"colorscale\":[[0.0,\"#0d0887\"],[0.1111111111111111,\"#46039f\"],[0.2222222222222222,\"#7201a8\"],[0.3333333333333333,\"#9c179e\"],[0.4444444444444444,\"#bd3786\"],[0.5555555555555556,\"#d8576b\"],[0.6666666666666666,\"#ed7953\"],[0.7777777777777778,\"#fb9f3a\"],[0.8888888888888888,\"#fdca26\"],[1.0,\"#f0f921\"]]}],\"heatmapgl\":[{\"type\":\"heatmapgl\",\"colorbar\":{\"outlinewidth\":0,\"ticks\":\"\"},\"colorscale\":[[0.0,\"#0d0887\"],[0.1111111111111111,\"#46039f\"],[0.2222222222222222,\"#7201a8\"],[0.3333333333333333,\"#9c179e\"],[0.4444444444444444,\"#bd3786\"],[0.5555555555555556,\"#d8576b\"],[0.6666666666666666,\"#ed7953\"],[0.7777777777777778,\"#fb9f3a\"],[0.8888888888888888,\"#fdca26\"],[1.0,\"#f0f921\"]]}],\"contourcarpet\":[{\"type\":\"contourcarpet\",\"colorbar\":{\"outlinewidth\":0,\"ticks\":\"\"}}],\"contour\":[{\"type\":\"contour\",\"colorbar\":{\"outlinewidth\":0,\"ticks\":\"\"},\"colorscale\":[[0.0,\"#0d0887\"],[0.1111111111111111,\"#46039f\"],[0.2222222222222222,\"#7201a8\"],[0.3333333333333333,\"#9c179e\"],[0.4444444444444444,\"#bd3786\"],[0.5555555555555556,\"#d8576b\"],[0.6666666666666666,\"#ed7953\"],[0.7777777777777778,\"#fb9f3a\"],[0.8888888888888888,\"#fdca26\"],[1.0,\"#f0f921\"]]}],\"surface\":[{\"type\":\"surface\",\"colorbar\":{\"outlinewidth\":0,\"ticks\":\"\"},\"colorscale\":[[0.0,\"#0d0887\"],[0.1111111111111111,\"#46039f\"],[0.2222222222222222,\"#7201a8\"],[0.3333333333333333,\"#9c179e\"],[0.4444444444444444,\"#bd3786\"],[0.5555555555555556,\"#d8576b\"],[0.6666666666666666,\"#ed7953\"],[0.7777777777777778,\"#fb9f3a\"],[0.8888888888888888,\"#fdca26\"],[1.0,\"#f0f921\"]]}],\"mesh3d\":[{\"type\":\"mesh3d\",\"colorbar\":{\"outlinewidth\":0,\"ticks\":\"\"}}],\"scatter\":[{\"fillpattern\":{\"fillmode\":\"overlay\",\"size\":10,\"solidity\":0.2},\"type\":\"scatter\"}],\"parcoords\":[{\"type\":\"parcoords\",\"line\":{\"colorbar\":{\"outlinewidth\":0,\"ticks\":\"\"}}}],\"scatterpolargl\":[{\"type\":\"scatterpolargl\",\"marker\":{\"colorbar\":{\"outlinewidth\":0,\"ticks\":\"\"}}}],\"bar\":[{\"error_x\":{\"color\":\"#2a3f5f\"},\"error_y\":{\"color\":\"#2a3f5f\"},\"marker\":{\"line\":{\"color\":\"#E5ECF6\",\"width\":0.5},\"pattern\":{\"fillmode\":\"overlay\",\"size\":10,\"solidity\":0.2}},\"type\":\"bar\"}],\"scattergeo\":[{\"type\":\"scattergeo\",\"marker\":{\"colorbar\":{\"outlinewidth\":0,\"ticks\":\"\"}}}],\"scatterpolar\":[{\"type\":\"scatterpolar\",\"marker\":{\"colorbar\":{\"outlinewidth\":0,\"ticks\":\"\"}}}],\"histogram\":[{\"marker\":{\"pattern\":{\"fillmode\":\"overlay\",\"size\":10,\"solidity\":0.2}},\"type\":\"histogram\"}],\"scattergl\":[{\"type\":\"scattergl\",\"marker\":{\"colorbar\":{\"outlinewidth\":0,\"ticks\":\"\"}}}],\"scatter3d\":[{\"type\":\"scatter3d\",\"line\":{\"colorbar\":{\"outlinewidth\":0,\"ticks\":\"\"}},\"marker\":{\"colorbar\":{\"outlinewidth\":0,\"ticks\":\"\"}}}],\"scattermapbox\":[{\"type\":\"scattermapbox\",\"marker\":{\"colorbar\":{\"outlinewidth\":0,\"ticks\":\"\"}}}],\"scatterternary\":[{\"type\":\"scatterternary\",\"marker\":{\"colorbar\":{\"outlinewidth\":0,\"ticks\":\"\"}}}],\"scattercarpet\":[{\"type\":\"scattercarpet\",\"marker\":{\"colorbar\":{\"outlinewidth\":0,\"ticks\":\"\"}}}],\"carpet\":[{\"aaxis\":{\"endlinecolor\":\"#2a3f5f\",\"gridcolor\":\"white\",\"linecolor\":\"white\",\"minorgridcolor\":\"white\",\"startlinecolor\":\"#2a3f5f\"},\"baxis\":{\"endlinecolor\":\"#2a3f5f\",\"gridcolor\":\"white\",\"linecolor\":\"white\",\"minorgridcolor\":\"white\",\"startlinecolor\":\"#2a3f5f\"},\"type\":\"carpet\"}],\"table\":[{\"cells\":{\"fill\":{\"color\":\"#EBF0F8\"},\"line\":{\"color\":\"white\"}},\"header\":{\"fill\":{\"color\":\"#C8D4E3\"},\"line\":{\"color\":\"white\"}},\"type\":\"table\"}],\"barpolar\":[{\"marker\":{\"line\":{\"color\":\"#E5ECF6\",\"width\":0.5},\"pattern\":{\"fillmode\":\"overlay\",\"size\":10,\"solidity\":0.2}},\"type\":\"barpolar\"}],\"pie\":[{\"automargin\":true,\"type\":\"pie\"}]},\"layout\":{\"autotypenumbers\":\"strict\",\"colorway\":[\"#636efa\",\"#EF553B\",\"#00cc96\",\"#ab63fa\",\"#FFA15A\",\"#19d3f3\",\"#FF6692\",\"#B6E880\",\"#FF97FF\",\"#FECB52\"],\"font\":{\"color\":\"#2a3f5f\"},\"hovermode\":\"closest\",\"hoverlabel\":{\"align\":\"left\"},\"paper_bgcolor\":\"white\",\"plot_bgcolor\":\"#E5ECF6\",\"polar\":{\"bgcolor\":\"#E5ECF6\",\"angularaxis\":{\"gridcolor\":\"white\",\"linecolor\":\"white\",\"ticks\":\"\"},\"radialaxis\":{\"gridcolor\":\"white\",\"linecolor\":\"white\",\"ticks\":\"\"}},\"ternary\":{\"bgcolor\":\"#E5ECF6\",\"aaxis\":{\"gridcolor\":\"white\",\"linecolor\":\"white\",\"ticks\":\"\"},\"baxis\":{\"gridcolor\":\"white\",\"linecolor\":\"white\",\"ticks\":\"\"},\"caxis\":{\"gridcolor\":\"white\",\"linecolor\":\"white\",\"ticks\":\"\"}},\"coloraxis\":{\"colorbar\":{\"outlinewidth\":0,\"ticks\":\"\"}},\"colorscale\":{\"sequential\":[[0.0,\"#0d0887\"],[0.1111111111111111,\"#46039f\"],[0.2222222222222222,\"#7201a8\"],[0.3333333333333333,\"#9c179e\"],[0.4444444444444444,\"#bd3786\"],[0.5555555555555556,\"#d8576b\"],[0.6666666666666666,\"#ed7953\"],[0.7777777777777778,\"#fb9f3a\"],[0.8888888888888888,\"#fdca26\"],[1.0,\"#f0f921\"]],\"sequentialminus\":[[0.0,\"#0d0887\"],[0.1111111111111111,\"#46039f\"],[0.2222222222222222,\"#7201a8\"],[0.3333333333333333,\"#9c179e\"],[0.4444444444444444,\"#bd3786\"],[0.5555555555555556,\"#d8576b\"],[0.6666666666666666,\"#ed7953\"],[0.7777777777777778,\"#fb9f3a\"],[0.8888888888888888,\"#fdca26\"],[1.0,\"#f0f921\"]],\"diverging\":[[0,\"#8e0152\"],[0.1,\"#c51b7d\"],[0.2,\"#de77ae\"],[0.3,\"#f1b6da\"],[0.4,\"#fde0ef\"],[0.5,\"#f7f7f7\"],[0.6,\"#e6f5d0\"],[0.7,\"#b8e186\"],[0.8,\"#7fbc41\"],[0.9,\"#4d9221\"],[1,\"#276419\"]]},\"xaxis\":{\"gridcolor\":\"white\",\"linecolor\":\"white\",\"ticks\":\"\",\"title\":{\"standoff\":15},\"zerolinecolor\":\"white\",\"automargin\":true,\"zerolinewidth\":2},\"yaxis\":{\"gridcolor\":\"white\",\"linecolor\":\"white\",\"ticks\":\"\",\"title\":{\"standoff\":15},\"zerolinecolor\":\"white\",\"automargin\":true,\"zerolinewidth\":2},\"scene\":{\"xaxis\":{\"backgroundcolor\":\"#E5ECF6\",\"gridcolor\":\"white\",\"linecolor\":\"white\",\"showbackground\":true,\"ticks\":\"\",\"zerolinecolor\":\"white\",\"gridwidth\":2},\"yaxis\":{\"backgroundcolor\":\"#E5ECF6\",\"gridcolor\":\"white\",\"linecolor\":\"white\",\"showbackground\":true,\"ticks\":\"\",\"zerolinecolor\":\"white\",\"gridwidth\":2},\"zaxis\":{\"backgroundcolor\":\"#E5ECF6\",\"gridcolor\":\"white\",\"linecolor\":\"white\",\"showbackground\":true,\"ticks\":\"\",\"zerolinecolor\":\"white\",\"gridwidth\":2}},\"shapedefaults\":{\"line\":{\"color\":\"#2a3f5f\"}},\"annotationdefaults\":{\"arrowcolor\":\"#2a3f5f\",\"arrowhead\":0,\"arrowwidth\":1},\"geo\":{\"bgcolor\":\"white\",\"landcolor\":\"#E5ECF6\",\"subunitcolor\":\"white\",\"showland\":true,\"showlakes\":true,\"lakecolor\":\"white\"},\"title\":{\"x\":0.05},\"mapbox\":{\"style\":\"light\"}}},\"xaxis\":{\"anchor\":\"y\",\"domain\":[0.0,1.0],\"title\":{\"text\":\"\\u041d\\u0430\\u0437\\u0432\\u0430 \\u043f\\u0456\\u0441\\u043d\\u0456\"},\"categoryorder\":\"total descending\",\"categoryarray\":[\"Blinding Lights\",\"Shape of You\",\"Someone You Loved\",\"Dance Monkey\",\"Sunflower - Spider-Man: Into the Spider-Verse\",\"One Dance\",\"STAY (with Justin Bieber)\",\"Believer\",\"Closer\",\"Starboy\"]},\"yaxis\":{\"anchor\":\"x\",\"domain\":[0.0,1.0],\"title\":{\"text\":\"\\u041a\\u0456\\u043b\\u044c\\u043a\\u0456\\u0441\\u0442\\u044c \\u043f\\u0440\\u043e\\u0441\\u043b\\u0443\\u0445\\u043e\\u0432\\u0443\\u0432\\u0430\\u043d\\u044c\"}},\"legend\":{\"title\":{\"text\":\"track_name\"},\"tracegroupgap\":0},\"title\":{\"text\":\"10 \\u043d\\u0430\\u0439\\u043f\\u043e\\u043f\\u0443\\u043b\\u044f\\u0440\\u043d\\u0456\\u0448\\u0438\\u0445 \\u043f\\u0456\\u0441\\u0435\\u043d\\u044c \\u043d\\u0430 Spotify \\u0443 2023 \\u0440\\u043e\\u0446\\u0456\"},\"barmode\":\"relative\",\"width\":1000,\"height\":800},                        {\"responsive\": true}                    ).then(function(){\n",
       "                            \n",
       "var gd = document.getElementById('8edb3ea8-f618-4bb1-aa73-e651532e08c2');\n",
       "var x = new MutationObserver(function (mutations, observer) {{\n",
       "        var display = window.getComputedStyle(gd).display;\n",
       "        if (!display || display === 'none') {{\n",
       "            console.log([gd, 'removed!']);\n",
       "            Plotly.purge(gd);\n",
       "            observer.disconnect();\n",
       "        }}\n",
       "}});\n",
       "\n",
       "// Listen for the removal of the full notebook cells\n",
       "var notebookContainer = gd.closest('#notebook-container');\n",
       "if (notebookContainer) {{\n",
       "    x.observe(notebookContainer, {childList: true});\n",
       "}}\n",
       "\n",
       "// Listen for the clearing of the current output cell\n",
       "var outputEl = gd.closest('.output');\n",
       "if (outputEl) {{\n",
       "    x.observe(outputEl, {childList: true});\n",
       "}}\n",
       "\n",
       "                        })                };                });            </script>        </div>"
      ]
     },
     "metadata": {},
     "output_type": "display_data"
    },
    {
     "data": {
      "text/plain": [
       "<Figure size 1000x600 with 0 Axes>"
      ]
     },
     "metadata": {},
     "output_type": "display_data"
    }
   ],
   "source": [
    "import plotly.express as px\n",
    "\n",
    "fig1 = px.bar(top_10_spotify, x='track_name', y='streams',\n",
    "              title='10 найпопулярніших пісень на Spotify у 2023 році',\n",
    "              color='track_name',\n",
    "              color_continuous_scale = 'viridis',\n",
    "             hover_name = 'artist(s)_name')\n",
    "\n",
    "fig1.update_xaxes(categoryorder='total descending')\n",
    "fig1.update_xaxes(title_text='Назва пісні')\n",
    "fig1.update_yaxes(title_text='Кількість прослуховувань')\n",
    "\n",
    "fig1.update_layout(width=1000, height=800)\n",
    "\n",
    "plt.tight_layout()\n",
    "fig1.show();"
   ]
  },
  {
   "cell_type": "markdown",
   "id": "c4292966",
   "metadata": {},
   "source": [
    "5. Порівняння популярності трьох треків: Побудуйте горизонтальну стовпчикову діаграму, яка порівнює кількість прослуховувань трьох конкретних треків у 2023 році. "
   ]
  },
  {
   "cell_type": "markdown",
   "id": "77b81e2d",
   "metadata": {},
   "source": [
    "Оберемо три найпопулярніші треки за 2023"
   ]
  },
  {
   "cell_type": "code",
   "execution_count": 108,
   "id": "475bed7e",
   "metadata": {},
   "outputs": [
    {
     "data": {
      "text/html": [
       "<div>\n",
       "<style scoped>\n",
       "    .dataframe tbody tr th:only-of-type {\n",
       "        vertical-align: middle;\n",
       "    }\n",
       "\n",
       "    .dataframe tbody tr th {\n",
       "        vertical-align: top;\n",
       "    }\n",
       "\n",
       "    .dataframe thead th {\n",
       "        text-align: right;\n",
       "    }\n",
       "</style>\n",
       "<table border=\"1\" class=\"dataframe\">\n",
       "  <thead>\n",
       "    <tr style=\"text-align: right;\">\n",
       "      <th></th>\n",
       "      <th>track_name</th>\n",
       "      <th>artist(s)_name</th>\n",
       "      <th>artist_count</th>\n",
       "      <th>released_year</th>\n",
       "      <th>released_month</th>\n",
       "      <th>released_day</th>\n",
       "      <th>in_spotify_playlists</th>\n",
       "      <th>in_spotify_charts</th>\n",
       "      <th>streams</th>\n",
       "      <th>in_apple_playlists</th>\n",
       "      <th>...</th>\n",
       "      <th>bpm</th>\n",
       "      <th>key</th>\n",
       "      <th>mode</th>\n",
       "      <th>danceability_%</th>\n",
       "      <th>valence_%</th>\n",
       "      <th>energy_%</th>\n",
       "      <th>acousticness_%</th>\n",
       "      <th>instrumentalness_%</th>\n",
       "      <th>liveness_%</th>\n",
       "      <th>speechiness_%</th>\n",
       "    </tr>\n",
       "  </thead>\n",
       "  <tbody>\n",
       "    <tr>\n",
       "      <th>55</th>\n",
       "      <td>Blinding Lights</td>\n",
       "      <td>The Weeknd</td>\n",
       "      <td>1</td>\n",
       "      <td>2019</td>\n",
       "      <td>11</td>\n",
       "      <td>29</td>\n",
       "      <td>43899</td>\n",
       "      <td>69</td>\n",
       "      <td>3.703895e+09</td>\n",
       "      <td>672</td>\n",
       "      <td>...</td>\n",
       "      <td>171</td>\n",
       "      <td>C#</td>\n",
       "      <td>Major</td>\n",
       "      <td>50</td>\n",
       "      <td>38</td>\n",
       "      <td>80</td>\n",
       "      <td>0</td>\n",
       "      <td>0</td>\n",
       "      <td>9</td>\n",
       "      <td>7</td>\n",
       "    </tr>\n",
       "    <tr>\n",
       "      <th>179</th>\n",
       "      <td>Shape of You</td>\n",
       "      <td>Ed Sheeran</td>\n",
       "      <td>1</td>\n",
       "      <td>2017</td>\n",
       "      <td>1</td>\n",
       "      <td>6</td>\n",
       "      <td>32181</td>\n",
       "      <td>10</td>\n",
       "      <td>3.562544e+09</td>\n",
       "      <td>33</td>\n",
       "      <td>...</td>\n",
       "      <td>96</td>\n",
       "      <td>C#</td>\n",
       "      <td>Minor</td>\n",
       "      <td>83</td>\n",
       "      <td>93</td>\n",
       "      <td>65</td>\n",
       "      <td>58</td>\n",
       "      <td>0</td>\n",
       "      <td>9</td>\n",
       "      <td>8</td>\n",
       "    </tr>\n",
       "    <tr>\n",
       "      <th>86</th>\n",
       "      <td>Someone You Loved</td>\n",
       "      <td>Lewis Capaldi</td>\n",
       "      <td>1</td>\n",
       "      <td>2018</td>\n",
       "      <td>11</td>\n",
       "      <td>8</td>\n",
       "      <td>17836</td>\n",
       "      <td>53</td>\n",
       "      <td>2.887242e+09</td>\n",
       "      <td>440</td>\n",
       "      <td>...</td>\n",
       "      <td>110</td>\n",
       "      <td>C#</td>\n",
       "      <td>Major</td>\n",
       "      <td>50</td>\n",
       "      <td>45</td>\n",
       "      <td>41</td>\n",
       "      <td>75</td>\n",
       "      <td>0</td>\n",
       "      <td>11</td>\n",
       "      <td>3</td>\n",
       "    </tr>\n",
       "  </tbody>\n",
       "</table>\n",
       "<p>3 rows × 24 columns</p>\n",
       "</div>"
      ],
      "text/plain": [
       "            track_name artist(s)_name  artist_count  released_year  \\\n",
       "55     Blinding Lights     The Weeknd             1           2019   \n",
       "179       Shape of You     Ed Sheeran             1           2017   \n",
       "86   Someone You Loved  Lewis Capaldi             1           2018   \n",
       "\n",
       "     released_month  released_day  in_spotify_playlists  in_spotify_charts  \\\n",
       "55               11            29                 43899                 69   \n",
       "179               1             6                 32181                 10   \n",
       "86               11             8                 17836                 53   \n",
       "\n",
       "          streams  in_apple_playlists  ...  bpm key   mode danceability_%  \\\n",
       "55   3.703895e+09                 672  ...  171  C#  Major             50   \n",
       "179  3.562544e+09                  33  ...   96  C#  Minor             83   \n",
       "86   2.887242e+09                 440  ...  110  C#  Major             50   \n",
       "\n",
       "     valence_% energy_% acousticness_%  instrumentalness_%  liveness_%  \\\n",
       "55          38       80              0                   0           9   \n",
       "179         93       65             58                   0           9   \n",
       "86          45       41             75                   0          11   \n",
       "\n",
       "     speechiness_%  \n",
       "55               7  \n",
       "179              8  \n",
       "86               3  \n",
       "\n",
       "[3 rows x 24 columns]"
      ]
     },
     "execution_count": 108,
     "metadata": {},
     "output_type": "execute_result"
    }
   ],
   "source": [
    "top_3_spotify = df.sort_values(by='streams', ascending=False).head(3)\n",
    "top_3_spotify"
   ]
  },
  {
   "cell_type": "code",
   "execution_count": 109,
   "id": "269d610e",
   "metadata": {},
   "outputs": [
    {
     "data": {
      "image/png": "[encoded data removed]",
      "text/plain": [
       "<Figure size 1000x600 with 1 Axes>"
      ]
     },
     "metadata": {},
     "output_type": "display_data"
    }
   ],
   "source": [
    "plt.figure(figsize=(10, 6))\n",
    "plt.bar(top_3_spotify['track_name'], top_3_spotify['streams'], color='skyblue')\n",
    "plt.ylim(2.5e9) \n",
    "plt.title('ТОП 3 пісні за прослуховуваннями у Spotify за 2023 рік')\n",
    "plt.xlabel('Назва пісні')\n",
    "plt.ylabel('Кількість прослуховувань')\n",
    "plt.show();"
   ]
  },
  {
   "cell_type": "markdown",
   "id": "2f1e0679",
   "metadata": {},
   "source": [
    "**Завдання з лекції**"
   ]
  },
  {
   "cell_type": "markdown",
   "id": "20502a7c",
   "metadata": {},
   "source": [
    "у ноутбках прикріплених до лекцій не знайшла дописані три завдання для візуалізацій (на 06.10)"
   ]
  },
  {
   "cell_type": "code",
   "execution_count": null,
   "id": "2ee57735",
   "metadata": {},
   "outputs": [],
   "source": []
  },
  {
   "cell_type": "code",
   "execution_count": null,
   "id": "ff9b9480",
   "metadata": {},
   "outputs": [],
   "source": []
  },
  {
   "cell_type": "code",
   "execution_count": null,
   "id": "c218e21c",
   "metadata": {},
   "outputs": [],
   "source": []
  },
  {
   "cell_type": "code",
   "execution_count": null,
   "id": "41716aaa",
   "metadata": {},
   "outputs": [],
   "source": []
  }
 ],
 "metadata": {
  "kernelspec": {
   "display_name": "Python 3 (ipykernel)",
   "language": "python",
   "name": "python3"
  },
  "language_info": {
   "codemirror_mode": {
    "name": "ipython",
    "version": 3
   },
   "file_extension": ".py",
   "mimetype": "text/x-python",
   "name": "python",
   "nbconvert_exporter": "python",
   "pygments_lexer": "ipython3",
   "version": "3.11.3"
  }
 },
 "nbformat": 4,
 "nbformat_minor": 5
}
